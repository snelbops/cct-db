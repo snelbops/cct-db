{
 "cells": [
  {
   "cell_type": "code",
   "execution_count": 5,
   "metadata": {
    "cell_style": "center",
    "slideshow": {
     "slide_type": "skip"
    }
   },
   "outputs": [
    {
     "data": {
      "text/html": [
       "<style type=\"text/css\">\n",
       ".CodeMirror {width: 100vw}\n",
       ".container {width: 90% !important}\n",
       ".rendered_html {font-size:0.8em}\n",
       ".rendered_html table, .rendered_html th, .rendered_html tr, .rendered_html td {font-size: 0.9em}\n",
       "table td, table th {\n",
       "border: 1px  black solid !important;\n",
       "color: black !important;\n",
       "background-color: white;}\n",
       "hr {\n",
       "    border: 0;\n",
       "    height: 1px;\n",
       "    background: #333;\n",
       "    background-image: linear-gradient(to right, #ccc, #333, #ccc);\n",
       "}\n",
       "</style>\n"
      ],
      "text/plain": [
       "<IPython.core.display.HTML object>"
      ]
     },
     "metadata": {},
     "output_type": "display_data"
    }
   ],
   "source": [
    "%%HTML\n",
    "<style type=\"text/css\">\n",
    ".CodeMirror {width: 100vw}\n",
    ".container {width: 90% !important}\n",
    ".rendered_html {font-size:0.8em}\n",
    ".rendered_html table, .rendered_html th, .rendered_html tr, .rendered_html td {font-size: 0.9em}\n",
    "table td, table th {\n",
    "border: 1px  black solid !important;\n",
    "color: black !important;\n",
    "background-color: white;}\n",
    "hr {\n",
    "    border: 0;\n",
    "    height: 1px;\n",
    "    background: #333;\n",
    "    background-image: linear-gradient(to right, #ccc, #333, #ccc);\n",
    "}\n",
    "</style>"
   ]
  },
  {
   "cell_type": "markdown",
   "metadata": {
    "slideshow": {
     "slide_type": "slide"
    }
   },
   "source": [
    "## Continuous Assessment I<img src=\"https://img.icons8.com/ios/test-results/80\" style=\"display:inline-block;vertical-align:middle;padding:0 0 10px 10px\">"
   ]
  },
  {
   "cell_type": "markdown",
   "metadata": {
    "cell_style": "center",
    "slideshow": {
     "slide_type": "-"
    }
   },
   "source": [
    "* **CA1 – 20%** must be submitted this **Friday (18/10/2019) before 5pm**\n",
    "    * The descriptor was updated recently\n",
    "    * Can be found **[here](https://moodle.cct.ie/mod/resource/view.php?id=49275)**\n",
    "* **Job Title** clarification\n",
    "* A **relationship** can have **attributes**\n",
    "    * These **must be converted into relations** (i.e. tables) for the **Relational Data Model (Logical)**.\n",
    "* <font color=\"red\">**Crow's Foot**</font> should be used for the **Relational Data Model (Logical)**.\n",
    "* Your **Logical Data Model** should include **primary** & **foreign** keys, **data types**, i.e. should be very close to a **Physical Data Model**"
   ]
  },
  {
   "cell_type": "markdown",
   "metadata": {
    "slideshow": {
     "slide_type": "slide"
    }
   },
   "source": [
    "## Logical/Physical Modelling\n",
    "### Crow's Foot Notation:\n",
    "<center><img src=\"https://res.cloudinary.com/practicaldev/image/fetch/s--aMHSzLpu--/c_limit%2Cf_auto%2Cfl_progressive%2Cq_auto%2Cw_880/https://thepracticaldev.s3.amazonaws.com/i/gjzq00ltrbmxqjx7i1wp.PNG\"></center>\n",
    "\n",
    "More info on **Crow's Foot notation** can be found **[here](https://www.vertabelo.com/blog/crow-s-foot-notation/)**"
   ]
  },
  {
   "cell_type": "markdown",
   "metadata": {
    "slideshow": {
     "slide_type": "slide"
    }
   },
   "source": [
    "## Chen vs Crow's Foot\n",
    "<center><img src=\"http://db.prof.ninja/class5/crow.png\" width=\"80%\"></center>"
   ]
  },
  {
   "cell_type": "markdown",
   "metadata": {
    "slideshow": {
     "slide_type": "slide"
    }
   },
   "source": [
    "## Example: Conceptual Model\n",
    "* In **Sonic the Hedgehog 1** game, **Zones** can have many **Acts**, these levels may have **Special Stages**, may have **Bosses**, but there is only one **Boss** per **Zone**\n",
    "<center><img src=\"https://res.cloudinary.com/practicaldev/image/fetch/s--hs5nyD4Q--/c_limit%2Cf_auto%2Cfl_progressive%2Cq_auto%2Cw_880/https://thepracticaldev.s3.amazonaws.com/i/avcvinesuv6u90b7h77z.PNG\"></center>\n",
    "\n",
    "* This example can be found **[here](https://dev.to/helenanders26/entity-relationship-diagrams-explained-by-sonic-the-hedgehog-1m68)**"
   ]
  },
  {
   "cell_type": "markdown",
   "metadata": {
    "slideshow": {
     "slide_type": "slide"
    }
   },
   "source": [
    "## Example: Logical Model\n",
    "\n",
    "<center><img src=\"https://res.cloudinary.com/practicaldev/image/fetch/s--oeA_2wFB--/c_limit%2Cf_auto%2Cfl_progressive%2Cq_auto%2Cw_880/https://thepracticaldev.s3.amazonaws.com/i/fix9x96g2zptbm6g10f9.PNG\"></center>"
   ]
  },
  {
   "cell_type": "markdown",
   "metadata": {
    "slideshow": {
     "slide_type": "slide"
    }
   },
   "source": [
    "## Example: Physical Model\n",
    "<center><img src=\"https://res.cloudinary.com/practicaldev/image/fetch/s--nwjipFnl--/c_limit%2Cf_auto%2Cfl_progressive%2Cq_auto%2Cw_880/https://thepracticaldev.s3.amazonaws.com/i/qif8s6as8pp2hlt0kmj6.PNG\"></center>"
   ]
  },
  {
   "cell_type": "markdown",
   "metadata": {
    "slideshow": {
     "slide_type": "slide"
    }
   },
   "source": [
    "## Exam Question – January Exam 2013 <img src=\"https://img.icons8.com/exam/80\" style=\"display:inline-block;vertical-align:middle;padding:0 0 10px 10px\">\n",
    " * **Design an ERD according to the provided specifications:**\n",
    "     * The database must store **book**, **author**, **publisher** and **warehouse** information.\n",
    "     * For every **book** you must capture the **title**, **isbn**, **year** and **price information**. The isbn value is unique for a book.\n",
    "     * For every **author** you must store an **id**, **name**, **address** and the **URL** of their homepage.\n",
    "     * Each **author** can write ***many* books**, and each **book** can have ***many* authors**, for example.\n",
    "     * For every **publisher** you must store an **id**, **name**, **address**, **phone number** and an **URL** of their website.\n",
    "     * **Books** are stored at ***several* warehouses**, each of which has a **code**, **address** and **phone number**.\n",
    "     * A **book** has only **one publisher**.\n",
    "     * The **warehouse** stocks ***many* different books**. A book may be stocked at multiple warehouses.\n",
    "     * The database records the **number of copies** of a book stocked at various warehouses."
   ]
  },
  {
   "cell_type": "markdown",
   "metadata": {
    "slideshow": {
     "slide_type": "slide"
    }
   },
   "source": [
    "## Exam Question – January Exam 2013 <img src=\"https://img.icons8.com/exam/80\" style=\"display:inline-block;vertical-align:middle;padding:0 0 10px 10px\">\n",
    "<center><img src=\"diagrams/solution1.png\" width=\"80%\"></center>"
   ]
  },
  {
   "cell_type": "markdown",
   "metadata": {
    "slideshow": {
     "slide_type": "slide"
    }
   },
   "source": [
    "## Exam Question – August Exam 2014<img src=\"https://img.icons8.com/exam/80\" style=\"display:inline-block;vertical-align:middle;padding:0 0 10px 10px\">\n",
    " * **Design an ERD according to the provided specifications:**\n",
    "     * **United Direct Artists (UDA)** is an insurance broker that specialise in insuring paintings for galleries. You are required to design a database for this company.\n",
    "     * The database must store **painters**, **paintings** and **galleries** information.\n",
    "     * Painters have a **unique number**, **name** and **phone number**\n",
    "     * Paintings have **unique number**, **title** and **price**\n",
    "     * Galleries have **unique number**, **owner**, **phone number**, **commission rate** and **address**\n",
    "     * A painting is painted by a particular artist, and that **painting** is exhibited in **a particular gallery**.\n",
    "     * A **gallery** can exhibit ***many* paintings**, but each **painting** can be exhibited in **only one gallery**.\n",
    "     * Similarly, a **painting** is painted by **a single painter**, but each **painter** can paint ***many* paintings**."
   ]
  },
  {
   "cell_type": "markdown",
   "metadata": {
    "slideshow": {
     "slide_type": "slide"
    }
   },
   "source": [
    "## Exam Question – August Exam 2014 <img src=\"https://img.icons8.com/exam/80\" style=\"display:inline-block;vertical-align:middle;padding:0 0 10px 10px\">\n",
    "<center><img src=\"diagrams/solution2.png\" width=\"80%\"></center>"
   ]
  },
  {
   "cell_type": "markdown",
   "metadata": {
    "cell_style": "center",
    "slideshow": {
     "slide_type": "slide"
    }
   },
   "source": [
    "# Introduction to SQL <img src=\"https://img.icons8.com/ios-filled/sql/80\" style=\"display:inline-block;vertical-align:middle;padding:0 0 10px 10px\">"
   ]
  },
  {
   "cell_type": "markdown",
   "metadata": {
    "slideshow": {
     "slide_type": ""
    }
   },
   "source": [
    "* Press `Space` to navigate through the slides\n",
    "* Use `Shift+Space` to go back"
   ]
  },
  {
   "cell_type": "markdown",
   "metadata": {
    "slideshow": {
     "slide_type": "slide"
    }
   },
   "source": [
    "# Quick Recap<img src=\"https://img.icons8.com/ios/connection-sync/80 0\" style=\"display:inline-block;vertical-align:middle;padding:0 0 10px 10px\">\n",
    "* **ERD Notations**\n",
    "* **Components**\n",
    "    * **Entity**\n",
    "    * **Attribute**\n",
    "    * **Relationship**\n",
    "        * Cardinality\n",
    "        * Degree\n",
    "        * Participation constraints\n",
    "        * Optionality\n",
    "* **Chen Notation**\n",
    "    * Limitations, Tips, Drawing, Naming, Refinment"
   ]
  },
  {
   "cell_type": "markdown",
   "metadata": {
    "slideshow": {
     "slide_type": "slide"
    }
   },
   "source": [
    "# Structured Query Language<img src=\"https://img.icons8.com/ios-filled/sql/80\" style=\"display:inline-block;vertical-align:middle;padding:0 0 10px 10px\">\n",
    "* **Structured Query Language (SQL)** is a domain-specific language used in programming and designed for managing data held in a relational database management system (RDBMS)\n",
    "\n",
    "* Ideally, database language should allow user to:\n",
    "\t* **create** the database and relation structures\n",
    "\t* perform **insertion**, **modification**, **deletion** of data from relations\n",
    "\t* perform simple and complex **queries**\n",
    "\n",
    "* Must perform these tasks with minimal user effort and command structure/syntax must be **easy to learn**.\n",
    "\n",
    "* It should be **portable** (use commands that allows one to move from one DBMS to another easily), have an easy to learn command structure and syntax\n"
   ]
  },
  {
   "cell_type": "markdown",
   "metadata": {
    "slideshow": {
     "slide_type": "slide"
    }
   },
   "source": [
    "# Structured Query Language<img src=\"https://img.icons8.com/ios-filled/sql/80\" style=\"display:inline-block;vertical-align:middle;padding:0 0 10px 10px\">\n",
    "* **SQL** is a language with 2 major components:\n",
    "\t* A **DDL** for defining database structure.\n",
    "\t* A **DML** for retrieving and updating data.\n",
    "* It is non-procedural – you specify what information you require, rather than how to get it\n",
    "* SQL is free-format which means that parts of statements do not have to be typed at particular\n",
    "locations on the screen\n",
    "* Consists of standard English words:\n",
    "```SQL\n",
    "SELECT staffNo, lName, salary FROM Staff WHERE salary > 10000;\n",
    "```\n",
    "* An ISO standard now exists for SQL, making it both the formal and de facto standard language\n",
    "for relational databases\n"
   ]
  },
  {
   "cell_type": "markdown",
   "metadata": {
    "slideshow": {
     "slide_type": "slide"
    }
   },
   "source": [
    "# SQL Syntax<img src=\"https://img.icons8.com/small/sql/80\" style=\"display:inline-block;vertical-align:middle;padding:0 0 10px 10px\">\n",
    "* SQL statement consists of reserved words and user-defined words.\n",
    "*  **Reserved words** are a fixed part of SQL and must be spelt exactly as required and cannot be split across lines.\n",
    "    * Certain keywords, such as `SELECT`, `DELETE` are reserved in RDMBS\n",
    "*  **User-defined** words are made up by user and represent names of various database objects such as relations, columns, views. Most components of an SQL statement are case insensitive, except for literal character data.\n",
    "* <font color='red'>**Many dialects of SQL require the use of a statement terminator to mark the end of each SQL statement (usually the semicolon `;` is used)**</font>"
   ]
  },
  {
   "cell_type": "markdown",
   "metadata": {
    "slideshow": {
     "slide_type": "slide"
    }
   },
   "source": [
    "# SQL Syntax<img src=\"https://img.icons8.com/small/sql/80\" style=\"display:inline-block;vertical-align:middle;padding:0 0 10px 10px\">\n",
    "* SQL is more readable with indentation and lineation:\n",
    "    * Each clause should begin on a new line.\n",
    "    * Start of a clause should line up with start of other clauses.\n",
    "    * If clause has several parts, should each appear on a separate line and be indented\n",
    "under start of clause. E.g\n",
    "```SQL\n",
    "SELECT *\n",
    "FROM Branch\n",
    "WHERE city = 'London';\n",
    "```"
   ]
  },
  {
   "cell_type": "markdown",
   "metadata": {
    "slideshow": {
     "slide_type": "slide"
    }
   },
   "source": [
    "# SQL Syntax<img src=\"https://img.icons8.com/small/sql/80\" style=\"display:inline-block;vertical-align:middle;padding:0 0 10px 10px\">\n",
    "* Literals are constants used in SQL statements.\n",
    "* All **non-numeric literals** must be enclosed in single quotes (e.g. `'London'`).\n",
    "* All **numeric literals** must NOT be enclosed in quotes (e.g. `650.00`)."
   ]
  },
  {
   "cell_type": "markdown",
   "metadata": {
    "slideshow": {
     "slide_type": "slide"
    }
   },
   "source": [
    "# SQL Syntax<img src=\"https://img.icons8.com/small/sql/80\" style=\"display:inline-block;vertical-align:middle;padding:0 0 10px 10px\">\n",
    "For numeric data types (e.g. INT, DOUBLE), we do not need to put quotes around the\n",
    "value:\n",
    "\n",
    "```SQL\n",
    "SELECT * FROM houses WHERE price > 300000;\n",
    "```\n",
    "* For other data types (e.g. VARCHAR, DATE, TEXT), it is required to use single quotes\n",
    "to quote the value:\n",
    "\n",
    "```SQL\n",
    "SELECT * FROM houses WHERE town = 'Dublin'\n",
    "SELECT * FROM people WHERE dob < '1980-01-01'\n",
    "```\n",
    "* Some RDBMSs (including MySQL) will also allow you to use double quotes but this is\n",
    "not recommended as it is not part of the ANSI SQL standard and is not guaranteed\n",
    "to work with all systems."
   ]
  },
  {
   "cell_type": "markdown",
   "metadata": {
    "slideshow": {
     "slide_type": "slide"
    }
   },
   "source": [
    "## Select Statement<img src=\"https://img.icons8.com/select-all/80\" style=\"display:inline-block;vertical-align:middle;padding:0 0 10px 10px\">\n",
    "```SQL\n",
    "SELECT [DISTINCT | ALL]\n",
    "    {* | [fieldExpression [AS newName]}\n",
    "FROM\t\t tableName [alias]\n",
    "[WHERE\t   condition]\n",
    "[GROUP BY\tcolumnList]\n",
    "[HAVING\t  condition]\n",
    "[ORDER BY\tcolumnList]\n",
    "```"
   ]
  },
  {
   "cell_type": "markdown",
   "metadata": {
    "slideshow": {
     "slide_type": "slide"
    }
   },
   "source": [
    "## Select Statement<img src=\"https://img.icons8.com/select-all/80\" style=\"display:inline-block;vertical-align:middle;padding:0 0 10px 10px\">\n",
    "```SQL\n",
    "SELECT\n",
    "```\n",
    "is the SQL keyword that lets the database know that you want to retrieve data.\n",
    "```SQL\n",
    "[DISTINCT | ALL]\n",
    "```\n",
    "are optional keywords that can be used to fine tune the results returned from the SQL SELECT statement. If nothing is specified then ALL is assumed as the default.\n",
    "```SQL\n",
    "{* | [fieldExpression [AS newName]}\n",
    "```\n",
    "at least one part must be specified, `*` selected all the fields from the specified table name, `fieldExpression` performs some computations on the specified fields such as adding numbers or putting together two string fields into one."
   ]
  },
  {
   "cell_type": "markdown",
   "metadata": {
    "slideshow": {
     "slide_type": "slide"
    }
   },
   "source": [
    "## Select Statement<img src=\"https://img.icons8.com/select-all/80\" style=\"display:inline-block;vertical-align:middle;padding:0 0 10px 10px\">\n",
    "```SQL\n",
    "FROM tableName\n",
    "```\n",
    "is mandatory and must contain at least one table, multiple tables must be separated using commas or joined using the `JOIN` keyword.\n",
    "```SQL\n",
    "WHERE\n",
    "```\n",
    "condition is optional, it can be used to specify criteria in the result set returned from the query.\n",
    "```SQL\n",
    "GROUP BY\n",
    "```\n",
    "is used to put together records that have the same field values.\n",
    "```SQL\n",
    "HAVING\n",
    "```\n",
    "condition is used to specify criteria when working using the `GROUP BY` keyword.\n",
    "```SQL\n",
    "ORDER BY\n",
    "```\n",
    "is used to specify the sort order of the result set."
   ]
  },
  {
   "cell_type": "markdown",
   "metadata": {
    "slideshow": {
     "slide_type": "slide"
    }
   },
   "source": [
    "## Basic Query Structure<img src=\"https://img.icons8.com/metro/questions/80\" style=\"display:inline-block;vertical-align:middle;padding:0 0 10px 10px\">\n",
    "\n",
    "* A typical SQL query has the form:\n",
    " * **select** $A_{1}$, $A_{2}$, ..., $A_{n}$\n",
    " * **from** $R_{1}$ ,$R_{2}$ ,...,$R_{m}$\n",
    " * **where**  $P$\n",
    "* $A_{1}$ represents an **attribute**\n",
    "* $R_{1}$ represents a **relation**\n",
    "* $P$ is a predicate (**condition**)\n",
    "* **<font color='red'>The result of an SQL query is a relation (table).</font>**"
   ]
  },
  {
   "cell_type": "markdown",
   "metadata": {
    "slideshow": {
     "slide_type": "slide"
    }
   },
   "source": [
    "## Example 1: All Columns, All Rows <img src=\"https://img.icons8.com/small/sql/80\" style=\"display:inline-block;vertical-align:middle;padding:0 0 10px 10px\">\n",
    "* List full details of all staff.\n",
    "```SQL\n",
    "SELECT staffNo, fName, lName, address, position, sex, DOB, salary, branchNo FROM Staff;\n",
    "```\n",
    "* Can use `*` as an abbreviation for ‘all columns’: (quick way/shortcut)\n",
    "```SQL\n",
    "SELECT * FROM Staff;\n",
    "```"
   ]
  },
  {
   "cell_type": "markdown",
   "metadata": {
    "slideshow": {
     "slide_type": "subslide"
    }
   },
   "source": [
    "## Example 1: All Columns, All Rows <img src=\"https://img.icons8.com/small/sql/80\" style=\"display:inline-block;vertical-align:middle;padding:0 0 10px 10px\">\n",
    "|staffNo|fName|lName|position|sex|DOB|salary|branchNo|\n",
    "|---|---|---|---|---|---|---|---|\n",
    "|SL21|John|White|Manager|M|1-Oct-45|30000.00|B005|\n",
    "|SG37|Ann|Beech|Assistant|F|10-Nov-601|2000.00|B003|\n",
    "|SG14|David|Ford|Supervisor|M|24-Mar-58|18000.00|B003|\n",
    "|SA9|Mary|Howe|Assistant|F|19-Feb-70|9000.00|B007|\n",
    "|SG5|Susan|Brand|Manager|F|3-Jun-40|24000.00|B003|\n",
    "|SL41|Julie|Lee|Assistant|F|13-Jun-65|9000.00|B005|"
   ]
  },
  {
   "cell_type": "markdown",
   "metadata": {
    "slideshow": {
     "slide_type": "slide"
    }
   },
   "source": [
    "## Example 2: Specific Columns, All Rows <img src=\"https://img.icons8.com/small/sql/80\" style=\"display:inline-block;vertical-align:middle;padding:0 0 10px 10px\">\n",
    "* Produce a list of salaries for all staff, showing only staff number, first and last names, and salary."
   ]
  },
  {
   "cell_type": "markdown",
   "metadata": {
    "slideshow": {
     "slide_type": "fragment"
    }
   },
   "source": [
    "```SQL\n",
    "SELECT staffNo, fName, lName, salary FROM Staff;\n",
    "```\n",
    "\n",
    "|staffNo|fName|lName|salary|\n",
    "|---|---|---|---|\n",
    "|SL21|John|White|30000.00|\n",
    "|SG37|Ann|Beech|12000.00|\n",
    "|SG14|David|Ford|18000.00|\n",
    "|SA9|Mary|Howe|9000.00|\n",
    "|SG5|Susan|Brand|24000.00|\n",
    "|SL41|Julie|Lee|9000.00|"
   ]
  },
  {
   "cell_type": "markdown",
   "metadata": {
    "slideshow": {
     "slide_type": "slide"
    }
   },
   "source": [
    "## Example 3: Use of Distinct <img src=\"https://img.icons8.com/small/sql/80\" style=\"display:inline-block;vertical-align:middle;padding:0 0 10px 10px\">\n",
    "* List the property numbers of all properties that have been viewed."
   ]
  },
  {
   "cell_type": "markdown",
   "metadata": {
    "slideshow": {
     "slide_type": "fragment"
    }
   },
   "source": [
    "```SQL\n",
    "SELECT propertyNo FROM Viewing;\n",
    "```\n",
    "\n",
    "|propertyNo|\n",
    "|---|\n",
    "|PA14|\n",
    "|PG4|\n",
    "|PG4|\n",
    "|PA14|\n",
    "|PG36|"
   ]
  },
  {
   "cell_type": "markdown",
   "metadata": {
    "slideshow": {
     "slide_type": "slide"
    }
   },
   "source": [
    "## Example 3: Use of Distinct <img src=\"https://img.icons8.com/small/sql/80\" style=\"display:inline-block;vertical-align:middle;padding:0 0 10px 10px\">\n",
    "* Use DISTINCT to **eliminate duplicates**:"
   ]
  },
  {
   "cell_type": "markdown",
   "metadata": {
    "slideshow": {
     "slide_type": "fragment"
    }
   },
   "source": [
    "```SQL\n",
    "SELECT DISTINCT propertyNo FROM Viewing;\n",
    "```\n",
    "\n",
    "|propertyNo|\n",
    "|---|\n",
    "|PA14|\n",
    "|PG4|\n",
    "|PG36|"
   ]
  },
  {
   "cell_type": "markdown",
   "metadata": {
    "slideshow": {
     "slide_type": "slide"
    }
   },
   "source": [
    "## Example 4: Calculated Fields <img src=\"https://img.icons8.com/small/sql/80\" style=\"display:inline-block;vertical-align:middle;padding:0 0 10px 10px\">\n",
    "* Produce list of monthly salaries for all staff, showing staff number, first/last name, and salary.\n",
    "```SQL\n",
    "SELECT staffNo, fName, lName, salary\n",
    "FROM Staff;\n",
    "```"
   ]
  },
  {
   "cell_type": "markdown",
   "metadata": {
    "slideshow": {
     "slide_type": "subslide"
    }
   },
   "source": [
    "* To name column, use `AS` clause:\n",
    "```SQL\n",
    "SELECT staffNo, fName, lName, salary/12 AS monthlySalary\n",
    "FROM Staff;\n",
    "```\n",
    "\n",
    "|staffNo|fName|lName|monthlySalary|\n",
    "|---|---|---|---|\n",
    "|SL21|John|White|2500.00|\n",
    "|SG37|Ann|Beech|1000.00|\n",
    "|SG14|David|Ford|1500.00|\n",
    "|SA9|Mary|Howe|750.00|\n",
    "|SG5|Susan|Brand|2000.00|\n",
    "|SL41|Julie|Lee|750.00|"
   ]
  },
  {
   "cell_type": "markdown",
   "metadata": {
    "slideshow": {
     "slide_type": "slide"
    }
   },
   "source": [
    "## Five Basic Search Conditions<img src=\"https://img.icons8.com/search/80\" style=\"display:inline-block;vertical-align:middle;padding:0 0 10px 10px\">\n",
    "* **Comparison**\n",
    "    * Compare the value of one expression to the value of another expression.\n",
    "* **Range**\n",
    "    * Test whether the value of an expression falls within a specified range of values.\n",
    "* **Set membership**\n",
    "    * Test whether the value of an expression equals one of a set of values.\n",
    "* **Pattern match**\n",
    "    * Test whether a string matches a specified pattern.\n",
    "* **Null**\n",
    "    * Test whether a column has a null (unknown) value."
   ]
  },
  {
   "cell_type": "markdown",
   "metadata": {
    "slideshow": {
     "slide_type": "slide"
    }
   },
   "source": [
    "## Comparison Search Condition <img src=\"https://img.icons8.com/search/80\" style=\"display:inline-block;vertical-align:middle;padding:0 0 10px 10px\">\n",
    "* List all staff with a salary greater than 10,000."
   ]
  },
  {
   "cell_type": "markdown",
   "metadata": {
    "slideshow": {
     "slide_type": "fragment"
    }
   },
   "source": [
    "```SQL\n",
    "SELECT staffNo, fName, lName, position, salary FROM Staff\n",
    "WHERE salary > 10000;\n",
    "```\n",
    "|staffNo|fName|lName|salary|\n",
    "|---|---|---|---|\n",
    "|SL21|John|White|30000.00|\n",
    "|SG37|Ann|Beech|12000.00|\n",
    "|SG14|David|Ford|18000.00|\n",
    "|SG5|Susan|Brand|24000.00|"
   ]
  },
  {
   "cell_type": "markdown",
   "metadata": {
    "slideshow": {
     "slide_type": "slide"
    }
   },
   "source": [
    "## Comparison Search Condition <img src=\"https://img.icons8.com/search/80\" style=\"display:inline-block;vertical-align:middle;padding:0 0 10px 10px\">\n",
    "* In **SQL** the following simple comparison operators are available:\n",
    "    * `=` equals\n",
    "    * `<>` is not equal to (ISO standard)\n",
    "    * `!=` is not equal to (allowed in some dialects)\n",
    "    * `<` is less than\n",
    "    * `<=` is less than or equal to\n",
    "    * `>` is greater than\n",
    "    * `>=` is greater than or equal to"
   ]
  },
  {
   "cell_type": "markdown",
   "metadata": {
    "slideshow": {
     "slide_type": "slide"
    }
   },
   "source": [
    "## Comparison Search Condition <img src=\"https://img.icons8.com/search/80\" style=\"display:inline-block;vertical-align:middle;padding:0 0 10px 10px\">\n",
    "* List addresses of all branch offices in London or Glasgow."
   ]
  },
  {
   "cell_type": "markdown",
   "metadata": {
    "slideshow": {
     "slide_type": "fragment"
    }
   },
   "source": [
    "```SQL\n",
    "SELECT *\n",
    "FROM Branch\n",
    "WHERE city = 'London' OR city = 'Glasgow';\n",
    "```\n",
    "\n",
    "|branchNo|street|city|postcode|\n",
    "|---|---|---|---|\n",
    "|B005|22 Deer Rd|London|SW1 4EH|\n",
    "|B003|163 Main St|Glasgow|G11 9QX|\n",
    "|B002|56 Clover Dr|London|NW10 6EU|"
   ]
  },
  {
   "cell_type": "markdown",
   "metadata": {
    "slideshow": {
     "slide_type": "slide"
    }
   },
   "source": [
    "## Range Search Condition <img src=\"https://img.icons8.com/search/80\" style=\"display:inline-block;vertical-align:middle;padding:0 0 10px 10px\">\n",
    "* List all staff with a salary between 20,000 and 30,000."
   ]
  },
  {
   "cell_type": "markdown",
   "metadata": {
    "slideshow": {
     "slide_type": "fragment"
    }
   },
   "source": [
    "```SQL\n",
    "SELECT staffNo, fName, lName, position, salary FROM Staff\n",
    "WHERE salary BETWEEN 20000 AND 30000;\n",
    "```\n",
    "* `BETWEEN` test includes the endpoints of range.\n",
    "\n",
    "|staffNo|fName|lName|position|salary|\n",
    "|---|---|---|---|---|\n",
    "|SL21|John|White|Manager|30000.00|\n",
    "|SG5|Susan|Brand|Manager|24000.00|"
   ]
  },
  {
   "cell_type": "markdown",
   "metadata": {
    "slideshow": {
     "slide_type": "slide"
    }
   },
   "source": [
    "## Range Search Condition <img src=\"https://img.icons8.com/search/80\" style=\"display:inline-block;vertical-align:middle;padding:0 0 10px 10px\">\n",
    "* Also a negated version `NOT BETWEEN`.\n",
    "* `BETWEEN` does not add much to SQL’s expressive power.\n",
    "* You could also write:\n",
    "```SQL\n",
    "SELECT staffNo, fName, lName, position, salary FROM Staff\n",
    "WHERE salary >=20000 AND salary <= 30000;\n",
    "```\n",
    "* Useful, though, for a range of values.\n",
    "* `BETWEEN` test includes the endpoints of range."
   ]
  },
  {
   "cell_type": "markdown",
   "metadata": {
    "slideshow": {
     "slide_type": "slide"
    }
   },
   "source": [
    "## Set Membership\n",
    "* List all managers and supervisors:"
   ]
  },
  {
   "cell_type": "markdown",
   "metadata": {
    "slideshow": {
     "slide_type": "fragment"
    }
   },
   "source": [
    "```SQL\n",
    "SELECT staffNo, fName, lName, position\n",
    "FROM Staff\n",
    "WHERE position IN ('Manager', 'Supervisor');\n",
    "```\n",
    "* There is a negated version as well – `NOT IN`<br/><br/>\n",
    "\n",
    "|staffNo|fName|lName|position|\n",
    "|---|---|---|---|\n",
    "|SL21|John|White|Manager|\n",
    "|SG14|David|Ford|Supervisor|\n",
    "|SG5|Susan|Brand|Manager|"
   ]
  },
  {
   "cell_type": "markdown",
   "metadata": {
    "slideshow": {
     "slide_type": "slide"
    }
   },
   "source": [
    "## Set Membership <img src=\"https://img.icons8.com/search/80\" style=\"display:inline-block;vertical-align:middle;padding:0 0 10px 10px\">\n",
    "* Could have expressed this as:"
   ]
  },
  {
   "cell_type": "markdown",
   "metadata": {
    "slideshow": {
     "slide_type": "fragment"
    }
   },
   "source": [
    "```SQL\n",
    "SELECT staffNo, fName, lName, position\n",
    "FROM Staff\n",
    "WHERE position='Manager' OR position='Supervisor';\n",
    "```\n",
    "\n",
    "|staffNo|fName|lName|position|\n",
    "|---|---|---|---|\n",
    "|SL21|John|White|Manager|\n",
    "|SG14|David|Ford|Supervisor|\n",
    "|SG5|Susan|Brand|Manager|"
   ]
  },
  {
   "cell_type": "markdown",
   "metadata": {
    "slideshow": {
     "slide_type": "slide"
    }
   },
   "source": [
    "## Pattern Matching <img src=\"https://img.icons8.com/search/80\" style=\"display:inline-block;vertical-align:middle;padding:0 0 10px 10px\">\n",
    "* Find all owners with the string 'Glasgow' in their address."
   ]
  },
  {
   "cell_type": "markdown",
   "metadata": {
    "slideshow": {
     "slide_type": "fragment"
    }
   },
   "source": [
    "```SQL\n",
    "SELECT ownerNo, fName, lName, address, telNo\n",
    "FROM PrivateOwner\n",
    "WHERE address LIKE ‘%Glasgow%’;\n",
    "```\n",
    "\n",
    "|ownerNo|fName|lName|address|telNo|\n",
    "|---|---|---|---|---|\n",
    "|CO87|Carol|Farrel|6 Achray St, Glasgow G32 9DX|0141-357-7419|\n",
    "|CO40|Tina|Murphy|63 Well St, Glasgow G42|0141-943-1728|\n",
    "|CO93|Tony|Shaw|12 Park Pl, Glasgow G4 0QR|0141-225-7025|"
   ]
  },
  {
   "cell_type": "markdown",
   "metadata": {
    "slideshow": {
     "slide_type": "subslide"
    }
   },
   "source": [
    "## Pattern Matching <img src=\"https://img.icons8.com/search/80\" style=\"display:inline-block;vertical-align:middle;padding:0 0 10px 10px\">\n",
    "* SQL has two special pattern matching symbols:\n",
    "    * `%` – sequence of zero or more characters;\n",
    "    * `_` (underscore) – any single character.\n",
    "    * `LIKE '%Glasgow%'` – means a sequence of characters of any length containing 'Glasgow'.<br/><br/>\n",
    "    \n",
    "|ownerNo|fName|lName|address|telNo|\n",
    "|---|---|---|---|---|\n",
    "|CO87|Carol|Farrel|6 Achray St, Glasgow G32 9DX|0141-357-7419|\n",
    "|CO40|Tina|Murphy|63 Well St, Glasgow G42|0141-943-1728|\n",
    "|CO93|Tony|Shaw|12 Park Pl, Glasgow G4 0QR|0141-225-7025|"
   ]
  },
  {
   "cell_type": "markdown",
   "metadata": {
    "slideshow": {
     "slide_type": "slide"
    }
   },
   "source": [
    "## Null <img src=\"https://img.icons8.com/search/80\" style=\"display:inline-block;vertical-align:middle;padding:0 0 10px 10px\">\n",
    "*  List details of all viewings on property PG4 where a comment has not been supplied.\n",
    "* There are 2 viewings for property PG4, one with and one without a comment.\n",
    "* Have to test for null explicitly using special keyword `IS NULL`:"
   ]
  },
  {
   "cell_type": "markdown",
   "metadata": {
    "slideshow": {
     "slide_type": "fragment"
    }
   },
   "source": [
    "```SQL\n",
    "SELECT clientNo, viewDate FROM Viewing\n",
    "WHERE propertyNo = ‘PG4’ AND comment IS NULL;\n",
    "```"
   ]
  },
  {
   "cell_type": "markdown",
   "metadata": {
    "slideshow": {
     "slide_type": "slide"
    }
   },
   "source": [
    "# Summary<img src=\"https://img.icons8.com/ios/summary-list/80\" style=\"display:inline-block;vertical-align:middle;padding:0 0 10px 10px\">"
   ]
  },
  {
   "cell_type": "markdown",
   "metadata": {},
   "source": [
    "* SQL is not case sensitive so commands can be upper or lower case\n",
    "*  Convention, however, has it that we write SQL operators in upper case and the operands in lower case, e.g.\n",
    "*  ```SQL\n",
    "SELECT name FROM employee;\n",
    "```\n",
    "*  Each SQL command ends in a semicolon"
   ]
  },
  {
   "cell_type": "markdown",
   "metadata": {
    "slideshow": {
     "slide_type": "slide"
    }
   },
   "source": [
    "# Tutorial<img src=\"https://img.icons8.com/e-learning/80\" style=\"display:inline-block;vertical-align:middle;padding:0 0 10px 10px\">\n"
   ]
  },
  {
   "cell_type": "markdown",
   "metadata": {
    "slideshow": {
     "slide_type": "fragment"
    }
   },
   "source": [
    "**Practice SQL with SQLite and Jupyter Notebook [(GitHub)](https://github.com/royalosyin/Practice-SQL-with-SQLite-and-Jupyter-Notebook)**\n",
    "* [Intoduction](tutorial/ex00-Introduction.ipynb)\n",
    "* [Quick Start](tutorial/ex01-Quick%20Start.ipynb)\n",
    "* [Quary Table Information](tutorial/ex02-Query%20Table%20Information.ipynb)\n",
    "* [Retrieving Data with SELECT](tutorial/ex03-Retrieving%20Data%20with%20SELECT.ipynb)\n",
    "* [Constrain the Number of Rows Returned by a SELECT Query](tutorial/ex04-Constrain%20the%20Number%20of%20Rows%20Returned%20by%20a%20SELECT%20Query.ipynb)\n",
    "* [Filtering a Query with WHERE](tutorial/ex05-Filtering%20a%spo20Query%20with%20WHERE.ipynb)\n",
    "* [Doing Math Across Table Columns](tutorial/ex06-Doing%20Math%20Across%20Table%20Columns.ipynb)\n",
    "* [Aggregating data with GROUP BY and ORDER BY](tutorial/ex07-Aggregating%20data%20with%20GROUP%20BY%20and%20ORDER%20BY.ipynb)\n",
    "* [Dealing with NULL Values](tutorial/ex11-Dealing%20with%20NULL%20Values.ipynb)"
   ]
  },
  {
   "cell_type": "code",
   "execution_count": null,
   "metadata": {
    "slideshow": {
     "slide_type": "skip"
    }
   },
   "outputs": [],
   "source": []
  }
 ],
 "metadata": {
  "celltoolbar": "Slideshow",
  "kernelspec": {
   "display_name": "Python 3",
   "language": "python",
   "name": "python3"
  },
  "language_info": {
   "codemirror_mode": {
    "name": "ipython",
    "version": 3
   },
   "file_extension": ".py",
   "mimetype": "text/x-python",
   "name": "python",
   "nbconvert_exporter": "python",
   "pygments_lexer": "ipython3",
   "version": "3.7.5"
  },
  "rise": {
   "autolaunch": true,
   "controls": true,
   "enable_chalkboard": true,
   "overlay": "<div class='line top'></div><div class='line bottom'></div><div class='line left'></div><div class='line right'></div>",
   "showSlideNumber": "speaker",
   "slideNumber": true,
   "theme": "white",
   "transition": "linear"
  }
 },
 "nbformat": 4,
 "nbformat_minor": 2
}
