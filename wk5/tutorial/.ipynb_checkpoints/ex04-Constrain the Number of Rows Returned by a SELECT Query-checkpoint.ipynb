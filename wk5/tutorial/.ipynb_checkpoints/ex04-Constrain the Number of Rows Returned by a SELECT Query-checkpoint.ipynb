{
 "cells": [
  {
   "cell_type": "markdown",
   "metadata": {},
   "source": [
    "# ex04-Constrain the Number of Rows Returned by a SELECT Query\n",
    "\n",
    "Often it is not convenient to show all rows on screen as you have to scroll. We can use use SQLite ***LIMIT*** clause to constrain the number of rows returned by a query. This can be used for testing or to prevent consuming excessive resources if the query returns more information than expected.\n",
    "\n",
    "The following illustrates the syntax of the LIMIT clause:\n",
    "- SELECT column_list FROM table_name LIMIT row_count;"
   ]
  },
  {
   "cell_type": "code",
   "execution_count": null,
   "metadata": {},
   "outputs": [],
   "source": [
    "%load_ext sql"
   ]
  },
  {
   "cell_type": "markdown",
   "metadata": {},
   "source": [
    "### 1. Connet to the given database of demo.db3"
   ]
  },
  {
   "cell_type": "code",
   "execution_count": null,
   "metadata": {},
   "outputs": [],
   "source": [
    "%sql sqlite:///data/demo.db3"
   ]
  },
  {
   "cell_type": "markdown",
   "metadata": {},
   "source": [
    "### 2. Retrieving the first 10 rows of the table of watershed_yearly\n",
    "\n",
    "Add the LIMIT clause to the SELECT statement to get exact 10 rows."
   ]
  },
  {
   "cell_type": "code",
   "execution_count": null,
   "metadata": {},
   "outputs": [],
   "source": [
    "%sql SELECT * From watershed_yearly LIMIT 10"
   ]
  },
  {
   "cell_type": "markdown",
   "metadata": {},
   "source": [
    "### Note\n",
    "\n",
    "Some DBMSs offer non-standard syntax either instead of or in addition to SQL standard syntax. Variants of the simple ***limit*** query for different DBMSes can be found at https://en.wikipedia.org/wiki/Select_(SQL)"
   ]
  },
  {
   "cell_type": "markdown",
   "metadata": {},
   "source": [
    "# <font color=\"red\">Click [here](ex05-Filtering%20a%20Query%20with%20WHERE.ipynb) to continue to the next notebook</font>"
   ]
  },
  {
   "cell_type": "code",
   "execution_count": null,
   "metadata": {},
   "outputs": [],
   "source": []
  }
 ],
 "metadata": {
  "kernelspec": {
   "display_name": "Python 3",
   "language": "python",
   "name": "python3"
  },
  "language_info": {
   "codemirror_mode": {
    "name": "ipython",
    "version": 3
   },
   "file_extension": ".py",
   "mimetype": "text/x-python",
   "name": "python",
   "nbconvert_exporter": "python",
   "pygments_lexer": "ipython3",
   "version": "3.7.4"
  }
 },
 "nbformat": 4,
 "nbformat_minor": 2
}
