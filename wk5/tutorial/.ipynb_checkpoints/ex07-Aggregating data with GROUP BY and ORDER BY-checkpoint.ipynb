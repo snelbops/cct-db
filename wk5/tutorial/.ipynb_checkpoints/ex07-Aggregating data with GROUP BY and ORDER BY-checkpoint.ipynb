{
 "cells": [
  {
   "cell_type": "markdown",
   "metadata": {},
   "source": [
    "## ex07-Aggregating data with GROUP BY and ORDER BY\n",
    "\n",
    "The ***GROUP BY*** clause is an optional clause of the SELECT statement. The GROUP BY clause a selected group of rows into summary rows by values of one or more columns. \n",
    "\n",
    "The GROUP BY clause returns one row for each group. For each group, you can apply an aggregate function such as ***MIN, MAX, SUM, COUNT, or AVG*** to provide more information about each group."
   ]
  },
  {
   "cell_type": "code",
   "execution_count": null,
   "metadata": {},
   "outputs": [],
   "source": [
    "%load_ext sql"
   ]
  },
  {
   "cell_type": "markdown",
   "metadata": {},
   "source": [
    "### 1. Connet to the given database of demo.db3"
   ]
  },
  {
   "cell_type": "code",
   "execution_count": null,
   "metadata": {},
   "outputs": [],
   "source": [
    "%sql sqlite:///data/demo.db3"
   ]
  },
  {
   "cell_type": "markdown",
   "metadata": {},
   "source": [
    "If you do not remember the tables in the demo data, you can always use the following command to query."
   ]
  },
  {
   "cell_type": "code",
   "execution_count": null,
   "metadata": {},
   "outputs": [],
   "source": [
    "%sql SELECT name FROM sqlite_master WHERE type='table'"
   ]
  },
  {
   "cell_type": "markdown",
   "metadata": {},
   "source": [
    "### 2. Grouping data\n",
    "\n",
    "Take the table of ***rch*** as an example\n",
    "\n",
    "#### 2.1 Check the table colums firstly."
   ]
  },
  {
   "cell_type": "code",
   "execution_count": null,
   "metadata": {},
   "outputs": [],
   "source": [
    "%sql SELECT * From rch LIMIT 3"
   ]
  },
  {
   "cell_type": "markdown",
   "metadata": {},
   "source": [
    "#### 2.2 Check unique values\n",
    "\n",
    "Firstly, let's have a look at the number of RCH. We can use the ***DISTINCT*** keyword in conjunction with SELECT statement to eliminate all the duplicate records and fetching only the unique records."
   ]
  },
  {
   "cell_type": "code",
   "execution_count": null,
   "metadata": {},
   "outputs": [],
   "source": [
    "%%sql sqlite://\n",
    "SELECT COUNT(DISTINCT RCH) AS nRCH\n",
    "FROM rch"
   ]
  },
  {
   "cell_type": "markdown",
   "metadata": {},
   "source": [
    "We also can use the ***GROUP BY*** clause to get back a cleaner output, with fewer rows – only unique values returned. "
   ]
  },
  {
   "cell_type": "code",
   "execution_count": null,
   "metadata": {},
   "outputs": [],
   "source": [
    "%%sql sqlite://\n",
    "SELECT RCH\n",
    "FROM rch\n",
    "GROUP BY RCH"
   ]
  },
  {
   "cell_type": "markdown",
   "metadata": {},
   "source": [
    "#### 2.3 Use aggregate  functions on Groups\n",
    "\n",
    "We can get more details trough aggregating data on group than on whole columns."
   ]
  },
  {
   "cell_type": "code",
   "execution_count": null,
   "metadata": {},
   "outputs": [],
   "source": [
    "%%sql sqlite://\n",
    "SELECT RCH, AVG(FLOW_INcms), AVG(FLOW_OUTcms)\n",
    "FROM rch\n",
    "GROUP BY RCH"
   ]
  },
  {
   "cell_type": "markdown",
   "metadata": {},
   "source": [
    "### 3. Order/Sort Records\n",
    "\n",
    "Firstly, let us check the years and months with the maximum FLOW_INcms"
   ]
  },
  {
   "cell_type": "code",
   "execution_count": null,
   "metadata": {},
   "outputs": [],
   "source": [
    "%%sql sqlite://\n",
    "SELECT RCH, YR, MO, MAX(FLOW_INcms)\n",
    "FROM rch\n",
    "GROUP BY RCH"
   ]
  },
  {
   "cell_type": "markdown",
   "metadata": {},
   "source": [
    "It is obvious that the year and month columns are not in a natural sort. This is a good time to bring up the ***ORDER BY*** operator, which you can put at the end of a SQL state‐ment (after any WHERE and GROUP BY). We can sort the query results by year, and then month."
   ]
  },
  {
   "cell_type": "code",
   "execution_count": null,
   "metadata": {},
   "outputs": [],
   "source": [
    "%%sql sqlite://\n",
    "SELECT RCH, YR, MO, ROUND(MAX(FLOW_INcms),2)\n",
    "FROM rch\n",
    "GROUP BY RCH\n",
    "ORDER BY YR, MO"
   ]
  },
  {
   "cell_type": "markdown",
   "metadata": {},
   "source": [
    "By default, sorting is done with the ***ASC*** operator, which orders the data in ascending order. We can sort in descending order applying the ***DESC*** operatorhe."
   ]
  },
  {
   "cell_type": "code",
   "execution_count": null,
   "metadata": {},
   "outputs": [],
   "source": [
    "%%sql sqlite://\n",
    "SELECT RCH, YR, MO, ROUND(MAX(FLOW_INcms),2)\n",
    "FROM rch\n",
    "GROUP BY RCH\n",
    "ORDER BY YR DESC, MO"
   ]
  },
  {
   "cell_type": "markdown",
   "metadata": {},
   "source": [
    "### 4. Filter data on groups with the HAVING clause\n",
    "\n",
    "Sometimes, we may want to filter out records based on a group or an aggregated value. While the first instinct might be to use a WHERE statement, this actually will not work because the WHERE filters records, and does not filter aggregations. For example, we try to use a WHERE to filter results where MAX(FLOW_INcms) is greater than 3000. This will get a sqlite3.OperationalError of misuse of aggregate."
   ]
  },
  {
   "cell_type": "code",
   "execution_count": null,
   "metadata": {},
   "outputs": [],
   "source": [
    "%%sql sqlite://\n",
    "SELECT RCH, YR, MO, MAX(FLOW_INcms) as MAX_FLOWIN\n",
    "FROM rch\n",
    "WHERE MAX_FLOWIN > 3000.0\n",
    "GROUP BY RCH\n",
    "ORDER BY YR DESC, MO"
   ]
  },
  {
   "cell_type": "markdown",
   "metadata": {},
   "source": [
    "Under such a case, we cab use the ***HAVING*** clause to specify a filter condition for a group or an aggregate. The HAVING clause is an optional clause of the SELECT statement. We often use the HAVING clause with the GROUP BY clause. The GROUP BY clause groups a set of rows into a set of summary rows or groups. Then the HAVING clause filters groups based on specified conditions. \n",
    "\n",
    "***It is worth noting that the HAVING clause must follow the GROUP BY cluase strictly.***"
   ]
  },
  {
   "cell_type": "code",
   "execution_count": null,
   "metadata": {},
   "outputs": [],
   "source": [
    "%%sql sqlite://\n",
    "SELECT RCH, YR, MO, MAX(FLOW_INcms) as MAX_FLOWIN\n",
    "FROM rch\n",
    "GROUP BY RCH\n",
    "HAVING MAX_FLOWIN > 3000.0\n",
    "ORDER BY YR DESC, MO"
   ]
  },
  {
   "cell_type": "markdown",
   "metadata": {},
   "source": [
    "### Summary\n",
    "\n",
    "In this notebook, we learned how to use the DISTINCT operator to get distinct results in our queries and eliminate duplicates.\n",
    "\n",
    "Next, we learned how to aggregate and sort data using GROUP BY and ORDER BY. \n",
    "\n",
    "We also showed the power of the aggregate functions of SUM(), MAX(), MIN(), AVG(), and COUNT(). \n",
    "\n",
    "Furthermore, we used the HAVING clause to filter aggregated fields that can not be done with the WHERE clause. "
   ]
  },
  {
   "cell_type": "markdown",
   "metadata": {},
   "source": [
    "# <font color=\"red\">Click [here](ex11-Dealing%20with%20NULL%20Values.ipynb) to continue to the next notebook</font>"
   ]
  },
  {
   "cell_type": "code",
   "execution_count": null,
   "metadata": {},
   "outputs": [],
   "source": []
  }
 ],
 "metadata": {
  "anaconda-cloud": {},
  "kernelspec": {
   "display_name": "Python 3",
   "language": "python",
   "name": "python3"
  },
  "language_info": {
   "codemirror_mode": {
    "name": "ipython",
    "version": 3
   },
   "file_extension": ".py",
   "mimetype": "text/x-python",
   "name": "python",
   "nbconvert_exporter": "python",
   "pygments_lexer": "ipython3",
   "version": "3.7.4"
  }
 },
 "nbformat": 4,
 "nbformat_minor": 2
}
