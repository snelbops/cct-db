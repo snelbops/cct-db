{
 "cells": [
  {
   "cell_type": "markdown",
   "metadata": {},
   "source": [
    "## ex11-Dealing with NULL Values\n",
    "\n",
    "The example data in the tables in the demo.db3 shown earlier are all accurate and complete. Every row has a value for each attribute. However, real data is usually not so clean and tidy. You will often find NULL values in some tables.\n",
    "\n",
    "Nulls in a database can cause a few headaches. Moreover, the descriptions in the SQL standards on how to handle NULLs seem ambiguous. It is not clear from the standards documents exactly how NULLs should be handled in all [circumstances](https://www.sqlite.org/nulls.html).\n",
    "\n",
    "Sometimes, we actually can avoid NULLs by setting the NOT NULL constrain when we create a table. However, it is worth bearing in mind that making fields NOT NULL does not always work and could create more headaches than it cures. Not all values of null mean there is a problem with the data.\n",
    "\n",
    "SQLite NULL is the term used to represent a missing value. A NULL value in a table is a value in a field that appears to be blank. However, a NULL value should not simply thought as 0 (zero) or an empty string like ' '. It is a value of as either empty or undefined.\n",
    "\n",
    "This notebook will present:\n",
    "- How to DROP a table ***IF EXISTS***\n",
    "- How to CREATE a new table from an existing table\n",
    "- How to UPDATE a table with a WHERE condition\n",
    "- How to COUNT NULL values with IS NULL\n",
    "- How to give NULLs default values with the SQLite ***COALESCE*** function"
   ]
  },
  {
   "cell_type": "code",
   "execution_count": null,
   "metadata": {},
   "outputs": [],
   "source": [
    "%load_ext sql"
   ]
  },
  {
   "cell_type": "markdown",
   "metadata": {},
   "source": [
    "### 1. Connect to database\n",
    "\n",
    "It was mentioned before the demo.db3 is extracted from a hydrological modelling. As a result, the data in each table is tidy and complete without NULL values. However, we can create a table with NULL values for demo."
   ]
  },
  {
   "cell_type": "code",
   "execution_count": null,
   "metadata": {},
   "outputs": [],
   "source": [
    "%sql sqlite:///data/demo.db3"
   ]
  },
  {
   "cell_type": "markdown",
   "metadata": {},
   "source": [
    "If you do not remember the tables in the demo data, you can always use the following command to query."
   ]
  },
  {
   "cell_type": "code",
   "execution_count": null,
   "metadata": {},
   "outputs": [],
   "source": [
    "%sql SELECT name FROM sqlite_master WHERE type='table'"
   ]
  },
  {
   "cell_type": "markdown",
   "metadata": {},
   "source": [
    "### 2. Create a table with NULL values from an existing table\n",
    "\n",
    "Take the table of watershed_yearly as an example.\n",
    "- ***Firstly, make a backup table***\n",
    "\n",
    ">The SQLite CREATE TABLE AS statement is used to create a table from an existing table by copying the existing table's columns."
   ]
  },
  {
   "cell_type": "code",
   "execution_count": null,
   "metadata": {},
   "outputs": [],
   "source": [
    "%%sql sqlite://\n",
    "DROP TABLE  IF EXISTS watershed_yearly_bk;\n",
    "CREATE TABLE watershed_yearly_bk AS SELECT * FROM watershed_yearly"
   ]
  },
  {
   "cell_type": "markdown",
   "metadata": {},
   "source": [
    "Have a quick check of the backup table"
   ]
  },
  {
   "cell_type": "code",
   "execution_count": null,
   "metadata": {},
   "outputs": [],
   "source": [
    "%%sql sqlite://\n",
    "SELECT YR, PREC_mm \n",
    "FROM watershed_yearly_bk\n",
    "---LIMIT 3"
   ]
  },
  {
   "cell_type": "markdown",
   "metadata": {},
   "source": [
    "- ***Secondly, make some values as NULLs***\n",
    "\n",
    ">SQLite UPDATE Query is used to modify the existing records in a table. You can use WHERE clause with UPDATE query to update selected rows, otherwise all the rows would be updated."
   ]
  },
  {
   "cell_type": "code",
   "execution_count": null,
   "metadata": {},
   "outputs": [],
   "source": [
    "%%sql sqlite://\n",
    "UPDATE watershed_yearly_bk\n",
    "SET PREC_mm = NULL\n",
    "WHERE\n",
    "    PREC_mm < 850.0"
   ]
  },
  {
   "cell_type": "markdown",
   "metadata": {},
   "source": [
    "### 3. Find NULLs\n",
    "\n",
    "Null values cannot be determined with an =. We need to use the IS NULL or IS NOT NULL statements to identify null values. So, to get all records with no recorded snow_depth, we could run this query."
   ]
  },
  {
   "cell_type": "code",
   "execution_count": null,
   "metadata": {},
   "outputs": [],
   "source": [
    "%%sql sqlite://\n",
    "SELECT  YR, PREC_mm\n",
    "FROM watershed_yearly_bk\n",
    "WHERE PREC_mm IS NULL"
   ]
  },
  {
   "cell_type": "markdown",
   "metadata": {},
   "source": [
    "The count of years with NULLs"
   ]
  },
  {
   "cell_type": "code",
   "execution_count": null,
   "metadata": {},
   "outputs": [],
   "source": [
    "%%sql sqlite://\n",
    "SELECT  COUNT(YR) AS MISSING\n",
    "FROM watershed_yearly_bk\n",
    "WHERE PREC_mm IS NULL"
   ]
  },
  {
   "cell_type": "markdown",
   "metadata": {},
   "source": [
    ":) It is right the number of rows we updated."
   ]
  },
  {
   "cell_type": "markdown",
   "metadata": {},
   "source": [
    "### 4. Handle NULLs\n",
    "\n",
    "NULLs can be ambiguous and annoying as ther are identified differently depending on data sources. Tale can have NULL values for a number of reasons such as observations that were not recorded and data corruption.\n",
    "\n",
    "In general, there are two main strategies to handle NULLs during the query session and ***NOT*** to change original data in the table.\n",
    "\n",
    "#### 4.1  Do nut use rows with NULL values\n",
    "\n",
    "This strategy is quite simple as we always can filter the data with a ***WHERE IS NOT NULL*** condition. However, in practice, the data would be used at all, if the ratio of NULLs is too high."
   ]
  },
  {
   "cell_type": "code",
   "execution_count": null,
   "metadata": {},
   "outputs": [],
   "source": [
    "%%sql sqlite://\n",
    "SELECT  YR, PREC_mm\n",
    "FROM watershed_yearly_bk\n",
    "WHERE PREC_mm IS NOT NULL"
   ]
  },
  {
   "cell_type": "markdown",
   "metadata": {},
   "source": [
    "*Calculate the counts of NULLs, NOt_NULLs and total*. Keep in mind that the ***COUNT*** function will neglet NULL values."
   ]
  },
  {
   "cell_type": "code",
   "execution_count": null,
   "metadata": {},
   "outputs": [],
   "source": [
    "%%sql sqlite://\n",
    "SELECT SUM(CASE WHEN PREC_mm IS NULL THEN 1 else 0 END) COUNT_NULLs,\n",
    "       COUNT(PREC_mm) COUNT_NOT_NULLs,\n",
    "       COUNT(YR) AS TOTAL\n",
    "From watershed_yearly_bk"
   ]
  },
  {
   "cell_type": "markdown",
   "metadata": {},
   "source": [
    "#### 4.2 Replace NULL values with sensible values***\n",
    "\n",
    "It is recommended that you should firstly check the database document to make sure that nullable columns (columns that are allowed to have null values) have documented what a null value means from a business perspective before replacing NULL values with sensible values.\n",
    "\n",
    "The SQLite provides a more elegant way of handling NULL values. Tha is to use the COALESCE() function that accepts two or more arguments and returns the first non-null argument into a specified default value if it is null. If all the arguments are NULL, the COALESCE function returns NULL.\n",
    "\n",
    "The following illustrates the syntax of the COALESCE function:<br>\n",
    "*** COALESCE(parameter1, parameter2, …)***;<br>\n",
    "\n",
    "Here we want all NULLs of PREC_mm to be treated as the climatological mean of NOT NULLs."
   ]
  },
  {
   "cell_type": "markdown",
   "metadata": {},
   "source": [
    "***Caluclate the mean nof NON-NULLs***"
   ]
  },
  {
   "cell_type": "code",
   "execution_count": null,
   "metadata": {},
   "outputs": [],
   "source": [
    "%%sql sqlite://\n",
    "SELECT avg(PREC_mm)\n",
    "From watershed_yearly_bk"
   ]
  },
  {
   "cell_type": "markdown",
   "metadata": {},
   "source": [
    "***Replace NULLs with the above mean nof NON-NULLs***"
   ]
  },
  {
   "cell_type": "code",
   "execution_count": null,
   "metadata": {},
   "outputs": [],
   "source": [
    "%%sql sqlite://\n",
    "SELECT YR, COALESCE(PREC_mm, 936.122131348) as Precipitation\n",
    "From watershed_yearly_bk"
   ]
  },
  {
   "cell_type": "markdown",
   "metadata": {},
   "source": [
    "### Summary\n",
    "\n",
    "Dealing with NULL values is a complicated task. It would be better to get assistances from domain experts or you know very clearly what the NULL vlaues were presented for."
   ]
  },
  {
   "cell_type": "markdown",
   "metadata": {},
   "source": [
    "# <font color=\"red\">Click [here](../slides.ipynb) to get back to slides</font>"
   ]
  },
  {
   "cell_type": "code",
   "execution_count": null,
   "metadata": {},
   "outputs": [],
   "source": []
  }
 ],
 "metadata": {
  "anaconda-cloud": {},
  "kernelspec": {
   "display_name": "Python 3",
   "language": "python",
   "name": "python3"
  },
  "language_info": {
   "codemirror_mode": {
    "name": "ipython",
    "version": 3
   },
   "file_extension": ".py",
   "mimetype": "text/x-python",
   "name": "python",
   "nbconvert_exporter": "python",
   "pygments_lexer": "ipython3",
   "version": "3.7.4"
  }
 },
 "nbformat": 4,
 "nbformat_minor": 2
}
