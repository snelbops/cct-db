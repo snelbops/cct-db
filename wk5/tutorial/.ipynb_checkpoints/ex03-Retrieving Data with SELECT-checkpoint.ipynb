{
 "cells": [
  {
   "cell_type": "markdown",
   "metadata": {},
   "source": [
    "# ex03-Retrieving Data with SELECT\n",
    "\n",
    "When working with databases and SQL, the most common task is to request data from one or more tables, which returns this data in the form of a result table. These result tables are called result-sets. The ***SELECT*** statement accomplishes this. In most applications, ***SELECT*** is the most commonly used data query language (DQL) command. Moreover, the ***SELECT*** can do far more than simply retrieve and display data and I will show you in the following sections.\n",
    "\n",
    "***SELECT Syntax***\n",
    "\n",
    "- *SELECT column1, column2, columnN FROM table_name;*\n",
    "\n",
    "Here, column1, column2... are the fields (or columns) of a table (table_name).\n",
    "\n",
    "However, if you want query all records, just use:\n",
    "- SELECT * FROM table_name;"
   ]
  },
  {
   "cell_type": "code",
   "execution_count": null,
   "metadata": {},
   "outputs": [],
   "source": [
    "%load_ext sql"
   ]
  },
  {
   "cell_type": "markdown",
   "metadata": {},
   "source": [
    "### 1. Connet to the given database of demo.db3"
   ]
  },
  {
   "cell_type": "code",
   "execution_count": null,
   "metadata": {},
   "outputs": [],
   "source": [
    "%sql sqlite:///data/demo.db3"
   ]
  },
  {
   "cell_type": "markdown",
   "metadata": {},
   "source": [
    "If you do not remember the tables in the demo data, you can always use the follow command to query. Here we select the table of watershed_yearly as an example."
   ]
  },
  {
   "cell_type": "code",
   "execution_count": null,
   "metadata": {},
   "outputs": [],
   "source": [
    "%sql SELECT name FROM sqlite_master WHERE type='table'"
   ]
  },
  {
   "cell_type": "markdown",
   "metadata": {},
   "source": [
    "### 2. Retrieving all data\n",
    "\n",
    "As we alreay know, the most common SQL operation is a SELECT statement, which pulls data from a table and then displays the results. Let’s write our first SQL statement. "
   ]
  },
  {
   "cell_type": "code",
   "execution_count": null,
   "metadata": {},
   "outputs": [],
   "source": [
    "%sql SELECT * From watershed_yearly"
   ]
  },
  {
   "cell_type": "markdown",
   "metadata": {},
   "source": [
    "### 3. Retrieving data from specific columns\n",
    "\n",
    "In many cases, it is not necessary to pull all columns in a SELECT statement. You can also pick and choose only the columns you are interested in. The following query will only pull the ***YR***, ***PREC_mm*** and ***PET_mm*** columns:"
   ]
  },
  {
   "cell_type": "code",
   "execution_count": null,
   "metadata": {},
   "outputs": [],
   "source": [
    "%sql SELECT YR, PREC_mm, PET_mm From watershed_yearly"
   ]
  },
  {
   "cell_type": "markdown",
   "metadata": {},
   "source": [
    "### 4. Do some calculations in SELECT Statements\n",
    "\n",
    ":) The SELECT statement can do far more than simply select columns. \n",
    "\n",
    "Sometimes, we are also intersted in the relationship between columns. This can be done with expressions in SELECT Statements. For example, I'd like to see the difference between ***PREC_mm*** and ***PET_mm*** columns (using the minus operator **-**). You can also try other operators such as +, *, / or %."
   ]
  },
  {
   "cell_type": "code",
   "execution_count": null,
   "metadata": {},
   "outputs": [],
   "source": [
    "%sql SELECT YR, PREC_mm, PET_mm, PET_mm-PREC_mm From watershed_yearly"
   ]
  },
  {
   "cell_type": "markdown",
   "metadata": {},
   "source": [
    "It is amazing, is'nt it? However, the exmpression is presented as a new column name. It is not that beautiful.\n",
    "***It is quite easy for us to give it a new name using an AS statement (this is known as an alias).***"
   ]
  },
  {
   "cell_type": "code",
   "execution_count": null,
   "metadata": {},
   "outputs": [],
   "source": [
    "%sql SELECT YR, PREC_mm, PET_mm, PET_mm-PREC_mm as PED_mm From watershed_yearly"
   ]
  },
  {
   "cell_type": "markdown",
   "metadata": {},
   "source": [
    "Besides giving names to expressions using aliases, aliases can also be used to rename an existing column within the query. For example, we rename ***PREC_mm*** to ***Precipitation_mm***.\n",
    "\n",
    "***However, keep in mind that such an operatation does not affect the real data or change the name in the table.It only change the way you see it on your screen.*** You can always try SELECT * From watershed_yearly to see the truth."
   ]
  },
  {
   "cell_type": "code",
   "execution_count": null,
   "metadata": {
    "scrolled": true
   },
   "outputs": [],
   "source": [
    "%sql SELECT YR, PREC_mm as Precipitation_mm, PET_mm, PET_mm-PREC_mm as PED_mm From watershed_yearly"
   ]
  },
  {
   "cell_type": "markdown",
   "metadata": {},
   "source": [
    "# <font color=\"red\">Click [here](ex04-Constrain%20the%20Number%20of%20Rows%20Returned%20by%20a%20SELECT%20Query.ipynb) to continue to the next notebook</font>"
   ]
  },
  {
   "cell_type": "code",
   "execution_count": null,
   "metadata": {},
   "outputs": [],
   "source": []
  }
 ],
 "metadata": {
  "anaconda-cloud": {},
  "kernelspec": {
   "display_name": "Python 3",
   "language": "python",
   "name": "python3"
  },
  "language_info": {
   "codemirror_mode": {
    "name": "ipython",
    "version": 3
   },
   "file_extension": ".py",
   "mimetype": "text/x-python",
   "name": "python",
   "nbconvert_exporter": "python",
   "pygments_lexer": "ipython3",
   "version": "3.7.4"
  }
 },
 "nbformat": 4,
 "nbformat_minor": 2
}
