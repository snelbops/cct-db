{
 "cells": [
  {
   "cell_type": "markdown",
   "metadata": {},
   "source": [
    "# ex02-Query Table Information\n",
    "\n",
    "This notebook will show how to query the number of tables and a table'columns given a database using the powerful **SELECT**."
   ]
  },
  {
   "cell_type": "code",
   "execution_count": 1,
   "metadata": {},
   "outputs": [],
   "source": [
    "%load_ext sql"
   ]
  },
  {
   "cell_type": "markdown",
   "metadata": {},
   "source": [
    "### Connet to the given database of demo.db3"
   ]
  },
  {
   "cell_type": "code",
   "execution_count": 2,
   "metadata": {},
   "outputs": [
    {
     "data": {
      "text/plain": [
       "'Connected: @data/demo.db3'"
      ]
     },
     "execution_count": 2,
     "metadata": {},
     "output_type": "execute_result"
    }
   ],
   "source": [
    "%sql sqlite:///data/demo.db3"
   ]
  },
  {
   "cell_type": "markdown",
   "metadata": {},
   "source": [
    "### List  tables in a database\n",
    "\n",
    "Table and index names can be list by doing a **SELECT** on a special table named \"***SQLITE_MASTER***\". Every SQLite database has an SQLITE_MASTER table that defines the schema for the database. For tables, the ***type*** field will always be '***table***' and the name field will be the name of the table. So to get a list of all tables in the database, use the following SELECT command:\n",
    "\n",
    "See more at https://www.sqlite.org/faq.html#q7."
   ]
  },
  {
   "cell_type": "code",
   "execution_count": 3,
   "metadata": {},
   "outputs": [
    {
     "name": "stdout",
     "output_type": "stream",
     "text": [
      " * sqlite:///data/demo.db3\n",
      "Done.\n"
     ]
    },
    {
     "data": {
      "text/html": [
       "<table>\n",
       "    <tr>\n",
       "        <th>name</th>\n",
       "    </tr>\n",
       "    <tr>\n",
       "        <td>rch</td>\n",
       "    </tr>\n",
       "    <tr>\n",
       "        <td>hru</td>\n",
       "    </tr>\n",
       "    <tr>\n",
       "        <td>sub</td>\n",
       "    </tr>\n",
       "    <tr>\n",
       "        <td>sed</td>\n",
       "    </tr>\n",
       "    <tr>\n",
       "        <td>watershed_daily</td>\n",
       "    </tr>\n",
       "    <tr>\n",
       "        <td>watershed_monthly</td>\n",
       "    </tr>\n",
       "    <tr>\n",
       "        <td>watershed_yearly</td>\n",
       "    </tr>\n",
       "    <tr>\n",
       "        <td>channel_dimension</td>\n",
       "    </tr>\n",
       "    <tr>\n",
       "        <td>hru_info</td>\n",
       "    </tr>\n",
       "    <tr>\n",
       "        <td>sub_info</td>\n",
       "    </tr>\n",
       "    <tr>\n",
       "        <td>rch_info</td>\n",
       "    </tr>\n",
       "    <tr>\n",
       "        <td>ave_plant</td>\n",
       "    </tr>\n",
       "    <tr>\n",
       "        <td>ave_annual_hru</td>\n",
       "    </tr>\n",
       "    <tr>\n",
       "        <td>ave_monthly_basin</td>\n",
       "    </tr>\n",
       "    <tr>\n",
       "        <td>ave_annual_basin</td>\n",
       "    </tr>\n",
       "    <tr>\n",
       "        <td>rch_index</td>\n",
       "    </tr>\n",
       "    <tr>\n",
       "        <td>hru_index</td>\n",
       "    </tr>\n",
       "    <tr>\n",
       "        <td>sub_index</td>\n",
       "    </tr>\n",
       "    <tr>\n",
       "        <td>sed_index</td>\n",
       "    </tr>\n",
       "    <tr>\n",
       "        <td>watershed_daily_index</td>\n",
       "    </tr>\n",
       "    <tr>\n",
       "        <td>watershed_monthly_index</td>\n",
       "    </tr>\n",
       "    <tr>\n",
       "        <td>watershed_yearly_index</td>\n",
       "    </tr>\n",
       "    <tr>\n",
       "        <td>deg_index</td>\n",
       "    </tr>\n",
       "    <tr>\n",
       "        <td>hru_info_index</td>\n",
       "    </tr>\n",
       "    <tr>\n",
       "        <td>sub_info_index</td>\n",
       "    </tr>\n",
       "    <tr>\n",
       "        <td>rch_info_index</td>\n",
       "    </tr>\n",
       "    <tr>\n",
       "        <td>sqlite_sequence</td>\n",
       "    </tr>\n",
       "    <tr>\n",
       "        <td>watershed_yearly_bk</td>\n",
       "    </tr>\n",
       "    <tr>\n",
       "        <td>Temperature</td>\n",
       "    </tr>\n",
       "    <tr>\n",
       "        <td>idx_timestamp</td>\n",
       "    </tr>\n",
       "</table>"
      ],
      "text/plain": [
       "[('rch',),\n",
       " ('hru',),\n",
       " ('sub',),\n",
       " ('sed',),\n",
       " ('watershed_daily',),\n",
       " ('watershed_monthly',),\n",
       " ('watershed_yearly',),\n",
       " ('channel_dimension',),\n",
       " ('hru_info',),\n",
       " ('sub_info',),\n",
       " ('rch_info',),\n",
       " ('ave_plant',),\n",
       " ('ave_annual_hru',),\n",
       " ('ave_monthly_basin',),\n",
       " ('ave_annual_basin',),\n",
       " ('rch_index',),\n",
       " ('hru_index',),\n",
       " ('sub_index',),\n",
       " ('sed_index',),\n",
       " ('watershed_daily_index',),\n",
       " ('watershed_monthly_index',),\n",
       " ('watershed_yearly_index',),\n",
       " ('deg_index',),\n",
       " ('hru_info_index',),\n",
       " ('sub_info_index',),\n",
       " ('rch_info_index',),\n",
       " ('sqlite_sequence',),\n",
       " ('watershed_yearly_bk',),\n",
       " ('Temperature',),\n",
       " ('idx_timestamp',)]"
      ]
     },
     "execution_count": 3,
     "metadata": {},
     "output_type": "execute_result"
    }
   ],
   "source": [
    "%sql SELECT name FROM sqlite_master"
   ]
  },
  {
   "cell_type": "markdown",
   "metadata": {},
   "source": [
    "### List columns in a table\n",
    "\n",
    "We take the table of rch as an example"
   ]
  },
  {
   "cell_type": "code",
   "execution_count": null,
   "metadata": {},
   "outputs": [],
   "source": [
    "%sql select * from rch where 1=0"
   ]
  },
  {
   "cell_type": "markdown",
   "metadata": {},
   "source": [
    "#### :) We get the table information just using SELECT * with key work of LIMIT\n",
    "\n",
    "You can try to change the limit number to 1, 2 to check the results."
   ]
  },
  {
   "cell_type": "code",
   "execution_count": null,
   "metadata": {},
   "outputs": [],
   "source": [
    "%sql select * from rch LIMIT 0"
   ]
  },
  {
   "cell_type": "markdown",
   "metadata": {},
   "source": [
    "#### Or directly use selet *\n",
    "\n",
    "***Warning***! This table contains too many records. It'd better not query all of them."
   ]
  },
  {
   "cell_type": "code",
   "execution_count": null,
   "metadata": {},
   "outputs": [],
   "source": [
    "%sql select * from rch"
   ]
  },
  {
   "cell_type": "markdown",
   "metadata": {},
   "source": [
    "# <font color=\"red\">Click [here](ex03-Retrieving%20Data%20with%20SELECT.ipynb) to continue to the next notebook</font>"
   ]
  },
  {
   "cell_type": "code",
   "execution_count": null,
   "metadata": {},
   "outputs": [],
   "source": []
  }
 ],
 "metadata": {
  "kernelspec": {
   "display_name": "Python 3",
   "language": "python",
   "name": "python3"
  },
  "language_info": {
   "codemirror_mode": {
    "name": "ipython",
    "version": 3
   },
   "file_extension": ".py",
   "mimetype": "text/x-python",
   "name": "python",
   "nbconvert_exporter": "python",
   "pygments_lexer": "ipython3",
   "version": "3.7.4"
  }
 },
 "nbformat": 4,
 "nbformat_minor": 2
}
