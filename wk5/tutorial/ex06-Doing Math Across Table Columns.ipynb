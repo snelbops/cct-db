{
 "cells": [
  {
   "cell_type": "markdown",
   "metadata": {},
   "source": [
    "# ex06-Doing Math Across Table Columns\n",
    "\n",
    "As we already know, the demo database (i.e., demo.db3) was extraced from a numerical hydrological modeling. The major data types are of integers, decimals, or floating points. It is quite natural that we want to carry out some calculations or statistical analysis. SQL can handle calculations ranging from basic math through advanced statistics.\n",
    "\n",
    "***Basic Math Operators***\n",
    "<li>+ Addition\n",
    "<li>- Subtraction\n",
    "<li>* Multiplication\n",
    "<li>/ Division (returns the quotient only, no remainder)\n",
    "<li>% Modulo (returns just the remainder)\n",
    "<li>^ Exponentiation\n",
    "<li>Others \n",
    "    \n",
    "Let’s try to use the most frequently used SQL math operators on the demo data. Instead of using numbers in queries, we’ll use the names of the columns that contain the numbers. When we execute the query, the calculation will occur on each row of the table.    "
   ]
  },
  {
   "cell_type": "code",
   "execution_count": null,
   "metadata": {},
   "outputs": [],
   "source": [
    "%load_ext sql"
   ]
  },
  {
   "cell_type": "markdown",
   "metadata": {},
   "source": [
    "### 1. Connet to the given database of demo.db3"
   ]
  },
  {
   "cell_type": "code",
   "execution_count": null,
   "metadata": {},
   "outputs": [],
   "source": [
    "%sql sqlite:///data/demo.db3"
   ]
  },
  {
   "cell_type": "markdown",
   "metadata": {},
   "source": [
    "If you do not remember the tables in the demo data, you can always use the following command to query."
   ]
  },
  {
   "cell_type": "code",
   "execution_count": null,
   "metadata": {},
   "outputs": [],
   "source": [
    "%sql SELECT name FROM sqlite_master WHERE type='table'"
   ]
  },
  {
   "cell_type": "markdown",
   "metadata": {},
   "source": [
    "### 2. Test Math Operator in an easy way\n",
    "\n",
    "Using the SELECT statement, we can easily test the math operators."
   ]
  },
  {
   "cell_type": "code",
   "execution_count": null,
   "metadata": {},
   "outputs": [],
   "source": [
    "%sql SELECT 3+4"
   ]
  },
  {
   "cell_type": "code",
   "execution_count": null,
   "metadata": {},
   "outputs": [],
   "source": [
    "%sql SELECT 12 * 4"
   ]
  },
  {
   "cell_type": "code",
   "execution_count": null,
   "metadata": {},
   "outputs": [],
   "source": [
    "%sql SELECT 12 % 4"
   ]
  },
  {
   "cell_type": "code",
   "execution_count": null,
   "metadata": {},
   "outputs": [],
   "source": [
    "%sql SELECT round(123.456,2) as Rounded"
   ]
  },
  {
   "cell_type": "markdown",
   "metadata": {},
   "source": [
    "### 3. Doing Math Across Table Columns\n",
    "\n",
    "Take the table of watershed_monthly as an example\n",
    "\n",
    "#### 3.1 Check the table colums firstly."
   ]
  },
  {
   "cell_type": "code",
   "execution_count": null,
   "metadata": {},
   "outputs": [],
   "source": [
    "%sql SELECT * From watershed_monthly LIMIT 3"
   ]
  },
  {
   "cell_type": "markdown",
   "metadata": {},
   "source": [
    "#### 3.2 Calculate the difference between two colummns\n",
    "\n",
    "For example, we are interested in the difference between Potential evapotranspiration (PET_mm) and precipitation (PREC_mm). It is so-called Potential evapotranspiration deficit (PED). PED can be thought of as a drought index. It is the difference between how much water could potentially be lost from the soil through evapotranspiration and how much is actually available. When PED is high, plants do not have the full amount of water available they need for growth."
   ]
  },
  {
   "cell_type": "code",
   "execution_count": null,
   "metadata": {},
   "outputs": [],
   "source": [
    "%%sql sqlite://\n",
    "SELECT YR, MO,  \n",
    "PREC_mm as Precipitation, \n",
    "PET_mm as PET, \n",
    "PET_mm-PREC_mm as PED \n",
    "From watershed_monthly LIMIT 10"
   ]
  },
  {
   "cell_type": "markdown",
   "metadata": {},
   "source": [
    "###### We also can calculate the PED ratio to Precipitation."
   ]
  },
  {
   "cell_type": "code",
   "execution_count": null,
   "metadata": {},
   "outputs": [],
   "source": [
    "%%sql sqlite://\n",
    "SELECT YR, MO,  PREC_mm as Precipitation, \n",
    "PET_mm as PET, \n",
    "(PET_mm-PREC_mm)/PREC_mm*100.0 as PED_Ratio \n",
    "From watershed_monthly LIMIT 10"
   ]
  },
  {
   "cell_type": "markdown",
   "metadata": {},
   "source": [
    "#### 3.3 Use math operators in a WHERE statement\n",
    "\n",
    "For example, we could use the modulus operator (%) to filter the MOs."
   ]
  },
  {
   "cell_type": "code",
   "execution_count": null,
   "metadata": {},
   "outputs": [],
   "source": [
    "%%sql sqlite://\n",
    "SELECT RCH, YR, MO, FLOW_INcms, FLOW_OUTcms \n",
    "From rch \n",
    "WHERE YR>2009 \n",
    "and RCH=10 \n",
    "and MO % 3 = 0"
   ]
  },
  {
   "cell_type": "markdown",
   "metadata": {},
   "source": [
    "### 4. Do some statistics with Aggregate Functions\n",
    "\n",
    "So far, we’ve performed math operations across columns in each row of a table. We also can calculate a result from values within the same column using aggregate function, which calculate a single result from multiple inputs. Two of the most-used aggregate functions in data analysis are avg() and sum()."
   ]
  },
  {
   "cell_type": "markdown",
   "metadata": {},
   "source": [
    "#### 4.1 average\n",
    "\n",
    "avg - calculates the average of all values in that column (omits null values)."
   ]
  },
  {
   "cell_type": "code",
   "execution_count": null,
   "metadata": {},
   "outputs": [],
   "source": [
    "%%sql sqlite://\n",
    "SELECT avg(FLOW_INcms), avg(FLOW_OUTcms) \n",
    "From rch "
   ]
  },
  {
   "cell_type": "markdown",
   "metadata": {},
   "source": [
    "#### 4.2 sum\n",
    "\n",
    "sum - calculates the sum of the values in that column (omits null values)."
   ]
  },
  {
   "cell_type": "code",
   "execution_count": null,
   "metadata": {},
   "outputs": [],
   "source": [
    "%%sql sqlite://\n",
    "SELECT sum(FLOW_INcms), sum(FLOW_OUTcms) \n",
    "From rch "
   ]
  },
  {
   "cell_type": "markdown",
   "metadata": {},
   "source": [
    "#### 4.3 extreme values\n",
    "\n",
    "max - calculates the maximum value in that column (omits null values).\n",
    "\n",
    "min - calculates the minimum value in that column (omits null values)."
   ]
  },
  {
   "cell_type": "code",
   "execution_count": null,
   "metadata": {},
   "outputs": [],
   "source": [
    "%%sql sqlite://\n",
    "SELECT min(FLOW_INcms), max(FLOW_OUTcms) \n",
    "From rch "
   ]
  },
  {
   "cell_type": "markdown",
   "metadata": {},
   "source": [
    "### 5. Calculate by ourselves\n",
    "\n",
    "We can calculated some values by the combination of those math operators. For example, we can calculate the average values of Flow_In and Flow_Out."
   ]
  },
  {
   "cell_type": "code",
   "execution_count": null,
   "metadata": {},
   "outputs": [],
   "source": [
    "%%sql sqlite://\n",
    "SELECT sum(FLOW_INcms)/COUNT(FLOW_INcms) as AVG_FlowIn, \n",
    "sum(FLOW_OUTcms)/COUNT(FLOW_OUTcms) as AVG_FlowOut\n",
    "From rch "
   ]
  },
  {
   "cell_type": "markdown",
   "metadata": {},
   "source": [
    "### Summary\n",
    "\n",
    "Aggregating data (also referred to as rolling up, summarizing, or grouping data) is creating some sort of total from a number of records. Sum, min, max, count, and average are common aggregate operations.\n",
    "\n",
    "In fact, the above example did not present the real power of these aggregation functions. They will become more powerful only when they are used with ***GROUP BY*** and ***ORDER BY*** clauses."
   ]
  },
  {
   "cell_type": "markdown",
   "metadata": {},
   "source": [
    "# <font color=\"red\">Click [here](ex07-Aggregating%20data%20with%20GROUP%20BY%20and%20ORDER%20BY.ipynb) to continue to the next notebook</font>"
   ]
  },
  {
   "cell_type": "code",
   "execution_count": null,
   "metadata": {},
   "outputs": [],
   "source": []
  }
 ],
 "metadata": {
  "anaconda-cloud": {},
  "kernelspec": {
   "display_name": "Python 3",
   "language": "python",
   "name": "python3"
  },
  "language_info": {
   "codemirror_mode": {
    "name": "ipython",
    "version": 3
   },
   "file_extension": ".py",
   "mimetype": "text/x-python",
   "name": "python",
   "nbconvert_exporter": "python",
   "pygments_lexer": "ipython3",
   "version": "3.7.4"
  }
 },
 "nbformat": 4,
 "nbformat_minor": 2
}
