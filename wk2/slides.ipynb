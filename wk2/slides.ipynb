{
 "cells": [
  {
   "cell_type": "code",
   "execution_count": 48,
   "metadata": {
    "cell_style": "center",
    "slideshow": {
     "slide_type": "skip"
    }
   },
   "outputs": [
    {
     "data": {
      "text/html": [
       "<style type=\"text/css\">\n",
       "table, td, th {\n",
       "    border: 1px  black solid !important;\n",
       "    color: black !important;\n",
       "    background-color: #eff0f1;\n",
       "    font-size: 28px;\n",
       "}\n",
       "</style>\n"
      ],
      "text/plain": [
       "<IPython.core.display.HTML object>"
      ]
     },
     "metadata": {},
     "output_type": "display_data"
    }
   ],
   "source": [
    "%%HTML\n",
    "<style type=\"text/css\">\n",
    "table, td, th {\n",
    "    border: 1px  black solid !important;\n",
    "    color: black !important;\n",
    "    background-color: #eff0f1;\n",
    "    font-size: 28px;\n",
    "}\n",
    "</style>"
   ]
  },
  {
   "cell_type": "markdown",
   "metadata": {
    "cell_style": "center",
    "slideshow": {
     "slide_type": "slide"
    }
   },
   "source": [
    "# Relational Databases  🗃 "
   ]
  },
  {
   "cell_type": "markdown",
   "metadata": {
    "slideshow": {
     "slide_type": ""
    }
   },
   "source": [
    "* Press `Space` to navigate through the slides\n",
    "* Use `Shift+Space` to go back"
   ]
  },
  {
   "cell_type": "markdown",
   "metadata": {
    "slideshow": {
     "slide_type": "slide"
    }
   },
   "source": [
    "# Module Readings 📖"
   ]
  },
  {
   "cell_type": "markdown",
   "metadata": {},
   "source": [
    "**Highly recommended:**\n",
    "* [Lake, P. and Crowther, P. (2013). ***Concise Guide to Databases: A Practical Introduction***](https://www.amazon.co.uk/Concise-Guide-Databases-Introduction-Undergraduate/dp/1447156005)\n",
    "* [Batra, R. (2018). ***SQL Primer: An Accelerated Introduction to SQL Basics***](https://www.amazon.co.uk/SQL-Primer-Accelerated-Introduction-Basics/dp/1484235754)\n",
    "* [Tayloe, A. (2019). ***SQL For Dummies***](https://www.amazon.co.uk/SQL-Dummies-Computer-Tech/dp/1119527074)"
   ]
  },
  {
   "cell_type": "markdown",
   "metadata": {
    "slideshow": {
     "slide_type": "subslide"
    }
   },
   "source": [
    "**Classical database literature:**\n",
    "* [Ramakrishnan, R. and Gehrke J. (2002). ***Database Management Systems***](https://www.amazon.co.uk/Database-Management-Systems-Raghu-Ramakrishnan/dp/007123151X)\n",
    "* [Lake, P. and Crowther, P. (2014). ***Database Systems: A Practical Approach to Design, Implementation, and Management, Global Edition***](https://www.amazon.co.uk/Database-Systems-Practical-Implementation-Management/dp/1292061189)\n",
    "* [Elmasri R. And S. Navathe (2016), ***Fundamentals of Database Systems, Global Edition***](https://www.amazon.co.uk/Fundamentals-Database-Systems-Global-Elmasri/dp/1292097612)"
   ]
  },
  {
   "cell_type": "markdown",
   "metadata": {
    "slideshow": {
     "slide_type": "subslide"
    }
   },
   "source": [
    "**SQL Tutorials:**\n",
    "* [**W3Schools.com** – SQL Tutorial](https://www.w3schools.com/sql/)\n",
    "* [**SQLBolt.com** – Learn SQL](https://sqlbolt.com)\n",
    "* [**Codecademy.com** – SQL Tutorial](https://www.codecademy.com/learn/learn-sql)"
   ]
  },
  {
   "cell_type": "markdown",
   "metadata": {
    "slideshow": {
     "slide_type": "slide"
    }
   },
   "source": [
    "# Continuous Assessment 📝"
   ]
  },
  {
   "cell_type": "markdown",
   "metadata": {
    "cell_style": "center",
    "slideshow": {
     "slide_type": "-"
    }
   },
   "source": [
    "* **CA1 – 20%**\n",
    " * Design and implement a database\n",
    " * 🔛 Week 3\n",
    " * 🔚 Week 5\n",
    "* **CA2 – 30%**\n",
    " * Querying and manipulating data using SQL\n",
    " * 🔛 Week 9\n",
    " * 🔚 Week 12"
   ]
  },
  {
   "cell_type": "markdown",
   "metadata": {
    "slideshow": {
     "slide_type": "slide"
    }
   },
   "source": [
    "# Quick Recap 🎒"
   ]
  },
  {
   "cell_type": "markdown",
   "metadata": {},
   "source": [
    "* A **database** ia a self-describing collection of integrated records\n",
    "* A **database management system (DBMS)** is a set of programs used to define, administer, and process databases and their associated applications.\n",
    "* A **relational database** is a type of database where data is represented in tables, which stores and provides access to data points that are related to one another\n",
    "* **SQL** is a flexible language used to communicate with a database (**DDL**, **DQL**, **DML**, **DCL**)"
   ]
  },
  {
   "cell_type": "markdown",
   "metadata": {
    "slideshow": {
     "slide_type": "slide"
    }
   },
   "source": [
    "# Relations 🔢 and Keys 🔑"
   ]
  },
  {
   "cell_type": "markdown",
   "metadata": {
    "slideshow": {
     "slide_type": "-"
    }
   },
   "source": [
    "<center><img src=\"https://upload.wikimedia.org/wikipedia/commons/thumb/7/7c/Relational_database_terms.svg/1920px-Relational_database_terms.svg.png\" width=\"600\"></center>"
   ]
  },
  {
   "cell_type": "markdown",
   "metadata": {
    "slideshow": {
     "slide_type": "fragment"
    }
   },
   "source": [
    "| SQL Term | Relational DB Term | Description\n",
    "| --- | --- | ---\n",
    "| Row | Tuple / Record | A data set representing a single item\n",
    "| Column | Attribute / Field | A labeled element of a tuple, e.g. \"Address\" or \"Date of birth\"\n",
    "| Table | Relation / Base relvar | A set of tuples sharing the same attributes; a set of columns and rows\n",
    "| View / Result set | Derived relvar | Any set of tuples; a data report from the RDBMS in response to a query"
   ]
  },
  {
   "cell_type": "markdown",
   "metadata": {
    "slideshow": {
     "slide_type": "slide"
    }
   },
   "source": [
    "# Terminology 📒"
   ]
  },
  {
   "cell_type": "markdown",
   "metadata": {
    "cell_style": "split",
    "slideshow": {
     "slide_type": "fragment"
    }
   },
   "source": [
    "* **Relation** →\tTable \n",
    "* **Tuple** →\tRow or record \n",
    "* **Attribute** →\tColumn or field \n",
    "* **Cardinality** →\tNumber of rows \n",
    "* **Degree** →\tNumber of columns \n",
    "* **Primary key** →\tUnique identifier \n",
    "* **Domain** →\tPool of legal values"
   ]
  },
  {
   "cell_type": "markdown",
   "metadata": {
    "cell_style": "split",
    "slideshow": {
     "slide_type": "fragment"
    }
   },
   "source": [
    "<img src=\"https://i.stack.imgur.com/2Fcer.gif\" width=\"100%\">"
   ]
  },
  {
   "cell_type": "markdown",
   "metadata": {
    "slideshow": {
     "slide_type": "slide"
    }
   },
   "source": [
    "# Properties of Relations 🔢"
   ]
  },
  {
   "cell_type": "markdown",
   "metadata": {},
   "source": [
    "* **The name of a relation (table) is unique**\n",
    " * *No two relations may have the same name*\n",
    "* **The name of an attribute is unique only within its relation**\n",
    " * *We can have two attributes called Name in separate relations (tables), but not in the same relation (table)*\n",
    "* **The values of an attribute are all from the same domain**\n",
    " * *We should not allow a postcode to appear in a salary column for example*"
   ]
  },
  {
   "cell_type": "markdown",
   "metadata": {
    "slideshow": {
     "slide_type": "subslide"
    }
   },
   "source": [
    "* **The order of attributes within a relation has no significance**\n",
    " * *If we re-order the columns of a relation it does not become a different relation*\n",
    "* **The order of rows within a relation has no significance**\n",
    " * If we re-arrange the rows of a relation, it does not become a different relation.\n",
    "* **Each cell of a relation should contain at most one value**\n",
    " * *We cannot store two phone numbers in the same cell*\n",
    "* **The records within a relation should all be distinct**\n",
    " * *If we examine the values in each row, no two rows should have exactly the same values (no duplicates)*"
   ]
  },
  {
   "cell_type": "markdown",
   "metadata": {
    "slideshow": {
     "slide_type": "slide"
    }
   },
   "source": [
    "# Candidate, Primary and Alternate Keys 🔐"
   ]
  },
  {
   "cell_type": "markdown",
   "metadata": {},
   "source": [
    "* Keys with no repeated attribute values are called **candidate**\n",
    "* Every table must have at least a single candidate key\n",
    "  * *It must contain unique values*\n",
    "  * *Candidate key may have multiple attributes*\n",
    "  * *Must not contain null values*\n",
    "  * *It should contain minimum fields to ensure uniqueness*\n",
    "  * *Uniquely identify each record in a table*"
   ]
  },
  {
   "cell_type": "markdown",
   "metadata": {
    "slideshow": {
     "slide_type": "subslide"
    }
   },
   "source": [
    "* The **Primary key** should be selected from the candidate keys\n",
    "* **Alternate keys** are candidate keys excluding the chosen primary key\n",
    "<center><img src=\"https://www.guru99.com/images/1/100518_0517_DBMSKeysPri1.png\" width=\"100%\"></center>\n",
    "\n",
    "<!---\n",
    "https://www.guru99.com/dbms-keys.html\n",
    "-->"
   ]
  },
  {
   "cell_type": "markdown",
   "metadata": {
    "slideshow": {
     "slide_type": "slide"
    }
   },
   "source": [
    "# Primary Keys 🔑"
   ]
  },
  {
   "cell_type": "markdown",
   "metadata": {
    "slideshow": {
     "slide_type": "fragment"
    }
   },
   "source": [
    "* A good rule for database design is to make sure that every row in a database table is distinguishable from every other row; each row should be ***unique***\n",
    "* A **key** is an attribute (or combination of attributes) that uniquely identifies a row in a table\n",
    "* To access a row in a database, you must have some way of distinguishing that row from all the other rows\n",
    "* A **primary key** is a column or combination of columns in a table with values that uniquely identify the rows in the table"
   ]
  },
  {
   "cell_type": "markdown",
   "metadata": {
    "cell_style": "split",
    "slideshow": {
     "slide_type": "subslide"
    }
   },
   "source": [
    "| student_id | student | module\n",
    "| --- | --- | ---\n",
    "| 1 | Lisa | Databases\n",
    "| 2 | Alan | HR\n",
    "| 3 | Julia | Mobile Dev"
   ]
  },
  {
   "cell_type": "markdown",
   "metadata": {
    "cell_style": "split",
    "slideshow": {
     "slide_type": "fragment"
    }
   },
   "source": [
    "| lecturer_id | lecturer | department\n",
    "| --- | --- | ---\n",
    "| 1 | John | Business\n",
    "| 2 | Sarah | Computer Science\n",
    "| 3 | Michael | Computer Science"
   ]
  },
  {
   "cell_type": "markdown",
   "metadata": {
    "slideshow": {
     "slide_type": "slide"
    }
   },
   "source": [
    "# Foreign Keys 🗝️"
   ]
  },
  {
   "cell_type": "markdown",
   "metadata": {
    "slideshow": {
     "slide_type": "fragment"
    }
   },
   "source": [
    "\n",
    "* A **foreign key** is a column or group of columns in a table that corresponds to or references a primary key in another table in the database\n",
    "* A **foreign key** doesn’t have to be unique, but it must uniquely identify the column(s) in the table that the key references.\n",
    "* A **foreign key** alternatively is called a **secondary key**"
   ]
  },
  {
   "cell_type": "markdown",
   "metadata": {
    "cell_style": "split",
    "slideshow": {
     "slide_type": "fragment"
    }
   },
   "source": [
    "| student_id | student | module | lecturer_id\n",
    "| --- | --- | --- | ---\n",
    "| 1 | Lisa | Databases | 2\n",
    "| 2 | Alan | HR | 1\n",
    "| 3 | Julia | Mobile Dev | 2"
   ]
  },
  {
   "cell_type": "markdown",
   "metadata": {
    "cell_style": "split",
    "slideshow": {
     "slide_type": "fragment"
    }
   },
   "source": [
    "| lecturer_id | lecturer | department\n",
    "| --- | --- | ---\n",
    "| 1 | John | Business\n",
    "| 2 | Sarah | Computer Science\n",
    "| 3 | Michael | Computer Science"
   ]
  },
  {
   "cell_type": "markdown",
   "metadata": {
    "slideshow": {
     "slide_type": "slide"
    }
   },
   "source": [
    "# Difference Between Primary key 🔑 & Foreign key 🗝️"
   ]
  },
  {
   "cell_type": "markdown",
   "metadata": {},
   "source": [
    "| Primary Key | Foreign Key\n",
    "| --- | ---\n",
    "| Helps you to uniquely identify a record in the table | It is a field in the table that is the primary key of another table\n",
    "|Primary Key never accept null values | A foreign key may accept multiple null values\n",
    "|Primary key is a clustered index and data in the DBMS table are physically organised in the sequence of the clustered index | A foreign key cannot automatically create an index, clustered or non-clustered However, you can manually create an index on the foreign key\n",
    "|You can have the single Primary key in a table | You can have multiple foreign keys in a table\n",
    "\n",
    "<!---\n",
    "https://www.guru99.com/dbms-keys.html#6\n",
    "-->"
   ]
  },
  {
   "cell_type": "markdown",
   "metadata": {
    "slideshow": {
     "slide_type": "slide"
    }
   },
   "source": [
    "# Simple, Compound and Composite Keys 🔐"
   ]
  },
  {
   "cell_type": "markdown",
   "metadata": {
    "slideshow": {
     "slide_type": "fragment"
    }
   },
   "source": [
    "* Any of the keys described before (ie: primary, foreign or secondary) may have ***one or more attributes***\n",
    "<br/><br/>\n",
    "* A **simple key** consists of a single attribute to uniquely identify an entity occurrence, for example, a student number, which uniquely identifies a particular student. No two students would have the same student number."
   ]
  },
  {
   "cell_type": "markdown",
   "metadata": {
    "slideshow": {
     "slide_type": "subslide"
    }
   },
   "source": [
    "* A **compound key** consists of more than one attribute to uniquely identify an entity occurrence. Each attribute, which makes up the key, is also a simple key in its own right.\n",
    "\n",
    " For example, we have an entity named enrolment, which holds the courses on which a student is enrolled. In this scenario a student is allowed to enrol on more than one course. This has a compound key of both student number and course number, which is required to uniquely identify a student on a particular course.\n",
    "\n",
    "<center><img src=\"https://www.sqa.org.uk/e-learning/MDBS01CD/images/pic015.jpg\"></center>\n",
    "\n",
    "> Student number and course number combined is a compound primary key for the enrolment entity.\n",
    "\n",
    "<!---\n",
    "https://www.sqa.org.uk/e-learning/MDBS01CD/page_18.htm\n",
    "-->"
   ]
  },
  {
   "cell_type": "markdown",
   "metadata": {
    "slideshow": {
     "slide_type": "subslide"
    }
   },
   "source": [
    "* A **composite key** consists of more than one attribute to uniquely identify an entity occurrence. This differs from a compound key in that one or more of the attributes, which make up the key, are not simple keys in their own right.\n",
    "\n",
    " For example, you have a database holding your CD collection. One of the entities is called tracks, which holds details of the tracks on a CD. This has a composite key of CD name, track number.\n",
    "\n",
    "<center><img src=\"https://www.sqa.org.uk/e-learning/MDBS01CD/images/pic016.jpg\"></center>\n",
    "\n",
    ">  CD name in the track entity is a simple key, linking to the CD entity, but track number is not a simple key in its own right.\n",
    "\n",
    "<!---\n",
    "https://www.sqa.org.uk/e-learning/MDBS01CD/page_19.htm\n",
    "-->\n",
    "\n"
   ]
  },
  {
   "cell_type": "markdown",
   "metadata": {
    "slideshow": {
     "slide_type": "slide"
    }
   },
   "source": [
    "# Internal, Conceptual, External Schema 🏗️"
   ]
  },
  {
   "cell_type": "markdown",
   "metadata": {
    "cell_style": "center",
    "slideshow": {
     "slide_type": "fragment"
    }
   },
   "source": [
    "The term **schema** refers to the organisation of data as a blueprint of how the database is constructed (divided into database tables in the case of relational databases).\n",
    "\n",
    "There are 3 types of schemas:\n",
    "* **Internal**\n",
    "* **Conceptual**\n",
    "* **External**\n",
    "\n"
   ]
  },
  {
   "cell_type": "markdown",
   "metadata": {
    "slideshow": {
     "slide_type": "subslide"
    }
   },
   "source": [
    "# Internal Schema 🏢"
   ]
  },
  {
   "cell_type": "markdown",
   "metadata": {
    "slideshow": {
     "slide_type": "fragment"
    }
   },
   "source": [
    "* The **internal schema** defines the physical storage structure of the database.\n",
    "* The **internal schema** is a very low-level representation of the entire database.\n",
    "* It helps you to keeps information about the actual representation of the entire database. Like the actual storage of the data on the disk in the form of records.\n",
    "* The **internal view** tells us what data is stored in the database and how\n",
    "* It never deals with the physical devices. Instead, internal schema views a physical device as a collection of physical pages."
   ]
  },
  {
   "cell_type": "markdown",
   "metadata": {
    "slideshow": {
     "slide_type": "subslide"
    }
   },
   "source": [
    "# Conceptual Schema 🏛️"
   ]
  },
  {
   "cell_type": "markdown",
   "metadata": {
    "cell_style": "split",
    "slideshow": {
     "slide_type": "fragment"
    }
   },
   "source": [
    "* The structure of an entire database is its **Conceptual schema** or **Conceptual view**\n",
    "* This structure is sometimes also called the complete logical view of the database\n",
    "* This schema hides information about the physical storage structures and focuses on describing data types, entities, relationships, etc"
   ]
  },
  {
   "cell_type": "markdown",
   "metadata": {
    "cell_style": "split",
    "slideshow": {
     "slide_type": "fragment"
    }
   },
   "source": [
    "<center><img src=\"https://i.stack.imgur.com/hcGl1.png\"></center>\n",
    "\n",
    "<!---\n",
    "https://stackoverflow.com/questions/10190743/how-could-the-following-database-schema-be-drawn-using-e-r-diagrams\n",
    "-->"
   ]
  },
  {
   "cell_type": "markdown",
   "metadata": {
    "slideshow": {
     "slide_type": "slide"
    }
   },
   "source": [
    "# External Schema 🏰"
   ]
  },
  {
   "cell_type": "markdown",
   "metadata": {},
   "source": [
    "* An **external schema** describes the part of the database which specific user is interested in. It hides the unrelated details of the database from the user. There may be \"n\" number of external views for each database.\n",
    "\n",
    "* Each external view is defined using an external schema, which consists of definitions of various types of external record of that specific view.\n",
    "\n",
    "* An external view is just the content of the database as it is seen by some specific particular user. For example, a user from the sales department will see only sales related data."
   ]
  },
  {
   "cell_type": "markdown",
   "metadata": {
    "slideshow": {
     "slide_type": "slide"
    }
   },
   "source": [
    "# Relational Integrity Constraints 🚫"
   ]
  },
  {
   "cell_type": "markdown",
   "metadata": {
    "slideshow": {
     "slide_type": "fragment"
    }
   },
   "source": [
    "* Relational Integrity constraints is referred to conditions which must be present for a valid relation. These integrity constraints are derived from the rules in the mini-world that the database represents.\n",
    "\n",
    " There are many types of integrity constraints. Constraints on the Relational database management system is mostly divided into three main categories are:<br/><br/>\n",
    "\n",
    " * **Domain constraints**\n",
    " * **Key constraints**\n",
    " * **Referential integrity constraints**"
   ]
  },
  {
   "cell_type": "markdown",
   "metadata": {
    "slideshow": {
     "slide_type": "subslide"
    }
   },
   "source": [
    "# Domain Constraints ✖️"
   ]
  },
  {
   "cell_type": "markdown",
   "metadata": {
    "cell_style": "center",
    "slideshow": {
     "slide_type": "fragment"
    }
   },
   "source": [
    "* **Constraints** are rules that determine what values the table attributes can assume\n",
    "* By applying tight constraints to a column, you can prevent people from entering invalid data into that column\n",
    "* Every value that is legitimately in the domain of the column must satisfy all the column’s constraints\n",
    "* A **Domain constraint** is a restriction on what a column may contain"
   ]
  },
  {
   "cell_type": "markdown",
   "metadata": {
    "cell_style": "center",
    "slideshow": {
     "slide_type": "fragment"
    }
   },
   "source": [
    "```SQL\n",
    "Create DOMAIN CustomerName\n",
    "CHECK (value not NULL)\n",
    "```"
   ]
  },
  {
   "cell_type": "markdown",
   "metadata": {
    "slideshow": {
     "slide_type": "subslide"
    }
   },
   "source": [
    "# Key Constraints ✖️"
   ]
  },
  {
   "cell_type": "markdown",
   "metadata": {},
   "source": [
    "An attribute that can uniquely identify a tuple in a relation is called the key of the table. The value of the attribute for different tuples in the relation has to be unique."
   ]
  },
  {
   "cell_type": "markdown",
   "metadata": {
    "slideshow": {
     "slide_type": "fragment"
    }
   },
   "source": [
    "In the given table, CustomerID is a key attribute of Customer Table. It is most likely to have a single key for one customer, **CustomerID=1** is only for the **CustomerName=\"Google\"**.\n",
    "\n",
    "|CustomerID|CustomerName|Status\n",
    "|---|---|---\n",
    "|1|Google|Active\n",
    "|2|Amazon|Active\n",
    "|3|Apple|Inactive\n",
    "\n",
    "A **Primary key** it must be **unique** and must have the **NOT NULL** attribute. "
   ]
  },
  {
   "cell_type": "markdown",
   "metadata": {
    "slideshow": {
     "slide_type": "subslide"
    }
   },
   "source": [
    "# Referential Integrity Constraints ✖️"
   ]
  },
  {
   "cell_type": "markdown",
   "metadata": {
    "slideshow": {
     "slide_type": "fragment"
    }
   },
   "source": [
    "Referential integrity constraints is based on the concept of **Foreign Keys**. Referential integrity constraint state happens where relation refers to a key attribute of a different or same relation. However, that key element must exist in the table.\n",
    "\n",
    "<!---\n",
    "https://www.guru99.com/relational-data-model-dbms.html\n",
    "-->"
   ]
  },
  {
   "cell_type": "markdown",
   "metadata": {
    "cell_style": "split"
   },
   "source": [
    "|CustomerID|CustomerName|Status\n",
    "|---|---|---\n",
    "|1|Google|Active\n",
    "|2|Amazon|Active\n",
    "|3|Apple|Inactive"
   ]
  },
  {
   "cell_type": "markdown",
   "metadata": {
    "cell_style": "split"
   },
   "source": [
    "|InvoiceNo|CustomerID|Amount\n",
    "|---|---|---\n",
    "|1|1|€100\n",
    "|2|1|€200\n",
    "|3|2|€150"
   ]
  },
  {
   "cell_type": "markdown",
   "metadata": {
    "slideshow": {
     "slide_type": "slide"
    }
   },
   "source": [
    "# Summary 🕶️"
   ]
  },
  {
   "cell_type": "markdown",
   "metadata": {},
   "source": [
    "* Relations & Keys:\n",
    " * Terminology: **Relation**, **Tuple**, **Attribute**, **Cardinality**, **Degree**, **Primary key**, **Domain**\n",
    " * Properties of relations\n",
    " * Keys: **Candidate**, **Primary**, **Foreign**, **Alternate**\n",
    " * Keys constructs: **Single**, **Compound**, **Composite**\n",
    "* Schemas:\n",
    " * **Internal**\n",
    " * **Conceptual**\n",
    " * **External**"
   ]
  },
  {
   "cell_type": "markdown",
   "metadata": {
    "slideshow": {
     "slide_type": "subslide"
    }
   },
   "source": [
    "* Relational Integrity Constraints:\n",
    " * **Domain constraints**\n",
    " * **Key constraints**\n",
    " * **Referential integrity**"
   ]
  }
 ],
 "metadata": {
  "celltoolbar": "Slideshow",
  "kernelspec": {
   "display_name": "Python 3",
   "language": "python",
   "name": "python3"
  },
  "language_info": {
   "codemirror_mode": {
    "name": "ipython",
    "version": 3
   },
   "file_extension": ".py",
   "mimetype": "text/x-python",
   "name": "python",
   "nbconvert_exporter": "python",
   "pygments_lexer": "ipython3",
   "version": "3.7.5"
  },
  "rise": {
   "autolaunch": true,
   "controls": true,
   "enable_chalkboard": true,
   "overlay": "<div class='line top'></div><div class='line bottom'></div><div class='line left'></div><div class='line right'></div>",
   "showSlideNumber": "speaker",
   "slideNumber": true,
   "theme": "simple",
   "transition": "linear"
  }
 },
 "nbformat": 4,
 "nbformat_minor": 2
}
