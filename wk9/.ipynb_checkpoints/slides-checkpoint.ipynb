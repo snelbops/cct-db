{
 "cells": [
  {
   "cell_type": "code",
   "execution_count": 1,
   "metadata": {
    "cell_style": "center",
    "init_cell": true,
    "slideshow": {
     "slide_type": "skip"
    }
   },
   "outputs": [
    {
     "data": {
      "text/html": [
       "<style type=\"text/css\">\n",
       ".CodeMirror {width: 100vw}\n",
       ".container {width: 90% !important}\n",
       ".rendered_html {font-size:0.8em}\n",
       ".rendered_html table, .rendered_html th, .rendered_html tr, .rendered_html td {font-size: 1.1em}\n",
       "table td, table th {\n",
       "border: 1px  black solid !important;\n",
       "color: black !important;\n",
       "background-color: white;}\n",
       "hr {border: 0;\n",
       "    height: 1px;\n",
       "    background: #333;\n",
       "    background-image: linear-gradient(to right, #ccc, #333, #ccc);}\n",
       "</style>\n"
      ],
      "text/plain": [
       "<IPython.core.display.HTML object>"
      ]
     },
     "metadata": {},
     "output_type": "display_data"
    }
   ],
   "source": [
    "%%HTML\n",
    "<style type=\"text/css\">\n",
    ".CodeMirror {width: 100vw}\n",
    ".container {width: 90% !important}\n",
    ".rendered_html {font-size:0.8em}\n",
    ".rendered_html table, .rendered_html th, .rendered_html tr, .rendered_html td {font-size: 1.1em}\n",
    "table td, table th {\n",
    "border: 1px  black solid !important;\n",
    "color: black !important;\n",
    "background-color: white;}\n",
    "hr {border: 0;\n",
    "    height: 1px;\n",
    "    background: #333;\n",
    "    background-image: linear-gradient(to right, #ccc, #333, #ccc);}\n",
    "</style>"
   ]
  },
  {
   "cell_type": "markdown",
   "metadata": {},
   "source": [
    "# Exam Info <img src=\"https://img.icons8.com/dusk/64/000000/exam.png\" style=\"display:inline-block;vertical-align:middle;padding:0 0 10px 10px\">\n",
    "\n",
    "* **Section 1**\n",
    "\n",
    "    * Mandatory 1 question, i.e. answer all parts of that question\n",
    "\n",
    "    * This section is worth **40%**\n",
    "    \n",
    "    * ~**5-6 parts** to answer\n",
    "    \n",
    "* **Section 2**\n",
    "\n",
    "    * Answer any **2** out of **3** questions\n",
    "\n",
    "    * This section is worth **60%**\n",
    "    \n",
    "    * Each question is 30%\n",
    "    \n",
    "    * ~**5-6 parts** to answer in each Q\n",
    "    \n",
    "* Past exam papers will be published on **Moodle**\n",
    "\n",
    "* Your exam will follow **the structure** and **flow** of the previous exams and the **selection of topics**"
   ]
  },
  {
   "cell_type": "markdown",
   "metadata": {},
   "source": [
    "# CA2 <img src=\"https://img.icons8.com/dusk/64/000000/exam.png\" style=\"display:inline-block;vertical-align:middle;padding:0 0 10px 10px\">\n",
    "\n",
    "* Students have to demonstrate good practical understanding of **SQL** and **write queries** to manipulate a given database\n",
    "* Will be issued this week\n",
    "* Submission in **Week 13** (**3 weeks** from now)"
   ]
  },
  {
   "cell_type": "markdown",
   "metadata": {
    "slideshow": {
     "slide_type": "slide"
    }
   },
   "source": [
    "# Long In-Class Tutorial <img src=\"https://img.icons8.com/officel/64/000000/e-learning.png\" style=\"display:inline-block;vertical-align:middle;padding:0 0 10px 10px\">\n",
    "\n",
    "* Open our online SQL front-end:\n",
    "    * **https://sqliteonline.com**\n",
    "    \n",
    "* We are doing one of the best SQL trainings – **A Gentle Introduction to SQL using SQLite**\n",
    "    * **https://a-gentle-introduction-to-sql.readthedocs.io/en/latest/**\n",
    "\n",
    "* You should complete **ALL** three parts in that tutorial\n",
    "\n",
    "* We will ignore all **DB Browser** references, you can starti directly with:\n",
    "\n",
    "    * **[Creating the First Database](https://a-gentle-introduction-to-sql.readthedocs.io/en/latest/part1/first-db-and-table.html)**"
   ]
  }
 ],
 "metadata": {
  "celltoolbar": "Slideshow",
  "kernelspec": {
   "display_name": "Python 3",
   "language": "python",
   "name": "python3"
  },
  "language_info": {
   "codemirror_mode": {
    "name": "ipython",
    "version": 3
   },
   "file_extension": ".py",
   "mimetype": "text/x-python",
   "name": "python",
   "nbconvert_exporter": "python",
   "pygments_lexer": "ipython3",
   "version": "3.7.5"
  },
  "rise": {
   "autolaunch": true,
   "backgroundTransition": "slide",
   "controls": true,
   "enable_chalkboard": true,
   "overlay": "<div class='line top'></div><div class='line bottom'></div><div class='line left'></div><div class='line right'></div><div class='logo'><img src='../binder/logo.png'/></div>",
   "showSlideNumber": "speaker",
   "slideNumber": true,
   "theme": "simple",
   "transition": "slide"
  }
 },
 "nbformat": 4,
 "nbformat_minor": 2
}
