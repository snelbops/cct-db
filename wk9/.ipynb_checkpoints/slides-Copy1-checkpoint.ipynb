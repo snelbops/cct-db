{
 "cells": [
  {
   "cell_type": "code",
   "execution_count": 5,
   "metadata": {
    "cell_style": "center",
    "slideshow": {
     "slide_type": "skip"
    }
   },
   "outputs": [
    {
     "data": {
      "text/html": [
       "<style type=\"text/css\">\n",
       ".CodeMirror {width: 100vw}\n",
       ".container {width: 90% !important}\n",
       ".rendered_html {font-size:0.8em}\n",
       ".rendered_html table, .rendered_html th, .rendered_html tr, .rendered_html td {font-size: 0.9em}\n",
       "table td, table th {\n",
       "border: 1px  black solid !important;\n",
       "color: black !important;\n",
       "background-color: white;}\n",
       "hr {\n",
       "    border: 0;\n",
       "    height: 1px;\n",
       "    background: #333;\n",
       "    background-image: linear-gradient(to right, #ccc, #333, #ccc);\n",
       "}\n",
       "</style>\n"
      ],
      "text/plain": [
       "<IPython.core.display.HTML object>"
      ]
     },
     "metadata": {},
     "output_type": "display_data"
    }
   ],
   "source": [
    "%%HTML\n",
    "<style type=\"text/css\">\n",
    ".CodeMirror {width: 100vw}\n",
    ".container {width: 90% !important}\n",
    ".rendered_html {font-size:0.8em}\n",
    ".rendered_html table, .rendered_html th, .rendered_html tr, .rendered_html td {font-size: 0.9em}\n",
    "table td, table th {\n",
    "border: 1px  black solid !important;\n",
    "color: black !important;\n",
    "background-color: white;}\n",
    "hr {\n",
    "    border: 0;\n",
    "    height: 1px;\n",
    "    background: #333;\n",
    "    background-image: linear-gradient(to right, #ccc, #333, #ccc);\n",
    "}\n",
    "</style>"
   ]
  },
  {
   "cell_type": "markdown",
   "metadata": {
    "cell_style": "center",
    "slideshow": {
     "slide_type": "slide"
    }
   },
   "source": [
    "# SQL and Data Manipulation <img src=\"https://img.icons8.com/ios-filled/sql/80\" style=\"display:inline-block;vertical-align:middle;padding:0 0 10px 10px\">"
   ]
  },
  {
   "cell_type": "markdown",
   "metadata": {
    "slideshow": {
     "slide_type": ""
    }
   },
   "source": [
    "* Press `Space` to navigate through the slides\n",
    "* Use `Shift+Space` to go back"
   ]
  },
  {
   "cell_type": "markdown",
   "metadata": {
    "slideshow": {
     "slide_type": "slide"
    }
   },
   "source": [
    "# Quick Recap<img src=\"https://img.icons8.com/android/sort/80 0\" style=\"display:inline-block;vertical-align:middle;padding:0 0 10px 10px\">\n",
    "* **SELECT**\n",
    " * **DISTINCT**\n",
    " * **Caltulated fields**\n",
    " * **5 Basic Search Conditions**\n"
   ]
  },
  {
   "cell_type": "markdown",
   "metadata": {
    "slideshow": {
     "slide_type": "slide"
    }
   },
   "source": [
    "# Continuing with SQL <img src=\"https://img.icons8.com/ios-filled/sql/80\" style=\"display:inline-block;vertical-align:middle;padding:0 0 10px 10px\">\n",
    "\n",
    "* **Column Ordering**\n",
    "* Use **aggregate functions**\n",
    "* Group data using **GROUP BY** and **HAVING**\n",
    "* **Join** tables together"
   ]
  },
  {
   "cell_type": "markdown",
   "metadata": {
    "slideshow": {
     "slide_type": "slide"
    }
   },
   "source": [
    "# SINGLE COLUMN ORDERING <img src=\"https://img.icons8.com/android/sort/80\" style=\"display:inline-block;vertical-align:middle;padding:0 0 10px 10px\">\n",
    "\n",
    "*  List salaries for all staff, arranged in descending order of salary.\n",
    "\n",
    "```SQL\n",
    "SELECT staffNo, fName, lName, salary\n",
    "FROM Staff\n",
    "ORDER BY salary DESC;\n",
    "```\n",
    "* `DESC` means descending order\n",
    "* `ASC` is used for ascending order"
   ]
  },
  {
   "cell_type": "markdown",
   "metadata": {
    "slideshow": {
     "slide_type": "slide"
    }
   },
   "source": [
    "# MULTIPLE COLUMN ORDERING <img src=\"https://img.icons8.com/android/sort/80\" style=\"display:inline-block;vertical-align:middle;padding:0 0 10px 10px\">\n",
    "\n",
    "* To arrange in order of type and rent, specify **type** as major\n",
    "and specify **rent** as minor order:\n",
    "\n",
    "```SQL\n",
    "SELECT propertyNo, type, rooms, rent\n",
    "FROM PropertyForRent\n",
    "ORDER BY type, rent DESC;\n",
    "```"
   ]
  },
  {
   "cell_type": "markdown",
   "metadata": {
    "slideshow": {
     "slide_type": "slide"
    }
   },
   "source": [
    "# SELECT STATEMENT – AGGREGATES\n",
    "\n",
    "* **ISO** standard defines **5 aggregate functions:**\n",
    "    *  **COUNT** returns number of values in specified column.\n",
    "    *  **SUM** returns sum of values in specified column.\n",
    "    *  **AV G** returns average of values in specified column.\n",
    "    *  **MIN** returns smallest value in specified column.\n",
    "    *  **MAX** returns largest value in specified column."
   ]
  },
  {
   "cell_type": "markdown",
   "metadata": {},
   "source": [
    "# SELECT STATEMENT - AGGREGATES\n",
    "* Each operates on a **single column of a table** and **returns a single value.**\n",
    "* COUNT, MIN, and MAX apply to numeric and non-numeric fields, but SUM and AVG\n",
    "may be used on numeric fields only.\n",
    "* Apart from COUNT(*), each function eliminates nulls first and operates only on remaining non-null values.\n",
    "---\n",
    "* COUNT(*) counts all rows of a table, regardless of whether nulls or duplicate values occur.\n",
    "* Can use DISTINCT before column name to eliminate duplicates. DISTINCT has no effect with MIN/MAX, but may have with SUM/AVG."
   ]
  },
  {
   "cell_type": "markdown",
   "metadata": {
    "slideshow": {
     "slide_type": "slide"
    }
   },
   "source": [
    "# SELECT STATEMENT - AGGREGATES\n",
    "\n",
    "* How many properties cost more than £350 per month to rent?\n",
    "\n",
    "```SQL\n",
    "SELECT COUNT(*) AS myCount\n",
    "FROM PropertyForRent\n",
    "WHERE rent > 350;\n",
    "```\n",
    "*  **NOTE THE USE OF ‘AS’ as an alias**"
   ]
  },
  {
   "cell_type": "markdown",
   "metadata": {
    "slideshow": {
     "slide_type": "slide"
    }
   },
   "source": [
    "# SELECT STATEMENT - AGGREGATES\n",
    "\n",
    "* Return the number of titles in the Titles table:\n",
    "\n",
    "```SQL\n",
    "SELECT COUNT(title_name) AS MyCount\n",
    "FROM titles;\n",
    "```\n",
    "**Also, another example here,**\n",
    "\n",
    "```SQL\n",
    "MySQL output\n",
    "+---------+\n",
    "| MyCount|\n",
    "+---------+\n",
    "| 13 |\n",
    "+---------+\n",
    "mysql> SELECT COUNT(*)\n",
    "AS MyCount FROM titles;\n",
    "+---------+\n",
    "| MyCount |\n",
    "+---------+\n",
    "| 13 |\n",
    "+---------+\n",
    "```"
   ]
  },
  {
   "cell_type": "markdown",
   "metadata": {
    "slideshow": {
     "slide_type": "slide"
    }
   },
   "source": [
    "# USE OF COUNT AND SUM <img src=\"https://img.icons8.com/metro/80/000000/math.png\" style=\"display:inline-block;vertical-align:middle;padding:0 0 10px 10px\">\n",
    "\n",
    "*  **Find number of Managers and sum of their salaries.**\n",
    "\n",
    "```SQL\n",
    "SELECT COUNT(staffNo) AS myCount,\n",
    "SUM(salary) AS mySum\n",
    "FROM Staff\n",
    "WHERE position = ‘Manager’;\n",
    "```"
   ]
  },
  {
   "cell_type": "markdown",
   "metadata": {
    "slideshow": {
     "slide_type": "slide"
    }
   },
   "source": [
    "# USE OF COUNT AND SUM <img src=\"https://img.icons8.com/metro/80/000000/math.png\" style=\"display:inline-block;vertical-align:middle;padding:0 0 10px 10px\">\n",
    "\n",
    "\n",
    "\n",
    "*  **Find number of Managers and sum of their salaries.**\n",
    "\n",
    "```SQL\n",
    "SELECT COUNT(staffNo) AS myCount,\n",
    "SUM(salary) AS mySum\n",
    "FROM Staff\n",
    "WHERE position = ‘Manager’;\n",
    "```"
   ]
  },
  {
   "cell_type": "markdown",
   "metadata": {
    "slideshow": {
     "slide_type": "slide"
    }
   },
   "source": [
    "# USE OF MIN, MAX, AVG <img src=\"https://img.icons8.com/metro/80/000000/math.png\" style=\"display:inline-block;vertical-align:middle;padding:0 0 10px 10px\">\n",
    "\n",
    "*  **Find minimum, maximum, and average staff salary.**\n",
    "\n",
    "```SQL\n",
    "SELECT MIN(salary) AS myMin,\n",
    "MAX(salary) AS myMax,\n",
    "AV G ( s a l a r y) AS myAvg\n",
    "FROM Staff;\n",
    "```"
   ]
  },
  {
   "cell_type": "markdown",
   "metadata": {
    "slideshow": {
     "slide_type": "slide"
    }
   },
   "source": [
    "# SELECT STATEMENT REVIEW <img src=\"https://img.icons8.com/ios-filled/80/000000/select-all.png\" style=\"display:inline-block;vertical-align:middle;padding:0 0 10px 10px\">\n",
    "\n",
    "```SQL\n",
    "SELECT [DISTINCT | ALL]\n",
    "\n",
    "{* | [columnExpression [AS newName]] [,...] }\n",
    "FROM TableName [alias] [, ...]\n",
    "[WHERE condition]\n",
    "[GROUP BY columnList] [HAVING condition]\n",
    "[ORDER BY columnList]\n",
    "                        ```"
   ]
  },
  {
   "cell_type": "markdown",
   "metadata": {
    "slideshow": {
     "slide_type": "slide"
    }
   },
   "source": [
    "# SELECT STATEMENT (2) <img src=\"https://img.icons8.com/ios-filled/80/000000/select-all.png\" style=\"display:inline-block;vertical-align:middle;padding:0 0 10px 10px\">\n",
    "\n",
    "\n",
    "* **SELECT** Specifies which columns are to appear in output.\n",
    "* **FROM** Specifies table(s) to be used.\n",
    "* **WHERE** Filters rows.\n",
    "* **GROUP BY** Forms groups of rows with same column value.\n",
    "* **HAVING** Filters groups subject to some condition.\n",
    "* **ORDER BY** Specifies the order of the output."
   ]
  },
  {
   "cell_type": "markdown",
   "metadata": {
    "slideshow": {
     "slide_type": "slide"
    }
   },
   "source": [
    "# SELECT STATEMENT - GROUPING <img src=\"https://img.icons8.com/material-two-tone/80/000000/group-objects.png\" style=\"display:inline-block;vertical-align:middle;padding:0 0 10px 10px\">\n",
    "\n",
    "\n",
    "* Use GROUP BY clause to get sub-totals.\n",
    "* SELECT and GROUP BY closely integrated: each item in SELECT list must be single-\n",
    "valued per group, and SELECT clause may only contain:\n",
    "* column names\n",
    "* aggregate functions\n",
    "* constants\n",
    "* expression involving combinations of the above."
   ]
  },
  {
   "cell_type": "markdown",
   "metadata": {
    "slideshow": {
     "slide_type": "slide"
    }
   },
   "source": [
    "# SELECT STATEMENT - GROUPING <img src=\"https://img.icons8.com/material-two-tone/80/000000/group-objects.png\" style=\"display:inline-block;vertical-align:middle;padding:0 0 10px 10px\">\n",
    "\n",
    "\n",
    "\n",
    "* Find number of staff in each branch and their total salaries.\n",
    "\n",
    "```SQL\n",
    "SELECT branchNo,\n",
    "COUNT(staffNo) AS myCount,\n",
    "SUM(salary) AS mySum\n",
    "FROM Staff\n",
    "GROUP BY branchNo\n",
    "ORDER BY branchNo;\n",
    "```"
   ]
  },
  {
   "cell_type": "markdown",
   "metadata": {
    "slideshow": {
     "slide_type": "slide"
    }
   },
   "source": [
    "# RESTRICTED GROUPING – HAVING CLAUSE <img src=\"https://img.icons8.com/material-two-tone/80/000000/group-objects.png\" style=\"display:inline-block;vertical-align:middle;padding:0 0 10px 10px\">\n",
    "\n",
    "\n",
    "* HAVING clause is designed for use with GROUP BY to restrict groups that appear in\n",
    "final result table.\n",
    "* Similar to WHERE, but WHERE filters individual rows whereas HAVING filters\n",
    "groups.\n",
    "* Column names in HAVING clause must also appear in the GROUP BY list or be\n",
    "contained within an aggregate function."
   ]
  },
  {
   "cell_type": "markdown",
   "metadata": {
    "slideshow": {
     "slide_type": "slide"
    }
   },
   "source": [
    "# USE OF HAVING CLAUSE <img src=\"https://img.icons8.com/material-two-tone/80/000000/group-objects.png\" style=\"display:inline-block;vertical-align:middle;padding:0 0 10px 10px\">\n",
    "\n",
    "* For each branch with more than 1 member of staff, find number of staff in each\n",
    "branch and sum of their salaries.\n",
    "**SELECT branchNo,\n",
    "COUNT(staffNo) AS myCount,\n",
    "SUM(salary) AS mySum\n",
    "FROM Staff\n",
    "GROUP BY branchNo\n",
    "HAVING COUNT(staffNo) > 1\n",
    "ORDER BY branchNo;**"
   ]
  },
  {
   "cell_type": "markdown",
   "metadata": {
    "slideshow": {
     "slide_type": "slide"
    }
   },
   "source": [
    "# MULTIPLE TABLE QUERIES <img src=\"https://img.icons8.com/dotty/80/000000/table-1.png\" style=\"display:inline-block;vertical-align:middle;padding:0 0 10px 10px\">\n",
    "\n",
    "* All the examples we have considered so far have a limitation: the columns that are to appear in the\n",
    "result table must all come from a single table -In many cases this is not sufficient\n",
    "* To combine columns from several tables into a result table we need to use a **join operation**\n",
    "* The SQL join operation combines information from two tables by forming pairs of related rows from the\n",
    "two tables\n",
    "* To perform a join, we simply include more than one table name in the FROM clause, using a comma as a\n",
    "separator, and typically including a WHERE clause to specify the join column(s)\n",
    "* It is also possible to use an alias for a table named in the FROM clause\n",
    "* The alias is separated from the table name with a space\n",
    "* An alias can be used to qualify a column name whenever there is ambiguity regarding the source of the\n",
    "column name\n",
    "* It can also be used as shorthand notation for the table name"
   ]
  },
  {
   "cell_type": "markdown",
   "metadata": {
    "slideshow": {
     "slide_type": "slide"
    }
   },
   "source": [
    "# JOINS <img src=\"https://img.icons8.com/dotty/80/000000/table-1.png\" style=\"display:inline-block;vertical-align:middle;padding:0 0 10px 10px\">\n",
    "\n",
    " * The SQL **Joins** clause is used to combine records from two or more tables in a database.\n",
    "\n",
    "* A JOIN is a means for combining fields from two tables by using values common to each.\n",
    "\n",
    "* SQL INNER JOIN Keyword\n",
    "\n",
    "* The INNER JOIN keyword selects all rows from both tables as long as there is a match between the columns in both tables"
   ]
  },
  {
   "cell_type": "markdown",
   "metadata": {
    "slideshow": {
     "slide_type": "slide"
    }
   },
   "source": [
    "# JOINS (2) <img src=\"https://img.icons8.com/dotty/80/000000/table-1.png\" style=\"display:inline-block;vertical-align:middle;padding:0 0 10px 10px\">\n",
    "\n",
    " * OLD WAY (STILL VALID)\n",
    "```SQL\n",
    " SELECT column_name(s)\n",
    " FROM table1, table\n",
    " WHERE column_name = column_name\n",
    "```\n",
    " The From clause contains the tables being joined and the where clause contains the condition used to join the table\n",
    "\n",
    "---\n",
    " * NEW ANSI WAY\n",
    "\n",
    " ```SQL\n",
    " SELECT column_name(s)\n",
    " FROM table1 INNER JOIN table\n",
    " ON table1.column_name = table2.column_name;\n",
    " ```"
   ]
  },
  {
   "cell_type": "markdown",
   "metadata": {
    "slideshow": {
     "slide_type": "slide"
    }
   },
   "source": [
    "# MULTIPLE TABLE QUERIES <img src=\"https://img.icons8.com/dotty/80/000000/table-1.png\" style=\"display:inline-block;vertical-align:middle;padding:0 0 10px 10px\">\n",
    "\n",
    "*  List names of all **clients** who have viewed a **property** along with any comment supplied.\n",
    "\n",
    "```SQL\n",
    "SELECT c.clientNo, fName, lName, propertyNo, comment\n",
    "FROM Client c, Viewing v\n",
    "WHERE c.clientNo= v. c l i e n t No;\n",
    "```\n",
    "\n",
    "* Only those rows from both tables that have identical values in the clientNocolumns (c.clientNo= v.clientNo) are included in result.\n",
    "* Equivalent to equi-join in relational algebra."
   ]
  },
  {
   "cell_type": "markdown",
   "metadata": {
    "slideshow": {
     "slide_type": "slide"
    }
   },
   "source": [
    "## LIST ALL BOOK\n",
    "\n",
    "## TITLES THAT\n",
    "\n",
    "## WERE PUBLISHED\n",
    "\n",
    "## IN HAMBURG\n",
    "<img src=\"https://img.icons8.com/ios-filled/80/000000/book.png\" style=\"display:inline-block;vertical-align:middle;padding:0 0 10px 10px\">"
   ]
  },
  {
   "cell_type": "markdown",
   "metadata": {
    "slideshow": {
     "slide_type": "slide"
    }
   },
   "source": [
    "## LIST ALL BOOK\n",
    "\n",
    "## TITLES THAT\n",
    "\n",
    "## WERE PUBLISHED\n",
    "\n",
    "## IN HAMBURG\n",
    "\n",
    "## (USING NEW ANSI WAY)\n",
    "<img src=\"https://img.icons8.com/ios-filled/80/000000/book.png\" style=\"display:inline-block;vertical-align:middle;padding:0 0 10px 10px\">"
   ]
  },
  {
   "cell_type": "markdown",
   "metadata": {
    "slideshow": {
     "slide_type": "slide"
    }
   },
   "source": [
    "# Summary<img src=\"https://img.icons8.com/ios/summary-list/80\" style=\"display:inline-block;vertical-align:middle;padding:0 0 10px 10px\">"
   ]
  },
  {
   "cell_type": "markdown",
   "metadata": {},
   "source": [
    "* SQL is not case sensitive so commands can be upper or lower case\n",
    "*  Convention, however, has it that we write SQL operators in upper case and the operands in lower case, e.g.\n",
    "*  ```SQL\n",
    "SELECT name FROM employee;\n",
    "```\n",
    "*  Each SQL command ends in a semicolon"
   ]
  },
  {
   "cell_type": "markdown",
   "metadata": {
    "slideshow": {
     "slide_type": "slide"
    }
   },
   "source": [
    "# Tutorial<img src=\"https://img.icons8.com/e-learning/80\" style=\"display:inline-block;vertical-align:middle;padding:0 0 10px 10px\">\n"
   ]
  },
  {
   "cell_type": "markdown",
   "metadata": {
    "slideshow": {
     "slide_type": "fragment"
    }
   },
   "source": [
    "**Practice SQL with SQLite and Jupyter Notebook [(GitHub)](https://github.com/royalosyin/Practice-SQL-with-SQLite-and-Jupyter-Notebook)**\n",
    "* [Intoduction](tutorial/ex00-Introduction.ipynb)\n",
    "* [Quick Start](tutorial/ex01-Quick%20Start.ipynb)\n",
    "* [Quary Table Information](tutorial/ex02-Query%20Table%20Information.ipynb)\n",
    "* [Retrieving Data with SELECT](tutorial/ex03-Retrieving%20Data%20with%20SELECT.ipynb)\n",
    "* [Constrain the Number of Rows Returned by a SELECT Query](tutorial/ex04-Constrain%20the%20Number%20of%20Rows%20Returned%20by%20a%20SELECT%20Query.ipynb)\n",
    "* [Filtering a Query with WHERE](tutorial/ex05-Filtering%20a%spo20Query%20with%20WHERE.ipynb)\n",
    "* [Doing Math Across Table Columns](tutorial/ex06-Doing%20Math%20Across%20Table%20Columns.ipynb)\n",
    "* [Aggregating data with GROUP BY and ORDER BY](tutorial/ex07-Aggregating%20data%20with%20GROUP%20BY%20and%20ORDER%20BY.ipynb)\n",
    "* [Dealing with NULL Values](tutorial/ex11-Dealing%20with%20NULL%20Values.ipynb)"
   ]
  },
  {
   "cell_type": "code",
   "execution_count": null,
   "metadata": {
    "slideshow": {
     "slide_type": "skip"
    }
   },
   "outputs": [],
   "source": []
  }
 ],
 "metadata": {
  "celltoolbar": "Slideshow",
  "kernelspec": {
   "display_name": "Python 3",
   "language": "python",
   "name": "python3"
  },
  "language_info": {
   "codemirror_mode": {
    "name": "ipython",
    "version": 3
   },
   "file_extension": ".py",
   "mimetype": "text/x-python",
   "name": "python",
   "nbconvert_exporter": "python",
   "pygments_lexer": "ipython3",
   "version": "3.7.4"
  },
  "rise": {
   "autolaunch": true,
   "controls": true,
   "enable_chalkboard": true,
   "overlay": "<div class='line top'></div><div class='line bottom'></div><div class='line left'></div><div class='line right'></div>",
   "showSlideNumber": "speaker",
   "slideNumber": true,
   "theme": "white",
   "transition": "linear"
  }
 },
 "nbformat": 4,
 "nbformat_minor": 2
}
