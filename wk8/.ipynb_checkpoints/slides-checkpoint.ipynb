{
 "cells": [
  {
   "cell_type": "code",
   "execution_count": 1,
   "metadata": {
    "cell_style": "center",
    "init_cell": true,
    "slideshow": {
     "slide_type": "skip"
    }
   },
   "outputs": [
    {
     "data": {
      "text/html": [
       "<style type=\"text/css\">\n",
       ".CodeMirror {width: 100vw}\n",
       ".container {width: 90% !important}\n",
       ".rendered_html {font-size:0.8em}\n",
       ".rendered_html table, .rendered_html th, .rendered_html tr, .rendered_html td {font-size: 1.1em}\n",
       "table td, table th {\n",
       "border: 1px  black solid !important;\n",
       "color: black !important;\n",
       "background-color: white;}\n",
       "hr {border: 0;\n",
       "    height: 1px;\n",
       "    background: #333;\n",
       "    background-image: linear-gradient(to right, #ccc, #333, #ccc);}\n",
       "</style>\n"
      ],
      "text/plain": [
       "<IPython.core.display.HTML object>"
      ]
     },
     "metadata": {},
     "output_type": "display_data"
    }
   ],
   "source": [
    "%%HTML\n",
    "<style type=\"text/css\">\n",
    ".CodeMirror {width: 100vw}\n",
    ".container {width: 90% !important}\n",
    ".rendered_html {font-size:0.8em}\n",
    ".rendered_html table, .rendered_html th, .rendered_html tr, .rendered_html td {font-size: 1.1em}\n",
    "table td, table th {\n",
    "border: 1px  black solid !important;\n",
    "color: black !important;\n",
    "background-color: white;}\n",
    "hr {border: 0;\n",
    "    height: 1px;\n",
    "    background: #333;\n",
    "    background-image: linear-gradient(to right, #ccc, #333, #ccc);}\n",
    "</style>"
   ]
  },
  {
   "cell_type": "code",
   "execution_count": 2,
   "metadata": {
    "init_cell": true,
    "slideshow": {
     "slide_type": "skip"
    }
   },
   "outputs": [
    {
     "data": {
      "text/plain": [
       "'Connected: @data/demo.db3'"
      ]
     },
     "execution_count": 2,
     "metadata": {},
     "output_type": "execute_result"
    }
   ],
   "source": [
    "%load_ext sql\n",
    "%sql sqlite:///data/demo.db3"
   ]
  },
  {
   "cell_type": "markdown",
   "metadata": {
    "cell_style": "center",
    "slideshow": {
     "slide_type": "slide"
    }
   },
   "source": [
    "# SQL DML, DDL & DATA TYPES <img src=\"https://img.icons8.com/ios-filled/sql\" style=\"display:inline-block;vertical-align:middle;padding:0 0 10px 10px\">"
   ]
  },
  {
   "cell_type": "markdown",
   "metadata": {
    "slideshow": {
     "slide_type": ""
    }
   },
   "source": [
    "* Press `Space` to navigate through the slides\n",
    "* Use `Shift+Space` to go back"
   ]
  },
  {
   "cell_type": "markdown",
   "metadata": {
    "slideshow": {
     "slide_type": "slide"
    }
   },
   "source": [
    "## Quick Recap<img src=\"https://img.icons8.com/ios-filled/connection-sync/80 0\" style=\"display:inline-block;vertical-align:middle;padding:0 0 10px 10px\">\n",
    "\n",
    "* `ORDER BY`\n",
    "\n",
    "* Using **aggregate functions**\n",
    "\n",
    "    * `COUNT` returns number of values in specified column.\n",
    "    \n",
    "    * `SUM` returns sum of values in specified column.\n",
    "    \n",
    "    * `AVG` returns average of values in specified column.\n",
    "    \n",
    "    * `MIN` returns smallest value in specified column.\n",
    "    \n",
    "    * `MAX` returns largest value in specified column.\n",
    "    \n",
    "* Group data using `GROUP BY` and `HAVING`\n",
    "\n",
    "* `JOIN` tables together"
   ]
  },
  {
   "cell_type": "markdown",
   "metadata": {
    "slideshow": {
     "slide_type": "slide"
    }
   },
   "source": [
    "## Continuing with SQL <img src=\"https://img.icons8.com/ios-filled/sql\" style=\"display:inline-block;vertical-align:middle;padding:0 0 10px 10px\">\n",
    "\n",
    "* Understand how to `create` tables\n",
    "\n",
    "* How to update database using **DML** statements:\n",
    "\n",
    "\t* `INSERT`\n",
    "\t* `UPDATE`\n",
    "\t* and `DELETE` statements\n",
    "\n",
    "* Understand **data types**"
   ]
  },
  {
   "cell_type": "markdown",
   "metadata": {
    "slideshow": {
     "slide_type": "slide"
    }
   },
   "source": [
    "## SQL\n",
    "\n",
    "* **SQL DATA MANIPULATION LANGUAGE (DML)**\n",
    "\n",
    "    * **`SELECT` – we have focused on this to date**\n",
    "\n",
    "* We would have to understand also the following **DML** verbs:\n",
    "\n",
    "\t* `INSERT` – adds new rows of data to the table  \n",
    "\t* `UPDATE` – modifies existing data in the table   \n",
    "\t* `DELETE` – removes rows of data from the table\n",
    "\n",
    "* **DATA DEFINITION LANGUAGE (DDL)**\n",
    "\n",
    "\t* **<font color='red'>`CREATE` – we will focus on this now</font>**\n",
    "\t* `DROP`\n",
    "\t* `ALTER`"
   ]
  },
  {
   "cell_type": "markdown",
   "metadata": {
    "slideshow": {
     "slide_type": "slide"
    }
   },
   "source": [
    "## `CREATE TABLE`\n",
    "\n",
    "* **Creates a table with one or more columns:**\n",
    "\n",
    "    * Of the specified `dataType`.\n",
    "\n",
    "    * With `NOT NULL`, system rejects any attempt to insert a null in the column.\n",
    "\n",
    "    * Can specify a `DEFAULT` value for the column.\n",
    "\n",
    "    * **Primary keys** should always be specified as `NOT NULL`.\n",
    "\n",
    "    * `FOREIGN KEY` clause specifies **Foreign keys**"
   ]
  },
  {
   "cell_type": "markdown",
   "metadata": {
    "slideshow": {
     "slide_type": "slide"
    }
   },
   "source": [
    "## `CREATE TABLE` – BASIC SYNTAX\n",
    "```SQL\n",
    "CREATE TABLE table_name(\n",
    "   column1 datatype(size) NOT NULL,\n",
    "   column2 datatype(size) DEFAULT 'ABC',\n",
    "   column3 datatype(size),\n",
    "   ...\n",
    "   columnN datatype(size),\n",
    "   PRIMARY KEY(one or more columns),\n",
    "   FOREIGN KEY(columnN) REFERENCES table_nameX(foreign key of table_nameX)\n",
    ");\n",
    "```"
   ]
  },
  {
   "cell_type": "markdown",
   "metadata": {
    "slideshow": {
     "slide_type": "slide"
    }
   },
   "source": [
    "## `CREATE TABLE` CONSTRUCT – SIMPLE\n",
    "\n",
    "* **A SQL relation is defined using the create table command:**\n",
    "\n",
    "    **`CREATE TABLE` R (A$_{1}$ D$_{1}$, A$_{2}$ D$_{2}$, ... , A$_{N}$ D$_{N}$ (integrity-constraint$_{1}$), ... ,(integrity-constraint$_{k}$))**\n",
    "\n",
    "    * **R** is the **name of the relation**\n",
    "    \n",
    "    * each **A$_{i}$** is an **attribute name** in the schema of relation **R**\n",
    "    \n",
    "    * **D$_{i}$** is the **data type** of values in the domain of attribute **A$_{i}$**"
   ]
  },
  {
   "cell_type": "markdown",
   "metadata": {
    "slideshow": {
     "slide_type": "slide"
    }
   },
   "source": [
    "#### Example:\n",
    "```SQL\n",
    "CREATE TABLE instructor (\n",
    "ID char(5),\n",
    "name varchar(20) not null,\n",
    "dept_name varchar(20),\n",
    "salary numeric(8,2),\n",
    "PRIMARY KEY (ID));\n",
    "```"
   ]
  },
  {
   "cell_type": "markdown",
   "metadata": {
    "slideshow": {
     "slide_type": "slide"
    }
   },
   "source": [
    "* Select the cell below and press `Shift` + `Enter`:"
   ]
  },
  {
   "cell_type": "code",
   "execution_count": 3,
   "metadata": {
    "hidePrompt": true,
    "slideshow": {
     "slide_type": "-"
    }
   },
   "outputs": [
    {
     "name": "stdout",
     "output_type": "stream",
     "text": [
      "Done.\n",
      "Done.\n",
      "Done.\n"
     ]
    },
    {
     "data": {
      "text/html": [
       "<table>\n",
       "    <tr>\n",
       "        <th>cid</th>\n",
       "        <th>name</th>\n",
       "        <th>type</th>\n",
       "        <th>notnull</th>\n",
       "        <th>dflt_value</th>\n",
       "        <th>pk</th>\n",
       "    </tr>\n",
       "    <tr>\n",
       "        <td>0</td>\n",
       "        <td>ID_new</td>\n",
       "        <td>varchar(5)</td>\n",
       "        <td>0</td>\n",
       "        <td>None</td>\n",
       "        <td>1</td>\n",
       "    </tr>\n",
       "    <tr>\n",
       "        <td>1</td>\n",
       "        <td>name</td>\n",
       "        <td>varchar(20)</td>\n",
       "        <td>1</td>\n",
       "        <td>None</td>\n",
       "        <td>0</td>\n",
       "    </tr>\n",
       "    <tr>\n",
       "        <td>2</td>\n",
       "        <td>dept_name</td>\n",
       "        <td>varchar(20)</td>\n",
       "        <td>0</td>\n",
       "        <td>None</td>\n",
       "        <td>0</td>\n",
       "    </tr>\n",
       "    <tr>\n",
       "        <td>3</td>\n",
       "        <td>salary</td>\n",
       "        <td>numeric(8,2)</td>\n",
       "        <td>0</td>\n",
       "        <td>None</td>\n",
       "        <td>0</td>\n",
       "    </tr>\n",
       "</table>"
      ],
      "text/plain": [
       "[(0, 'ID_new', 'varchar(5)', 0, None, 1),\n",
       " (1, 'name', 'varchar(20)', 1, None, 0),\n",
       " (2, 'dept_name', 'varchar(20)', 0, None, 0),\n",
       " (3, 'salary', 'numeric(8,2)', 0, None, 0)]"
      ]
     },
     "execution_count": 3,
     "metadata": {},
     "output_type": "execute_result"
    }
   ],
   "source": [
    "%%sql sqlite://\n",
    "--Drop the table if exists\n",
    "DROP TABLE IF EXISTS instructor;\n",
    "\n",
    "--Create the new table\n",
    "CREATE TABLE instructor\n",
    "    (ID_new             varchar(5), \n",
    "     name           varchar(20) not null, \n",
    "     dept_name      varchar(20), \n",
    "     salary         numeric(8,2),\n",
    "     primary        key (ID_new));\n",
    "\n",
    "--Show all the columns of the new table\n",
    "PRAGMA table_info(instructor);"
   ]
  },
  {
   "cell_type": "markdown",
   "metadata": {
    "slideshow": {
     "slide_type": "slide"
    }
   },
   "source": [
    "## INTEGRITY CONSTRAINTS IN CREATE TABLE\n",
    "\n",
    "* **Constraints** let you define **rules for allowed values** in columns.\n",
    "\n",
    "* Your **DBMS** uses these rules to enforce the integrity of information in the database automatically:\n",
    "\n",
    "    * `NOT NULL`\n",
    "\n",
    "    * `PRIMARY KEY` (A$_{1}$, ... , A$_{n}$)\n",
    "\n",
    "    * `FOREIGN KEY` (A$_{m}$, ... , A$_{n}$) references **R**\n",
    "\n",
    "* **Example:** declare **ID** as the **primary key** for instructor\n",
    "\n",
    "```SQL\n",
    "CREATE TABLE instructor (\n",
    "ID char(5) NOT NULL,\n",
    "name varchar(20) not null,\n",
    "dept_name varchar(20),\n",
    "salary numeric(8,2),\n",
    "PRIMARY KEY (ID),\n",
    "FOREIGN KEY (dept_name) references department(dept_name))\n",
    ");\n",
    "```"
   ]
  },
  {
   "cell_type": "markdown",
   "metadata": {
    "slideshow": {
     "slide_type": "slide"
    }
   },
   "source": [
    "* Select the cell below and press `Shift` + `Enter`:"
   ]
  },
  {
   "cell_type": "code",
   "execution_count": 4,
   "metadata": {
    "hidePrompt": true
   },
   "outputs": [
    {
     "name": "stdout",
     "output_type": "stream",
     "text": [
      "Done.\n",
      "Done.\n",
      "Done.\n",
      "Done.\n",
      "Done.\n"
     ]
    },
    {
     "data": {
      "text/html": [
       "<table>\n",
       "    <tr>\n",
       "        <th>id</th>\n",
       "        <th>seq</th>\n",
       "        <th>table</th>\n",
       "        <th>from</th>\n",
       "        <th>to</th>\n",
       "        <th>on_update</th>\n",
       "        <th>on_delete</th>\n",
       "        <th>match</th>\n",
       "    </tr>\n",
       "    <tr>\n",
       "        <td>0</td>\n",
       "        <td>0</td>\n",
       "        <td>department</td>\n",
       "        <td>dept_name</td>\n",
       "        <td>dept_name</td>\n",
       "        <td>NO ACTION</td>\n",
       "        <td>SET NULL</td>\n",
       "        <td>NONE</td>\n",
       "    </tr>\n",
       "</table>"
      ],
      "text/plain": [
       "[(0, 0, 'department', 'dept_name', 'dept_name', 'NO ACTION', 'SET NULL', 'NONE')]"
      ]
     },
     "execution_count": 4,
     "metadata": {},
     "output_type": "execute_result"
    }
   ],
   "source": [
    "%%sql sqlite://\n",
    "--Drop the tables if exist\n",
    "DROP TABLE IF EXISTS instructor; DROP TABLE IF EXISTS department;\n",
    "\n",
    "--New department table\n",
    "CREATE TABLE department\n",
    "    (dept_name      varchar(20), \n",
    "     building       varchar(15), \n",
    "     budget         numeric(12,2) check (budget > 0),\n",
    "     primary key    (dept_name));\n",
    "\n",
    "--New instructor table\n",
    "CREATE TABLE instructor\n",
    "    (ID             varchar(5), \n",
    "     name           varchar(20) not null, \n",
    "     dept_name      varchar(20), \n",
    "     salary         numeric(8,2) CHECK (salary > 29000),\n",
    "     primary        key (ID),\n",
    "     foreign key    (dept_name) references department (dept_name)\n",
    "        ON DELETE SET NULL\n",
    "    );\n",
    "\n",
    "PRAGMA foreign_key_list(instructor);"
   ]
  },
  {
   "cell_type": "markdown",
   "metadata": {
    "slideshow": {
     "slide_type": "slide"
    }
   },
   "source": [
    "## INTEGRITY CONSTRAINTS IN CREATE TABLE\n",
    "\n",
    "* You can specify some **constraints** as either **column** or **table constraints**, depending on the context in which they are used.\n",
    "\n",
    "* If a **primary key** contains one column, for example, you can define it as either a column constraint or a table constraint.\n",
    "\n",
    "* If the **primary key** has two or more columns, you must use a table constraint."
   ]
  },
  {
   "cell_type": "markdown",
   "metadata": {
    "slideshow": {
     "slide_type": "slide"
    }
   },
   "source": [
    "## DATA TYPES INTRODUCTION\n",
    "\n",
    "* A **domain** is the set of valid values allowed in a column.\n",
    "\n",
    "* To define a **domain**, you use a column's data type (and constraints).\n",
    "\n",
    "* A **data type**, or **column type**, has these characteristics:\n",
    "\n",
    "\t* **Each column in a table has a single data type.**\n",
    "    \n",
    "\t* The **data type determines a column's allowable values** and the operations it supports.\n",
    "    \n",
    "    * An **integer** data type can represent any whole number between certain DBMS-defined limits and supports the usual arithmetic operations: addition, subtraction, multiplication, and division (among others).\n",
    "    \n",
    "    * An **integer** can't represent a non-numeric value such as 'jack'\n",
    "\n",
    "* The **SQL** standard leaves many data-type implementation details up to the DBMS vendor."
   ]
  },
  {
   "cell_type": "markdown",
   "metadata": {
    "slideshow": {
     "slide_type": "slide"
    }
   },
   "source": [
    "## DOMAIN TYPES SUPPORTED IN MOST RDBMS\n",
    "\n",
    "* **char(n)**\n",
    "    * **Fixed length** character string, with user-specified length ***n***.\n",
    "\n",
    "* **varchar(n)**\n",
    "    * Variable length **character strings**, with **user-specified maximum length** ***n***.\n",
    "\n",
    "* **int**\n",
    "    * **Integer** (a finite subset of the integers that is machine dependent).\n",
    "\n",
    "* **smallint**\n",
    "    * Small **integer** (a machine-dependent subset of the integer domain type)."
   ]
  },
  {
   "cell_type": "markdown",
   "metadata": {
    "slideshow": {
     "slide_type": "slide"
    }
   },
   "source": [
    "## DOMAIN TYPES SUPPORTED IN MOST RDBMS\n",
    "* **bigint**\n",
    "    * The **bigint** data type is intended for use when integer values might exceed the range that is supported by the int data type.\n",
    "\n",
    "* **numeric(p,d)**\n",
    "    * Fixed point number, with user-specified precision of p digits, with n digits to the right of decimal point.\n",
    "\n",
    "* **real, double precision**\n",
    "     * Floating point and double-precision floating point numbers, with machine-dependent precision."
   ]
  },
  {
   "cell_type": "markdown",
   "metadata": {
    "slideshow": {
     "slide_type": "slide"
    }
   },
   "source": [
    "## FURTHER NOTES ON DOMAIN TYPES\n",
    "\n",
    "* **float(n)**\n",
    "     * Floating point number, with user-specified precision of at least n digits.\n",
    "---\n",
    "* **char(n)**\n",
    "\n",
    "    * Fixed length character string, with user-specified length ***n***.\n",
    "---\n",
    "* When you store a string with fewer than length characters in a `CHARACTER(length)` column, the **DBMS pads the end of the string with spaces to create a string that has exactly length characters**.\n",
    "\n",
    "* A `CHARACTER(6)` string `'Jack'` is stored as `'Jack  '`, for example.\n",
    "\n",
    "* `CHARACTER` and `CHAR` are synonyms."
   ]
  },
  {
   "cell_type": "markdown",
   "metadata": {
    "slideshow": {
     "slide_type": "slide"
    }
   },
   "source": [
    "## FURTHER NOTES ON DOMAIN TYPES (2)\n",
    "* **varchar(n)**\n",
    "\n",
    "    * **Variable length character strings**, with user specified maximum length ***n***.\n",
    "\n",
    "---\n",
    "\n",
    "* Unlike `CHARACTER`, when you store a string with fewer than length characters in a `CHARACTER VARYING(length)` column, the **DBMS stores the string as is and doesn't pad it with spaces**.\n",
    "\n",
    "* A `CHARACTER VARYING(6)` string `'Jack'` is stored as `'Jack'`, for example.\n",
    "\n",
    "* `CHARACTER VARYING`, `CHAR VARYING` and `VARCHAR` are synonyms.\n",
    "\n",
    "---\n",
    "\n",
    "* More information on `CHAR` and `VARCHAR` can be found **[here]( https://dev.mysql.com/doc/refman/5.7/en/char.html)**"
   ]
  },
  {
   "cell_type": "markdown",
   "metadata": {
    "slideshow": {
     "slide_type": "slide"
    }
   },
   "source": [
    "## FURTHER NOTES ON DOMAIN TYPES (3)\n",
    "\n",
    "#### EXACT NUMERIC DATA TYPES\n",
    "\n",
    "* **Integer**\n",
    "\n",
    "    * The minimum and maximum values that can be stored in an `INTEGER` are column-depend in any DBMS.\n",
    "    \n",
    "    * `INTEGER` takes no arguments.\n",
    "    \n",
    "    * `INTEGER` and `INT` are synonyms.\n",
    "\n",
    "* **Integer** is an **exact numeric data types** to represent numerical values that:\n",
    "\n",
    "    * Can be a **negative**, **zero** or **positive number**.\n",
    "\n",
    "    * Is a **whole number** expressed without a decimal point: **–42**, **0**, **62262**."
   ]
  },
  {
   "cell_type": "markdown",
   "metadata": {
    "slideshow": {
     "slide_type": "slide"
    }
   },
   "source": [
    "## FURTHER NOTES ON DOMAIN TYPES (4)\n",
    "\n",
    "* **Integer** can be:\n",
    "\n",
    "    * A normal-sized integer that can be **signed** or **unsigned**.\n",
    "    \n",
    "    * If signed, the allowable range is from **-2147483648** to **2147483647**.\n",
    "    \n",
    "    * If unsigned, the allowable range is from **0** to **4294967295**.\n",
    "    \n",
    "    * You can specify a width of up to **11** digits.\n",
    "\n",
    "* **tinyint**\n",
    "    \n",
    "    * A very small integer that can be signed or unsigned.\n",
    "    \n",
    "    * If signed, the allowable range is from **-128** to **127**.\n",
    "    \n",
    "    * If unsigned, the allowable range is from **0** to **255**.\n",
    "    \n",
    "    * You can specify a width of up to **4** digits.\n",
    "\n",
    "* Others include: **smallint**, **mediumint**, **bigint**, etc."
   ]
  },
  {
   "cell_type": "markdown",
   "metadata": {
    "slideshow": {
     "slide_type": "slide"
    }
   },
   "source": [
    "## FURTHER NOTES ON DOMAIN TYPES (5)\n",
    "\n",
    "#### EXACT NUMERIC DATA TYPES\n",
    "\n",
    "* A **decimal number** has digits to the right of the decimal point:\n",
    "    * **–22.06**, **0.0**, **0.0003**, **12.34**.\n",
    "\n",
    "    * It has a fixed **precision** and **scale**.\n",
    "\n",
    "    * **The precision is the number of significant digits used to express the number; it's the total number of digits both to the right and to the left of the decimal point.**\n",
    "\n",
    "    * The **scale** is the number of **digits to the right of the decimal point.**\n",
    "\n",
    "    * Obviously, the scale can't exceed the precision.\n",
    "\n",
    "    * To represent a whole number, set the scale equal to **zero**."
   ]
  },
  {
   "cell_type": "markdown",
   "metadata": {
    "slideshow": {
     "slide_type": "slide"
    }
   },
   "source": [
    "## `INSERT`, `UPDATE`, `DELETE`\n",
    "\n",
    "* **SQL is a complete Data Manipulation Language that can be used for modifying the data in the database as well as querying the database**\n",
    "\n",
    "* The commands for modifying the database are not as complex as the `SELECT` statement\n",
    "\n",
    "* In this section, we describe the three **SQL** statements that are available to modify the contents of the tables in the database:\n",
    "\n",
    "\t* `INSERT` – adds new rows of data to a table\n",
    "\n",
    "\t* `UPDATE` – modifies existing data in a table\n",
    "\n",
    "\t* `DELETE` – removes rows of data from a table"
   ]
  },
  {
   "cell_type": "markdown",
   "metadata": {
    "slideshow": {
     "slide_type": "slide"
    }
   },
   "source": [
    "## `INSERT`\n",
    "```SQL\n",
    "INSERT INTO TableName [(columnList)]\n",
    "VALUES (dataValueList)\n",
    "```\n",
    "* `columnList` **is optional**\n",
    "\n",
    "* If `columnList` omitted, **SQL** assumes a list of all columns in their original `CREATE TABLE` order.\n",
    "\n",
    "* Any columns omitted must have been declared as `NULL` when table was created, unless `DEFAULT` was specified when creating column.\n",
    "\n",
    "* **`dataValueList` must match `columnList` as follows:**\n",
    "\n",
    "\t* number of items in each list must be same;\n",
    "    \n",
    "\t* must be direct correspondence in position of items in two lists;\n",
    "    \n",
    "\t* data type of each item in `dataValueList` must be compatible with data type of corresponding column."
   ]
  },
  {
   "cell_type": "markdown",
   "metadata": {
    "slideshow": {
     "slide_type": "slide"
    }
   },
   "source": [
    "## `INSERT` (EXAMPLE)\n",
    "\n",
    "* Insert a new row into Staff table supplying data for all columns.\n",
    "\n",
    "```SQL\n",
    "INSERT INTO department\n",
    "VALUES ('Biology', 'Watson', '90000');\n",
    "```"
   ]
  },
  {
   "cell_type": "markdown",
   "metadata": {
    "slideshow": {
     "slide_type": "slide"
    }
   },
   "source": [
    "* Select the cell below and press `Shift` + `Enter`:"
   ]
  },
  {
   "cell_type": "code",
   "execution_count": 3,
   "metadata": {
    "hidePrompt": true,
    "scrolled": true,
    "slideshow": {
     "slide_type": "-"
    }
   },
   "outputs": [
    {
     "name": "stdout",
     "output_type": "stream",
     "text": [
      "Done.\n",
      "Done.\n",
      "1 rows affected.\n",
      "1 rows affected.\n",
      "1 rows affected.\n",
      "1 rows affected.\n",
      "1 rows affected.\n",
      "1 rows affected.\n"
     ]
    },
    {
     "data": {
      "text/plain": [
       "[]"
      ]
     },
     "execution_count": 3,
     "metadata": {},
     "output_type": "execute_result"
    }
   ],
   "source": [
    "%%sql sqlite://\n",
    "--Make sure the table is empty\n",
    "DELETE from department;\n",
    "\n",
    "--Inserting all the values for department and instructor\n",
    "INSERT INTO department VALUES ('Biology', 'Watson', '90000');\n",
    "INSERT INTO department VALUES ('Comp. Sci.', 'Taylor', '100000');\n",
    "INSERT INTO department VALUES ('Elec. Eng.', 'Taylor', '85000');\n",
    "INSERT INTO department VALUES ('Finance', 'Painter', '120000');\n",
    "INSERT INTO department VALUES ('History', 'Painter', '50000');\n",
    "INSERT INTO department VALUES ('Music', 'Packard', '80000');\n",
    "INSERT INTO department VALUES ('Physics', 'Watson', '70000');"
   ]
  },
  {
   "cell_type": "markdown",
   "metadata": {
    "slideshow": {
     "slide_type": "slide"
    }
   },
   "source": [
    "* Select the cell below and press `Shift` + `Enter`:"
   ]
  },
  {
   "cell_type": "code",
   "execution_count": 4,
   "metadata": {
    "hidePrompt": true
   },
   "outputs": [
    {
     "name": "stdout",
     "output_type": "stream",
     "text": [
      "Done.\n",
      "Done.\n",
      "1 rows affected.\n",
      "1 rows affected.\n",
      "1 rows affected.\n",
      "1 rows affected.\n",
      "1 rows affected.\n",
      "1 rows affected.\n",
      "1 rows affected.\n",
      "1 rows affected.\n",
      "1 rows affected.\n",
      "1 rows affected.\n",
      "1 rows affected.\n"
     ]
    },
    {
     "data": {
      "text/plain": [
       "[]"
      ]
     },
     "execution_count": 4,
     "metadata": {},
     "output_type": "execute_result"
    }
   ],
   "source": [
    "%%sql sqlite://\n",
    "--Make sure the table is empty\n",
    "DELETE from instructor;\n",
    "\n",
    "--Inserting all the values for instructor\n",
    "INSERT INTO instructor VALUES ('10101', 'Srinivasan', 'Comp. Sci.', '65000');\n",
    "INSERT INTO instructor VALUES ('12121', 'Wu', 'Finance', '90000');\n",
    "INSERT INTO instructor VALUES ('15151', 'Mozart', 'Music', '40000');\n",
    "INSERT INTO instructor VALUES ('22222', 'Einstein', 'Physics', '95000');\n",
    "INSERT INTO instructor VALUES ('32343', 'El Said', 'History', '60000');\n",
    "INSERT INTO instructor VALUES ('33456', 'Gold', 'Physics', '87000');\n",
    "INSERT INTO instructor VALUES ('45565', 'Katz', 'Comp. Sci.', '75000');\n",
    "INSERT INTO instructor VALUES ('58583', 'Califieri', 'History', '62000');\n",
    "INSERT INTO instructor VALUES ('76543', 'Singh', 'Finance', '80000');\n",
    "INSERT INTO instructor VALUES ('76766', 'Crick', 'Biology', '72000');\n",
    "INSERT INTO instructor VALUES ('83821', 'Brandt', 'Comp. Sci.', '92000');\n",
    "INSERT INTO instructor VALUES ('98345', 'Kim', 'Elec. Eng.', '80000');"
   ]
  },
  {
   "cell_type": "markdown",
   "metadata": {
    "slideshow": {
     "slide_type": "slide"
    }
   },
   "source": [
    "* Select the cell below and press `Shift` + `Enter`:"
   ]
  },
  {
   "cell_type": "code",
   "execution_count": 5,
   "metadata": {
    "cell_style": "split",
    "hidePrompt": true,
    "scrolled": true,
    "slideshow": {
     "slide_type": "-"
    }
   },
   "outputs": [
    {
     "name": "stdout",
     "output_type": "stream",
     "text": [
      "Done.\n"
     ]
    },
    {
     "data": {
      "text/html": [
       "<table>\n",
       "    <tr>\n",
       "        <th>dept_name</th>\n",
       "        <th>building</th>\n",
       "        <th>budget</th>\n",
       "    </tr>\n",
       "    <tr>\n",
       "        <td>Biology</td>\n",
       "        <td>Watson</td>\n",
       "        <td>90000</td>\n",
       "    </tr>\n",
       "    <tr>\n",
       "        <td>Comp. Sci.</td>\n",
       "        <td>Taylor</td>\n",
       "        <td>100000</td>\n",
       "    </tr>\n",
       "    <tr>\n",
       "        <td>Elec. Eng.</td>\n",
       "        <td>Taylor</td>\n",
       "        <td>85000</td>\n",
       "    </tr>\n",
       "    <tr>\n",
       "        <td>Finance</td>\n",
       "        <td>Painter</td>\n",
       "        <td>120000</td>\n",
       "    </tr>\n",
       "    <tr>\n",
       "        <td>History</td>\n",
       "        <td>Painter</td>\n",
       "        <td>50000</td>\n",
       "    </tr>\n",
       "    <tr>\n",
       "        <td>Music</td>\n",
       "        <td>Packard</td>\n",
       "        <td>80000</td>\n",
       "    </tr>\n",
       "    <tr>\n",
       "        <td>Physics</td>\n",
       "        <td>Watson</td>\n",
       "        <td>70000</td>\n",
       "    </tr>\n",
       "</table>"
      ],
      "text/plain": [
       "[('Biology', 'Watson', 90000),\n",
       " ('Comp. Sci.', 'Taylor', 100000),\n",
       " ('Elec. Eng.', 'Taylor', 85000),\n",
       " ('Finance', 'Painter', 120000),\n",
       " ('History', 'Painter', 50000),\n",
       " ('Music', 'Packard', 80000),\n",
       " ('Physics', 'Watson', 70000)]"
      ]
     },
     "execution_count": 5,
     "metadata": {},
     "output_type": "execute_result"
    }
   ],
   "source": [
    "%%sql sqlite://\n",
    "SELECT * FROM department;"
   ]
  },
  {
   "cell_type": "code",
   "execution_count": 8,
   "metadata": {
    "cell_style": "split",
    "hidePrompt": true
   },
   "outputs": [
    {
     "name": "stdout",
     "output_type": "stream",
     "text": [
      "Done.\n"
     ]
    },
    {
     "data": {
      "text/html": [
       "<table>\n",
       "    <tr>\n",
       "        <th>ID</th>\n",
       "        <th>name</th>\n",
       "        <th>dept_name</th>\n",
       "        <th>salary</th>\n",
       "    </tr>\n",
       "    <tr>\n",
       "        <td>98345</td>\n",
       "        <td>Kim</td>\n",
       "        <td>Elec. Eng.</td>\n",
       "        <td>80000</td>\n",
       "    </tr>\n",
       "</table>"
      ],
      "text/plain": [
       "[('98345', 'Kim', 'Elec. Eng.', 80000)]"
      ]
     },
     "execution_count": 8,
     "metadata": {},
     "output_type": "execute_result"
    }
   ],
   "source": [
    "%%sql sqlite://\n",
    "SELECT * FROM instructor\n",
    "WHERE ID='98345';"
   ]
  },
  {
   "cell_type": "markdown",
   "metadata": {
    "slideshow": {
     "slide_type": "slide"
    }
   },
   "source": [
    "## `INSERT` USING DEFAULTS (EXAMPLE)\n",
    "\n",
    "* **Insert a new row into Staff table supplying data for all mandatory columns.**\n",
    "\n",
    "```SQL\n",
    "INSERT INTO Staff (staffNo,fName,lName,position,salary,branchNo)\n",
    "VALUES('SG44','Anne','Jones','Assistant',8100,'B003');\n",
    "```\n",
    "**Or**\n",
    "```SQL\n",
    "INSERT INTO Staff\n",
    "VALUES('SG44','Anne','Jones','Assistant',NULL,NULL,8100,'B003');\n",
    "```\n",
    "* The values for **sex** and **DOB** are set to `NULL` in this case"
   ]
  },
  {
   "cell_type": "markdown",
   "metadata": {
    "slideshow": {
     "slide_type": "slide"
    }
   },
   "source": [
    "# AUTOINCREMENT FIELD\n",
    "\n",
    "* **Autoincrement** allows a unique number to be generated automatically when a new record is **inserted** into a table.\n",
    "\n",
    "* Often this is the **primary key** field that we would like to be created automatically every time a new record is inserted.\n",
    "\n",
    "* The following **SQL** statement defines the `ID` column to be an auto-increment **primary key** field in the **person** table:\n",
    "\n",
    "```SQL\n",
    "CREATE TABLE company(\n",
    "   id INTEGER PRIMARY KEY AUTOINCREMENT,\n",
    "   name           text      NOT NULL,\n",
    "   age            int       NOT NULL,\n",
    "   address        char(50),\n",
    "   salary         real\n",
    ");\n",
    "```"
   ]
  },
  {
   "cell_type": "markdown",
   "metadata": {
    "slideshow": {
     "slide_type": "slide"
    }
   },
   "source": [
    "# AUTOINCREMENT FIELD (EXAMPLE)\n",
    "\n",
    "* To insert a new record into the **person** table, we will NOT have to specify a value for the `ID` column (a unique value will be added automatically):\n",
    "\n",
    "```SQL\n",
    "INSERT INTO company (name,age,address,salary) VALUES ('Paul', 32, 'California', 20000.00);\n",
    "```\n",
    "\n",
    "* The **SQL** statement above would insert a new record into the **company** table.\n",
    "\n",
    "* **The \"ID\" column would be assigned a unique value.**"
   ]
  },
  {
   "cell_type": "markdown",
   "metadata": {
    "slideshow": {
     "slide_type": "slide"
    }
   },
   "source": [
    "* Select the cell below and press `Shift` + `Enter`:"
   ]
  },
  {
   "cell_type": "code",
   "execution_count": 10,
   "metadata": {
    "hidePrompt": true
   },
   "outputs": [
    {
     "name": "stdout",
     "output_type": "stream",
     "text": [
      "Done.\n",
      "Done.\n",
      "Done.\n",
      "1 rows affected.\n",
      "1 rows affected.\n",
      "1 rows affected.\n",
      "1 rows affected.\n",
      "1 rows affected.\n",
      "1 rows affected.\n"
     ]
    },
    {
     "data": {
      "text/plain": [
       "[]"
      ]
     },
     "execution_count": 10,
     "metadata": {},
     "output_type": "execute_result"
    }
   ],
   "source": [
    "%%sql sqlite://\n",
    "--Drop the table if exists\n",
    "DROP TABLE IF EXISTS company;\n",
    "\n",
    "-- Create a new table\n",
    "CREATE TABLE company(\n",
    "   id INTEGER PRIMARY KEY AUTOINCREMENT,\n",
    "   name           text      NOT NULL,\n",
    "   age            int       NOT NULL,\n",
    "   address        char(50),\n",
    "   salary         real\n",
    ");\n",
    "\n",
    "--Inserting all the values for department and instructor\n",
    "INSERT INTO COMPANY (name,age,address,salary) VALUES ('Paul', 32, 'California', 20000.00);\n",
    "INSERT INTO COMPANY (name,age,address,salary) VALUES ('Allen', 25, 'Texas', 15000.00 );\n",
    "INSERT INTO COMPANY (name,age,address,salary) VALUES ('Teddy', 23, 'Norway', 20000.00 );\n",
    "INSERT INTO COMPANY (name,age,address,salary) VALUES ('Mark', 25, 'Rich-Mond ', 65000.00);\n",
    "INSERT INTO COMPANY (name,age,address,salary) VALUES ('David', 27, 'Texas', 85000.00);\n",
    "INSERT INTO COMPANY (name,age,address,salary) VALUES ('Kim', 22, 'South-Hall', 45000.00);\n",
    "INSERT INTO COMPANY (name,age,address,salary) VALUES ('James', 24, 'Houston', 10000.00);"
   ]
  },
  {
   "cell_type": "markdown",
   "metadata": {
    "slideshow": {
     "slide_type": "slide"
    }
   },
   "source": [
    "* Select the cell below and press `Shift` + `Enter`:"
   ]
  },
  {
   "cell_type": "code",
   "execution_count": 11,
   "metadata": {
    "hidePrompt": true,
    "slideshow": {
     "slide_type": "-"
    }
   },
   "outputs": [
    {
     "name": "stdout",
     "output_type": "stream",
     "text": [
      "Done.\n"
     ]
    },
    {
     "data": {
      "text/html": [
       "<table>\n",
       "    <tr>\n",
       "        <th>id</th>\n",
       "        <th>name</th>\n",
       "        <th>age</th>\n",
       "        <th>address</th>\n",
       "        <th>salary</th>\n",
       "    </tr>\n",
       "    <tr>\n",
       "        <td>1</td>\n",
       "        <td>Paul</td>\n",
       "        <td>32</td>\n",
       "        <td>California</td>\n",
       "        <td>20000.0</td>\n",
       "    </tr>\n",
       "    <tr>\n",
       "        <td>2</td>\n",
       "        <td>Allen</td>\n",
       "        <td>25</td>\n",
       "        <td>Texas</td>\n",
       "        <td>15000.0</td>\n",
       "    </tr>\n",
       "    <tr>\n",
       "        <td>3</td>\n",
       "        <td>Teddy</td>\n",
       "        <td>23</td>\n",
       "        <td>Norway</td>\n",
       "        <td>20000.0</td>\n",
       "    </tr>\n",
       "    <tr>\n",
       "        <td>4</td>\n",
       "        <td>Mark</td>\n",
       "        <td>25</td>\n",
       "        <td>Rich-Mond </td>\n",
       "        <td>65000.0</td>\n",
       "    </tr>\n",
       "    <tr>\n",
       "        <td>5</td>\n",
       "        <td>David</td>\n",
       "        <td>27</td>\n",
       "        <td>Texas</td>\n",
       "        <td>85000.0</td>\n",
       "    </tr>\n",
       "    <tr>\n",
       "        <td>6</td>\n",
       "        <td>Kim</td>\n",
       "        <td>22</td>\n",
       "        <td>South-Hall</td>\n",
       "        <td>45000.0</td>\n",
       "    </tr>\n",
       "    <tr>\n",
       "        <td>7</td>\n",
       "        <td>James</td>\n",
       "        <td>24</td>\n",
       "        <td>Houston</td>\n",
       "        <td>10000.0</td>\n",
       "    </tr>\n",
       "</table>"
      ],
      "text/plain": [
       "[(1, 'Paul', 32, 'California', 20000.0),\n",
       " (2, 'Allen', 25, 'Texas', 15000.0),\n",
       " (3, 'Teddy', 23, 'Norway', 20000.0),\n",
       " (4, 'Mark', 25, 'Rich-Mond ', 65000.0),\n",
       " (5, 'David', 27, 'Texas', 85000.0),\n",
       " (6, 'Kim', 22, 'South-Hall', 45000.0),\n",
       " (7, 'James', 24, 'Houston', 10000.0)]"
      ]
     },
     "execution_count": 11,
     "metadata": {},
     "output_type": "execute_result"
    }
   ],
   "source": [
    "%%sql sqlite://\n",
    "SELECT * FROM company;"
   ]
  },
  {
   "cell_type": "markdown",
   "metadata": {
    "slideshow": {
     "slide_type": "slide"
    }
   },
   "source": [
    "## `UPDATE`\n",
    "\n",
    "* The `UPDATE` statement changes the values in a table's existing rows.\n",
    "* You can use `UPDATE` to change:\n",
    "\n",
    "\t* **All rows** in a table\n",
    "\n",
    "\t* **Specific rows** in a table\n",
    "\n",
    "* To update rows, you specify:\n",
    "\n",
    "\t* The **table** to update\n",
    "\n",
    "\t* The **names of the columns** to update and their new values\n",
    "\n",
    "\t* An optional **search condition** that specifies which rows to update"
   ]
  },
  {
   "cell_type": "markdown",
   "metadata": {
    "slideshow": {
     "slide_type": "slide"
    }
   },
   "source": [
    "## `UPDATE`\n",
    "```SQL\n",
    "UPDATE TableName\n",
    "SET columnName 1 = dataValue 1 [, columnName 2 = dataValue 2 ...]\n",
    "[WHERE searchCondition]\n",
    "```\n",
    "* `TableNam` can be name of a base table or an updatable view.\n",
    "\n",
    "* `SET` clause specifies names of one or more columns that are to be updated."
   ]
  },
  {
   "cell_type": "markdown",
   "metadata": {
    "slideshow": {
     "slide_type": "slide"
    }
   },
   "source": [
    "## `UPDATE`\n",
    "\n",
    "* `WHERE` clause is optional:\n",
    "\n",
    "\t* if **omitted**, named columns are updated for all rows in table;\n",
    "\t* if **specified**, only those rows that satisfy the `searchCondition` are updated.\n",
    "\n",
    "* New **data values** must be compatible with the original **data types** for corresponding column."
   ]
  },
  {
   "cell_type": "markdown",
   "metadata": {
    "slideshow": {
     "slide_type": "slide"
    }
   },
   "source": [
    "## `UPDATE` EXAMPLE\n",
    "\n",
    "*  Give all staff a **3% pay increase**, i.e. **all rows**\n",
    "```SQL\n",
    "UPDATE company\n",
    "SET salary = salary*1.03;\n",
    "```"
   ]
  },
  {
   "cell_type": "markdown",
   "metadata": {
    "slideshow": {
     "slide_type": "slide"
    }
   },
   "source": [
    "* Select the cell below and press `Shift` + `Enter`:"
   ]
  },
  {
   "cell_type": "code",
   "execution_count": 12,
   "metadata": {
    "cell_style": "split",
    "hidePrompt": true
   },
   "outputs": [
    {
     "name": "stdout",
     "output_type": "stream",
     "text": [
      "Done.\n"
     ]
    },
    {
     "data": {
      "text/html": [
       "<table>\n",
       "    <tr>\n",
       "        <th>id</th>\n",
       "        <th>name</th>\n",
       "        <th>age</th>\n",
       "        <th>address</th>\n",
       "        <th>salary</th>\n",
       "    </tr>\n",
       "    <tr>\n",
       "        <td>1</td>\n",
       "        <td>Paul</td>\n",
       "        <td>32</td>\n",
       "        <td>California</td>\n",
       "        <td>20000.0</td>\n",
       "    </tr>\n",
       "    <tr>\n",
       "        <td>2</td>\n",
       "        <td>Allen</td>\n",
       "        <td>25</td>\n",
       "        <td>Texas</td>\n",
       "        <td>15000.0</td>\n",
       "    </tr>\n",
       "    <tr>\n",
       "        <td>3</td>\n",
       "        <td>Teddy</td>\n",
       "        <td>23</td>\n",
       "        <td>Norway</td>\n",
       "        <td>20000.0</td>\n",
       "    </tr>\n",
       "    <tr>\n",
       "        <td>4</td>\n",
       "        <td>Mark</td>\n",
       "        <td>25</td>\n",
       "        <td>Rich-Mond </td>\n",
       "        <td>65000.0</td>\n",
       "    </tr>\n",
       "    <tr>\n",
       "        <td>5</td>\n",
       "        <td>David</td>\n",
       "        <td>27</td>\n",
       "        <td>Texas</td>\n",
       "        <td>85000.0</td>\n",
       "    </tr>\n",
       "    <tr>\n",
       "        <td>6</td>\n",
       "        <td>Kim</td>\n",
       "        <td>22</td>\n",
       "        <td>South-Hall</td>\n",
       "        <td>45000.0</td>\n",
       "    </tr>\n",
       "    <tr>\n",
       "        <td>7</td>\n",
       "        <td>James</td>\n",
       "        <td>24</td>\n",
       "        <td>Houston</td>\n",
       "        <td>10000.0</td>\n",
       "    </tr>\n",
       "</table>"
      ],
      "text/plain": [
       "[(1, 'Paul', 32, 'California', 20000.0),\n",
       " (2, 'Allen', 25, 'Texas', 15000.0),\n",
       " (3, 'Teddy', 23, 'Norway', 20000.0),\n",
       " (4, 'Mark', 25, 'Rich-Mond ', 65000.0),\n",
       " (5, 'David', 27, 'Texas', 85000.0),\n",
       " (6, 'Kim', 22, 'South-Hall', 45000.0),\n",
       " (7, 'James', 24, 'Houston', 10000.0)]"
      ]
     },
     "execution_count": 12,
     "metadata": {},
     "output_type": "execute_result"
    }
   ],
   "source": [
    "%%sql sqlite://\n",
    "SELECT * FROM company;"
   ]
  },
  {
   "cell_type": "code",
   "execution_count": 13,
   "metadata": {
    "cell_style": "split",
    "hidePrompt": true,
    "slideshow": {
     "slide_type": "-"
    }
   },
   "outputs": [
    {
     "name": "stdout",
     "output_type": "stream",
     "text": [
      "7 rows affected.\n",
      "Done.\n"
     ]
    },
    {
     "data": {
      "text/html": [
       "<table>\n",
       "    <tr>\n",
       "        <th>id</th>\n",
       "        <th>name</th>\n",
       "        <th>age</th>\n",
       "        <th>address</th>\n",
       "        <th>salary</th>\n",
       "    </tr>\n",
       "    <tr>\n",
       "        <td>1</td>\n",
       "        <td>Paul</td>\n",
       "        <td>32</td>\n",
       "        <td>California</td>\n",
       "        <td>21000.0</td>\n",
       "    </tr>\n",
       "    <tr>\n",
       "        <td>2</td>\n",
       "        <td>Allen</td>\n",
       "        <td>25</td>\n",
       "        <td>Texas</td>\n",
       "        <td>15750.0</td>\n",
       "    </tr>\n",
       "    <tr>\n",
       "        <td>3</td>\n",
       "        <td>Teddy</td>\n",
       "        <td>23</td>\n",
       "        <td>Norway</td>\n",
       "        <td>21000.0</td>\n",
       "    </tr>\n",
       "    <tr>\n",
       "        <td>4</td>\n",
       "        <td>Mark</td>\n",
       "        <td>25</td>\n",
       "        <td>Rich-Mond </td>\n",
       "        <td>68250.0</td>\n",
       "    </tr>\n",
       "    <tr>\n",
       "        <td>5</td>\n",
       "        <td>David</td>\n",
       "        <td>27</td>\n",
       "        <td>Texas</td>\n",
       "        <td>89250.0</td>\n",
       "    </tr>\n",
       "    <tr>\n",
       "        <td>6</td>\n",
       "        <td>Kim</td>\n",
       "        <td>22</td>\n",
       "        <td>South-Hall</td>\n",
       "        <td>47250.0</td>\n",
       "    </tr>\n",
       "    <tr>\n",
       "        <td>7</td>\n",
       "        <td>James</td>\n",
       "        <td>24</td>\n",
       "        <td>Houston</td>\n",
       "        <td>10500.0</td>\n",
       "    </tr>\n",
       "</table>"
      ],
      "text/plain": [
       "[(1, 'Paul', 32, 'California', 21000.0),\n",
       " (2, 'Allen', 25, 'Texas', 15750.0),\n",
       " (3, 'Teddy', 23, 'Norway', 21000.0),\n",
       " (4, 'Mark', 25, 'Rich-Mond ', 68250.0),\n",
       " (5, 'David', 27, 'Texas', 89250.0),\n",
       " (6, 'Kim', 22, 'South-Hall', 47250.0),\n",
       " (7, 'James', 24, 'Houston', 10500.0)]"
      ]
     },
     "execution_count": 13,
     "metadata": {},
     "output_type": "execute_result"
    }
   ],
   "source": [
    "%%sql sqlite://\n",
    "UPDATE company\n",
    "SET salary = salary*1.05;\n",
    "SELECT * FROM company;"
   ]
  },
  {
   "cell_type": "markdown",
   "metadata": {
    "slideshow": {
     "slide_type": "slide"
    }
   },
   "source": [
    "## `UPDATE` EXAMPLE (2)\n",
    "\n",
    "* Update certain rows only i.e. all **Texas** workers a 5% pay increase.\n",
    "\n",
    "```SQL\n",
    "UPDATE company\n",
    "SET salary = salary*1.05\n",
    "WHERE address = 'Texas';\n",
    "```"
   ]
  },
  {
   "cell_type": "markdown",
   "metadata": {
    "slideshow": {
     "slide_type": "slide"
    }
   },
   "source": [
    "* Select the cell below and press `Shift` + `Enter`:"
   ]
  },
  {
   "cell_type": "code",
   "execution_count": 14,
   "metadata": {
    "cell_style": "split",
    "hidePrompt": true
   },
   "outputs": [
    {
     "name": "stdout",
     "output_type": "stream",
     "text": [
      "Done.\n"
     ]
    },
    {
     "data": {
      "text/html": [
       "<table>\n",
       "    <tr>\n",
       "        <th>id</th>\n",
       "        <th>name</th>\n",
       "        <th>age</th>\n",
       "        <th>address</th>\n",
       "        <th>salary</th>\n",
       "    </tr>\n",
       "    <tr>\n",
       "        <td>1</td>\n",
       "        <td>Paul</td>\n",
       "        <td>32</td>\n",
       "        <td>California</td>\n",
       "        <td>21000.0</td>\n",
       "    </tr>\n",
       "    <tr>\n",
       "        <td>2</td>\n",
       "        <td>Allen</td>\n",
       "        <td>25</td>\n",
       "        <td>Texas</td>\n",
       "        <td>15750.0</td>\n",
       "    </tr>\n",
       "    <tr>\n",
       "        <td>3</td>\n",
       "        <td>Teddy</td>\n",
       "        <td>23</td>\n",
       "        <td>Norway</td>\n",
       "        <td>21000.0</td>\n",
       "    </tr>\n",
       "    <tr>\n",
       "        <td>4</td>\n",
       "        <td>Mark</td>\n",
       "        <td>25</td>\n",
       "        <td>Rich-Mond </td>\n",
       "        <td>68250.0</td>\n",
       "    </tr>\n",
       "    <tr>\n",
       "        <td>5</td>\n",
       "        <td>David</td>\n",
       "        <td>27</td>\n",
       "        <td>Texas</td>\n",
       "        <td>89250.0</td>\n",
       "    </tr>\n",
       "    <tr>\n",
       "        <td>6</td>\n",
       "        <td>Kim</td>\n",
       "        <td>22</td>\n",
       "        <td>South-Hall</td>\n",
       "        <td>47250.0</td>\n",
       "    </tr>\n",
       "    <tr>\n",
       "        <td>7</td>\n",
       "        <td>James</td>\n",
       "        <td>24</td>\n",
       "        <td>Houston</td>\n",
       "        <td>10500.0</td>\n",
       "    </tr>\n",
       "</table>"
      ],
      "text/plain": [
       "[(1, 'Paul', 32, 'California', 21000.0),\n",
       " (2, 'Allen', 25, 'Texas', 15750.0),\n",
       " (3, 'Teddy', 23, 'Norway', 21000.0),\n",
       " (4, 'Mark', 25, 'Rich-Mond ', 68250.0),\n",
       " (5, 'David', 27, 'Texas', 89250.0),\n",
       " (6, 'Kim', 22, 'South-Hall', 47250.0),\n",
       " (7, 'James', 24, 'Houston', 10500.0)]"
      ]
     },
     "execution_count": 14,
     "metadata": {},
     "output_type": "execute_result"
    }
   ],
   "source": [
    "%%sql sqlite://\n",
    "SELECT * FROM company;"
   ]
  },
  {
   "cell_type": "code",
   "execution_count": 15,
   "metadata": {
    "cell_style": "split",
    "hidePrompt": true
   },
   "outputs": [
    {
     "name": "stdout",
     "output_type": "stream",
     "text": [
      "2 rows affected.\n",
      "Done.\n"
     ]
    },
    {
     "data": {
      "text/html": [
       "<table>\n",
       "    <tr>\n",
       "        <th>id</th>\n",
       "        <th>name</th>\n",
       "        <th>age</th>\n",
       "        <th>address</th>\n",
       "        <th>salary</th>\n",
       "    </tr>\n",
       "    <tr>\n",
       "        <td>1</td>\n",
       "        <td>Paul</td>\n",
       "        <td>32</td>\n",
       "        <td>California</td>\n",
       "        <td>21000.0</td>\n",
       "    </tr>\n",
       "    <tr>\n",
       "        <td>2</td>\n",
       "        <td>Allen</td>\n",
       "        <td>25</td>\n",
       "        <td>Texas</td>\n",
       "        <td>16537.5</td>\n",
       "    </tr>\n",
       "    <tr>\n",
       "        <td>3</td>\n",
       "        <td>Teddy</td>\n",
       "        <td>23</td>\n",
       "        <td>Norway</td>\n",
       "        <td>21000.0</td>\n",
       "    </tr>\n",
       "    <tr>\n",
       "        <td>4</td>\n",
       "        <td>Mark</td>\n",
       "        <td>25</td>\n",
       "        <td>Rich-Mond </td>\n",
       "        <td>68250.0</td>\n",
       "    </tr>\n",
       "    <tr>\n",
       "        <td>5</td>\n",
       "        <td>David</td>\n",
       "        <td>27</td>\n",
       "        <td>Texas</td>\n",
       "        <td>93712.5</td>\n",
       "    </tr>\n",
       "    <tr>\n",
       "        <td>6</td>\n",
       "        <td>Kim</td>\n",
       "        <td>22</td>\n",
       "        <td>South-Hall</td>\n",
       "        <td>47250.0</td>\n",
       "    </tr>\n",
       "    <tr>\n",
       "        <td>7</td>\n",
       "        <td>James</td>\n",
       "        <td>24</td>\n",
       "        <td>Houston</td>\n",
       "        <td>10500.0</td>\n",
       "    </tr>\n",
       "</table>"
      ],
      "text/plain": [
       "[(1, 'Paul', 32, 'California', 21000.0),\n",
       " (2, 'Allen', 25, 'Texas', 16537.5),\n",
       " (3, 'Teddy', 23, 'Norway', 21000.0),\n",
       " (4, 'Mark', 25, 'Rich-Mond ', 68250.0),\n",
       " (5, 'David', 27, 'Texas', 93712.5),\n",
       " (6, 'Kim', 22, 'South-Hall', 47250.0),\n",
       " (7, 'James', 24, 'Houston', 10500.0)]"
      ]
     },
     "execution_count": 15,
     "metadata": {},
     "output_type": "execute_result"
    }
   ],
   "source": [
    "%%sql sqlite://\n",
    "UPDATE company\n",
    "SET salary = salary*1.05\n",
    "WHERE address = 'Texas';\n",
    "SELECT * FROM company;"
   ]
  },
  {
   "cell_type": "markdown",
   "metadata": {
    "slideshow": {
     "slide_type": "slide"
    }
   },
   "source": [
    "## `UPDATE` EXAMPLE (3)\n",
    "\n",
    "* **Update certain rows only i.e. specify Teddy's salary to a specific value.**\n",
    "```SQL\n",
    "UPDATE company\n",
    "SET salary = '52000'\n",
    "WHERE id = '3';\n",
    "```"
   ]
  },
  {
   "cell_type": "markdown",
   "metadata": {
    "slideshow": {
     "slide_type": "slide"
    }
   },
   "source": [
    "* Select the cell below and press `Shift` + `Enter`:"
   ]
  },
  {
   "cell_type": "code",
   "execution_count": 16,
   "metadata": {
    "cell_style": "split",
    "hidePrompt": true
   },
   "outputs": [
    {
     "name": "stdout",
     "output_type": "stream",
     "text": [
      "Done.\n"
     ]
    },
    {
     "data": {
      "text/html": [
       "<table>\n",
       "    <tr>\n",
       "        <th>id</th>\n",
       "        <th>name</th>\n",
       "        <th>age</th>\n",
       "        <th>address</th>\n",
       "        <th>salary</th>\n",
       "    </tr>\n",
       "    <tr>\n",
       "        <td>1</td>\n",
       "        <td>Paul</td>\n",
       "        <td>32</td>\n",
       "        <td>California</td>\n",
       "        <td>21000.0</td>\n",
       "    </tr>\n",
       "    <tr>\n",
       "        <td>2</td>\n",
       "        <td>Allen</td>\n",
       "        <td>25</td>\n",
       "        <td>Texas</td>\n",
       "        <td>16537.5</td>\n",
       "    </tr>\n",
       "    <tr>\n",
       "        <td>3</td>\n",
       "        <td>Teddy</td>\n",
       "        <td>23</td>\n",
       "        <td>Norway</td>\n",
       "        <td>21000.0</td>\n",
       "    </tr>\n",
       "    <tr>\n",
       "        <td>4</td>\n",
       "        <td>Mark</td>\n",
       "        <td>25</td>\n",
       "        <td>Rich-Mond </td>\n",
       "        <td>68250.0</td>\n",
       "    </tr>\n",
       "    <tr>\n",
       "        <td>5</td>\n",
       "        <td>David</td>\n",
       "        <td>27</td>\n",
       "        <td>Texas</td>\n",
       "        <td>93712.5</td>\n",
       "    </tr>\n",
       "    <tr>\n",
       "        <td>6</td>\n",
       "        <td>Kim</td>\n",
       "        <td>22</td>\n",
       "        <td>South-Hall</td>\n",
       "        <td>47250.0</td>\n",
       "    </tr>\n",
       "    <tr>\n",
       "        <td>7</td>\n",
       "        <td>James</td>\n",
       "        <td>24</td>\n",
       "        <td>Houston</td>\n",
       "        <td>10500.0</td>\n",
       "    </tr>\n",
       "</table>"
      ],
      "text/plain": [
       "[(1, 'Paul', 32, 'California', 21000.0),\n",
       " (2, 'Allen', 25, 'Texas', 16537.5),\n",
       " (3, 'Teddy', 23, 'Norway', 21000.0),\n",
       " (4, 'Mark', 25, 'Rich-Mond ', 68250.0),\n",
       " (5, 'David', 27, 'Texas', 93712.5),\n",
       " (6, 'Kim', 22, 'South-Hall', 47250.0),\n",
       " (7, 'James', 24, 'Houston', 10500.0)]"
      ]
     },
     "execution_count": 16,
     "metadata": {},
     "output_type": "execute_result"
    }
   ],
   "source": [
    "%%sql sqlite://\n",
    "SELECT * FROM company;"
   ]
  },
  {
   "cell_type": "code",
   "execution_count": 17,
   "metadata": {
    "cell_style": "split",
    "hidePrompt": true
   },
   "outputs": [
    {
     "name": "stdout",
     "output_type": "stream",
     "text": [
      "1 rows affected.\n",
      "Done.\n"
     ]
    },
    {
     "data": {
      "text/html": [
       "<table>\n",
       "    <tr>\n",
       "        <th>id</th>\n",
       "        <th>name</th>\n",
       "        <th>age</th>\n",
       "        <th>address</th>\n",
       "        <th>salary</th>\n",
       "    </tr>\n",
       "    <tr>\n",
       "        <td>1</td>\n",
       "        <td>Paul</td>\n",
       "        <td>32</td>\n",
       "        <td>California</td>\n",
       "        <td>21000.0</td>\n",
       "    </tr>\n",
       "    <tr>\n",
       "        <td>2</td>\n",
       "        <td>Allen</td>\n",
       "        <td>25</td>\n",
       "        <td>Texas</td>\n",
       "        <td>16537.5</td>\n",
       "    </tr>\n",
       "    <tr>\n",
       "        <td>3</td>\n",
       "        <td>Teddy</td>\n",
       "        <td>23</td>\n",
       "        <td>Norway</td>\n",
       "        <td>52000.0</td>\n",
       "    </tr>\n",
       "    <tr>\n",
       "        <td>4</td>\n",
       "        <td>Mark</td>\n",
       "        <td>25</td>\n",
       "        <td>Rich-Mond </td>\n",
       "        <td>68250.0</td>\n",
       "    </tr>\n",
       "    <tr>\n",
       "        <td>5</td>\n",
       "        <td>David</td>\n",
       "        <td>27</td>\n",
       "        <td>Texas</td>\n",
       "        <td>93712.5</td>\n",
       "    </tr>\n",
       "    <tr>\n",
       "        <td>6</td>\n",
       "        <td>Kim</td>\n",
       "        <td>22</td>\n",
       "        <td>South-Hall</td>\n",
       "        <td>47250.0</td>\n",
       "    </tr>\n",
       "    <tr>\n",
       "        <td>7</td>\n",
       "        <td>James</td>\n",
       "        <td>24</td>\n",
       "        <td>Houston</td>\n",
       "        <td>10500.0</td>\n",
       "    </tr>\n",
       "</table>"
      ],
      "text/plain": [
       "[(1, 'Paul', 32, 'California', 21000.0),\n",
       " (2, 'Allen', 25, 'Texas', 16537.5),\n",
       " (3, 'Teddy', 23, 'Norway', 52000.0),\n",
       " (4, 'Mark', 25, 'Rich-Mond ', 68250.0),\n",
       " (5, 'David', 27, 'Texas', 93712.5),\n",
       " (6, 'Kim', 22, 'South-Hall', 47250.0),\n",
       " (7, 'James', 24, 'Houston', 10500.0)]"
      ]
     },
     "execution_count": 17,
     "metadata": {},
     "output_type": "execute_result"
    }
   ],
   "source": [
    "%%sql sqlite://\n",
    "UPDATE company\n",
    "SET salary = '52000'\n",
    "WHERE id = '3';\n",
    "SELECT * FROM company;"
   ]
  },
  {
   "cell_type": "markdown",
   "metadata": {
    "slideshow": {
     "slide_type": "slide"
    }
   },
   "source": [
    "## `UPDATE` MULTIPLE COLUMNS\n",
    "\n",
    "* **Change Kim's (id=\"6\") age and update the salary to 100000.**\n",
    "\n",
    "```SQL\n",
    "UPDATE company\n",
    "SET salary = '100000', age = '23'\n",
    "WHERE id = '6';\n",
    "SELECT * FROM company;\n",
    "```"
   ]
  },
  {
   "cell_type": "markdown",
   "metadata": {
    "slideshow": {
     "slide_type": "slide"
    }
   },
   "source": [
    "* Select the cell below and press `Shift` + `Enter`:"
   ]
  },
  {
   "cell_type": "code",
   "execution_count": 18,
   "metadata": {
    "cell_style": "split",
    "hidePrompt": true
   },
   "outputs": [
    {
     "name": "stdout",
     "output_type": "stream",
     "text": [
      "Done.\n"
     ]
    },
    {
     "data": {
      "text/html": [
       "<table>\n",
       "    <tr>\n",
       "        <th>id</th>\n",
       "        <th>name</th>\n",
       "        <th>age</th>\n",
       "        <th>address</th>\n",
       "        <th>salary</th>\n",
       "    </tr>\n",
       "    <tr>\n",
       "        <td>1</td>\n",
       "        <td>Paul</td>\n",
       "        <td>32</td>\n",
       "        <td>California</td>\n",
       "        <td>21000.0</td>\n",
       "    </tr>\n",
       "    <tr>\n",
       "        <td>2</td>\n",
       "        <td>Allen</td>\n",
       "        <td>25</td>\n",
       "        <td>Texas</td>\n",
       "        <td>16537.5</td>\n",
       "    </tr>\n",
       "    <tr>\n",
       "        <td>3</td>\n",
       "        <td>Teddy</td>\n",
       "        <td>23</td>\n",
       "        <td>Norway</td>\n",
       "        <td>52000.0</td>\n",
       "    </tr>\n",
       "    <tr>\n",
       "        <td>4</td>\n",
       "        <td>Mark</td>\n",
       "        <td>25</td>\n",
       "        <td>Rich-Mond </td>\n",
       "        <td>68250.0</td>\n",
       "    </tr>\n",
       "    <tr>\n",
       "        <td>5</td>\n",
       "        <td>David</td>\n",
       "        <td>27</td>\n",
       "        <td>Texas</td>\n",
       "        <td>93712.5</td>\n",
       "    </tr>\n",
       "    <tr>\n",
       "        <td>6</td>\n",
       "        <td>Kim</td>\n",
       "        <td>22</td>\n",
       "        <td>South-Hall</td>\n",
       "        <td>47250.0</td>\n",
       "    </tr>\n",
       "    <tr>\n",
       "        <td>7</td>\n",
       "        <td>James</td>\n",
       "        <td>24</td>\n",
       "        <td>Houston</td>\n",
       "        <td>10500.0</td>\n",
       "    </tr>\n",
       "</table>"
      ],
      "text/plain": [
       "[(1, 'Paul', 32, 'California', 21000.0),\n",
       " (2, 'Allen', 25, 'Texas', 16537.5),\n",
       " (3, 'Teddy', 23, 'Norway', 52000.0),\n",
       " (4, 'Mark', 25, 'Rich-Mond ', 68250.0),\n",
       " (5, 'David', 27, 'Texas', 93712.5),\n",
       " (6, 'Kim', 22, 'South-Hall', 47250.0),\n",
       " (7, 'James', 24, 'Houston', 10500.0)]"
      ]
     },
     "execution_count": 18,
     "metadata": {},
     "output_type": "execute_result"
    }
   ],
   "source": [
    "%%sql sqlite://\n",
    "SELECT * FROM company;"
   ]
  },
  {
   "cell_type": "code",
   "execution_count": 19,
   "metadata": {
    "cell_style": "split",
    "hidePrompt": true
   },
   "outputs": [
    {
     "name": "stdout",
     "output_type": "stream",
     "text": [
      "1 rows affected.\n",
      "Done.\n"
     ]
    },
    {
     "data": {
      "text/html": [
       "<table>\n",
       "    <tr>\n",
       "        <th>id</th>\n",
       "        <th>name</th>\n",
       "        <th>age</th>\n",
       "        <th>address</th>\n",
       "        <th>salary</th>\n",
       "    </tr>\n",
       "    <tr>\n",
       "        <td>1</td>\n",
       "        <td>Paul</td>\n",
       "        <td>32</td>\n",
       "        <td>California</td>\n",
       "        <td>21000.0</td>\n",
       "    </tr>\n",
       "    <tr>\n",
       "        <td>2</td>\n",
       "        <td>Allen</td>\n",
       "        <td>25</td>\n",
       "        <td>Texas</td>\n",
       "        <td>16537.5</td>\n",
       "    </tr>\n",
       "    <tr>\n",
       "        <td>3</td>\n",
       "        <td>Teddy</td>\n",
       "        <td>23</td>\n",
       "        <td>Norway</td>\n",
       "        <td>52000.0</td>\n",
       "    </tr>\n",
       "    <tr>\n",
       "        <td>4</td>\n",
       "        <td>Mark</td>\n",
       "        <td>25</td>\n",
       "        <td>Rich-Mond </td>\n",
       "        <td>68250.0</td>\n",
       "    </tr>\n",
       "    <tr>\n",
       "        <td>5</td>\n",
       "        <td>David</td>\n",
       "        <td>27</td>\n",
       "        <td>Texas</td>\n",
       "        <td>93712.5</td>\n",
       "    </tr>\n",
       "    <tr>\n",
       "        <td>6</td>\n",
       "        <td>Kim</td>\n",
       "        <td>23</td>\n",
       "        <td>South-Hall</td>\n",
       "        <td>100000.0</td>\n",
       "    </tr>\n",
       "    <tr>\n",
       "        <td>7</td>\n",
       "        <td>James</td>\n",
       "        <td>24</td>\n",
       "        <td>Houston</td>\n",
       "        <td>10500.0</td>\n",
       "    </tr>\n",
       "</table>"
      ],
      "text/plain": [
       "[(1, 'Paul', 32, 'California', 21000.0),\n",
       " (2, 'Allen', 25, 'Texas', 16537.5),\n",
       " (3, 'Teddy', 23, 'Norway', 52000.0),\n",
       " (4, 'Mark', 25, 'Rich-Mond ', 68250.0),\n",
       " (5, 'David', 27, 'Texas', 93712.5),\n",
       " (6, 'Kim', 23, 'South-Hall', 100000.0),\n",
       " (7, 'James', 24, 'Houston', 10500.0)]"
      ]
     },
     "execution_count": 19,
     "metadata": {},
     "output_type": "execute_result"
    }
   ],
   "source": [
    "%%sql sqlite://\n",
    "UPDATE company\n",
    "SET salary = '100000', age = '23'\n",
    "WHERE id = '6';\n",
    "SELECT * FROM company;"
   ]
  },
  {
   "cell_type": "markdown",
   "metadata": {
    "slideshow": {
     "slide_type": "slide"
    }
   },
   "source": [
    "## `DELETE`\n",
    "\n",
    "```SQL\n",
    "DELETE FROM TableName\n",
    "[WHERE searchCondition]\n",
    "```\n",
    "* `TableName` can be name of a basetable or an updatable view.\n",
    "\n",
    "* `searchCondition` is **optional**:\n",
    "    \n",
    "    * If **omitted**, then **all rows** are deleted from the table\n",
    "    \n",
    "* The `DELETE FROM TableName` statement does not delete table, but it's content\n",
    "\n",
    "    * If `search_condition` is **specified**, only those **rows that satisfy a condition** are deleted."
   ]
  },
  {
   "cell_type": "markdown",
   "metadata": {
    "slideshow": {
     "slide_type": "slide"
    }
   },
   "source": [
    "* Select the cell below and press `Shift` + `Enter`:"
   ]
  },
  {
   "cell_type": "code",
   "execution_count": 20,
   "metadata": {
    "cell_style": "split",
    "hidePrompt": true
   },
   "outputs": [
    {
     "name": "stdout",
     "output_type": "stream",
     "text": [
      "Done.\n"
     ]
    },
    {
     "data": {
      "text/html": [
       "<table>\n",
       "    <tr>\n",
       "        <th>id</th>\n",
       "        <th>name</th>\n",
       "        <th>age</th>\n",
       "        <th>address</th>\n",
       "        <th>salary</th>\n",
       "    </tr>\n",
       "    <tr>\n",
       "        <td>1</td>\n",
       "        <td>Paul</td>\n",
       "        <td>32</td>\n",
       "        <td>California</td>\n",
       "        <td>21000.0</td>\n",
       "    </tr>\n",
       "    <tr>\n",
       "        <td>2</td>\n",
       "        <td>Allen</td>\n",
       "        <td>25</td>\n",
       "        <td>Texas</td>\n",
       "        <td>16537.5</td>\n",
       "    </tr>\n",
       "    <tr>\n",
       "        <td>3</td>\n",
       "        <td>Teddy</td>\n",
       "        <td>23</td>\n",
       "        <td>Norway</td>\n",
       "        <td>52000.0</td>\n",
       "    </tr>\n",
       "    <tr>\n",
       "        <td>4</td>\n",
       "        <td>Mark</td>\n",
       "        <td>25</td>\n",
       "        <td>Rich-Mond </td>\n",
       "        <td>68250.0</td>\n",
       "    </tr>\n",
       "    <tr>\n",
       "        <td>5</td>\n",
       "        <td>David</td>\n",
       "        <td>27</td>\n",
       "        <td>Texas</td>\n",
       "        <td>93712.5</td>\n",
       "    </tr>\n",
       "    <tr>\n",
       "        <td>6</td>\n",
       "        <td>Kim</td>\n",
       "        <td>23</td>\n",
       "        <td>South-Hall</td>\n",
       "        <td>100000.0</td>\n",
       "    </tr>\n",
       "    <tr>\n",
       "        <td>7</td>\n",
       "        <td>James</td>\n",
       "        <td>24</td>\n",
       "        <td>Houston</td>\n",
       "        <td>10500.0</td>\n",
       "    </tr>\n",
       "</table>"
      ],
      "text/plain": [
       "[(1, 'Paul', 32, 'California', 21000.0),\n",
       " (2, 'Allen', 25, 'Texas', 16537.5),\n",
       " (3, 'Teddy', 23, 'Norway', 52000.0),\n",
       " (4, 'Mark', 25, 'Rich-Mond ', 68250.0),\n",
       " (5, 'David', 27, 'Texas', 93712.5),\n",
       " (6, 'Kim', 23, 'South-Hall', 100000.0),\n",
       " (7, 'James', 24, 'Houston', 10500.0)]"
      ]
     },
     "execution_count": 20,
     "metadata": {},
     "output_type": "execute_result"
    }
   ],
   "source": [
    "%%sql sqlite://\n",
    "SELECT * FROM company;"
   ]
  },
  {
   "cell_type": "code",
   "execution_count": 5,
   "metadata": {
    "cell_style": "split",
    "hidePrompt": true
   },
   "outputs": [
    {
     "name": "stdout",
     "output_type": "stream",
     "text": [
      "1 rows affected.\n",
      "Done.\n"
     ]
    },
    {
     "data": {
      "text/html": [
       "<table>\n",
       "    <tr>\n",
       "        <th>id</th>\n",
       "        <th>name</th>\n",
       "        <th>age</th>\n",
       "        <th>address</th>\n",
       "        <th>salary</th>\n",
       "    </tr>\n",
       "    <tr>\n",
       "        <td>1</td>\n",
       "        <td>Paul</td>\n",
       "        <td>32</td>\n",
       "        <td>California</td>\n",
       "        <td>20000.0</td>\n",
       "    </tr>\n",
       "    <tr>\n",
       "        <td>2</td>\n",
       "        <td>Allen</td>\n",
       "        <td>25</td>\n",
       "        <td>Texas</td>\n",
       "        <td>15000.0</td>\n",
       "    </tr>\n",
       "    <tr>\n",
       "        <td>3</td>\n",
       "        <td>Teddy</td>\n",
       "        <td>23</td>\n",
       "        <td>Norway</td>\n",
       "        <td>20000.0</td>\n",
       "    </tr>\n",
       "    <tr>\n",
       "        <td>4</td>\n",
       "        <td>Mark</td>\n",
       "        <td>25</td>\n",
       "        <td>Rich-Mond </td>\n",
       "        <td>65000.0</td>\n",
       "    </tr>\n",
       "    <tr>\n",
       "        <td>5</td>\n",
       "        <td>David</td>\n",
       "        <td>27</td>\n",
       "        <td>Texas</td>\n",
       "        <td>85000.0</td>\n",
       "    </tr>\n",
       "    <tr>\n",
       "        <td>6</td>\n",
       "        <td>Kim</td>\n",
       "        <td>22</td>\n",
       "        <td>South-Hall</td>\n",
       "        <td>45000.0</td>\n",
       "    </tr>\n",
       "</table>"
      ],
      "text/plain": [
       "[(1, 'Paul', 32, 'California', 20000.0),\n",
       " (2, 'Allen', 25, 'Texas', 15000.0),\n",
       " (3, 'Teddy', 23, 'Norway', 20000.0),\n",
       " (4, 'Mark', 25, 'Rich-Mond ', 65000.0),\n",
       " (5, 'David', 27, 'Texas', 85000.0),\n",
       " (6, 'Kim', 22, 'South-Hall', 45000.0)]"
      ]
     },
     "execution_count": 5,
     "metadata": {},
     "output_type": "execute_result"
    }
   ],
   "source": [
    "%%sql sqlite://\n",
    "DELETE FROM company\n",
    "WHERE id = '7';\n",
    "SELECT * FROM company;"
   ]
  },
  {
   "cell_type": "markdown",
   "metadata": {
    "slideshow": {
     "slide_type": "slide"
    }
   },
   "source": [
    "## DELETE SPECIFIC ROWS\n",
    "\n",
    "* **Delete all records from the `company` table.**\n",
    "\n",
    "```SQL\n",
    "DELETE FROM company;\n",
    "```"
   ]
  },
  {
   "cell_type": "markdown",
   "metadata": {
    "slideshow": {
     "slide_type": "slide"
    }
   },
   "source": [
    "* Select the cell below and press `Shift` + `Enter`:"
   ]
  },
  {
   "cell_type": "code",
   "execution_count": 22,
   "metadata": {
    "cell_style": "split",
    "hidePrompt": true
   },
   "outputs": [
    {
     "name": "stdout",
     "output_type": "stream",
     "text": [
      "Done.\n"
     ]
    },
    {
     "data": {
      "text/html": [
       "<table>\n",
       "    <tr>\n",
       "        <th>id</th>\n",
       "        <th>name</th>\n",
       "        <th>age</th>\n",
       "        <th>address</th>\n",
       "        <th>salary</th>\n",
       "    </tr>\n",
       "    <tr>\n",
       "        <td>1</td>\n",
       "        <td>Paul</td>\n",
       "        <td>32</td>\n",
       "        <td>California</td>\n",
       "        <td>21000.0</td>\n",
       "    </tr>\n",
       "    <tr>\n",
       "        <td>2</td>\n",
       "        <td>Allen</td>\n",
       "        <td>25</td>\n",
       "        <td>Texas</td>\n",
       "        <td>16537.5</td>\n",
       "    </tr>\n",
       "    <tr>\n",
       "        <td>3</td>\n",
       "        <td>Teddy</td>\n",
       "        <td>23</td>\n",
       "        <td>Norway</td>\n",
       "        <td>52000.0</td>\n",
       "    </tr>\n",
       "    <tr>\n",
       "        <td>4</td>\n",
       "        <td>Mark</td>\n",
       "        <td>25</td>\n",
       "        <td>Rich-Mond </td>\n",
       "        <td>68250.0</td>\n",
       "    </tr>\n",
       "    <tr>\n",
       "        <td>5</td>\n",
       "        <td>David</td>\n",
       "        <td>27</td>\n",
       "        <td>Texas</td>\n",
       "        <td>93712.5</td>\n",
       "    </tr>\n",
       "    <tr>\n",
       "        <td>6</td>\n",
       "        <td>Kim</td>\n",
       "        <td>23</td>\n",
       "        <td>South-Hall</td>\n",
       "        <td>100000.0</td>\n",
       "    </tr>\n",
       "</table>"
      ],
      "text/plain": [
       "[(1, 'Paul', 32, 'California', 21000.0),\n",
       " (2, 'Allen', 25, 'Texas', 16537.5),\n",
       " (3, 'Teddy', 23, 'Norway', 52000.0),\n",
       " (4, 'Mark', 25, 'Rich-Mond ', 68250.0),\n",
       " (5, 'David', 27, 'Texas', 93712.5),\n",
       " (6, 'Kim', 23, 'South-Hall', 100000.0)]"
      ]
     },
     "execution_count": 22,
     "metadata": {},
     "output_type": "execute_result"
    }
   ],
   "source": [
    "%%sql sqlite://\n",
    "SELECT * FROM company;"
   ]
  },
  {
   "cell_type": "code",
   "execution_count": 23,
   "metadata": {
    "cell_style": "split",
    "hidePrompt": true
   },
   "outputs": [
    {
     "name": "stdout",
     "output_type": "stream",
     "text": [
      "6 rows affected.\n",
      "Done.\n"
     ]
    },
    {
     "data": {
      "text/html": [
       "<table>\n",
       "    <tr>\n",
       "        <th>id</th>\n",
       "        <th>name</th>\n",
       "        <th>age</th>\n",
       "        <th>address</th>\n",
       "        <th>salary</th>\n",
       "    </tr>\n",
       "</table>"
      ],
      "text/plain": [
       "[]"
      ]
     },
     "execution_count": 23,
     "metadata": {},
     "output_type": "execute_result"
    }
   ],
   "source": [
    "%%sql sqlite://\n",
    "DELETE FROM company;\n",
    "SELECT * FROM company;"
   ]
  },
  {
   "cell_type": "markdown",
   "metadata": {
    "slideshow": {
     "slide_type": "slide"
    }
   },
   "source": [
    "## MORE ON `DELETE` AND `DROP`\n",
    "\n",
    "* Delete all contents of the table, but retain its structure and the table itself:\n",
    "    * ```SQL\n",
    "    DELETE FROM company;\n",
    "    ```\n",
    "\n",
    "* Delete the table `company` and all of it's contents:\n",
    "    * ```SQL\n",
    "    DROP TABLE company;\n",
    "    ```\n",
    "\n",
    "* Use the `DROP TABLE` statement to completely remove a table `IF EXISTS` in the database\n",
    "    * ```SQL\n",
    "    DROP TABLE IF EXISTS company;\n",
    "    ```\n",
    "\n",
    "* **Use `IF EXISTS` to prevent an error from occurring for tables that do not exist.**"
   ]
  },
  {
   "cell_type": "markdown",
   "metadata": {
    "slideshow": {
     "slide_type": "slide"
    }
   },
   "source": [
    "* Select the cell below and press `Shift` + `Enter`:"
   ]
  },
  {
   "cell_type": "code",
   "execution_count": 24,
   "metadata": {
    "cell_style": "split",
    "hidePrompt": true
   },
   "outputs": [
    {
     "name": "stdout",
     "output_type": "stream",
     "text": [
      "Done.\n"
     ]
    },
    {
     "data": {
      "text/html": [
       "<table>\n",
       "    <tr>\n",
       "        <th>id</th>\n",
       "        <th>name</th>\n",
       "        <th>age</th>\n",
       "        <th>address</th>\n",
       "        <th>salary</th>\n",
       "    </tr>\n",
       "</table>"
      ],
      "text/plain": [
       "[]"
      ]
     },
     "execution_count": 24,
     "metadata": {},
     "output_type": "execute_result"
    }
   ],
   "source": [
    "%%sql sqlite://\n",
    "SELECT * FROM company;"
   ]
  },
  {
   "cell_type": "code",
   "execution_count": 25,
   "metadata": {
    "cell_style": "split",
    "hidePrompt": true
   },
   "outputs": [
    {
     "name": "stdout",
     "output_type": "stream",
     "text": [
      "Done.\n",
      "Done.\n"
     ]
    },
    {
     "data": {
      "text/html": [
       "<table>\n",
       "    <tr>\n",
       "        <th>name</th>\n",
       "    </tr>\n",
       "    <tr>\n",
       "        <td>department</td>\n",
       "    </tr>\n",
       "    <tr>\n",
       "        <td>instructor</td>\n",
       "    </tr>\n",
       "</table>"
      ],
      "text/plain": [
       "[('department',), ('instructor',)]"
      ]
     },
     "execution_count": 25,
     "metadata": {},
     "output_type": "execute_result"
    }
   ],
   "source": [
    "%%sql sqlite://\n",
    "DROP TABLE IF EXISTS company;\n",
    "\n",
    "-- Shows all the existing tables\n",
    "SELECT name FROM sqlite_master WHERE type='table' AND name != 'sqlite_sequence';"
   ]
  },
  {
   "cell_type": "markdown",
   "metadata": {
    "slideshow": {
     "slide_type": "slide"
    }
   },
   "source": [
    "## `ALTER TABLE`\n",
    "\n",
    "* **Use the `ALTER TABLE` statement to modify a table definition by adding, altering or dropping columns and constraints.**\n",
    "\n",
    "* **Despite the SQL standard, the implementation of ALTER TABLE varies greatly by DBMS:**\n",
    "\n",
    "    * To determine what you can alter and the conditions under which alterations are allowed, search your DBMS documentation for `ALTER TABLE`.\n",
    "\n",
    "    * Depending on your DBMS, some of the modifications that you can make by using `ALTER TABLE` are:\n",
    "\n",
    "        * Add or drop a column\n",
    "\n",
    "        * Alter a column's data type\n",
    "\n",
    "        * Add, alter, or drop a column's default value or a nullability constraint\n",
    "\n",
    "        * Add, alter, or drop column or table constraints such as primary-key, foreign-key, unique, and check constraints\n",
    "\n",
    "        * Rename a column\n",
    "\n",
    "        * Rename a table"
   ]
  },
  {
   "cell_type": "markdown",
   "metadata": {
    "slideshow": {
     "slide_type": "slide"
    }
   },
   "source": [
    "## `ALTER TABLE`\n",
    "\n",
    "* ```SQL\n",
    "    ALTER TABLE R ADD A D\n",
    "    ```\n",
    "\t* Where **A** (column) is the name of the attribute to be added to relation **R** (table) and **D** is the domain of **A** (column).\n",
    "    \n",
    "\t* All tuples in the relation are assigned **null** as the value for the new attribute.\n",
    "\n",
    "* ```SQL\n",
    "    ALTER TABLE R DROP A\n",
    "    ```\n",
    "\n",
    "\t* Where **A** (column) is the name of an attribute of relation **R** (table)\n",
    "\t* Dropping of attributes (columns) not supported by many databases\n",
    "\n",
    "* ```SQL\n",
    "    ALTER TABLE R RENAME old_attribute to new_attribute\n",
    "    ```\n",
    "    \n",
    "    * Renames an attribute (column)"
   ]
  },
  {
   "cell_type": "markdown",
   "metadata": {
    "slideshow": {
     "slide_type": "slide"
    }
   },
   "source": [
    "## `ALTER TABLE` EXAMPLE\n",
    "\n",
    "```SQL\n",
    "ALTER TABLE company \n",
    "RENAME TO employees;\n",
    "```"
   ]
  },
  {
   "cell_type": "markdown",
   "metadata": {
    "slideshow": {
     "slide_type": "slide"
    }
   },
   "source": [
    "* Select the cell below and press `Shift` + `Enter`:"
   ]
  },
  {
   "cell_type": "code",
   "execution_count": 26,
   "metadata": {
    "cell_style": "center",
    "hideOutput": false,
    "hidePrompt": true
   },
   "outputs": [
    {
     "name": "stdout",
     "output_type": "stream",
     "text": [
      "Done.\n",
      "Done.\n",
      "1 rows affected.\n",
      "1 rows affected.\n",
      "1 rows affected.\n",
      "1 rows affected.\n",
      "1 rows affected.\n",
      "1 rows affected.\n",
      "1 rows affected.\n",
      "Done.\n"
     ]
    },
    {
     "data": {
      "text/html": [
       "<table>\n",
       "    <tr>\n",
       "        <th>id</th>\n",
       "        <th>name</th>\n",
       "        <th>age</th>\n",
       "        <th>address</th>\n",
       "        <th>salary</th>\n",
       "    </tr>\n",
       "    <tr>\n",
       "        <td>1</td>\n",
       "        <td>Paul</td>\n",
       "        <td>32</td>\n",
       "        <td>California</td>\n",
       "        <td>20000.0</td>\n",
       "    </tr>\n",
       "    <tr>\n",
       "        <td>2</td>\n",
       "        <td>Allen</td>\n",
       "        <td>25</td>\n",
       "        <td>Texas</td>\n",
       "        <td>15000.0</td>\n",
       "    </tr>\n",
       "    <tr>\n",
       "        <td>3</td>\n",
       "        <td>Teddy</td>\n",
       "        <td>23</td>\n",
       "        <td>Norway</td>\n",
       "        <td>20000.0</td>\n",
       "    </tr>\n",
       "    <tr>\n",
       "        <td>4</td>\n",
       "        <td>Mark</td>\n",
       "        <td>25</td>\n",
       "        <td>Rich-Mond </td>\n",
       "        <td>65000.0</td>\n",
       "    </tr>\n",
       "    <tr>\n",
       "        <td>5</td>\n",
       "        <td>David</td>\n",
       "        <td>27</td>\n",
       "        <td>Texas</td>\n",
       "        <td>85000.0</td>\n",
       "    </tr>\n",
       "    <tr>\n",
       "        <td>6</td>\n",
       "        <td>Kim</td>\n",
       "        <td>22</td>\n",
       "        <td>South-Hall</td>\n",
       "        <td>45000.0</td>\n",
       "    </tr>\n",
       "    <tr>\n",
       "        <td>7</td>\n",
       "        <td>James</td>\n",
       "        <td>24</td>\n",
       "        <td>Houston</td>\n",
       "        <td>10000.0</td>\n",
       "    </tr>\n",
       "</table>"
      ],
      "text/plain": [
       "[(1, 'Paul', 32, 'California', 20000.0),\n",
       " (2, 'Allen', 25, 'Texas', 15000.0),\n",
       " (3, 'Teddy', 23, 'Norway', 20000.0),\n",
       " (4, 'Mark', 25, 'Rich-Mond ', 65000.0),\n",
       " (5, 'David', 27, 'Texas', 85000.0),\n",
       " (6, 'Kim', 22, 'South-Hall', 45000.0),\n",
       " (7, 'James', 24, 'Houston', 10000.0)]"
      ]
     },
     "execution_count": 26,
     "metadata": {},
     "output_type": "execute_result"
    }
   ],
   "source": [
    "%%sql sqlite://\n",
    "DROP TABLE IF EXISTS company;\n",
    "\n",
    "CREATE TABLE company(\n",
    "   id INTEGER PRIMARY KEY AUTOINCREMENT,\n",
    "   name           text      NOT NULL,\n",
    "   age            int       NOT NULL,\n",
    "   address        char(50),\n",
    "   salary         real\n",
    ");\n",
    "\n",
    "INSERT INTO COMPANY (name,age,address,salary) VALUES ('Paul', 32, 'California', 20000.00);\n",
    "INSERT INTO COMPANY (name,age,address,salary) VALUES ('Allen', 25, 'Texas', 15000.00 );\n",
    "INSERT INTO COMPANY (name,age,address,salary) VALUES ('Teddy', 23, 'Norway', 20000.00 );\n",
    "INSERT INTO COMPANY (name,age,address,salary) VALUES ('Mark', 25, 'Rich-Mond ', 65000.00);\n",
    "INSERT INTO COMPANY (name,age,address,salary) VALUES ('David', 27, 'Texas', 85000.00);\n",
    "INSERT INTO COMPANY (name,age,address,salary) VALUES ('Kim', 22, 'South-Hall', 45000.00);\n",
    "INSERT INTO COMPANY (name,age,address,salary) VALUES ('James', 24, 'Houston', 10000.00);\n",
    "\n",
    "SELECT * FROM company;"
   ]
  },
  {
   "cell_type": "code",
   "execution_count": 27,
   "metadata": {
    "cell_style": "center",
    "hidePrompt": true,
    "slideshow": {
     "slide_type": "slide"
    }
   },
   "outputs": [
    {
     "name": "stdout",
     "output_type": "stream",
     "text": [
      "Done.\n",
      "Done.\n"
     ]
    },
    {
     "data": {
      "text/html": [
       "<table>\n",
       "    <tr>\n",
       "        <th>name</th>\n",
       "    </tr>\n",
       "    <tr>\n",
       "        <td>department</td>\n",
       "    </tr>\n",
       "    <tr>\n",
       "        <td>instructor</td>\n",
       "    </tr>\n",
       "    <tr>\n",
       "        <td>employees</td>\n",
       "    </tr>\n",
       "</table>"
      ],
      "text/plain": [
       "[('department',), ('instructor',), ('employees',)]"
      ]
     },
     "execution_count": 27,
     "metadata": {},
     "output_type": "execute_result"
    }
   ],
   "source": [
    "%%sql sqlite://\n",
    "ALTER TABLE company \n",
    "RENAME TO employees;\n",
    "\n",
    "-- Shows all the existing tables\n",
    "SELECT name FROM sqlite_master WHERE type='table' AND name != 'sqlite_sequence';"
   ]
  },
  {
   "cell_type": "markdown",
   "metadata": {
    "slideshow": {
     "slide_type": "slide"
    }
   },
   "source": [
    "## Summary<img src=\"https://img.icons8.com/ios/summary-list\" style=\"display:inline-block;vertical-align:middle;padding:0 0 10px 10px\">"
   ]
  },
  {
   "cell_type": "markdown",
   "metadata": {
    "slideshow": {
     "slide_type": "-"
    }
   },
   "source": [
    "* `CREATE TABLE`\n",
    "\n",
    "\t* **integrity constraints**\n",
    "\t\n",
    "* **Data Types**\n",
    "\n",
    "* `INSERT`\n",
    "\n",
    "\t* `AUTOINCREMENT`\n",
    "\n",
    "* `UPDATE`\n",
    "\n",
    "* `DELETE`\n",
    "\n",
    "* `DROP`\n",
    "\n",
    "* `ALTER TABLE`\n"
   ]
  },
  {
   "cell_type": "markdown",
   "metadata": {
    "slideshow": {
     "slide_type": "slide"
    }
   },
   "source": [
    "# TUTORIAL <img src=\"https://img.icons8.com/e-learning\" style=\"display:inline-block;vertical-align:middle;padding:0 0 10px 10px\">"
   ]
  },
  {
   "cell_type": "markdown",
   "metadata": {
    "cell_style": "split",
    "slideshow": {
     "slide_type": "-"
    }
   },
   "source": [
    "1. `CREATE` a new table e.g `company` table\n",
    "\n",
    "1. `INSERT` company employees into the table\n",
    "\n",
    "1. `ALTER` the table attributes e.g. change a name of a column\n",
    "\n",
    "1. `INSERT` a new employee\n",
    "\n",
    "1. `UPDATE` the salary for this employee\n",
    "\n",
    "1. `DELETE` that new employee\n",
    "\n",
    "1. `DROP` the table `company`"
   ]
  },
  {
   "cell_type": "code",
   "execution_count": 28,
   "metadata": {
    "cell_style": "split"
   },
   "outputs": [
    {
     "name": "stdout",
     "output_type": "stream",
     "text": [
      "Done.\n",
      "0 rows affected.\n"
     ]
    },
    {
     "data": {
      "text/plain": [
       "[]"
      ]
     },
     "execution_count": 28,
     "metadata": {},
     "output_type": "execute_result"
    }
   ],
   "source": [
    "%%sql sqlite://\n",
    "DROP TABLE IF EXISTS company;\n",
    "--Write your SQL starting after the next line:  \n",
    "--1\n",
    "\n",
    "--2\n",
    "\n",
    "--3\n",
    "\n",
    "--4\n",
    "\n",
    "--5\n",
    "\n",
    "--6\n",
    "\n",
    "--7"
   ]
  }
 ],
 "metadata": {
  "celltoolbar": "Slideshow",
  "kernelspec": {
   "display_name": "Python 3",
   "language": "python",
   "name": "python3"
  },
  "language_info": {
   "codemirror_mode": {
    "name": "ipython",
    "version": 3
   },
   "file_extension": ".py",
   "mimetype": "text/x-python",
   "name": "python",
   "nbconvert_exporter": "python",
   "pygments_lexer": "ipython3",
   "version": "3.7.5"
  },
  "rise": {
   "autolaunch": true,
   "backgroundTransition": "slide",
   "controls": true,
   "enable_chalkboard": true,
   "overlay": "<div class='line top'></div><div class='line bottom'></div><div class='line left'></div><div class='line right'></div><div class='logo'><img src='../binder/logo.png'/></div>",
   "showSlideNumber": "speaker",
   "slideNumber": true,
   "theme": "simple",
   "transition": "slide"
  }
 },
 "nbformat": 4,
 "nbformat_minor": 2
}
