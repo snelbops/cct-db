{
 "cells": [
  {
   "cell_type": "code",
   "execution_count": 91,
   "metadata": {
    "cell_style": "center",
    "slideshow": {
     "slide_type": "skip"
    }
   },
   "outputs": [
    {
     "data": {
      "text/html": [
       "<style type=\"text/css\">\n",
       ".CodeMirror {width: 100vw}\n",
       ".container {width: 90% !important}\n",
       ".rendered_html {font-size:0.8em}\n",
       ".rendered_html table, .rendered_html th, .rendered_html tr, .rendered_html td {font-size: 0.9em}\n",
       "table td, table th {\n",
       "border: 1px  black solid !important;\n",
       "color: black !important;\n",
       "background-color: white;}\n",
       "hr {\n",
       "    border: 0;\n",
       "    height: 1px;\n",
       "    background: #333;\n",
       "    background-image: linear-gradient(to right, #ccc, #333, #ccc);\n",
       "}\n",
       "</style>\n"
      ],
      "text/plain": [
       "<IPython.core.display.HTML object>"
      ]
     },
     "metadata": {},
     "output_type": "display_data"
    }
   ],
   "source": [
    "%%HTML\n",
    "<style type=\"text/css\">\n",
    ".CodeMirror {width: 100vw}\n",
    ".container {width: 90% !important}\n",
    ".rendered_html {font-size:0.8em}\n",
    ".rendered_html table, .rendered_html th, .rendered_html tr, .rendered_html td {font-size: 0.9em}\n",
    "table td, table th {\n",
    "border: 1px  black solid !important;\n",
    "color: black !important;\n",
    "background-color: white;}\n",
    "hr {\n",
    "    border: 0;\n",
    "    height: 1px;\n",
    "    background: #333;\n",
    "    background-image: linear-gradient(to right, #ccc, #333, #ccc);\n",
    "}\n",
    "</style>"
   ]
  },
  {
   "cell_type": "markdown",
   "metadata": {
    "cell_style": "center",
    "slideshow": {
     "slide_type": "slide"
    }
   },
   "source": [
    "# Normalisation<img src=\"https://img.icons8.com/ios/pivot-table\" style=\"display:inline-block;vertical-align:middle;padding:0 0 10px 10px\"> & Data Modelling<img src=\"https://img.icons8.com/workflow\" style=\"display:inline-block;vertical-align:middle;padding:0 0 10px 15px\">"
   ]
  },
  {
   "cell_type": "markdown",
   "metadata": {
    "slideshow": {
     "slide_type": ""
    }
   },
   "source": [
    "* Press `Space` to navigate through the slides\n",
    "* Use `Shift+Space` to go back"
   ]
  },
  {
   "cell_type": "markdown",
   "metadata": {
    "slideshow": {
     "slide_type": "slide"
    }
   },
   "source": [
    "# Quick Recap<img src=\"https://img.icons8.com/ios/connection-sync\" style=\"display:inline-block;vertical-align:middle;padding:0 0 10px 10px\">"
   ]
  },
  {
   "cell_type": "markdown",
   "metadata": {
    "cell_style": "split"
   },
   "source": [
    "* Terminology:\n",
    " * **Relation** →\tTable \n",
    " * **Tuple** →\tRow or record \n",
    " * **Attribute** →\tColumn or field \n",
    " * **Cardinality** →\tNumber of rows \n",
    " * **Degree** →\tNumber of columns \n",
    " * **Primary key** →\tUnique identifier \n",
    " * **Domain** →\tPool of legal values\n",
    "* Keys:\n",
    " * **Candidate**, **Primary**, **Foreign**, **Alternate**\n",
    " * **Single**, **Compound**, **Composite**\n",
    "* Schemas:\n",
    " * **Internal**, **Conceptual**, **External**"
   ]
  },
  {
   "cell_type": "markdown",
   "metadata": {
    "cell_style": "split",
    "slideshow": {
     "slide_type": "fragment"
    }
   },
   "source": [
    " <img src=\"https://i.stack.imgur.com/2Fcer.gif\" width=\"100%\">"
   ]
  },
  {
   "cell_type": "markdown",
   "metadata": {
    "slideshow": {
     "slide_type": "subslide"
    }
   },
   "source": [
    "# Quick Recap <img src=\"https://img.icons8.com/ios/connection-sync\" style=\"display:inline-block;vertical-align:middle;padding:0 0 10px 10px\">\n",
    "\n",
    "* A **database** ia a self-describing collection of integrated records\n",
    "* A **database management system (DBMS)** is system software for creating and managing databases\n",
    "* A **relational database (RDB)** is a collective set of multiple data sets organised by tables, records and columns\n",
    "* **SQL** is a standardised query language for requesting information from a database"
   ]
  },
  {
   "cell_type": "markdown",
   "metadata": {
    "slideshow": {
     "slide_type": "slide"
    }
   },
   "source": [
    "# Normalisation<img src=\"https://img.icons8.com/ios/pivot-table\" style=\"display:inline-block;vertical-align:middle;padding:0 0 10px 10px\">\n",
    "* **Normalisation** is the process of reorganising data in a database so that it meets two basic requirements:\n",
    " 1. There is no redundancy of data (all data is stored in only one place)\n",
    " 2. Data dependencies are logical (all related data items are stored together)\n",
    "* **Normalisation** is important, as allows databases to take up as little disk space as possible, resulting in increased performance.\n",
    "---\n",
    "* **Essentially**, this is the process of dividing larger tables into smaller tables and linking them using relationships."
   ]
  },
  {
   "cell_type": "markdown",
   "metadata": {
    "slideshow": {
     "slide_type": "subslide"
    }
   },
   "source": [
    "# Normalisation<img src=\"https://img.icons8.com/ios/pivot-table\" style=\"display:inline-block;vertical-align:middle;padding:0 0 10px 10px\">\n",
    "* The inventor of the relational model Edgar Codd proposed the theory of normalisation with the introduction of **First Normal Form (1NF)**\n",
    "* He continued to extend theory with **Second (2NF)** and **Third (3NF) Normal Form**\n",
    "* Later he joined with Raymond F. Boyce to develop the theory of **Boyce-Codd Normal Form**"
   ]
  },
  {
   "cell_type": "markdown",
   "metadata": {
    "slideshow": {
     "slide_type": "slide"
    }
   },
   "source": [
    "# Normalisation<img src=\"https://img.icons8.com/ios/pivot-table\" style=\"display:inline-block;vertical-align:middle;padding:0 0 10px 10px\"> Tutorial"
   ]
  },
  {
   "cell_type": "markdown",
   "metadata": {},
   "source": [
    "* Assume we have a list of people and list their faviourite movies. Without any normalisation, all information is stored in one table as shown below.<br><br>\n",
    "\n",
    "|Name|Surname|Title|Address|Movies|Category\n",
    "|---|---|---|---|---|---\n",
    "|John|Smith|Mr.|Dublin 4|Matrix, Terminator| Action, Action\n",
    "|Jane|Sanders|Mrs.|Dublin 1|Titanic, Pirates of the Carribbean|Drama, Action\n",
    "|Jane|Sanders|Ms.|Dublin 8|Donnie Darko|SciFi Thriller"
   ]
  },
  {
   "cell_type": "markdown",
   "metadata": {
    "cell_style": "center",
    "slideshow": {
     "slide_type": "slide"
    }
   },
   "source": [
    "<!-- https://blog.udemy.com/normalization-in-database-with-example/ --->\n",
    "\n",
    "## First Normal Form (1NF)\n",
    "\n",
    "* To achieve first normal form for a database, you need to make sure that no table contains multiple columns that you could use to get the same information.\n",
    "* Each table should be organised into rows, and each row should have a primary key that distinguishes it as unique.<br><br>\n",
    "\n",
    "|Name|Surname|Title|Address|Movies|Category\n",
    "|---|---|---|---|---|---\n",
    "|John|Smith|Mr.|Dublin 4|Matrix| Action\n",
    "|John|Smith|Mr.|Dublin 4|Terminator| Action\n",
    "|Jane|Sanders|Mrs.|Dublin 1|Titanic|Drama\n",
    "|Jane|Sanders|Mrs.|Dublin 1|Pirates of the Carribbean|Action\n",
    "|Jane|Sanders|Ms.|Dublin 8|Donnie Darko|SciFi"
   ]
  },
  {
   "cell_type": "markdown",
   "metadata": {
    "slideshow": {
     "slide_type": "slide"
    }
   },
   "source": [
    "<!-- https://blog.udemy.com/normalization-in-database-with-example/ --->\n",
    "\n",
    "## Second Normal Form (2NF)"
   ]
  },
  {
   "cell_type": "markdown",
   "metadata": {
    "cell_style": "split",
    "slideshow": {
     "slide_type": "-"
    }
   },
   "source": [
    "* To achieve second normal form, it would be helpful to split out the movies into an independent table and match them up using Person ID to remove **partial functional dependency**\n",
    "---\n",
    "**Rules**\n",
    "* Tables should be in 1NF\n",
    "* Have no **partial dependency**\n",
    " * There should be a **single primary key**\n",
    " * Remove any non-key attributes that only depend on part of the table key to a new table"
   ]
  },
  {
   "cell_type": "markdown",
   "metadata": {
    "cell_style": "split",
    "slideshow": {
     "slide_type": "-"
    }
   },
   "source": [
    "|Person ID|Name|Surname|Title|Address\n",
    "|---|---|---|---|---\n",
    "|1|John|Smith|Mr.|Dublin 4\n",
    "|2|Jane|Sanders|Mrs.|Dublin 1\n",
    "|3|Jane|Sanders|Ms.|Dublin 8\n",
    "\n",
    "<br>\n",
    "\n",
    "|Person ID|Movies|Category\n",
    "|---|---|---\n",
    "|1|Matrix|Action\n",
    "|1|Terminator|Action\n",
    "|2|Titanic|Drama\n",
    "|2|Pirates of the Carribbean|Action\n",
    "|3|Donnie Darko|SciFi"
   ]
  },
  {
   "cell_type": "markdown",
   "metadata": {
    "slideshow": {
     "slide_type": "slide"
    }
   },
   "source": [
    "# Partial Dependency<img src=\"https://img.icons8.com/wired/broken-link\" style=\"display:inline-block;vertical-align:middle;padding:0 0 10px 10px\">"
   ]
  },
  {
   "cell_type": "markdown",
   "metadata": {
    "cell_style": "split",
    "slideshow": {
     "slide_type": "fragment"
    }
   },
   "source": [
    "* **Partial dependency** occurs when a non-prime attribute is functionally dependent on part of a candidate key.<br><br>\n",
    "\n",
    "|Customer ID|Store ID|Purchase Location\n",
    "|---|---|---\n",
    "|1|1|Dublin\n",
    "|1|3|Cork\n",
    "|2|1|Dublin\n",
    "|3|2|Waterford\n",
    "|4|3|Cork"
   ]
  },
  {
   "cell_type": "markdown",
   "metadata": {
    "cell_style": "split",
    "slideshow": {
     "slide_type": "fragment"
    }
   },
   "source": [
    "* This table has a composite primary key **Customer ID, Store ID**.\n",
    "\n",
    "* The non-key attribute is **Purchase Location**.\n",
    "\n",
    "* In this case, **Purchase Location** only depends on **Store ID**, which is only part of the primary key.\n",
    "\n",
    "* To bring this table to **2NF**, we break the table into two tables"
   ]
  },
  {
   "cell_type": "markdown",
   "metadata": {
    "slideshow": {
     "slide_type": "subslide"
    }
   },
   "source": [
    "* Now, in the new  we created table, the column **Purchase Location** is fully dependent on the primary key of that table, which is **Store ID**.<br><br>\n",
    "\n",
    "|Customer ID|Store ID\n",
    "|---|---\n",
    "|1|1|\n",
    "|1|3|\n",
    "|2|1|\n",
    "|3|2|\n",
    "|4|3|\n",
    "\n",
    "<br>\n",
    "\n",
    "|Store ID|Purchase Location\n",
    "|---|---\n",
    "|1|Dublin\n",
    "|2|Waterford\n",
    "|3|Cork"
   ]
  },
  {
   "cell_type": "markdown",
   "metadata": {
    "slideshow": {
     "slide_type": "slide"
    }
   },
   "source": [
    "## Transitive Dependency<img src=\"https://img.icons8.com/broken-pencil\" style=\"display:inline-block;vertical-align:middle;padding:0 0 10px 10px\">\n",
    "\n",
    "* A **transitive functional dependency** is when changing a non-key column, might cause any of the other non-key columns to change\n",
    "* **Transitive dependency** must be removed to satisfy 3NF\n",
    "* Exaple: Change of **Surname** and consequent change of **Title**<br><br>\n",
    "\n",
    "|Person ID|Name|Surname|Title|Address\n",
    "|---|---|---|---|---\n",
    "|1|John|Smith|Mr.|Dublin 4\n",
    "|2|Jane|Sanders|Mrs.|Dublin 1\n",
    "|3|Jane|Sanders|Ms.|Dublin 8"
   ]
  },
  {
   "cell_type": "markdown",
   "metadata": {
    "slideshow": {
     "slide_type": "slide"
    }
   },
   "source": [
    "<!-- https://blog.udemy.com/normalization-in-database-with-example/ --->\n",
    "\n",
    "## Third Normal Form (3NF)"
   ]
  },
  {
   "cell_type": "markdown",
   "metadata": {
    "cell_style": "split",
    "slideshow": {
     "slide_type": "fragment"
    }
   },
   "source": [
    "**Rules**\n",
    "* Tables should be in 2NF\n",
    "* Have no **transitive dependencies**\n",
    "---\n",
    "\n",
    "* We have again divided our tables and created a new table which stores **Titles**\n",
    "* There are no transitive functional dependencies, and hence our table is in **3NF**\n",
    "* Now our little example is at a level that cannot further be decomposed to attain higher forms of normalisation\n"
   ]
  },
  {
   "cell_type": "markdown",
   "metadata": {
    "cell_style": "split",
    "slideshow": {
     "slide_type": "fragment"
    }
   },
   "source": [
    "|Person ID|Name|Surname|Title ID|Address\n",
    "|---|---|---|---|---\n",
    "|1|John|Smith|1|Dublin 4\n",
    "|2|Jane|Sanders|3|Dublin 1\n",
    "|3|Jane|Sanders|2|Dublin 8\n",
    "\n",
    "<br>\n",
    "\n",
    "|Person ID|Movies|Category\n",
    "|---|---|---\n",
    "|1|Matrix|Action\n",
    "|1|Terminator|Action\n",
    "|2|Titanic|Drama\n",
    "|2|Pirates of the Carribbean|Action\n",
    "|3|Donnie Darko|SciFi\n",
    "\n",
    "<br>\n",
    "\n",
    "|Title ID|Title\n",
    "|---|---\n",
    "|1|Mr.\n",
    "|2|Ms.\n",
    "|3|Mrs."
   ]
  },
  {
   "cell_type": "markdown",
   "metadata": {
    "slideshow": {
     "slide_type": "slide"
    }
   },
   "source": [
    "## Further Normalisation<img src=\"https://img.icons8.com/ios/pivot-table\" style=\"display:inline-block;vertical-align:middle;padding:0 0 10px 10px\">\n",
    "\n",
    "* **Boyce-Codd Normal Form (BCNF)**\n",
    " * Even when a database is in 3rd Normal Form, still there would be anomalies resulted if it has more than one **Candidate Key**\n",
    " * BCNF sometimes is reffered to as **3.5NF**\n",
    " \n",
    "* **Other Normal Forms (including 4NF, 5NF, 6NF)**\n",
    "  * https://en.wikipedia.org/wiki/Database_normalization\n",
    "  * https://www.studytonight.com/dbms/database-normalization.php"
   ]
  },
  {
   "cell_type": "markdown",
   "metadata": {
    "slideshow": {
     "slide_type": "slide"
    }
   },
   "source": [
    "# Normalisation<img src=\"https://img.icons8.com/ios/pivot-table\" style=\"display:inline-block;vertical-align:middle;padding:0 0 10px 10px\"> Summary\n",
    "* Database designing is critical to the successful implementation of a DBMS that meets the data requirements of an enterprise system.\n",
    "* Normalisation helps produce database systems that are cost-effective and have better security models.\n",
    "* Functional dependencies are a very important component of the normalise data process\n",
    "* Most database systems are normalised database up to the third normal forms."
   ]
  },
  {
   "cell_type": "markdown",
   "metadata": {
    "cell_style": "center",
    "slideshow": {
     "slide_type": "slide"
    }
   },
   "source": [
    "<!-- https://www.guru99.com/data-modelling-conceptual-logical.html -->\n",
    "# Data Modelling<img src=\"https://img.icons8.com/workflow\" style=\"display:inline-block;vertical-align:middle;padding:0 0 10px 15px\">\n",
    "\n",
    "* Data modeling is the process of creating a data model for the data to be stored in a database.\n",
    "\n",
    "* It describes:\n",
    " * Data objects\n",
    " * The associations between different data objects\n",
    " * The rules"
   ]
  },
  {
   "cell_type": "markdown",
   "metadata": {
    "slideshow": {
     "slide_type": "slide"
    }
   },
   "source": [
    "# Data Models<img src=\"https://img.icons8.com/health-data\" style=\"display:inline-block;vertical-align:middle;padding:0 0 10px 15px\">"
   ]
  },
  {
   "cell_type": "markdown",
   "metadata": {
    "cell_style": "center",
    "slideshow": {
     "slide_type": "-"
    }
   },
   "source": [
    "* **Conceptual**\n",
    " * This Data Model defines **WHAT** the system contains.\n",
    " * This model is typically created by Business stakeholders and Data Architects.\n",
    " * The purpose is to organise, scope and define business concepts and rules."
   ]
  },
  {
   "cell_type": "markdown",
   "metadata": {
    "slideshow": {
     "slide_type": "fragment"
    }
   },
   "source": [
    "* **Logical**\n",
    " * Defines **HOW** the system should be implemented regardless of the DBMS.\n",
    " * This model is typically created by Data Architects and Business Analysts.\n",
    " * The purpose is to developed technical map of rules and data structures."
   ]
  },
  {
   "cell_type": "markdown",
   "metadata": {
    "slideshow": {
     "slide_type": "fragment"
    }
   },
   "source": [
    "* **Physical**\n",
    " * This Data Model describes **HOW** the system will be implemented using a specific DBMS system.\n",
    " * This model is typically created by DB analysts and developers.\n",
    " * The purpose is actual implementation of the database."
   ]
  },
  {
   "cell_type": "markdown",
   "metadata": {
    "cell_style": "center",
    "slideshow": {
     "slide_type": "subslide"
    }
   },
   "source": [
    "# Data Models<img src=\"https://img.icons8.com/health-data\" style=\"display:inline-block;vertical-align:middle;padding:0 0 10px 15px\">\n",
    "<center><img src=\"https://www.guru99.com/images/1/022218_0657_WhatisDataM1.png\" width=\"700px\"></center>"
   ]
  },
  {
   "cell_type": "markdown",
   "metadata": {
    "slideshow": {
     "slide_type": "slide"
    }
   },
   "source": [
    "# Components of a Data Model\n",
    " * **Entity**\n",
    "  * Any object in the system that we want to model and store information about\n",
    "  * Entities are usually recognisable concepts, either concrete or abstract, such as person, places, things, or events which have relevance to the database\n",
    " * **Attribute**\n",
    "  * Characteristics or properties of an entity\n",
    " * **Relationship**\n",
    "  * Dependency or association between two entities"
   ]
  },
  {
   "cell_type": "markdown",
   "metadata": {
    "slideshow": {
     "slide_type": "slide"
    }
   },
   "source": [
    "<!-- https://www.visual-paradigm.com/support/documents/vpuserguide/3563/3564/85378_conceptual,l.html --->\n",
    "# Conceptual Model\n",
    "* The main aim of this model is to establish the entities, their attributes and their relationships.\n",
    "* At this level is hardly any detail available of the actual database structure.\n",
    "\n",
    "* **Example**\n",
    " * Customer and Product are two entities\n",
    " * Customer number and name are attributes of the Customer entity\n",
    " * Product name and price are attributes of product entity\n",
    " * Sale is the relationship between the customer and product\n",
    "\n",
    "<center><img src=\"https://www.guru99.com/images/1/022218_0657_WhatisDataM2.png\"></center>"
   ]
  },
  {
   "cell_type": "markdown",
   "metadata": {
    "slideshow": {
     "slide_type": "slide"
    }
   },
   "source": [
    "# Conceptual Model Characteristics\n",
    "\n",
    "* Offers organisation-wide coverage of the business concepts.\n",
    "* This type of Data Models are designed and developed for a business audience.\n",
    "* The conceptual model is developed independently of hardware specifications like data storage capacity, location or software specifications like DBMS vendor and technology.\n",
    "* The focus is to represent data as a user will see it in the \"real world.\""
   ]
  },
  {
   "cell_type": "markdown",
   "metadata": {
    "slideshow": {
     "slide_type": "slide"
    }
   },
   "source": [
    "# Logical Data Model\n",
    "* Logical data models add further information to the conceptual model elements.\n",
    "* It defines the structure of the data elements and set the relationships between them.\n",
    "\n",
    "<center><img src=\"https://www.guru99.com/images/1/022218_0657_WhatisDataM3.png\"></center>\n",
    "\n",
    "* The advantage of the Logical data model is to provide a foundation to form the base for the Physical model.\n",
    "* However, the modeling structure remains generic.\n",
    "* At this level, no primary or secondary key is defined.\n",
    "* In this modelling phase, you need to verify and adjust the connector details that were set earlier for relationships."
   ]
  },
  {
   "cell_type": "markdown",
   "metadata": {
    "slideshow": {
     "slide_type": "slide"
    }
   },
   "source": [
    "# Logical Model Characteristics\n",
    "* Describes data needs for a single project but could integrate with other logical data models based on the scope of the project.\n",
    "* Designed and developed independently from the DBMS.\n",
    "* Data attributes will have datatypes with exact precisions and length.\n",
    "* Normalisation processes to the model is applied typically till 3NF."
   ]
  },
  {
   "cell_type": "markdown",
   "metadata": {
    "slideshow": {
     "slide_type": "slide"
    }
   },
   "source": [
    "# Physical Data Model\n",
    "* A Physical Data Model describes the database specific implementation of the data model.\n",
    "* It offers an abstraction of the database and helps generate schema.\n",
    "* This is because of the richness of meta-data offered by a Physical Data Model.\n",
    "\n",
    "<center><img src=\"https://www.guru99.com/images/1/022218_0657_WhatisDataM4.png\"></center>"
   ]
  },
  {
   "cell_type": "markdown",
   "metadata": {
    "slideshow": {
     "slide_type": "slide"
    }
   },
   "source": [
    "# Physical Model Characteristics\n",
    "* The physical data model describes data need for a single project or application though it maybe integrated with other physical data models based on project scope.\n",
    "* Data Model contains relationships between tables that which addresses cardinality and nullability of the relationships.\n",
    "* Developed for a specific version of a DBMS, location, data storage or technology to be used in the project.\n",
    "* Columns should have exact datatypes, lengths assigned and default values.\n",
    "* Primary and Foreign keys, views, indexes, access profiles, authorisations and other components are defined."
   ]
  },
  {
   "cell_type": "markdown",
   "metadata": {
    "slideshow": {
     "slide_type": "slide"
    }
   },
   "source": [
    "# Data Modelling<img src=\"https://img.icons8.com/workflow/70\" style=\"display:inline-block;vertical-align:middle;padding:0 0 10px 15px\"> Summary"
   ]
  },
  {
   "cell_type": "markdown",
   "metadata": {
    "slideshow": {
     "slide_type": "fragment"
    }
   },
   "source": [
    "* Data modeling is the process of developing data model for the data to be stored in a Database.\n",
    "* Data Models ensure consistency in naming conventions, default values, semantics, security while ensuring quality of the data.\n",
    "* There are three types of **conceptual**, **logical** and **physical**.\n",
    "* The main aim of **conceptual model** is to establish the entities, their attributes and their relationships.\n",
    "* A **logical model** defines the structure of the data elements and set the relationships between them.\n",
    "* A **physical model** describes the database specific implementation of the data model.\n",
    "* The main goal of a designing data model is to make certain that data objects offered by the functional team are represented accurately."
   ]
  },
  {
   "cell_type": "markdown",
   "metadata": {
    "slideshow": {
     "slide_type": "slide"
    }
   },
   "source": [
    "# Entity-Relational Model<img src=\"https://img.icons8.com/serial-tasks/80\" style=\"display:inline-block;vertical-align:middle;padding:0 0 10px 15px\">"
   ]
  },
  {
   "cell_type": "markdown",
   "metadata": {},
   "source": [
    "* The ER or (Entity Relational Model) is a high-level **conceptual data model** diagram.\n",
    "* Entity-Relation model is based on the notion of real-world entities and the relationship between them.\n",
    "* ER modeling helps you to analyze data requirements systematically to produce a well-designed database.\n",
    "* It is considered a best practice to complete ER modeling before implementing your database\n",
    "---\n",
    "## History\n",
    "* ER diagrams are a visual tool which is helpful to represent the ER model. It was proposed by Peter Chen in 1971 to create a uniform convention which can be used for relational database and network\n",
    "* He aimed to use an ER model as a conceptual modeling approach"
   ]
  },
  {
   "cell_type": "markdown",
   "metadata": {
    "slideshow": {
     "slide_type": "slide"
    }
   },
   "source": [
    "# What is ERD?"
   ]
  },
  {
   "cell_type": "markdown",
   "metadata": {
    "cell_style": "split",
    "slideshow": {
     "slide_type": "fragment"
    }
   },
   "source": [
    "* Entity-relationship diagram (ERD) displays the relationships of entity set stored in a database.\n",
    "* In other words, we can say that ER diagrams help you to explain the logical structure of databases.\n",
    "* At first look, an ER diagram looks very similar to the flowchart.\n",
    "* However, ER Diagram includes many specialized symbols, and its meanings make this model unique."
   ]
  },
  {
   "cell_type": "markdown",
   "metadata": {
    "cell_style": "split"
   },
   "source": [
    "<img src=\"https://www.guru99.com/images/1/100518_0621_ERDiagramTu1.png\">"
   ]
  },
  {
   "cell_type": "markdown",
   "metadata": {
    "slideshow": {
     "slide_type": "subslide"
    }
   },
   "source": [
    "\n",
    "## Why use ER Diagrams?\n",
    "* ER model allows you to draw Database Design\n",
    "* It is an easy to use graphical tool for modeling data\n",
    "* Widely used in Database Design\n",
    "* It is a GUI representation of the logical structure of a Database\n",
    "* It helps you to identifies the entities which exist in a system and the relationships between those entities\n",
    "* Provide a preview of how all your tables should connect, what fields are going to be on each table\n",
    "* ERD are translatable into relational tables which allows you to build databases quickly\n",
    "* ERD can be used by database designers as a blueprint for implementing data in specific software applications\n",
    "* The database designer gains a better understanding of the information to be contained in the database with the help of ERP diagram"
   ]
  },
  {
   "cell_type": "markdown",
   "metadata": {
    "cell_style": "center",
    "slideshow": {
     "slide_type": "subslide"
    }
   },
   "source": [
    "## Components of ERD\n",
    "* In a University database, we might have <u>**entities**</u> for **Students**, **Courses** and **Lecturers**.\n",
    "* Students entity can have <u>**attributes**</u> like **Rollno**, **Name** and **DeptID**.\n",
    "* They might have <u>**relationships**</u> with Courses and Lecturers.\n",
    "\n",
    "<center><img src=\"https://www.guru99.com/images/1/100518_0621_ERDiagramTu2.png\" width=\"600px\"></center>"
   ]
  },
  {
   "cell_type": "markdown",
   "metadata": {
    "slideshow": {
     "slide_type": "slide"
    }
   },
   "source": [
    "# Summary<img src=\"https://img.icons8.com/ios/summary-list/80\" style=\"display:inline-block;vertical-align:middle;padding:0 0 10px 10px\">"
   ]
  },
  {
   "cell_type": "markdown",
   "metadata": {},
   "source": [
    "* **Normalisation**\n",
    " * 1NF\n",
    " * 2NF (be 1NF and remove **partial dependency**)\n",
    " * 3NF (be 2NF and remove **transitive dependency**)\n",
    "* **Data modelling**\n",
    " * Conceptual\n",
    " * Logical\n",
    " * Physical\n",
    "* **Entity-Relational Model**\n",
    " * Conceptual representation\n",
    " * Introduction to ERD"
   ]
  },
  {
   "cell_type": "markdown",
   "metadata": {
    "slideshow": {
     "slide_type": "slide"
    }
   },
   "source": [
    "# Continuous Assessment I<img src=\"https://img.icons8.com/ios/test-results/80\" style=\"display:inline-block;vertical-align:middle;padding:0 0 10px 10px\">"
   ]
  },
  {
   "cell_type": "markdown",
   "metadata": {
    "cell_style": "center",
    "slideshow": {
     "slide_type": "-"
    }
   },
   "source": [
    "* **CA1 – 20%** will be released on **Wendesday (02/10/2019)**\n",
    " * You will use visual database design tools to:\n",
    "    * Create a **conceptual model** (ERD) that reflects:\n",
    "     * Entities\n",
    "     * Attributes and the attribute types\n",
    "     * Relationships\n",
    " * You will transform the ER Model to create a **physical model**:\n",
    "    * This will include:\n",
    "     * All relations (i.e. tables)\n",
    "     * All relationships, check integrity constraints (keys), domains, and use\n",
    "defined naming conventions.\n"
   ]
  }
 ],
 "metadata": {
  "celltoolbar": "Slideshow",
  "kernelspec": {
   "display_name": "Python 3",
   "language": "python",
   "name": "python3"
  },
  "language_info": {
   "codemirror_mode": {
    "name": "ipython",
    "version": 3
   },
   "file_extension": ".py",
   "mimetype": "text/x-python",
   "name": "python",
   "nbconvert_exporter": "python",
   "pygments_lexer": "ipython3",
   "version": "3.7.5"
  },
  "rise": {
   "autolaunch": true,
   "controls": true,
   "enable_chalkboard": true,
   "overlay": "<div class='line top'></div><div class='line bottom'></div><div class='line left'></div><div class='line right'></div>",
   "showSlideNumber": "speaker",
   "slideNumber": true,
   "theme": "simple",
   "transition": "linear"
  }
 },
 "nbformat": 4,
 "nbformat_minor": 2
}
