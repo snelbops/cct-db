{
 "cells": [
  {
   "cell_type": "code",
   "execution_count": 1,
   "metadata": {
    "cell_style": "center",
    "slideshow": {
     "slide_type": "skip"
    }
   },
   "outputs": [
    {
     "data": {
      "text/html": [
       "<style type=\"text/css\">\n",
       ".CodeMirror {width: 100vw}\n",
       ".container {width: 90% !important}\n",
       ".rendered_html {font-size:0.8em}\n",
       ".rendered_html table, .rendered_html th, .rendered_html tr, .rendered_html td {font-size: 1em}\n",
       "table td, table th {\n",
       "border: 1px  black solid !important;\n",
       "color: black !important;\n",
       "background-color: white;}\n",
       "hr {border: 0;\n",
       "    height: 1px;\n",
       "    background: #333;\n",
       "    background-image: linear-gradient(to right, #ccc, #333, #ccc);}\n",
       "</style>\n"
      ],
      "text/plain": [
       "<IPython.core.display.HTML object>"
      ]
     },
     "metadata": {},
     "output_type": "display_data"
    }
   ],
   "source": [
    "%%HTML\n",
    "<style type=\"text/css\">\n",
    ".CodeMirror {width: 100vw}\n",
    ".container {width: 90% !important}\n",
    ".rendered_html {font-size:0.8em}\n",
    ".rendered_html table, .rendered_html th, .rendered_html tr, .rendered_html td {font-size: 1em}\n",
    "table td, table th {\n",
    "border: 1px  black solid !important;\n",
    "color: black !important;\n",
    "background-color: white;}\n",
    "hr {border: 0;\n",
    "    height: 1px;\n",
    "    background: #333;\n",
    "    background-image: linear-gradient(to right, #ccc, #333, #ccc);}\n",
    "</style>"
   ]
  },
  {
   "cell_type": "markdown",
   "metadata": {},
   "source": [
    "## Concurrency Control <img src=\"https://img.icons8.com/bubbles/80/000000/lock-2.png\"  style=\"display:inline-block;vertical-align:middle;padding:0 0 10px 10px\">\n",
    "\n",
    "* Press `Space` to navigate through the slides\n",
    "* Use `Shift+Space` to go back"
   ]
  },
  {
   "cell_type": "markdown",
   "metadata": {
    "slideshow": {
     "slide_type": "slide"
    }
   },
   "source": [
    "## Concurrency Control <img src=\"https://img.icons8.com/bubbles/80/000000/lock-2.png\"  style=\"display:inline-block;vertical-align:middle;padding:0 0 10px 10px\">\n",
    "\n",
    "* In a multiprogramming environment where multiple transactions can be executed simultaneously, it is highly important to control the **concurrency of transactions**.\n",
    "\n",
    "* We have concurrency control protocols to ensure **atomicity**, **isolation** and **serialisability** of concurrent transactions.\n",
    "\n",
    "* Concurrency control protocols can be broadly divided into two categories:\n",
    "\n",
    "    * **Lock based protocols**\n",
    "    \n",
    "    * **Time stamp based protocols**"
   ]
  },
  {
   "cell_type": "markdown",
   "metadata": {
    "slideshow": {
     "slide_type": "slide"
    }
   },
   "source": [
    "## Lock-based Protocols  <img src=\"https://img.icons8.com/bubbles/80/000000/lock-2.png\"  style=\"display:inline-block;vertical-align:middle;padding:0 0 10px 10px\">\n",
    "\n",
    "* Database systems equipped with lock-based protocols use a mechanism by which any transaction cannot read or write data until it acquires an appropriate lock on it. Locks are of two kinds:\n",
    "\n",
    "    * **Binary Locks** − A lock on a data item can be in two states; it is either locked or unlocked.\n",
    "\n",
    "    * **Shared/exclusive** − This type of locking mechanism differentiates the locks based on their uses. If a lock is acquired on a data item to perform a write operation, it is an exclusive lock. Allowing more than one transaction to write on the same data item would lead the database into an inconsistent state. Read locks are shared because no data value is being changed.\n",
    "    \n",
    "* Types:\n",
    "\n",
    "    * **Simplistic**\n",
    "    * **Pre-claiming**\n",
    "    * **Two-Phase**\n",
    "    * **Strict Two-Phase**"
   ]
  },
  {
   "cell_type": "markdown",
   "metadata": {
    "slideshow": {
     "slide_type": "slide"
    }
   },
   "source": [
    "## Simplistic Lock Protocol <img src=\"https://img.icons8.com/bubbles/80/000000/lock-2.png\"  style=\"display:inline-block;vertical-align:middle;padding:0 0 10px 10px\">\n",
    "\n",
    "* **Simplistic Lock Protocol**\n",
    "\n",
    "    * Simplistic lock-based protocols allow transactions to obtain a lock on every object before a 'write' operation is performed.\n",
    "    * Transactions may unlock the data item after completing the ‘write’ operation.\n"
   ]
  },
  {
   "cell_type": "markdown",
   "metadata": {
    "slideshow": {
     "slide_type": "slide"
    }
   },
   "source": [
    "## Pre-claiming Lock Protocol  <img src=\"https://img.icons8.com/bubbles/80/000000/lock-2.png\"  style=\"display:inline-block;vertical-align:middle;padding:0 0 10px 10px\">\n",
    "\n",
    "* **Pre-claiming protocols**\n",
    "    \n",
    "    * Evaluate their operations and create a list of data items on which they need locks.\n",
    "    * Before initiating an execution, the transaction requests the system for all the locks it needs beforehand.\n",
    "    * If all the locks are granted, the transaction executes and releases all the locks when all its operations are over.\n",
    "    * If all the locks are not granted, the transaction rolls back and waits until all the locks are granted.\n",
    "\n",
    "<center><img src=\"https://www.tutorialspoint.com/dbms/images/pre_claiming.png\"></center>"
   ]
  },
  {
   "cell_type": "markdown",
   "metadata": {
    "slideshow": {
     "slide_type": "slide"
    }
   },
   "source": [
    "## Two-Phase Locking 2PL <img src=\"https://img.icons8.com/bubbles/80/000000/lock-2.png\"  style=\"display:inline-block;vertical-align:middle;padding:0 0 10px 10px\">\n",
    "\n",
    "* **Two-Phase Locking 2PL**\n",
    "    * This locking protocol divides the execution phase of a transaction into three parts.\n",
    "    * In the first part, when the transaction starts executing, it seeks permission for the locks it requires.\n",
    "    * The second part is where the transaction acquires all the locks.\n",
    "    * As soon as the transaction releases its first lock, the third phase starts.\n",
    "    * In this phase, the transaction cannot demand any new locks; it only releases the acquired locks.\n",
    "\n",
    "<center><img src=\"https://www.tutorialspoint.com/dbms/images/2PL.png\"></center>\n",
    "\n",
    "* **Two-phase locking has** two phases:\n",
    "    * One is **growing**, where all the locks are being acquired by the transaction\n",
    "    * The second phase is **shrinking**, where the locks held by the transaction are being released\n",
    "\n",
    "* To claim an exclusive (write) lock, a transaction must first acquire a shared (read) lock and then upgrade it to an exclusive lock."
   ]
  },
  {
   "cell_type": "markdown",
   "metadata": {
    "slideshow": {
     "slide_type": "slide"
    }
   },
   "source": [
    "## Strict Two-Phase Locking <img src=\"https://img.icons8.com/bubbles/80/000000/lock-2.png\"  style=\"display:inline-block;vertical-align:middle;padding:0 0 10px 10px\">\n",
    "\n",
    "* **Strict Two-Phase Locking**\n",
    "    * The first phase of Strict-2PL is same as 2PL.\n",
    "    * After acquiring all the locks in the first phase, the transaction continues to execute normally.\n",
    "    * But in contrast to 2PL, Strict-2PL does not release a lock after using it.\n",
    "    * Strict-2PL holds all the locks until the commit point and releases all the locks at a time.\n",
    "\n",
    "<center><img src=\"https://www.tutorialspoint.com/dbms/images/strict_2PL.png\"></center>\n",
    "\n",
    "* **Strict-2PL does not have cascading abort as 2PL does**"
   ]
  },
  {
   "cell_type": "markdown",
   "metadata": {
    "slideshow": {
     "slide_type": "slide"
    }
   },
   "source": [
    "# Database Security <img src=\"https://img.icons8.com/clouds/80/000000/lock-database-.png\" style=\"display:inline-block;vertical-align:middle;padding:0 0 10px 10px\">\n",
    "\n",
    "* Press `Space` to navigate through the slides\n",
    "* Use `Shift+Space` to go back"
   ]
  },
  {
   "cell_type": "markdown",
   "metadata": {
    "slideshow": {
     "slide_type": "slide"
    }
   },
   "source": [
    "## Database Security <img src=\"https://img.icons8.com/clouds/80/000000/lock-database-.png\" style=\"display:inline-block;vertical-align:middle;padding:0 0 10px 10px\">\n",
    "\n",
    "\n",
    "\n",
    "\n",
    "* General Database Security\n",
    "* Privileges\n",
    "    - Granting\n",
    "    - Revoking\n",
    "- Views\n",
    "- SQL Insertion Attacks\n"
   ]
  },
  {
   "cell_type": "markdown",
   "metadata": {
    "slideshow": {
     "slide_type": "slide"
    }
   },
   "source": [
    "## Database Security <img src=\"https://img.icons8.com/clouds/80/000000/lock-database-.png\" style=\"display:inline-block;vertical-align:middle;padding:0 0 10px 10px\">\n",
    "\n",
    "\n",
    "- Database security is about **controlling access to information**\n",
    "\n",
    "    - Some information should be available  freely\n",
    "    \n",
    "    - Other information should only be available to certain people or groups\n",
    "\n",
    "- Many aspects to consider for security:\n",
    "\n",
    "    - Physical security\n",
    "    \n",
    "    - OS/Network security\n",
    "    \n",
    "    - Encryption and passwords\n",
    "    \n",
    "    - RDBMS security\n",
    "    \n",
    "- This lecture we will focus mainly on DBMS security"
   ]
  },
  {
   "cell_type": "markdown",
   "metadata": {
    "slideshow": {
     "slide_type": "slide"
    }
   },
   "source": [
    "## DBMS Security Support <img src=\"https://img.icons8.com/clouds/80/000000/security-eye.png\" style=\"display:inline-block;vertical-align:middle;padding:0 0 10px 10px\">\n",
    "\n",
    "\n",
    "- **RDBMS** can **provide** some security:\n",
    "\n",
    "    - Each user has an account, username and password\n",
    "    \n",
    "    - These are used to identify a user and control their access to information\n",
    "\n",
    "- The **RDBMS** **verifies password and checks a user's permissions** when they try to:\n",
    "\n",
    "    - Retrieve data\n",
    "    \n",
    "    - Modify data\n",
    "    \n",
    "    - Modify the database structure "
   ]
  },
  {
   "cell_type": "markdown",
   "metadata": {
    "slideshow": {
     "slide_type": "slide"
    }
   },
   "source": [
    "## Permissions and Privilege <img src=\"https://img.icons8.com/clouds/80/000000/security-time.png\" style=\"display:inline-block;vertical-align:middle;padding:0 0 10px 10px\">\n",
    "\n",
    "- **SQL** uses privileges to control access to tables and other database objects:\n",
    "\n",
    "    - `SELECT` privilege\n",
    "    \n",
    "    - `INSERT` privilege\n",
    "    \n",
    "    - `UPDATE` privilege\n",
    "    \n",
    "    - `CREATE` privilege\n",
    "    \n",
    "- For example, in **MySQL** there are actually **30 distinct privileges**\n",
    "\n",
    "- **The owner (creator) of a database** has all privileges on all objects in the database and can grant these to others\n",
    "|\n",
    "- **The owner (creator) of an object** has all privileges on that object and can pass them on to others"
   ]
  },
  {
   "cell_type": "markdown",
   "metadata": {
    "slideshow": {
     "slide_type": "slide"
    }
   },
   "source": [
    "## Privileges in SQL <img src=\"https://img.icons8.com/clouds/80/000000/security-time.png\" style=\"display:inline-block;vertical-align:middle;padding:0 0 10px 10px\">\n",
    "\n",
    "```SQL\n",
    "GRANT <privileges>\n",
    "ON <object>\n",
    "TO <users>\n",
    "[WITH GRANT OPTION]\n",
    "```\n",
    "`<privileges>` is a list of:\n",
    "`SELECT (<columns>)`, `INSERT (<columns>)`, `DELETE`, `UPDATE (<columns>)` or simply `ALL`\n",
    "\n",
    "- **`<users>`** is a list of user\n",
    "\n",
    "- **`<object>`** is the name of a table or view\n",
    "\n",
    "- **`WITH GRANT OPTIONS`** means that the users can pass their privileges on to others"
   ]
  },
  {
   "cell_type": "markdown",
   "metadata": {
    "slideshow": {
     "slide_type": "slide"
    }
   },
   "source": [
    "## Privileges Examples <img src=\"https://img.icons8.com/clouds/80/000000/security-time.png\" style=\"display:inline-block;vertical-align:middle;padding:0 0 10px 10px\">\n",
    "\n",
    "```SQL\n",
    "GRANT ALL ON Employee\n",
    "TO Manager\n",
    "WITH GRANT OPTION;\n",
    "```\n",
    "\n",
    "- The user `Manager` can do anything to the `Employee` table and can allow other users to do the same (by using GRANT statements)\n",
    "\n",
    "```SQL\n",
    "GRANT SELECT,\n",
    "UPDATE(Salary)\n",
    "ON Employee\n",
    "TO Finance;\n",
    "```\n",
    "- The user `Finance` can view the entire `Employee` table, and can change Salary values, but cannot change other values or pass on their privilege"
   ]
  },
  {
   "cell_type": "markdown",
   "metadata": {
    "slideshow": {
     "slide_type": "slide"
    }
   },
   "source": [
    "## Removing Privileges <img src=\"https://img.icons8.com/office/80/000000/remove-key.png\" style=\"display:inline-block;vertical-align:middle;padding:0 0 10px 10px\">\n",
    "\n",
    "- If you want to remove a privilege you have granted you use\n",
    "```SQL\n",
    "REVOKE\n",
    "<privileges>\n",
    "ON <object>\n",
    "FROM <users>;\n",
    "```\n",
    "- For example:\n",
    "```SQL\n",
    "REVOKE\n",
    "UPDATE(Salary)\n",
    "ON Employee\n",
    "FROM Finance\n",
    "```\n",
    "```SQL\n",
    "REVOKE ALL\n",
    "PRIVILEGES, GRANT\n",
    "OPTION FROM\n",
    "Manager\n",
    "```"
   ]
  },
  {
   "cell_type": "markdown",
   "metadata": {
    "slideshow": {
     "slide_type": "slide"
    }
   },
   "source": [
    "## Removing Privileges <img src=\"https://img.icons8.com/office/80/000000/remove-key.png\" style=\"display:inline-block;vertical-align:middle;padding:0 0 10px 10px\">\n",
    "\n",
    "**Example:**"
   ]
  },
  {
   "cell_type": "markdown",
   "metadata": {
    "cell_style": "split",
    "slideshow": {
     "slide_type": "-"
    }
   },
   "source": [
    "- `Admin` grants `ALL` privileges to `Manager` and `SELECT` to `Finance`\n",
    "   with grant option\n",
    "   \n",
    "- `Manager` grants `ALL` to `Personnel`\n",
    "\n",
    "- `Finance` grants `SELECT` to `Personnel`"
   ]
  },
  {
   "cell_type": "markdown",
   "metadata": {
    "cell_style": "split"
   },
   "source": [
    "<center><img src=\"img/img1.png\" width=\"60%\"></center>\n"
   ]
  },
  {
   "cell_type": "markdown",
   "metadata": {
    "slideshow": {
     "slide_type": "slide"
    }
   },
   "source": [
    "## Removing Privileges <img src=\"https://img.icons8.com/office/80/000000/remove-key.png\" style=\"display:inline-block;vertical-align:middle;padding:0 0 10px 10px\">\n",
    "\n"
   ]
  },
  {
   "cell_type": "markdown",
   "metadata": {
    "cell_style": "split",
    "slideshow": {
     "slide_type": "-"
    }
   },
   "source": [
    "- `Manager` revokes `ALL` from `Personnel`\n",
    "\n",
    "    - `Personnel` still has `SELECT` privileges from `Finance`"
   ]
  },
  {
   "cell_type": "markdown",
   "metadata": {
    "cell_style": "split",
    "slideshow": {
     "slide_type": "-"
    }
   },
   "source": [
    "<center><img src=\"img/img2.png\" width=\"60%\"></center>\n",
    "\n"
   ]
  },
  {
   "cell_type": "markdown",
   "metadata": {
    "slideshow": {
     "slide_type": "slide"
    }
   },
   "source": [
    "## Removing Privileges <img src=\"https://img.icons8.com/office/80/000000/remove-key.png\" style=\"display:inline-block;vertical-align:middle;padding:0 0 10px 10px\">\n",
    "\n"
   ]
  },
  {
   "cell_type": "markdown",
   "metadata": {
    "cell_style": "split",
    "slideshow": {
     "slide_type": "-"
    }
   },
   "source": [
    "- `Manager` revokes `ALL` from `Personnel`\n",
    "\n",
    "    - `Personnel` still has `SELECT` privileges from `Finance`\n",
    "    \n",
    "- `Admin` revokes `SELECT` from `Finance`\n",
    "\n",
    "    - `Personnel` also loses `SELECT`"
   ]
  },
  {
   "cell_type": "markdown",
   "metadata": {
    "cell_style": "split",
    "slideshow": {
     "slide_type": "-"
    }
   },
   "source": [
    "<center><img src=\"img/img3.png\" width=\"60%\"></center>\n",
    "\n",
    "\n"
   ]
  },
  {
   "cell_type": "markdown",
   "metadata": {
    "slideshow": {
     "slide_type": "slide"
    }
   },
   "source": [
    "## Views <img src=\"https://img.icons8.com/bubbles/80/000000/view-file.png\" style=\"display:inline-block;vertical-align:middle;padding:0 0 10px 10px\">\n",
    "\n",
    "- **Privileges** work at the level of tables:\n",
    "\n",
    "    - You can restrict access by column\n",
    "    \n",
    "    - You cannot restrict access by row\n",
    "    \n",
    "- **Views**, along with **privileges**, allow for customised access\n",
    "\n",
    "- **Views provide ‘virtual’ tables**:\n",
    "\n",
    "    - A view is the result of a `SELECT` statement which is treated like a table\n",
    "    \n",
    "    - You can `SELECT` from (and sometimes `UPDATE` etc) views just like tables"
   ]
  },
  {
   "cell_type": "markdown",
   "metadata": {
    "slideshow": {
     "slide_type": "slide"
    }
   },
   "source": [
    "## Advantages of Views <img src=\"https://img.icons8.com/bubbles/80/000000/view-file.png\" style=\"display:inline-block;vertical-align:middle;padding:0 0 10px 10px\">\n",
    "\n",
    "- **Data independence:** a view can present a consistent, unchanging picture of the structure of the database, even if the underlying source tables are changed\n",
    "\n",
    "- **Currency:** changes to any of the base tables in the defining query are immediately reflected in the view.\n",
    "\n",
    "- **Improved security:** each user can be given the privilege to access the database only through a small set of views that contain the data appropriate for that user, thus restricting and controlling each user’s access to the database.\n",
    "\n",
    "- **Reduced complexity:** a view can simplify queries, by drawing data from several tables into a single table, thereby transforming multi-table queries into single-table queries.\n",
    "\n",
    "- **Convenience:** views can provide greater convenience to users as users are presented with only that part of the database that they need to see.\n",
    "\n",
    "- **Customisation:** views provide a method to customize the appearance of the database, so that the same underlying base tables can be seen by different users in different ways.\n",
    "\n",
    "- **Data integrity:** if the `WITH CHECK OPTION` clause of the `CREATE VIEW` statement is used, then SQL ensures that no row that fails to satisfy the WHERE clause of the defining query is ever added to any of the underlying base table(s) through the view, thereby ensuring the integrity of the view.\n"
   ]
  },
  {
   "cell_type": "markdown",
   "metadata": {
    "slideshow": {
     "slide_type": "slide"
    }
   },
   "source": [
    "## Creating Views <img src=\"https://img.icons8.com/bubbles/80/000000/view-file.png\" style=\"display:inline-block;vertical-align:middle;padding:0 0 10px 10px\">\n",
    "\n",
    "```SQL\n",
    "CREATE VIEW `<name>`\n",
    "AS\n",
    "`<select statement>`;\n",
    "```\n",
    "\n",
    "- `<name>` is the name of the new view\n",
    "- `<select statement>` is a query that returns the rows and columns of the view\n",
    "\n",
    "**Example:**\n",
    "\n",
    "- We want each university tutor to be able to see marks of only those students they actually teach\n",
    "\n",
    "- We will assume our database is structured with **Student**, **Enrolment**, **Tutors** and **Module** tables\n"
   ]
  },
  {
   "cell_type": "markdown",
   "metadata": {
    "slideshow": {
     "slide_type": "slide"
    }
   },
   "source": [
    "## View Example <img src=\"https://img.icons8.com/bubbles/80/000000/view-file.png\" style=\"display:inline-block;vertical-align:middle;padding:0 0 10px 10px\">\n",
    "\n",
    "\n",
    "\n",
    "* Student\n",
    "<center><img src=\"img/img4.png\"></center>\n",
    "\n",
    "\n",
    "* Enrolment\n",
    "<center><img src=\"img/img5.png\"></center>\n",
    "\n",
    "\n",
    "* Module\n",
    "<center><img src=\"img/img6.png\"></center>\n",
    "\n",
    "\n",
    "* Tutors\n",
    "<center><img src=\"img/img7.png\"></center>\n",
    "\n",
    "\n",
    "* Lecturers\n",
    "<center><img src=\"img/img8.png\"></center>\n",
    "\n"
   ]
  },
  {
   "cell_type": "markdown",
   "metadata": {
    "slideshow": {
     "slide_type": "slide"
    }
   },
   "source": [
    "## View Example <img src=\"https://img.icons8.com/bubbles/80/000000/view-file.png\" style=\"display:inline-block;vertical-align:middle;padding:0 0 10px 10px\">\n",
    "\n",
    "```SQL\n",
    "CREATE VIEW TuteeMarks\n",
    "AS\n",
    "SELECT sID, sFirst, sLast, mCode, eMark\n",
    "FROM Student INNER JOIN Enrolment USING(sID)\n",
    "INNER JOIN Module USING (mCode)\n",
    "WHERE sIDIN (SELECT sIDFROM Tutors\n",
    "WHERE lID= CURRENT_USER);\n",
    "\n",
    "GRANT SELECT ON TuteeMarksTO 'user'@'%';\n",
    "```\n",
    "* Note: You should grant for all `Tutors` in **MySQL**, in **Oracle** you can\n",
    "grant to `PUBLIC`. In Oracle `CURRENT_USER` is called `USER`."
   ]
  },
  {
   "cell_type": "markdown",
   "metadata": {
    "slideshow": {
     "slide_type": "slide"
    }
   },
   "source": [
    "## Database Integrity <img src=\"https://img.icons8.com/clouds/80/000000/favorite-database.png\" style=\"display:inline-block;vertical-align:middle;padding:0 0 10px 10px\">\n",
    "\n",
    "- **Database Security:**\n",
    "\n",
    "    - Database security makes sure that the user is authorised to access information\n",
    "    \n",
    "    - Beyond security, checks should be made that user mistakes are detected and prevented\n",
    "    \n",
    "- **Database Integrity:**\n",
    "\n",
    "    - Ensures that authorised users only input consistent data into the database\n",
    "    \n",
    "    - Usually consists of a series of constraints and assertions on data"
   ]
  },
  {
   "cell_type": "markdown",
   "metadata": {
    "slideshow": {
     "slide_type": "slide"
    }
   },
   "source": [
    "## Database Integrity  <img src=\"https://img.icons8.com/clouds/80/000000/favorite-database.png\" style=\"display:inline-block;vertical-align:middle;padding:0 0 10px 10px\">\n",
    "\n",
    "\n",
    "- Integrity constraints come in a number of forms:\n",
    "\n",
    "    - `CREATE DOMAIN` can be used to create custom types with specific values\n",
    "    \n",
    "    - `CREATE ASSERTION` can be used to check manipulation of tables  against some test, that must always be true\n",
    "    \n",
    "    - `CHECK` constraints (more widely suppoted) are used to check row-level constraints\n",
    "    \n",
    "- **Oracle** supports `CHECK` constraints\n",
    "\n",
    "- **MySQL** can emulate them with triggers"
   ]
  },
  {
   "cell_type": "markdown",
   "metadata": {
    "slideshow": {
     "slide_type": "slide"
    }
   },
   "source": [
    "## Connections to a DBMS <img src=\"https://img.icons8.com/clouds/100/000000/cloud-database.png\" style=\"display:inline-block;vertical-align:middle;padding:0 0 10px 10px\">\n",
    "\n",
    "- A major concern with database security should be when your application connects to the **RDBMS**\n",
    "\n",
    "    - The **user doesn’t** connect to the **RDBMS**, the **application does**\n",
    "    \n",
    "    - This often happens with **elevated privileges**\n",
    "    \n",
    "    - If the **application isn’t well secured**, it could provide **a conduit for malicious code**"
   ]
  },
  {
   "cell_type": "markdown",
   "metadata": {
    "slideshow": {
     "slide_type": "slide"
    }
   },
   "source": [
    "## SQL Injection Attacks <img src=\"https://img.icons8.com/clouds/80/000000/security-block.png\" style=\"display:inline-block;vertical-align:middle;padding:0 0 10px 10px\">\n",
    "\n",
    "\n",
    "\n",
    "* An **SQL Injection attack** is an exploit where a user is able to insert malicious code into an **SQL query**, resulting in an **entirely new query**"
   ]
  },
  {
   "cell_type": "markdown",
   "metadata": {
    "slideshow": {
     "slide_type": "slide"
    }
   },
   "source": [
    "## SQL Injection Attacks <img src=\"https://img.icons8.com/clouds/80/000000/security-block.png\" style=\"display:inline-block;vertical-align:middle;padding:0 0 10px 10px\">\n",
    "\n",
    "\n",
    "\n",
    "- It is common for user input to be read and form part of an **SQL query**.\n",
    "\n",
    "- **For example**, in **PHP**:\n",
    "\n",
    "```PHP\n",
    "$query = \"SELECT * FROM Products\n",
    "WHERE pNameLIKE '%\". $searchterm. \"%'\";\n",
    "```\n",
    "- If a user is able to pass the application **malicious information**, this information may be combined with regular **SQL queries**\n",
    "\n",
    "- The resulting query may have a very different effect"
   ]
  },
  {
   "cell_type": "markdown",
   "metadata": {
    "slideshow": {
     "slide_type": "slide"
    }
   },
   "source": [
    "## SQL Injection Attacks <img src=\"https://img.icons8.com/clouds/80/000000/security-block.png\" style=\"display:inline-block;vertical-align:middle;padding:0 0 10px 10px\">\n",
    "\n",
    "- An application or website is **vulnerable to an injection attack** if the **programmer hasn’t added code to check for special characters** in the input:\n",
    "\n",
    "    - `'` represents the beginning or end of a string\n",
    "    - `;` represents the end of a command\n",
    "    - `/*...*/` represent comments\n",
    "    - `--` represents a comment for the rest of a line"
   ]
  },
  {
   "cell_type": "markdown",
   "metadata": {
    "slideshow": {
     "slide_type": "slide"
    }
   },
   "source": [
    "## SQL Injection Attacks  <img src=\"https://img.icons8.com/clouds/80/000000/security-block.png\" style=\"display:inline-block;vertical-align:middle;padding:0 0 10px 10px\">\n",
    "\n",
    "\n",
    "\n",
    "- Imagine a user login webpage that requests a user ID and password.\n",
    "\n",
    "- These are passed from a form to **PHP** via `$_POST`:\n",
    "\n",
    "    - `$_POST[‘id’] = ‘Michael’`\n",
    "    - `$_POST[‘pass’] = ‘password’`\n",
    "\n",
    "- The ID is later used for a query:\n",
    "    ```SQL\n",
    "    SELECT uPass FROM Users WHERE uID = 'Michael';\n",
    "    ```"
   ]
  },
  {
   "cell_type": "markdown",
   "metadata": {
    "slideshow": {
     "slide_type": "slide"
    }
   },
   "source": [
    "## SQL Injection Attacks <img src=\"https://img.icons8.com/clouds/80/000000/security-block.png\" style=\"display:inline-block;vertical-align:middle;padding:0 0 10px 10px\">\n",
    "\n",
    "\n",
    "\n",
    "- In **PHP** the code for any user might look something like this:\n",
    "\n",
    "```PHP\n",
    "$query = \"SELECT uPassFROM Users WHERE\n",
    "uID= '\". $_POST['id']. \"'\";\n",
    "$result = mysql_query($query);\n",
    "$row = mysql_fetch_row($result);\n",
    "$pass = row['uPass'];\n",
    "```\n",
    "- The password would then be compared with the other field the user entered"
   ]
  },
  {
   "cell_type": "markdown",
   "metadata": {
    "slideshow": {
     "slide_type": "slide"
    }
   },
   "source": [
    "## SQL Injection Attacks <img src=\"https://img.icons8.com/clouds/80/000000/security-block.png\" style=\"display:inline-block;vertical-align:middle;padding:0 0 10px 10px\">\n",
    "\n",
    "\n",
    "\n",
    "- If the user enters _Name_ , the command becomes:\n",
    "\n",
    "    ```SQL\n",
    "    SELECT uPass FROM Users\n",
    "    WHERE uID= 'Name';\n",
    "    ```\n",
    "\n",
    "- But what about if the user entered the following line as their name?:\n",
    "    ```SQL\n",
    "    ';DROP TABLE Users;--\n",
    "    ```"
   ]
  },
  {
   "cell_type": "markdown",
   "metadata": {
    "slideshow": {
     "slide_type": "slide"
    }
   },
   "source": [
    "## SQL Injection Attacks <img src=\"https://img.icons8.com/clouds/80/000000/security-block.png\" style=\"display:inline-block;vertical-align:middle;padding:0 0 10px 10px\">\n",
    "\n",
    "- The website programmer intended to execute a single **SQL query**:\n",
    "\n",
    "<center><img src=\"img/img9.png\"></center>"
   ]
  },
  {
   "cell_type": "markdown",
   "metadata": {
    "slideshow": {
     "slide_type": "slide"
    }
   },
   "source": [
    "## SQL Injection Attacks <img src=\"https://img.icons8.com/clouds/80/000000/security-block.png\" style=\"display:inline-block;vertical-align:middle;padding:0 0 10px 10px\">\n",
    "\n",
    "\n",
    "\n",
    "- With the malicious code inserted, the meaning of the **SQL** changes into two queries and a comment:\n",
    "<center><img src=\"img/img10.png\"></center>"
   ]
  },
  {
   "cell_type": "markdown",
   "metadata": {
    "slideshow": {
     "slide_type": "slide"
    }
   },
   "source": [
    "## SQL Injection Attacks <img src=\"https://img.icons8.com/clouds/80/000000/security-block.png\" style=\"display:inline-block;vertical-align:middle;padding:0 0 10px 10px\">\n",
    "\n",
    "\n",
    "\n",
    "- Sometimes the goal isn’t sabotage, but information\n",
    "\n",
    "- Consider an online banking system:\n",
    "\n",
    "<center><img src=\"img/img11.png\"></center>"
   ]
  },
  {
   "cell_type": "markdown",
   "metadata": {
    "slideshow": {
     "slide_type": "slide"
    }
   },
   "source": [
    "## SQL Injection Attacks <img src=\"https://img.icons8.com/clouds/80/000000/security-block.png\" style=\"display:inline-block;vertical-align:middle;padding:0 0 10px 10px\">\n",
    "\n",
    "\n",
    "\n",
    "- This attack is aimed at listing all accounts at a bank.\n",
    "\n",
    "- The **SQL** becomes a single, altered query:\n",
    "\n",
    "<center><img src=\"img/img12.png\"></center>"
   ]
  },
  {
   "cell_type": "markdown",
   "metadata": {
    "slideshow": {
     "slide_type": "slide"
    }
   },
   "source": [
    "## How To Write An SQL Injection Attack <img src=\"https://img.icons8.com/clouds/80/000000/security-block.png\" style=\"display:inline-block;vertical-align:middle;padding:0 0 10px 10px\">\n",
    "\n",
    "- **Data Protection Act 1998, Section 55(1):**\n",
    "\n",
    "   - _A person must not knowingly or recklessly, without the consent of the data controller obtain or disclose personal data or the information contained in personal data._\n",
    "    \n",
    "- Do not do this on a website you do not own\n",
    "\n",
    "- **_\"I was just seeing if it would work\"_** is not a valid defence"
   ]
  },
  {
   "cell_type": "markdown",
   "metadata": {
    "slideshow": {
     "slide_type": "slide"
    }
   },
   "source": [
    "## Defending Against Injection Attacks <img src=\"https://img.icons8.com/clouds/80/000000/security-configuration.png\" style=\"display:inline-block;vertical-align:middle;padding:0 0 10px 10px\">\n",
    "\n",
    "\n",
    "\n",
    "- Defending against **SQL injection attacks** is not difficult, but a lot of people still don't\n",
    "\n",
    "- There are numerous ways you can improve security.\n",
    "\n",
    "- You should be doing most of these at any time where a user inputs variables that will be used in an **SQL statement**\n",
    "\n",
    "- In essence, **don't trust that all users** will do what you expect them to do"
   ]
  },
  {
   "cell_type": "markdown",
   "metadata": {
    "slideshow": {
     "slide_type": "slide"
    }
   },
   "source": [
    "## 1. Restrict DBMS Access Privileges <img src=\"https://img.icons8.com/clouds/80/000000/security-configuration.png\" style=\"display:inline-block;vertical-align:middle;padding:0 0 10px 10px\">\n",
    "\n",
    "\n",
    "\n",
    "- Assuming an **SQL injection** attack is successful, a user will have access to tables based on the privileges of the account that the application used to connect to the DBMS\n",
    "\n",
    "- `GRANT` an application or website the minimum possible access to the database\n",
    "\n",
    "- Do not allow `DROP`, `DELETE`, etc. **unless absolutely necessary**\n",
    "\n",
    "- Use `Views` to hide as much as possible"
   ]
  },
  {
   "cell_type": "markdown",
   "metadata": {
    "slideshow": {
     "slide_type": "slide"
    }
   },
   "source": [
    "## 2. Encrypt Sensitive Data <img src=\"https://img.icons8.com/clouds/80/000000/security-configuration.png\" style=\"display:inline-block;vertical-align:middle;padding:0 0 10px 10px\">\n",
    "\n",
    "\n",
    "\n",
    "- Storing sensitive data inside your database can always lead to problems with security\n",
    "\n",
    "- If in doubt, encrypt sensitive information so that if any breaches occur, damage is minimal\n",
    "\n",
    "- Another reason to encrypt data is the majority of commercial security breaches are inside jobs by trusted employees\n",
    "\n",
    "- **Never** store unencrypted passwords.\n",
    "\n",
    "- Many shops still do this"
   ]
  },
  {
   "cell_type": "markdown",
   "metadata": {
    "slideshow": {
     "slide_type": "slide"
    }
   },
   "source": [
    "## 3. Validate Input <img src=\"https://img.icons8.com/clouds/80/000000/security-configuration.png\" style=\"display:inline-block;vertical-align:middle;padding:0 0 10px 10px\">\n",
    "\n",
    "\n",
    "\n",
    "- Arguably the most important consideration when creating a database or application that handles user input\n",
    "\n",
    "- Filter any escape characters and check the length of the input against expected sizes\n",
    "\n",
    "- Checking input length should be standard practice\n",
    "\n",
    "- This applies to programming in general, as it also avoids buffer overflow attacks"
   ]
  },
  {
   "cell_type": "markdown",
   "metadata": {
    "slideshow": {
     "slide_type": "slide"
    }
   },
   "source": [
    "## 3. Validate Input <img src=\"https://img.icons8.com/clouds/80/000000/security-configuration.png\" style=\"display:inline-block;vertical-align:middle;padding:0 0 10px 10px\">\n",
    "\n",
    "\n",
    "\n",
    "- **_Always_** escape special characters.\n",
    "\n",
    "- All languages that execute **SQL** strings will allow this, in **PHP**:\n",
    "\n",
    "```PHP\n",
    "$username = mysql_real_escape_string($input);\n",
    "$query = \"SELECT * FROM Users\n",
    "WHERE uID= '\". $username. \"'\";\n",
    "$result = mysql_query($query);\n",
    "```\n",
    "- `mysql_real_escape_string()` will escape any special characters, like `'`, with `\\`\n",
    "\n",
    "- **You should do this with any input variables**"
   ]
  },
  {
   "cell_type": "markdown",
   "metadata": {
    "slideshow": {
     "slide_type": "slide"
    }
   },
   "source": [
    "## 4. Check Input Types <img src=\"https://img.icons8.com/clouds/80/000000/security-configuration.png\" style=\"display:inline-block;vertical-align:middle;padding:0 0 10px 10px\">\n",
    "\n",
    "\n",
    "\n",
    "- In weakly-typed languages, check that the user is providing you with a type you'd expect\n",
    "\n",
    "- **For example**, if you expect the ID to be an `int`, make sure it is.\n",
    "\n",
    "- In **PHP**:\n",
    "\n",
    "```PHP\n",
    "if (!is_int($_POST['userid']))\n",
    "{\n",
    "// ID is not an integer\n",
    "}\n",
    "```"
   ]
  },
  {
   "cell_type": "markdown",
   "metadata": {
    "slideshow": {
     "slide_type": "slide"
    }
   },
   "source": [
    "## 5. Stored Procedures <img src=\"https://img.icons8.com/clouds/80/000000/security-configuration.png\" style=\"display:inline-block;vertical-align:middle;padding:0 0 10px 10px\">\n",
    "\n",
    "\n",
    "\n",
    "- Some **RDBMS** allow you to store procedures for use over and over again\n",
    "\n",
    "- Procedures you might store are `SELECT`s, `INSERTS`s etc, or other procedural code\n",
    "\n",
    "- This adds another level of abstraction between the user and the tables\n",
    "\n",
    "- If necessary, a stored procedure can access tables that are restricted to the rest of the application"
   ]
  },
  {
   "cell_type": "markdown",
   "metadata": {
    "slideshow": {
     "slide_type": "slide"
    }
   },
   "source": [
    "## 6. Generic Error Messages <img src=\"https://img.icons8.com/clouds/80/000000/security-configuration.png\" style=\"display:inline-block;vertical-align:middle;padding:0 0 10px 10px\">\n",
    "\n",
    "\n",
    "\n",
    "- While it might seem helpful to **output informative error messages**, this actually supplies users with far too much information\n",
    "\n",
    "- For example, if your **SQL query fails**, do not show the `user mysql_error()`, instead output:\n",
    "\n",
    "    - **_A system error has occured. We apologise for the inconvenience._**\n",
    "\n",
    "- You can log the **error** privately for administrative purposes"
   ]
  },
  {
   "cell_type": "markdown",
   "metadata": {
    "slideshow": {
     "slide_type": "slide"
    }
   },
   "source": [
    "## 7. Parameterised Input <img src=\"https://img.icons8.com/clouds/80/000000/security-configuration.png\" style=\"display:inline-block;vertical-align:middle;padding:0 0 10px 10px\">\n",
    "\n",
    "- Parameterised input essentially means that **user input** is passed to the database as **parameters**, not as part of the **SQL string**:\n",
    "\n",
    "    - This makes injection attacks extremely difficult\n",
    "\n",
    "    - Not all RDBMSs / Languages support this\n",
    "\n",
    "    - In **PHP**, you need to use **[PHP Data Objects (PDO)](http://php.net/manual/en/book.pdo.php)**"
   ]
  },
  {
   "cell_type": "markdown",
   "metadata": {
    "slideshow": {
     "slide_type": "slide"
    }
   },
   "source": [
    "## PDO <img src=\"https://img.icons8.com/clouds/80/000000/security-configuration.png\" style=\"display:inline-block;vertical-align:middle;padding:0 0 10px 10px\">\n",
    "\n",
    "- Rather than building up a string for your **SQL** and executing it, given a **PDO** mysql connection `$conn`:\n",
    "\n",
    "```PHP\n",
    "$stmt = $conn->prepare('SELECT * FROM Users\n",
    "WHERE uName= :name');\n",
    "$stmt->bindValue(':name', $_POST['username']);\n",
    "$stmt->execute();\n",
    "```\n",
    "\n",
    "- The statement is pre-compiled during prepare.\n",
    "\n",
    "- While a malicious parameter may still be passed to the query, it is simply used  ather than executed."
   ]
  }
 ],
 "metadata": {
  "celltoolbar": "Slideshow",
  "kernelspec": {
   "display_name": "Python 3",
   "language": "python",
   "name": "python3"
  },
  "language_info": {
   "codemirror_mode": {
    "name": "ipython",
    "version": 3
   },
   "file_extension": ".py",
   "mimetype": "text/x-python",
   "name": "python",
   "nbconvert_exporter": "python",
   "pygments_lexer": "ipython3",
   "version": "3.7.5"
  },
  "rise": {
   "autolaunch": true,
   "backgroundTransition": "slide",
   "controls": true,
   "enable_chalkboard": true,
   "overlay": "<div class='line top'></div><div class='line bottom'></div><div class='line left'></div><div class='line right'></div><div class='logo'><img src='../binder/logo.png'/></div>",
   "showSlideNumber": "speaker",
   "slideNumber": true,
   "theme": "simple",
   "transition": "slide"
  }
 },
 "nbformat": 4,
 "nbformat_minor": 2
}
