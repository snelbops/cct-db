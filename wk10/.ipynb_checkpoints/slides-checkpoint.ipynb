{
 "cells": [
  {
   "cell_type": "code",
   "execution_count": 9,
   "metadata": {
    "cell_style": "center",
    "slideshow": {
     "slide_type": "skip"
    }
   },
   "outputs": [
    {
     "data": {
      "text/html": [
       "<style type=\"text/css\">\n",
       ".CodeMirror {width: 100vw}\n",
       ".container {width: 90% !important}\n",
       ".rendered_html {font-size:0.8em}\n",
       ".rendered_html table, .rendered_html th, .rendered_html tr, .rendered_html td {font-size: 1em}\n",
       "table td, table th {\n",
       "border: 1px  black solid !important;\n",
       "color: black !important;\n",
       "background-color: white;}\n",
       "hr {border: 0;\n",
       "    height: 1px;\n",
       "    background: #333;\n",
       "    background-image: linear-gradient(to right, #ccc, #333, #ccc);}\n",
       "</style>\n"
      ],
      "text/plain": [
       "<IPython.core.display.HTML object>"
      ]
     },
     "metadata": {},
     "output_type": "display_data"
    }
   ],
   "source": [
    "%%HTML\n",
    "<style type=\"text/css\">\n",
    ".CodeMirror {width: 100vw}\n",
    ".container {width: 90% !important}\n",
    ".rendered_html {font-size:0.8em}\n",
    ".rendered_html table, .rendered_html th, .rendered_html tr, .rendered_html td {font-size: 1em}\n",
    "table td, table th {\n",
    "border: 1px  black solid !important;\n",
    "color: black !important;\n",
    "background-color: white;}\n",
    "hr {border: 0;\n",
    "    height: 1px;\n",
    "    background: #333;\n",
    "    background-image: linear-gradient(to right, #ccc, #333, #ccc);}\n",
    "</style>"
   ]
  },
  {
   "cell_type": "markdown",
   "metadata": {
    "slideshow": {
     "slide_type": "slide"
    }
   },
   "source": [
    "# Storage and File Structure <img src=\"https://img.icons8.com/clouds/80/000000/usb-2.png\" style=\"display:inline-block;vertical-align:middle;padding:0 0 10px 10px\">\n",
    "\n",
    "* Press `Space` to navigate through the slides\n",
    "* Use `Shift+Space` to go back"
   ]
  },
  {
   "cell_type": "markdown",
   "metadata": {
    "slideshow": {
     "slide_type": "slide"
    }
   },
   "source": [
    "## Storage System <img src=\"https://img.icons8.com/dusk/80/000000/stack.png\" style=\"display:inline-block;vertical-align:middle;padding:0 0 10px 10px\">\n",
    "\n",
    "* Databases are stored in **file formats**, which contain **records**.\n",
    "\n",
    "* At **physical level**, the actual data is stored in electromagnetic format on a device.\n",
    "\n",
    "* These storage devices can be broadly categorised into **three types**:\n",
    "<br/>\n",
    "\n",
    "<center><img src=\"https://www.tutorialspoint.com/dbms/images/memory_types.png\"></center>"
   ]
  },
  {
   "cell_type": "markdown",
   "metadata": {
    "slideshow": {
     "slide_type": "slide"
    }
   },
   "source": [
    "## Primary Storage <img src=\"https://img.icons8.com/clouds/80/000000/smartphone-ram.png\" style=\"display:inline-block;vertical-align:middle;padding:0 0 10px 10px\">\n",
    "\n",
    "* **Primary Storage** is the memory storage that is directly accessible to the **CPU** comes under this category.\n",
    "---\n",
    "* CPU's **internal memory** (registers), **fast memory** (cache) and **main memory** (RAM) are directly accessible to the **CPU**.\n",
    "\n",
    "* These components are all placed on the **motherboard** or **CPU chipset**.\n",
    "\n",
    "* This storage is typically **very small**, **ultra-fast** and **volatile**.\n",
    "---\n",
    "* **Primary storage** requires **continuous power supply** in order to maintain its state.\n",
    "\n",
    "* In case of a **power failure**, all its **data is lost**."
   ]
  },
  {
   "cell_type": "markdown",
   "metadata": {
    "slideshow": {
     "slide_type": "slide"
    }
   },
   "source": [
    "## Secondary Storage <img src=\"https://img.icons8.com/office/80/000000/cd.png\" style=\"display:inline-block;vertical-align:middle;padding:0 0 10px 10px\">\n",
    "\n",
    "* **Secondary storage** devices are used to store data for **future use** or as **backup**.\n",
    "\n",
    "* **Secondary storage** includes **memory devices** that are not a part of the **CPU chipset** or **motherboard**.\n",
    "\n",
    "* For example:\n",
    "\n",
    "    * **magnetic disks**\n",
    "    \n",
    "    * **optical disks (DVD, CD, etc.)**\n",
    "    \n",
    "    * **hard disks**\n",
    "    \n",
    "    * **flash drives**\n",
    "    \n",
    "    * **magnetic tapes**"
   ]
  },
  {
   "cell_type": "markdown",
   "metadata": {
    "slideshow": {
     "slide_type": "slide"
    }
   },
   "source": [
    "## Tertiary Storage <img src=\"https://img.icons8.com/clouds/80/000000/lo-fi.png\" style=\"display:inline-block;vertical-align:middle;padding:0 0 10px 10px\">\n",
    "\n",
    "\n",
    "* **Tertiary storage** (pronounced as **tuh·shuh·ree**) is used to store huge volumes of data.\n",
    "\n",
    "* Since such storage devices are **external** to the computer system, they are the **slowest in speed**.\n",
    "\n",
    "* These storage devices are mostly used to take the **back up of an entire system**.\n",
    "\n",
    "* **Optical disks** and **magnetic tapes** are widely used as **tertiary storage**."
   ]
  },
  {
   "cell_type": "markdown",
   "metadata": {
    "slideshow": {
     "slide_type": "slide"
    }
   },
   "source": [
    "## Memory Hierarchy <img src=\"https://img.icons8.com/cute-clipart/80/000000/folder-tree.png\" style=\"display:inline-block;vertical-align:middle;padding:0 0 10px 10px\">\n",
    "\n",
    "* A computer system has a well-defined **hierarchy** of memory.\n",
    "\n",
    "* A **CPU** has direct access to it **main memory** as well as its **inbuilt registers**.\n",
    "\n",
    "* The **access time** of the **main memory** is obviously **less than the CPU speed**.\n",
    "\n",
    "* To minimise this speed mismatch, **cache memory** is introduced.\n",
    "* **Cache memory** provides the fastest access time and it contains data that is most frequently accessed by the **CPU**.\n",
    "\n",
    "* The **memory with the fastest access** is the **costliest one**.\n",
    "\n",
    "* **Larger storage** devices offer **slow speed** and they **are less expensive**, however they can store huge volumes of data as compared to CPU registers or cache memory."
   ]
  },
  {
   "cell_type": "markdown",
   "metadata": {
    "slideshow": {
     "slide_type": "slide"
    }
   },
   "source": [
    "## Magnetic Disks <img src=\"https://img.icons8.com/clouds/80/000000/hdd.png\" style=\"display:inline-block;vertical-align:middle;padding:0 0 10px 10px\">\n",
    "\n",
    "* **Hard disk** drives are the most common secondary storage devices in present computer systems.\n",
    "\n",
    "* These are called **magnetic disks** because they use the concept of magnetisation to store information. Hard disks consist of metal disks coated with magnetisable material.\n",
    "\n",
    "* These disks are placed vertically on a spindle.\n",
    "\n",
    "* A **read/write** head moves in between the disks and is used to magnetise or de-magnetise the spot under it.\n",
    "\n",
    "* A magnetised spot can be recognised as **0 (zero)** or **1 (one)**.\n",
    "\n",
    "---\n",
    "\n",
    "* **Hard disks** are formatted in a well-defined order to store data efficiently.\n",
    "\n",
    "* A hard disk plate has many concentric circles on it, called **tracks**.\n",
    "\n",
    "* Every track is further divided into **sectors**.\n",
    "\n",
    "* A sector on a hard disk typically stores **512 bytes** of data."
   ]
  },
  {
   "cell_type": "markdown",
   "metadata": {
    "slideshow": {
     "slide_type": "slide"
    }
   },
   "source": [
    "## Redundant Array of Independent Disks <img src=\"https://img.icons8.com/color/80/000000/nas.png\" style=\"display:inline-block;vertical-align:middle;padding:0 0 10px 10px\">\n",
    "\n",
    "* **RAID** or **R**edundant **A**rray of **I**ndependent **D**isks, is a technology to connect multiple secondary storage devices and use them as a single storage media.\n",
    "\n",
    "* **RAID** consists of an array of disks in which multiple disks are connected together to achieve different goals.\n",
    "\n",
    "* **RAID** levels define the use of disk arrays:\n",
    "\n",
    "    * **RAID 0 (striping)**\n",
    "    * **RAID 1 (mirroring)**\n",
    "    * **RAID 2-4**\n",
    "    * **RAID 5 (distributed parity)**\n",
    "    * **RAID 6 (dual parity)**"
   ]
  },
  {
   "cell_type": "markdown",
   "metadata": {
    "slideshow": {
     "slide_type": "slide"
    }
   },
   "source": [
    "## RAID 0 <img src=\"https://img.icons8.com/color/80/000000/nas.png\" style=\"display:inline-block;vertical-align:middle;padding:0 0 10px 10px\">\n",
    "\n",
    "* In this level, a **striped array of disks** is implemented.\n",
    "\n",
    "* The data is broken down into blocks and the blocks are distributed among disks.\n",
    "\n",
    "* Each disk receives a block of data to write/read in parallel.\n",
    "\n",
    "* It enhances the speed and performance of the storage device.\n",
    "\n",
    "* There is no parity and backup in **Level 0**.\n",
    "\n",
    "<center><img src=\"https://www.tutorialspoint.com/dbms/images/raid_0.png\"></center>"
   ]
  },
  {
   "cell_type": "markdown",
   "metadata": {
    "slideshow": {
     "slide_type": "slide"
    }
   },
   "source": [
    "## RAID 1 <img src=\"https://img.icons8.com/color/80/000000/nas.png\" style=\"display:inline-block;vertical-align:middle;padding:0 0 10px 10px\">\n",
    "\n",
    "* **RAID 1** uses **mirroring techniques**.\n",
    "\n",
    "* When data is sent to a **RAID controller**, it sends a copy of data to all the disks in the array.\n",
    "\n",
    "* **RAID Level 1** is also called mirroring and provides 100% redundancy in case of a failure.\n",
    "\n",
    "<center><img src=\"https://www.tutorialspoint.com/dbms/images/raid_1.png\"></center>"
   ]
  },
  {
   "cell_type": "markdown",
   "metadata": {
    "slideshow": {
     "slide_type": "slide"
    }
   },
   "source": [
    "## RAID 2 <img src=\"https://img.icons8.com/color/80/000000/nas.png\" style=\"display:inline-block;vertical-align:middle;padding:0 0 10px 10px\">\n",
    "\n",
    "* **RAID 2** records **Error Correction Code** using **Hamming distance** for its data, striped on different disks.\n",
    "\n",
    "* Like **level 0**, each data bit in a word is recorded on a separate disk and ECC codes of the data words are stored on a different set disks.\n",
    "\n",
    "* Due to its complex structure and high cost, **RAID 2 is not commercially available**.\n",
    "\n",
    "<center><img src=\"https://www.tutorialspoint.com/dbms/images/raid_2.png\"></center>"
   ]
  },
  {
   "cell_type": "markdown",
   "metadata": {
    "slideshow": {
     "slide_type": "slide"
    }
   },
   "source": [
    "## RAID 3 <img src=\"https://img.icons8.com/color/80/000000/nas.png\" style=\"display:inline-block;vertical-align:middle;padding:0 0 10px 10px\">\n",
    "\n",
    "* **RAID 3** stripes the data onto multiple disks.\n",
    "\n",
    "* The **parity bit** generated for data word is stored on a different disk.\n",
    "\n",
    "* This technique makes it to **overcome single disk failures**.\n",
    "\n",
    "<center><img src=\"https://www.tutorialspoint.com/dbms/images/raid_3.png\"></center>"
   ]
  },
  {
   "cell_type": "markdown",
   "metadata": {
    "slideshow": {
     "slide_type": "slide"
    }
   },
   "source": [
    "## RAID 4 <img src=\"https://img.icons8.com/color/80/000000/nas.png\" style=\"display:inline-block;vertical-align:middle;padding:0 0 10px 10px\">\n",
    "\n",
    "* In this level, an **entire block of data** is written onto data disks and then the **parity is generated and stored** on a different disk.\n",
    "\n",
    "* Note that **level 3** uses **byte-level striping**, whereas **level 4** uses **block-level striping**.\n",
    "* Both **level 3** and **level 4** require at least three disks to implement **RAID**.\n",
    "\n",
    "<center><img src=\"https://www.tutorialspoint.com/dbms/images/raid_4.png\"></center>"
   ]
  },
  {
   "cell_type": "markdown",
   "metadata": {
    "slideshow": {
     "slide_type": "slide"
    }
   },
   "source": [
    "## RAID 5 <img src=\"https://img.icons8.com/color/80/000000/nas.png\" style=\"display:inline-block;vertical-align:middle;padding:0 0 10px 10px\">\n",
    "\n",
    "* **RAID 5** writes whole data blocks onto different disks, but the parity bits generated for data block stripe are distributed among all the data disks rather than storing them on a different dedicated disk.\n",
    "\n",
    "<center><img src=\"https://www.tutorialspoint.com/dbms/images/raid_5.png\"></center>"
   ]
  },
  {
   "cell_type": "markdown",
   "metadata": {
    "slideshow": {
     "slide_type": "slide"
    }
   },
   "source": [
    "## RAID 6 <img src=\"https://img.icons8.com/color/80/000000/nas.png\" style=\"display:inline-block;vertical-align:middle;padding:0 0 10px 10px\">\n",
    "\n",
    "* **RAID 6** is an extension of **level 5**.\n",
    "\n",
    "* In this level, **two independent parities** are generated and stored in distributed fashion among multiple disks.\n",
    "\n",
    "* **Two parities** provide additional **fault tolerance**.\n",
    "\n",
    "* This level requires **at least four disk drives** to implement **RAID**.\n",
    "\n",
    "<center><img src=\"https://www.tutorialspoint.com/dbms/images/raid_5.png\"></center>"
   ]
  },
  {
   "cell_type": "markdown",
   "metadata": {
    "slideshow": {
     "slide_type": "slide"
    }
   },
   "source": [
    "## File Organisation <img src=\"https://img.icons8.com/clouds/80/000000/folder-bills.png\" style=\"display:inline-block;vertical-align:middle;padding:0 0 10px 10px\">\n",
    "\n",
    "* **Relative data** and **information** is stored collectively in **file formats**.\n",
    "\n",
    "* **A file** is a sequence of records stored in **binary format**.\n",
    "\n",
    "* **A disk drive** is formatted into **several blocks that can store records**.\n",
    "\n",
    "* **File records** are mapped onto those **disk blocks**.\n",
    "---\n",
    "* **File organisation** defines how file records are mapped onto disk blocks.\n",
    "* We have **four types** of **file organisation** to organise file records:\n",
    "\n",
    "<center><img src=\"https://www.tutorialspoint.com/dbms/images/file_organization.png\"></center>"
   ]
  },
  {
   "cell_type": "markdown",
   "metadata": {
    "slideshow": {
     "slide_type": "slide"
    }
   },
   "source": [
    "## Sequential File Organisation <img src=\"https://img.icons8.com/clouds/80/000000/folder-bills.png\" style=\"display:inline-block;vertical-align:middle;padding:0 0 10px 10px\">\n",
    "* Every file record contains a **data field (attribute)** to uniquely identify that record\n",
    "\n",
    "* In sequential file organisation, records are placed in the file in some sequential order based on the **unique key field** or **search key**\n",
    "\n",
    "* Practically, it is not possible to store all the records sequentially in physical form"
   ]
  },
  {
   "cell_type": "markdown",
   "metadata": {
    "slideshow": {
     "slide_type": "slide"
    }
   },
   "source": [
    "## Hash File Organisation <img src=\"https://img.icons8.com/clouds/80/000000/folder-bills.png\" style=\"display:inline-block;vertical-align:middle;padding:0 0 10px 10px\">\n",
    "* **Hash File Organisation** uses **Hash function** computation on some fields of the records\n",
    "\n",
    "*  The **output** of the **hash function** determines the location of disk block where the records are to be placed"
   ]
  },
  {
   "cell_type": "markdown",
   "metadata": {
    "slideshow": {
     "slide_type": "slide"
    }
   },
   "source": [
    "## Clustered File Organisation <img src=\"https://img.icons8.com/clouds/80/000000/folder-bills.png\" style=\"display:inline-block;vertical-align:middle;padding:0 0 10px 10px\">\n",
    "* **Clustered file organisation** is not considered good for large databases\n",
    "\n",
    "* In this mechanism, **related records from one or more relations are kept in the same disk block**, that is, the ordering of records is not based on primary key or search key"
   ]
  },
  {
   "cell_type": "markdown",
   "metadata": {
    "slideshow": {
     "slide_type": "slide"
    }
   },
   "source": [
    "## File Operations <img src=\"https://img.icons8.com/clouds/80/000000/edit-file.png\" style=\"display:inline-block;vertical-align:middle;padding:0 0 10px 10px\">\n",
    "* **Operations** on database files can be broadly classified into **two categories**:\n",
    "\n",
    "\t* **Update Operations**\n",
    "    \n",
    "\t\t* Change the data values by insertion, deletion or update\n",
    "        \n",
    "\t* **Retrieval Operations**\n",
    "    \n",
    "\t\t* Do not alter the data but retrieve them after optional conditional filtering\n",
    "\n",
    "*  In both types of operations, **selection plays a significant role**"
   ]
  },
  {
   "cell_type": "markdown",
   "metadata": {
    "slideshow": {
     "slide_type": "slide"
    }
   },
   "source": [
    "## File Operations <img src=\"https://img.icons8.com/clouds/80/000000/edit-file.png\" style=\"display:inline-block;vertical-align:middle;padding:0 0 10px 10px\">\n",
    "\n",
    "*  Other than **creation** and **deletion** of a file, there could be several operations, which can be done on files:\n",
    "\n",
    "    * **Open**\n",
    "        * A file can be opened in one of the two modes, read mode or write mode\n",
    "        * In read mode, the operating system does not allow anyone to alter data\n",
    "        * In other words, data is read only\n",
    "        * Files opened in read mode can be shared among several entities\n",
    "        * Write mode allows data modification\n",
    "        * Files opened in write mode can be read but cannot be shared\n",
    "\n",
    "    * **Locate**\n",
    "        * Every file has a file pointer, which tells the current position where the data is to be read or written\n",
    "        *  This pointer can be adjusted accordingly\n",
    "        *  Using find (seek) operation, it can be moved forward or backward"
   ]
  },
  {
   "cell_type": "markdown",
   "metadata": {
    "slideshow": {
     "slide_type": "slide"
    }
   },
   "source": [
    "## File Operations <img src=\"https://img.icons8.com/clouds/80/000000/edit-file.png\" style=\"display:inline-block;vertical-align:middle;padding:0 0 10px 10px\">\n",
    "\n",
    "* **Read**\n",
    "\t\n",
    "    * By default, when files are opened in read mode, the file pointer points to the beginning of the file\n",
    "\t\n",
    "    *  There are options where the user can tell the operating system where to locate the file pointer at the time of opening a file\n",
    "\t\n",
    "    *  The very next data to the file pointer is read\n",
    "\n",
    "* **Write**\n",
    "\t\n",
    "    * User can select to open a file in write mode, which enables them to edit its contents\n",
    "\t\n",
    "    *  It can be deletion, insertion, or modification\n",
    "\t\n",
    "    *  The file pointer can be located at the time of opening or can be dynamically changed if the operating system allows to do so\n",
    " "
   ]
  },
  {
   "cell_type": "markdown",
   "metadata": {
    "slideshow": {
     "slide_type": "slide"
    }
   },
   "source": [
    "## File Operations <img src=\"https://img.icons8.com/clouds/80/000000/edit-file.png\" style=\"display:inline-block;vertical-align:middle;padding:0 0 10px 10px\">\n",
    "\n",
    "* **Close**\n",
    "\t\n",
    "    * This is the most important operation from the operating system’s point of view\n",
    "\t\n",
    "    *  When a request to close a file is generated, the operating system:\n",
    "\t\t\n",
    "        * removes all the locks (if in shared mode)\n",
    "\t\t* saves the data (if altered) to the secondary storage media\n",
    "        \n",
    "\t\t* releases all the buffers and file handlers associated with the file\n",
    "---\n",
    "* **The organisation of data inside a file plays a major role**"
   ]
  },
  {
   "cell_type": "markdown",
   "metadata": {
    "slideshow": {
     "slide_type": "slide"
    }
   },
   "source": [
    "# Indexing <img src=\"https://img.icons8.com/clouds/80/000000/home.png\" style=\"display:inline-block;vertical-align:middle;padding:0 0 10px 10px\">\n",
    "\n",
    "* Press `Space` to navigate through the slides\n",
    "* Use `Shift+Space` to go back"
   ]
  },
  {
   "cell_type": "markdown",
   "metadata": {
    "slideshow": {
     "slide_type": "slide"
    }
   },
   "source": [
    "## Indexing <img src=\"https://img.icons8.com/clouds/80/000000/home.png\" style=\"display:inline-block;vertical-align:middle;padding:0 0 10px 10px\">\n",
    "\n",
    "* We know that data is stored in the form of records.\n",
    "* Every record has a key field, which helps it to be recognised uniquely.\n",
    "---\n",
    "* **Indexing** is a data structure technique to efficiently retrieve records from the database files based on some attributes on which the indexing has been done.\n",
    "* **Indexing** in database systems is similar to what we see in books.\n",
    "---\n",
    "* **Indexing** is defined based on its indexing attributes.\n",
    "* **Indexing** can be of the following types:\n",
    "\n",
    "    -   **Primary Index** − Primary index is defined on an ordered data\n",
    "        file. The data file is ordered on a **key field**. The key field is\n",
    "        generally the primary key of the relation.\n",
    "\n",
    "    -   **Secondary Index** − Secondary index may be generated from a field\n",
    "        which is a candidate key and has a unique value in every record, or\n",
    "        a non-key with duplicate values.\n",
    "\n",
    "    -   **Clustering Index** − Clustering index is defined on an ordered\n",
    "        data file. The data file is ordered on a non-key field."
   ]
  },
  {
   "cell_type": "markdown",
   "metadata": {
    "slideshow": {
     "slide_type": "slide"
    }
   },
   "source": [
    "## Ordered Indexing  <img src=\"https://img.icons8.com/clouds/80/000000/home.png\" style=\"display:inline-block;vertical-align:middle;padding:0 0 10px 10px\">\n",
    "\n",
    "Ordered Indexing is of two types:\n",
    "\n",
    "-   **Dense Index**\n",
    "\n",
    "-   **Sparse Index**"
   ]
  },
  {
   "cell_type": "markdown",
   "metadata": {
    "slideshow": {
     "slide_type": "slide"
    }
   },
   "source": [
    "## Dense Index   <img src=\"https://img.icons8.com/clouds/80/000000/home.png\" style=\"display:inline-block;vertical-align:middle;padding:0 0 10px 10px\">\n",
    "\n",
    "* In **dense index**, there is an index record for every search key value in the database.\n",
    "\n",
    "* This makes **searching faster**, but **requires more space** to store index records itself.\n",
    "\n",
    "* Index records contain **search key value** and **a pointer to the actual record** on the disk.\n",
    "\n",
    "<center><img src=\"https://www.tutorialspoint.com/dbms/images/dense_index.png\"></center>"
   ]
  },
  {
   "cell_type": "markdown",
   "metadata": {
    "slideshow": {
     "slide_type": "slide"
    }
   },
   "source": [
    "## Sparse Index  <img src=\"https://img.icons8.com/clouds/80/000000/home.png\" style=\"display:inline-block;vertical-align:middle;padding:0 0 10px 10px\">\n",
    "\n",
    "\n",
    "* In **sparse index**, index records are not created for every search key.\n",
    "\n",
    "* An **index record** here contains **a search key** and an actual **pointer to the data on the disk**.\n",
    "\n",
    "* To search a record, we first proceed by index record and reach at the actual location of the data.\n",
    "\n",
    "* If the data we are looking for is not where we directly reach by following the index, then the system starts sequential search until the desired data is found.\n",
    "\n",
    "<center><img src=\"https://www.tutorialspoint.com/dbms/images/sparse_index.png\"></center>"
   ]
  },
  {
   "cell_type": "markdown",
   "metadata": {
    "slideshow": {
     "slide_type": "slide"
    }
   },
   "source": [
    "## Multilevel Index  <img src=\"https://img.icons8.com/clouds/80/000000/home.png\" style=\"display:inline-block;vertical-align:middle;padding:0 0 10px 10px\">\n",
    "\n",
    "* Index records comprise search-key values and data pointers.\n",
    "* **Multilevel index** is stored on the disk along with the actual database files.\n",
    "* As the size of the database grows, so does the size of the indices.\n",
    "* There is an immense need to keep the index records in the main memory so as to speed up the search operations.\n",
    "* If **single-level index** is used, then a large size index cannot be kept in memory which leads to multiple disk accesses.\n",
    "\n",
    "<center><img src=\"https://www.tutorialspoint.com/dbms/images/multi_level_index.png\"></center>\n",
    "\n",
    "* **Multi-level Index** helps in breaking down the index into several smaller indices in order to make the outermost level so small that it can be saved in a single disk block, which can easily be accommodated anywhere in the main memory."
   ]
  },
  {
   "cell_type": "markdown",
   "metadata": {
    "slideshow": {
     "slide_type": "slide"
    }
   },
   "source": [
    "# Transactions Management & Concurrency Control <img src=\"https://img.icons8.com/cotton/80/000000/transaction-list--v1.png\" style=\"display:inline-block;vertical-align:middle;padding:0 0 10px 10px\">\n",
    "* Press `Space` to navigate through the slides\n",
    "* Use `Shift+Space` to go back"
   ]
  },
  {
   "cell_type": "markdown",
   "metadata": {
    "slideshow": {
     "slide_type": "slide"
    }
   },
   "source": [
    "## What is a Database Transaction? <img src=\"https://img.icons8.com/clouds/80/000000/cloud-database.png\" style=\"display:inline-block;vertical-align:middle;padding:0 0 10px 10px\">\n",
    "\n",
    "* A transaction is a logical unit of processing in a **DBMS** which entails one or more database access operation.\n",
    "\n",
    "* In a nutshell, database transactions represent **real-world events of any enterprise**.\n",
    "\n",
    "* All types of database access operation which are held between the beginning and end transaction statements are considered as a single logical transaction.\n",
    "\n",
    "* During the transaction the database is **inconsistent**.\n",
    "\n",
    "* Only once the database is **committed** the state is changed from **one consistent state to another**."
   ]
  },
  {
   "cell_type": "markdown",
   "metadata": {
    "slideshow": {
     "slide_type": "slide"
    }
   },
   "source": [
    "## What is a Database Transaction?  <img src=\"https://img.icons8.com/clouds/80/000000/cloud-database.png\" style=\"display:inline-block;vertical-align:middle;padding:0 0 10px 10px\">\n",
    "\n",
    "* **A transaction is a unit of work that you want to treat as \"a whole\"**\n",
    "* It has to either happen **in full** or **not at all**.\n",
    "---\n",
    "\n",
    "* A classical example is **transferring money from one bank account to another**.\n",
    "* To do that you have first to withdraw the amount from the source account, and then deposit it to the destination account.\n",
    "* The operation has to succeed in full.\n",
    "* If you stop halfway, the money will be lost, and that is **very bad**.\n",
    "\n",
    "---\n",
    "* In modern databases transactions also do some other things - like ensure that you can't access data that another person has written halfway.\n",
    "* The basic idea is the same - transactions are there to ensure, that no matter what happens, the data you work with will be in a sensible state.\n",
    "* They guarantee that there will NOT be a situation where money is withdrawn from one account, but not deposited to another."
   ]
  },
  {
   "cell_type": "markdown",
   "metadata": {
    "slideshow": {
     "slide_type": "slide"
    }
   },
   "source": [
    "## What is a Database Transaction?  <img src=\"https://img.icons8.com/clouds/80/000000/cloud-database.png\" style=\"display:inline-block;vertical-align:middle;padding:0 0 10px 10px\">\n",
    "\n",
    "\n",
    "\n",
    "<center><img src=\"img/01.png\"></center>"
   ]
  },
  {
   "cell_type": "markdown",
   "metadata": {
    "slideshow": {
     "slide_type": "slide"
    }
   },
   "source": [
    "## What is a Database Transaction? <img src=\"https://img.icons8.com/clouds/80/000000/cloud-database.png\" style=\"display:inline-block;vertical-align:middle;padding:0 0 10px 10px\">\n",
    "\n",
    "* A transaction is a program unit whose execution may or may not change the contents of a database.\n",
    "\n",
    "* The transaction is executed as a single unit\n",
    "\n",
    "* If the database operations do not update the database but only retrieve data, this type of transaction is called a read-only transaction.\n",
    "\n",
    "* A successful transaction can change the database from one **CONSISTENT STATE** to another DBMS transactions must be **atomic, consistent, isolated and durable**\n",
    "\n",
    "* If the database were in an inconsistent state before a transaction, it would remain in the inconsistent state after the transaction."
   ]
  },
  {
   "cell_type": "markdown",
   "metadata": {
    "slideshow": {
     "slide_type": "slide"
    }
   },
   "source": [
    "## Concurrency Control in Transactions <img src=\"https://img.icons8.com/flat_round/80/000000/vertical-settings-mixer.png\" style=\"display:inline-block;vertical-align:middle;padding:0 0 10px 10px\">\n",
    "* A database is a shared resource accessed.\n",
    "\n",
    "* It is used by **many users** and **processes concurrently**.\n",
    "\n",
    "    * For example, the banking system, railway, and air reservations systems, stock market monitoring, supermarket inventory, and checkouts, etc.\n",
    "    \n",
    "* **Not managing concurrent access may create issues like**:\n",
    "\n",
    "    * Hardware failure and system crashes\n",
    "    \n",
    "    * Concurrent execution of the same transaction, deadlock, or slow performance"
   ]
  },
  {
   "cell_type": "markdown",
   "metadata": {
    "slideshow": {
     "slide_type": "slide"
    }
   },
   "source": [
    "## States of Transactions <img src=\"https://img.icons8.com/cute-clipart/80/000000/test-partial-passed.png\" style=\"display:inline-block;vertical-align:middle;padding:0 0 10px 10px\">\n",
    "\n",
    "The various states of a Database Transaction are listed below:"
   ]
  },
  {
   "cell_type": "markdown",
   "metadata": {
    "slideshow": {
     "slide_type": "-"
    }
   },
   "source": [
    "|State|Transaction types|\n",
    "|:-- |:-- |\n",
    "|Active State|A transaction enters into an active state when the execution process begins. During this state read or write operations can be performed.|\n",
    "|Partially Committed|A transaction goes into the partially committed state after the end of a transaction.|\n",
    "|Committed State|When the transaction is committed to state, it has already completed its execution successfully. <br/>Moreover, all of its changes are recorded to the database permanently.|\n",
    "|Failed State|A transaction considers failed when any one of the checks fails or if the transaction is aborted while it is in the active state.|\n",
    "|Terminated State|State of transaction reaches terminated state when certain transactions which are leaving the system can't be restarted.|"
   ]
  },
  {
   "cell_type": "markdown",
   "metadata": {
    "cell_style": "center",
    "slideshow": {
     "slide_type": "slide"
    }
   },
   "source": [
    "## States of Transactions <img src=\"https://img.icons8.com/cute-clipart/80/000000/test-partial-passed.png\" style=\"display:inline-block;vertical-align:middle;padding:0 0 10px 10px\">\n",
    "<center><img src=\"img/02.png\" width=\"50%\"></center>\n",
    "\n",
    "1. Once a transaction states execution, it becomes active. It can issue **READ** or **WRITE** operation.\n",
    "\n",
    "2. Once the **READ** and **WRITE** operations complete, the transactions becomes partially committed state.\n",
    "\n",
    "3. Next, some recovery protocols need to ensure that a system failure will not result in an inability to record changes in the transaction permanently. If this check is a **success**, **the transaction commits and enters into the committed state**."
   ]
  },
  {
   "cell_type": "markdown",
   "metadata": {
    "slideshow": {
     "slide_type": "slide"
    }
   },
   "source": [
    "## States of Transactions  <img src=\"https://img.icons8.com/cute-clipart/80/000000/test-partial-passed.png\" style=\"display:inline-block;vertical-align:middle;padding:0 0 10px 10px\">\n",
    "<center><img src=\"img/02.png\" width=\"50%\"></center>\n",
    "\n",
    "4. If the check is a fail, the transaction goes to the **Failed state**.\n",
    "\n",
    "5. If the transaction is aborted while it's in the active state, it goes to the failed state. The transaction **should be rolled back** to undo the effect of its write operations on the database.\n",
    "\n",
    "6. The **terminated state** refers to the transaction leaving the system."
   ]
  },
  {
   "cell_type": "markdown",
   "metadata": {
    "slideshow": {
     "slide_type": "slide"
    }
   },
   "source": [
    "## What are ACID Properties? <img src=\"https://img.icons8.com/doodle/80/000000/citrus.png\" style=\"display:inline-block;vertical-align:middle;padding:0 0 10px 10px\">\n",
    "\n",
    "* For maintaining the integrity of data, the DBMS system you have to ensure ACID properties.\n",
    "\n",
    "* **ACID** stands for **A**tomicity, **C**onsistency, **I**solation and **D**urability.\n",
    "\n",
    "\n",
    "<center><img src=\"img/03.png\" width=\"35%\"></center>"
   ]
  },
  {
   "cell_type": "markdown",
   "metadata": {
    "slideshow": {
     "slide_type": "slide"
    }
   },
   "source": [
    "## ACID: Atomicity <img src=\"https://img.icons8.com/doodle/80/000000/citrus.png\" style=\"display:inline-block;vertical-align:middle;padding:0 0 10px 10px\">\n",
    "\n",
    "* **Atomicity** states that a transaction must be treated as an atomic unit, that is, either all of its operations are executed or none.\n",
    "\n",
    "* There must be no state in a database where a transaction is left partially completed.\n",
    "\n",
    "* States should be defined either before the execution of the transaction or after the execution/abortion/failure of the transaction."
   ]
  },
  {
   "cell_type": "markdown",
   "metadata": {
    "slideshow": {
     "slide_type": "slide"
    }
   },
   "source": [
    "## ACID: Consistency  <img src=\"https://img.icons8.com/doodle/80/000000/citrus.png\" style=\"display:inline-block;vertical-align:middle;padding:0 0 10px 10px\">\n",
    "\n",
    "* **Consistency**: the database must remain in a consistent state after any transaction.\n",
    "\n",
    "* No transaction should have any adverse effect on the data residing in the database.\n",
    "\n",
    "* If the database was in a consistent state before the execution of a transaction, it must remain consistent after the execution of the transaction as well."
   ]
  },
  {
   "cell_type": "markdown",
   "metadata": {
    "slideshow": {
     "slide_type": "slide"
    }
   },
   "source": [
    "## ACID: Durability  <img src=\"https://img.icons8.com/doodle/80/000000/citrus.png\" style=\"display:inline-block;vertical-align:middle;padding:0 0 10px 10px\">\n",
    "\n",
    "* **Durability**: the database should be durable enough to hold all its latest updates even if the system fails or restarts.\n",
    "\n",
    "* If a transaction updates a chunk of data in a database and commits, then the database will hold the modified data.\n",
    "\n",
    "* If a transaction commits but the system fails before the data could be written on to the disk, then that data will be updated once the system springs back into action."
   ]
  },
  {
   "cell_type": "markdown",
   "metadata": {
    "slideshow": {
     "slide_type": "slide"
    }
   },
   "source": [
    "## ACID: Isolation  <img src=\"https://img.icons8.com/doodle/80/000000/citrus.png\" style=\"display:inline-block;vertical-align:middle;padding:0 0 10px 10px\">\n",
    "\n",
    "* **Isolation**: in a database system where more than one transaction are being executed simultaneously and in parallel, the property of isolation states that all the transactions will be carried out and executed as if it is the only transaction in the system.\n",
    "\n",
    "* No transaction will affect the existence of any other transaction."
   ]
  },
  {
   "cell_type": "markdown",
   "metadata": {
    "slideshow": {
     "slide_type": "slide"
    }
   },
   "source": [
    "## ACID: Example  <img src=\"https://img.icons8.com/doodle/80/000000/citrus.png\" style=\"display:inline-block;vertical-align:middle;padding:0 0 10px 10px\">\n",
    "\n",
    "* Example of **ACID**:\n",
    "\n",
    "    ```\n",
    "    Transaction 1: Begin X=X+50, Y = Y-50 END\n",
    "    Transaction 2: Begin X=1.1*X, Y=1.1*Y END\n",
    "    ```\n",
    "\n",
    "    * **Transaction 1** is transferring **€50** from **account X** to **account Y**.\n",
    "    * **Transaction 2** is crediting each account with a **10% interest payment**.\n",
    "---\n",
    "* If **both transactions are submitted together**, there is no guarantee that the **Transaction 1** will execute before **Transaction 2** or vice versa.\n",
    "\n",
    "* Irrespective of the order, **the result must be** as if the transactions **take place serially one after the other**."
   ]
  },
  {
   "cell_type": "markdown",
   "metadata": {
    "slideshow": {
     "slide_type": "slide"
    }
   },
   "source": [
    "## Serialisability <img src=\"https://img.icons8.com/cute-clipart/80/000000/date-from.png\" style=\"display:inline-block;vertical-align:middle;padding:0 0 10px 10px\"> \n",
    "* When **multiple transactions** are being executed by the operating system in a multiprogramming environment, there are possibilities that **instructions of one transactions are interleaved with some other transaction**.\n",
    "---\n",
    "* **Schedule** − A chronological execution sequence of a transaction is called a schedule.\n",
    "\n",
    "    * A schedule can have many transactions in it, each comprising of a number of instructions/tasks.\n",
    "---\n",
    "* **Serial Schedule** − It is a schedule in which transactions are aligned in such a way that one transaction is executed first.\n",
    "\n",
    "    * When the first transaction completes its cycle, then the next transaction is executed.\n",
    "\n",
    "    * Transactions are ordered one after the other.\n",
    "    \n",
    "    * This type of schedule is called a serial schedule, as transactions are executed in a serial manner."
   ]
  },
  {
   "cell_type": "markdown",
   "metadata": {
    "slideshow": {
     "slide_type": "slide"
    }
   },
   "source": [
    "## Serialisability <img src=\"https://img.icons8.com/cute-clipart/80/000000/date-from.png\" style=\"display:inline-block;vertical-align:middle;padding:0 0 10px 10px\"> \n",
    "\n",
    "* In a multi-transaction environment, serial schedules are considered as a benchmark.\n",
    "\n",
    "* The execution sequence of an instruction in a transaction cannot be changed, but **two transactions can have their instructions executed in a random fashion**.\n",
    "\n",
    "* This execution does no harm if two transactions are mutually independent and working on different segments of data\n",
    "\n",
    "* In case these two transactions are working on the same data, then the results may vary.\n",
    "\n",
    "* This ever-varying result may bring the database to an **inconsistent state**.\n",
    "\n",
    "* To resolve this problem, we allow **parallel execution of a transaction schedule**, if its transactions are either serialisable or have some equivalence relation among them."
   ]
  },
  {
   "cell_type": "markdown",
   "metadata": {
    "slideshow": {
     "slide_type": "slide"
    }
   },
   "source": [
    "## Equivalence Schedules <img src=\"https://img.icons8.com/cute-clipart/80/000000/equal-sign.png\" style=\"display:inline-block;vertical-align:middle;padding:0 0 10px 10px\">\n",
    "\n",
    "* An **equivalence schedule** can be of **3 types**:\n",
    "\n",
    "    * **Result Equivalence**\n",
    "    \n",
    "    * **View Equivalence**\n",
    "    \n",
    "    * **Conflict Equivalence**"
   ]
  },
  {
   "cell_type": "markdown",
   "metadata": {
    "slideshow": {
     "slide_type": "slide"
    }
   },
   "source": [
    "## Equivalence Schedules: Result  <img src=\"https://img.icons8.com/cute-clipart/80/000000/equal-sign.png\" style=\"display:inline-block;vertical-align:middle;padding:0 0 10px 10px\">\n",
    "\n",
    "* **Result Equivalence**\n",
    "\n",
    "    * If two schedules produce the same result after execution, they are said to be result equivalent.\n",
    "\n",
    "    * They may yield the same result for some value and different results for another set of values.\n",
    "\n",
    "    * That's why this equivalence is not generally considered significant."
   ]
  },
  {
   "cell_type": "markdown",
   "metadata": {
    "slideshow": {
     "slide_type": "slide"
    }
   },
   "source": [
    "## Equivalence Schedules: View <img src=\"https://img.icons8.com/cute-clipart/80/000000/equal-sign.png\" style=\"display:inline-block;vertical-align:middle;padding:0 0 10px 10px\">\n",
    "\n",
    "* **View Equivalence**\n",
    "\n",
    "    * Two schedules would be view equivalence if the transactions in both the schedules perform similar actions in a similar manner.\n",
    "    \n",
    "    * For example:\n",
    "        \n",
    "        * If **T** reads the initial data in **S1**, then it also reads the initial data in **S2**.\n",
    "\n",
    "        * If **T** reads the value written by **J** in **S1**, then it also reads the value written by **J** in **S2**.\n",
    "\n",
    "        * If **T** performs the final write on the data value in **S1**, then it also performs the final write on the data value in **S2**."
   ]
  },
  {
   "cell_type": "markdown",
   "metadata": {
    "slideshow": {
     "slide_type": "slide"
    }
   },
   "source": [
    "## Equivalence Schedules: Conflict <img src=\"https://img.icons8.com/cute-clipart/80/000000/equal-sign.png\" style=\"display:inline-block;vertical-align:middle;padding:0 0 10px 10px\">\n",
    "\n",
    "* **Conflict Equivalence**\n",
    "\n",
    "    * Two schedules would be **conflicting** if they have the following properties:\n",
    "\n",
    "        * Both belong to separate transactions.\n",
    "        \n",
    "        * Both accesses the same data item.\n",
    "        \n",
    "        * At least one of them is \"write\" operation.\n",
    "\n",
    "    * Two schedules having **multiple transactions with conflicting operations** are said to be conflict equivalent if and only if:\n",
    "\n",
    "        * Both the schedules contain the same set of Transactions.\n",
    "        \n",
    "        * The order of conflicting pairs of operation is maintained in both the schedules."
   ]
  },
  {
   "cell_type": "markdown",
   "metadata": {
    "slideshow": {
     "slide_type": "slide"
    }
   },
   "source": [
    "## Concurrency Control <img src=\"https://img.icons8.com/bubbles/80/000000/lock-2.png\"  style=\"display:inline-block;vertical-align:middle;padding:0 0 10px 10px\">\n",
    "\n",
    "* In a multiprogramming environment where multiple transactions can be executed simultaneously, it is highly important to control the **concurrency of transactions**.\n",
    "\n",
    "* We have concurrency control protocols to ensure **atomicity**, **isolation** and **serialisability** of concurrent transactions.\n",
    "\n",
    "* Concurrency control protocols can be broadly divided into two categories:\n",
    "\n",
    "    * **Lock based protocols**\n",
    "    \n",
    "    * **Time stamp based protocols**"
   ]
  },
  {
   "cell_type": "markdown",
   "metadata": {
    "slideshow": {
     "slide_type": "slide"
    }
   },
   "source": [
    "## Lock-based Protocols  <img src=\"https://img.icons8.com/bubbles/80/000000/lock-2.png\"  style=\"display:inline-block;vertical-align:middle;padding:0 0 10px 10px\">\n",
    "\n",
    "* Database systems equipped with lock-based protocols use a mechanism by which any transaction cannot read or write data until it acquires an appropriate lock on it. Locks are of two kinds:\n",
    "\n",
    "    * **Binary Locks** − A lock on a data item can be in two states; it is either locked or unlocked.\n",
    "\n",
    "    * **Shared/exclusive** − This type of locking mechanism differentiates the locks based on their uses. If a lock is acquired on a data item to perform a write operation, it is an exclusive lock. Allowing more than one transaction to write on the same data item would lead the database into an inconsistent state. Read locks are shared because no data value is being changed.\n",
    "    \n",
    "* Types:\n",
    "\n",
    "    * **Simplistic**\n",
    "    * **Pre-claiming**\n",
    "    * **Two-Phase**\n",
    "    * **Strict Two-Phase**"
   ]
  },
  {
   "cell_type": "markdown",
   "metadata": {
    "slideshow": {
     "slide_type": "slide"
    }
   },
   "source": [
    "## Simplistic Lock Protocol <img src=\"https://img.icons8.com/bubbles/80/000000/lock-2.png\"  style=\"display:inline-block;vertical-align:middle;padding:0 0 10px 10px\">\n",
    "\n",
    "* **Simplistic Lock Protocol**\n",
    "\n",
    "    * Simplistic lock-based protocols allow transactions to obtain a lock on every object before a 'write' operation is performed.\n",
    "    * Transactions may unlock the data item after completing the ‘write’ operation.\n"
   ]
  },
  {
   "cell_type": "markdown",
   "metadata": {
    "slideshow": {
     "slide_type": "slide"
    }
   },
   "source": [
    "## Pre-claiming Lock Protocol  <img src=\"https://img.icons8.com/bubbles/80/000000/lock-2.png\"  style=\"display:inline-block;vertical-align:middle;padding:0 0 10px 10px\">\n",
    "\n",
    "* **Pre-claiming protocols**\n",
    "    \n",
    "    * Evaluate their operations and create a list of data items on which they need locks.\n",
    "    * Before initiating an execution, the transaction requests the system for all the locks it needs beforehand.\n",
    "    * If all the locks are granted, the transaction executes and releases all the locks when all its operations are over.\n",
    "    * If all the locks are not granted, the transaction rolls back and waits until all the locks are granted.\n",
    "\n",
    "<center><img src=\"https://www.tutorialspoint.com/dbms/images/pre_claiming.png\"></center>"
   ]
  },
  {
   "cell_type": "markdown",
   "metadata": {
    "slideshow": {
     "slide_type": "slide"
    }
   },
   "source": [
    "## Two-Phase Locking 2PL <img src=\"https://img.icons8.com/bubbles/80/000000/lock-2.png\"  style=\"display:inline-block;vertical-align:middle;padding:0 0 10px 10px\">\n",
    "\n",
    "* **Two-Phase Locking 2PL**\n",
    "    * This locking protocol divides the execution phase of a transaction into three parts.\n",
    "    * In the first part, when the transaction starts executing, it seeks permission for the locks it requires.\n",
    "    * The second part is where the transaction acquires all the locks.\n",
    "    * As soon as the transaction releases its first lock, the third phase starts.\n",
    "    * In this phase, the transaction cannot demand any new locks; it only releases the acquired locks.\n",
    "\n",
    "<center><img src=\"https://www.tutorialspoint.com/dbms/images/2PL.png\"></center>\n",
    "\n",
    "* **Two-phase locking has** two phases:\n",
    "    * One is **growing**, where all the locks are being acquired by the transaction\n",
    "    * The second phase is **shrinking**, where the locks held by the transaction are being released\n",
    "\n",
    "* To claim an exclusive (write) lock, a transaction must first acquire a shared (read) lock and then upgrade it to an exclusive lock."
   ]
  },
  {
   "cell_type": "markdown",
   "metadata": {
    "slideshow": {
     "slide_type": "slide"
    }
   },
   "source": [
    "## Strict Two-Phase Locking <img src=\"https://img.icons8.com/bubbles/80/000000/lock-2.png\"  style=\"display:inline-block;vertical-align:middle;padding:0 0 10px 10px\">\n",
    "\n",
    "* **Strict Two-Phase Locking**\n",
    "    * The first phase of Strict-2PL is same as 2PL.\n",
    "    * After acquiring all the locks in the first phase, the transaction continues to execute normally.\n",
    "    * But in contrast to 2PL, Strict-2PL does not release a lock after using it.\n",
    "    * Strict-2PL holds all the locks until the commit point and releases all the locks at a time.\n",
    "\n",
    "<center><img src=\"https://www.tutorialspoint.com/dbms/images/strict_2PL.png\"></center>\n",
    "\n",
    "* **Strict-2PL does not have cascading abort as 2PL does**"
   ]
  },
  {
   "cell_type": "markdown",
   "metadata": {
    "slideshow": {
     "slide_type": "slide"
    }
   },
   "source": [
    "## Timestamp-based Protocols <img src=\"https://img.icons8.com/clouds/80/000000/security-time.png\"   style=\"display:inline-block;vertical-align:middle;padding:0 0 10px 10px\">\n",
    "* **Timestamp-based Protocol**\n",
    "\n",
    "    * The most commonly used concurrency protocol\n",
    "\n",
    "    * This protocol uses either system time or logical counter as a timestamp\n",
    "\n",
    "    * Lock-based protocols manage the order between the conflicting pairs among transactions at the time of execution, whereas timestamp-based protocols start working as soon as a transaction is created\n",
    "\n",
    "    * Every transaction has a timestamp associated with it, and the ordering is determined by the age of the transaction.\n",
    "    \n",
    "        * A transaction created at 0002 clock time would be older than all other transactions that come after it.\n",
    "\n",
    "        * For example, any transaction 'y' entering the system at 0004 is two seconds younger and the priority would be given to the older one\n",
    "\n",
    "    * In addition, every data item is given the latest read and write-timestamp. This lets the system know when the last ‘read and write’ operation was performed on the data item"
   ]
  },
  {
   "cell_type": "markdown",
   "metadata": {
    "slideshow": {
     "slide_type": "slide"
    }
   },
   "source": [
    "## Summary  <img src=\"https://img.icons8.com/office/80/000000/centre-of-gravity.png\" style=\"display:inline-block;vertical-align:middle;padding:0 0 10px 10px\">\n",
    "\n",
    "* **Storage Systems**: Primary, Secondary, Tertiary\n",
    "\n",
    "* **RAID**\n",
    "\n",
    "* **File Structure**: Sequestial, Hash, Clustered\n",
    "\n",
    "* **File Operations**\n",
    "\n",
    "* **Indexing**: Dense, Sparse, Multilevel\n",
    "\n",
    "* **Transactions**\n",
    "\n",
    "* **ACID**\n",
    "\n",
    "* **Serialisability**\n",
    "\n",
    "* **Concurrency Control**"
   ]
  }
 ],
 "metadata": {
  "celltoolbar": "Slideshow",
  "kernelspec": {
   "display_name": "Python 3",
   "language": "python",
   "name": "python3"
  },
  "language_info": {
   "codemirror_mode": {
    "name": "ipython",
    "version": 3
   },
   "file_extension": ".py",
   "mimetype": "text/x-python",
   "name": "python",
   "nbconvert_exporter": "python",
   "pygments_lexer": "ipython3",
   "version": "3.7.5"
  },
  "rise": {
   "autolaunch": true,
   "backgroundTransition": "slide",
   "controls": true,
   "enable_chalkboard": true,
   "overlay": "<div class='line top'></div><div class='line bottom'></div><div class='line left'></div><div class='line right'></div><div class='logo'><img src='../binder/logo.png'/></div>",
   "showSlideNumber": "speaker",
   "slideNumber": true,
   "theme": "simple",
   "transition": "slide"
  }
 },
 "nbformat": 4,
 "nbformat_minor": 2
}
