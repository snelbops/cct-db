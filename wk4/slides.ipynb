{
 "cells": [
  {
   "cell_type": "code",
   "execution_count": null,
   "metadata": {
    "cell_style": "center",
    "slideshow": {
     "slide_type": "skip"
    }
   },
   "outputs": [],
   "source": [
    "%%HTML\n",
    "<style type=\"text/css\">\n",
    ".CodeMirror {width: 100vw}\n",
    ".container {width: 90% !important}\n",
    ".rendered_html {font-size:0.8em}\n",
    ".rendered_html table, .rendered_html th, .rendered_html tr, .rendered_html td {font-size: 0.9em}\n",
    "table td, table th {\n",
    "border: 1px  black solid !important;\n",
    "color: black !important;\n",
    "background-color: white;}\n",
    "hr {\n",
    "    border: 0;\n",
    "    height: 1px;\n",
    "    background: #333;\n",
    "    background-image: linear-gradient(to right, #ccc, #333, #ccc);\n",
    "}\n",
    "</style>"
   ]
  },
  {
   "cell_type": "markdown",
   "metadata": {
    "cell_style": "center",
    "slideshow": {
     "slide_type": "slide"
    }
   },
   "source": [
    "# Entity-Relationship Diagram <img src=\"https://img.icons8.com/stacked-organizational-chart\" style=\"display:inline-block;vertical-align:middle;padding:0 0 10px 10px\">"
   ]
  },
  {
   "cell_type": "markdown",
   "metadata": {
    "slideshow": {
     "slide_type": ""
    }
   },
   "source": [
    "* Press `Space` to navigate through the slides\n",
    "* Use `Shift+Space` to go back"
   ]
  },
  {
   "cell_type": "markdown",
   "metadata": {
    "slideshow": {
     "slide_type": "slide"
    }
   },
   "source": [
    "# Quick Recap<img src=\"https://img.icons8.com/ios/connection-sync\" style=\"display:inline-block;vertical-align:middle;padding:0 0 10px 10px\">\n",
    "\n",
    "* **Normalisation**\n",
    " * 1NF\n",
    " * 2NF (be 1NF and remove **partial dependency**)\n",
    " * 3NF (be 2NF and remove **transitive dependency**)\n",
    "* **Data modelling**\n",
    " * Conceptual, Logical, Physical\n",
    "* **CA1 released**\n",
    " * The descriptor is **[here](https://moodle.cct.ie/mod/resource/view.php?id=49275)**\n",
    " * Submission in next week on **Friday 18/10/2019 @5pm**"
   ]
  },
  {
   "cell_type": "markdown",
   "metadata": {
    "slideshow": {
     "slide_type": "slide"
    }
   },
   "source": [
    "# Quick Recap<img src=\"https://img.icons8.com/ios/connection-sync/\" style=\"display:inline-block;vertical-align:middle;padding:0 0 10px 10px\">\n",
    "\n",
    "* **Relations & Keys**\n",
    " * Terminology: **Relation**, **Tuple**, **Attribute**, **Cardinality**, **Degree**, **Primary key**, **Domain**\n",
    " * Keys: **Candidate**, **Primary**, **Foreign**, **Alternate**\n",
    " * Keys constructs: **Single**, **Compound**, **Composite**\n",
    "* **Schemas**\n",
    " * Internal, Conceptual, External\n",
    "* **Relational Integrity Constraints**\n",
    " * Domain constraints, Key constraints, Referential integrity"
   ]
  },
  {
   "cell_type": "markdown",
   "metadata": {
    "slideshow": {
     "slide_type": "slide"
    }
   },
   "source": [
    "# Notations<img src=\"https://img.icons8.com/edit-property\" style=\"display:inline-block;vertical-align:middle;padding:0 0 10px 10px\">\n",
    "* A modeling notation is a set of graphical elements (and instructions on how to use them) that help us represent the structure or functioning of something.\n",
    "* ERD is created using some notation to represent graphically the list of requirements and business rules of whatever we are building.\n",
    "* Currently, there is no standard notation for an ER model.\n",
    "\n",
    "* The original notation developed by **Peter Chen** in 1976 is still very popular.\n",
    "* Numerous other alternatives exist, and many extensions were added to Chen’s original one, which arose out of the need to capture more semantic elements (mainly constraints).\n",
    "* Popular notations:\n",
    "    * **Chen**\n",
    "    * Crow's Foot\n",
    "    * Barker\n",
    "    * UML\n",
    "    * Bachman"
   ]
  },
  {
   "cell_type": "markdown",
   "metadata": {
    "slideshow": {
     "slide_type": "slide"
    }
   },
   "source": [
    "# Notations (Examples)<img src=\"https://img.icons8.com/edit-property\" style=\"display:inline-block;vertical-align:middle;padding:0 0 10px 10px\">\n",
    "<center><img src=\"https://d2slcw3kip6qmk.cloudfront.net/marketing/pages/chart/seo/ERD/discovery/erd-systems-05.svg\" width=\"50%\">\n",
    "<img src=\"https://d2slcw3kip6qmk.cloudfront.net/marketing/pages/chart/seo/ERD/discovery/erd-systems-03.svg\" width=\"50%\">\n",
    "<img src=\"https://d2slcw3kip6qmk.cloudfront.net/marketing/pages/chart/seo/ERD/discovery/erd-systems-04.svg\" width=\"50%\">\n",
    "<img src=\"https://d2slcw3kip6qmk.cloudfront.net/marketing/pages/chart/seo/ERD/discovery/erd-systems-01.svg\" width=\"50%\"></center>"
   ]
  },
  {
   "cell_type": "markdown",
   "metadata": {
    "slideshow": {
     "slide_type": "slide"
    }
   },
   "source": [
    "# ERD Components<img src=\"https://img.icons8.com/stacked-organizational-chart\" style=\"display:inline-block;vertical-align:middle;padding:0 0 10px 10px\">\n",
    "An Entity Relationship Diagram (ERD) is a type of diagram that lets you see how different entities (e.g. people, customers, or other objects) relate to each other in an application or a database.\n",
    "\n",
    "* **Entities** are the main item from which information is collected.\n",
    "    * It can be an object, person, idea or concept of the real world and must have attributes.\n",
    "* **Attributes** are entities’ properties that provide descriptive information about them.\n",
    "    * There are two classes of attributes: identifiers and descriptors. Additionally, and depending on the notation, there are different attribute constraints.\n",
    "* **Relationships** are the link that joins two or more entities.\n",
    "    * They represent associations in the real world and do not have a physical existence.\n",
    "    * Their role is essential since they serve several purposes:\n",
    "    * A Relationship has **Cardinality**\n"
   ]
  },
  {
   "cell_type": "markdown",
   "metadata": {
    "slideshow": {
     "slide_type": "slide"
    }
   },
   "source": [
    "# Entity<img src=\"https://img.icons8.com/rectangle\" style=\"display:inline-block;vertical-align:middle;padding:0 0 10px 10px\">"
   ]
  },
  {
   "cell_type": "markdown",
   "metadata": {
    "cell_style": "split",
    "slideshow": {
     "slide_type": "-"
    }
   },
   "source": [
    "* A real-world thing either living or non-living that is easily recognisable.\n",
    "* It is anything in the enterprise that is to be represented in our database.\n",
    "* It may be a physical thing or simply a fact about the enterprise or an event that happens in the real world.\n",
    "\n",
    "* An entity can be place, person, object, event or a concept, which stores data in the database.\n",
    "* The characteristics of entities are must have an attribute, and a unique key.\n",
    "* Every entity is made up of some 'attributes' which represent that entity."
   ]
  },
  {
   "cell_type": "markdown",
   "metadata": {
    "cell_style": "split",
    "slideshow": {
     "slide_type": "fragment"
    }
   },
   "source": [
    "**Examples of entities:**\n",
    "* **Person**\n",
    " * Employee, Student, Patient\n",
    "* **Place**\n",
    " * Store, Building\n",
    "* **Object**\n",
    " * Machine, Product and Car\n",
    "* **Event**\n",
    " * Sale, Registration, Renewal\n",
    "* **Concept**\n",
    " * Account, Course"
   ]
  },
  {
   "cell_type": "markdown",
   "metadata": {
    "slideshow": {
     "slide_type": "slide"
    }
   },
   "source": [
    "# Entity<img src=\"https://img.icons8.com/rectangle\" style=\"display:inline-block;vertical-align:middle;padding:0 0 10px 10px\">\n",
    "* They are usually represented as rectangles on an ERD with the entity name inside the rectangle\n",
    "* We will use Chen Notation on our course<br>\n",
    "<img src=\"https://d2slcw3kip6qmk.cloudfront.net/marketing/pages/chart/seo/ERD/discovery/erd-symbols-01.svg\" width=\"20%\" style=\"display:inline-block\">"
   ]
  },
  {
   "cell_type": "markdown",
   "metadata": {
    "slideshow": {
     "slide_type": "slide"
    }
   },
   "source": [
    "\n",
    "# Entity<img src=\"https://img.icons8.com/rectangle\" style=\"display:inline-block;vertical-align:middle;padding:0 0 10px 10px\">\n",
    "* An entity can also be a **strong** entity or a **weak** entity. What’s the difference?\n",
    "    * A **strong entity** has an identifier (a primary key) and does not depend on any other entities for it to exist.\n",
    "        * For example, a student may be a **strong entity**, as it can have a primary key and does not depend on any other entities for it to exist.\n",
    "    * A **weak entity** is one that depends on a strong entity for existence, i.e. it has a foreign key to another entity.\n",
    "        * For example, an enrolment of a student may be a **weak entity**, as an enrolment cannot exist without a student.\n",
    "    * <img src=\"https://d2slcw3kip6qmk.cloudfront.net/marketing/pages/chart/seo/ERD/discovery/erd-symbols-01.svg\" width=\"20%\" style=\"display:inline-block\">&nbsp;&nbsp;&nbsp;<img src=\"https://d2slcw3kip6qmk.cloudfront.net/marketing/pages/chart/seo/ERD/discovery/erd-symbols-02.svg\" width=\"20%\" style=\"display:inline-block\"><br>\n",
    "\n",
    "* An **associative entity** is a table that associates two other tables in a many to many relationship.\n",
    "    * <img src=\"https://d2slcw3kip6qmk.cloudfront.net/marketing/pages/chart/seo/ERD/discovery/erd-symbols-03.svg\" width=\"20%\" style=\"display:inline-block\">&nbsp;&nbsp;&nbsp;\n",
    "    <img src=\"https://upload.wikimedia.org/wikipedia/commons/d/d7/Mapping_table_concept.png\" style=\"display:inline-block\">"
   ]
  },
  {
   "cell_type": "markdown",
   "metadata": {
    "slideshow": {
     "slide_type": "slide"
    }
   },
   "source": [
    "# Attributes<img src=\"https://img.icons8.com/oval\" style=\"display:inline-block;vertical-align:middle;padding:0 0 10px 10px\">\n",
    "* An attribute is a property of an entity or something that can be used to describe an entity.<br>\n",
    "<img src=\"https://d2slcw3kip6qmk.cloudfront.net/marketing/pages/chart/seo/ERD/discovery/erd-symbols-04.svg\"  width=\"20%\" style=\"display:inline-block\"><br>\n",
    "\n",
    "* There are several different types of attributes represented on an ERD:\n",
    "    * **Simple**: an attribute that cannot be split into other attributes, such as a first name.\n",
    "    * **Composite**: an attribute that can be split into other attributes, such as name being split into first, middle, and last name.\n",
    "    * **Derived**: an attribute that is calculated or determined from another attribute, such as the age of record being calculated from the created date.\n",
    "* An attribute can also be single-value or multi-value:\n",
    "    * **Single-value**: an attribute that is only captured once for an entity.\n",
    "    * **Multi-Value**: an attribute that can be captured more than once for an entity, such as multiple phone numbers."
   ]
  },
  {
   "cell_type": "markdown",
   "metadata": {
    "slideshow": {
     "slide_type": "slide"
    }
   },
   "source": [
    "# Attributes<img src=\"https://img.icons8.com/oval/\" style=\"display:inline-block;vertical-align:middle;padding:0 0 10px 10px\">\n",
    "\n",
    "* They are often represented as ovals.<br>\n",
    "\n",
    "<img src=\"https://d2slcw3kip6qmk.cloudfront.net/marketing/pages/chart/seo/ERD/discovery/erd-symbols-04.svg\" width=\"20%\" style=\"display:inline-block\">&nbsp;&nbsp;&nbsp;\n",
    "<img src=\"https://d2slcw3kip6qmk.cloudfront.net/marketing/pages/chart/seo/ERD/discovery/erd-symbols-05.svg\" width=\"20%\" style=\"display:inline-block\">&nbsp;&nbsp;&nbsp;\n",
    "<img src=\"https://d2slcw3kip6qmk.cloudfront.net/marketing/pages/chart/seo/ERD/discovery/erd-symbols-07.svg\" width=\"20%\" style=\"display:inline-block\">&nbsp;&nbsp;&nbsp;\n",
    "<img src=\"https://d2slcw3kip6qmk.cloudfront.net/marketing/pages/chart/seo/ERD/discovery/erd-symbols-08.svg\" width=\"20%\" style=\"display:inline-block\">\n",
    "\n",
    "|Types of Attributes|Description\n",
    " |---|:--\n",
    " Simple attribute| Simple attributes can't be divided any further. For example, a student's contact number. It is also called an atomic value.\n",
    " Composite attribute| It is possible to break down composite attribute. For example, a student's full name may be further divided into first name, second name, and last name.\n",
    " Derived attribute| This type of attribute does not include in the physical database. However, their values are derived from other attributes present in the database. For example, age should not be stored directly. Instead, it should be derived from the DOB of that employee.\n",
    " Multivalued attribute| Multivalued attributes can have more than one values. For example, a student can have more than one mobile number, email address, etc."
   ]
  },
  {
   "cell_type": "markdown",
   "metadata": {
    "slideshow": {
     "slide_type": "slide"
    }
   },
   "source": [
    "# Relationship<img src=\"https://img.icons8.com/Rhombus\" style=\"display:inline-block;vertical-align:middle;padding:0 0 10px 10px\">\n",
    "\n",
    "* Relationship represents how entities act upon each other or are associated with each other.\n",
    "* It is commonly thought as a **verb** connecting the **entities** or **nouns**.\n",
    "* It is an association among two or more entities, e.g. Students **sits** in Class\n",
    "    * For example, the named student might register for a course.\n",
    "    * The two entities would be the student and the course, and the relationship depicted is the act of enrolling, connecting the two entities in that way.\n",
    "* Relationships are typically shown as diamonds or labels directly on the connecting lines.<br>\n",
    "<img src=\"https://d2slcw3kip6qmk.cloudfront.net/marketing/pages/chart/seo/ERD/discovery/erd-symbols-09.svg\" width=\"20%\" style=\"display:inline-block\">"
   ]
  },
  {
   "cell_type": "markdown",
   "metadata": {
    "slideshow": {
     "slide_type": "slide"
    }
   },
   "source": [
    "# Relationship<img src=\"https://img.icons8.com/Rhombus\" style=\"display:inline-block;vertical-align:middle;padding:0 0 10px 10px\">\n",
    "* **Strong relationship**\n",
    " * A relationship where entity is existence-independent of other entities, and PK of Child doesn’t contain PK component of Parent Entity.\n",
    " * A strong relationship is represented by a single rhombus: <img src=\"https://d2slcw3kip6qmk.cloudfront.net/marketing/pages/chart/seo/ERD/discovery/erd-symbols-09.svg\" width=\"20%\" style=\"display:inline-block\">  \n",
    "* **Weak (identifying) relationship**\n",
    " * A relationship where Child entity is existence-dependent on parent, and PK of Child Entity contains PK component of Parent Entity.\n",
    " * This relationship is represented by a double rhombus: <img src=\"https://d2slcw3kip6qmk.cloudfront.net/marketing/pages/chart/seo/ERD/discovery/erd-symbols-10.svg\" width=\"20%\" style=\"display:inline-block\">"
   ]
  },
  {
   "cell_type": "markdown",
   "metadata": {
    "slideshow": {
     "slide_type": "slide"
    }
   },
   "source": [
    "# Cardinality of Relationship<img src=\"https://img.icons8.com/one-to-one\" style=\"display:inline-block;vertical-align:middle;padding:0 0 10px 10px\"><img src=\"https://img.icons8.com/one-to-many\" style=\"display:inline-block;vertical-align:middle;padding:0 0 10px 10px\"><img src=\"https://img.icons8.com/many-to-many\" style=\"display:inline-block;vertical-align:middle;padding:0 0 10px 10px\">\n",
    "* Cardinality is a number of items that must be included in a relationship\n",
    "* An entity in a relationship with minimum cardinality of zero plays an optional role in the relationship\n",
    "* An entity with a minimum cardinality of one plays a mandatory role in the relationship\n",
    "\n",
    "* The degree of relationship (cardinality) is represented by characters “1”, “N” or “M” usually placed at the ends of the relationships\n",
    "\n",
    "\n"
   ]
  },
  {
   "cell_type": "markdown",
   "metadata": {
    "slideshow": {
     "slide_type": "slide"
    }
   },
   "source": [
    "# Cardinality<img src=\"https://img.icons8.com/one-to-one/80\" style=\"display:inline-block;vertical-align:middle;padding:0 0 10px 10px\"><img src=\"https://img.icons8.com/one-to-many/80\" style=\"display:inline-block;vertical-align:middle;padding:0 0 10px 10px\"><img src=\"https://img.icons8.com/many-to-many/80\" style=\"display:inline-block;vertical-align:middle;padding:0 0 10px 10px\">\n",
    "* **one-to-one (1:1)**\n",
    "  * The employee can manage only one department, and each department can be managed by one employee only:\n",
    "  <img src=\"https://d2slcw3kip6qmk.cloudfront.net/marketing/pages/chart/seo/ERD/discovery/erd-chens-13.svg\" width=\"50%\"><br>\n",
    "* **one-to-many (1:N)**\n",
    "  * The customer may place many orders, but each order can be placed by one customer only:\n",
    "  <img src=\"https://d2slcw3kip6qmk.cloudfront.net/marketing/pages/chart/seo/ERD/discovery/erd-chens-14.svg\"  width=\"50%\">"
   ]
  },
  {
   "cell_type": "markdown",
   "metadata": {
    "slideshow": {
     "slide_type": "slide"
    }
   },
   "source": [
    "# Cardinality<img src=\"https://img.icons8.com/one-to-one/80\" style=\"display:inline-block;vertical-align:middle;padding:0 0 10px 10px\"><img src=\"https://img.icons8.com/one-to-many/80\" style=\"display:inline-block;vertical-align:middle;padding:0 0 10px 10px\"><img src=\"https://img.icons8.com/many-to-many/80\" style=\"display:inline-block;vertical-align:middle;padding:0 0 10px 10px\">\n",
    "* **many-to-one (N:1)**\n",
    "  * Many employees may belong to one department, but one particular employee can belong to one department only:\n",
    "  <img src=\"https://d2slcw3kip6qmk.cloudfront.net/marketing/pages/chart/seo/ERD/discovery/erd-chens-15.svg\"  width=\"50%\"><br>\n",
    "* **many-to-many (M:N)**\n",
    "  * One student may belong to more than one student organisations, and one organisation can admit more than one student:\n",
    "  <img src=\"https://d2slcw3kip6qmk.cloudfront.net/marketing/pages/chart/seo/ERD/discovery/erd-chens-16.svg\"  width=\"50%\">"
   ]
  },
  {
   "cell_type": "markdown",
   "metadata": {
    "slideshow": {
     "slide_type": "slide"
    }
   },
   "source": [
    "# Degree of Relationship<img src=\"https://img.icons8.com/180-degree/80\" style=\"display:inline-block;vertical-align:middle;padding:0 0 10px 10px\">\n",
    "\n",
    "There are three Degree of Relationships in ERD notation, namely:\n",
    " * **Unary**\n",
    " <img src=\"diagrams/unary.png\">\n",
    " * **Binary**\n",
    " <img src=\"diagrams/binary.png\">\n",
    " * **Ternary**\n",
    " <img src=\"diagrams/ternary.png\">"
   ]
  },
  {
   "cell_type": "markdown",
   "metadata": {
    "slideshow": {
     "slide_type": "slide"
    }
   },
   "source": [
    "# Participation Constraints<img src=\"https://img.icons8.com/withdrawal-limit\" style=\"display:inline-block;vertical-align:middle;padding:0 0 10px 10px\">\n",
    "An entity set may participate in a relation either totally or partially.\n",
    "\n",
    "* **Total participation** means that every entity in the set is involved in the relationship, e.g., each student must be guided by a professor (there are no students who are not guided by any professor).\n",
    "    * This kind of relation is depicted as a **double line**.\n",
    "\n",
    "* **Partial participation** means that not all entities in the set are involved in the relationship, e.g., not every professor guides a student (there are professors who don’t).\n",
    "    * A partial participation is represented by a **single line**.\n",
    "\n",
    "<center><img src=\"https://www.vertabelo.com/blog/chen-erd-notation/chen-notation-participation-constraints.png\"></center>\n",
    "\n",
    "* The relationship shown above means that each student, without exception, must be guided by one chosen professor, and one – but not every – professor can guide many students.\n",
    "* So there is no student that is not guided by a professor, and on the other hand there can be professors who don't guide any students."
   ]
  },
  {
   "cell_type": "markdown",
   "metadata": {
    "slideshow": {
     "slide_type": "slide"
    }
   },
   "source": [
    "# Optionality of a Relationship<img src=\"https://img.icons8.com/option/80\" style=\"display:inline-block;vertical-align:middle;padding:0 0 10px 10px\">\n",
    "* Optionality of a relationship referrs to whether a relationship instance can exist without an entity in a given role.\n",
    "    * A **mandatory** relationship is represented by a solid line:<br><img src=\"https://d2slcw3kip6qmk.cloudfront.net/marketing/pages/chart/seo/ERD/discovery/erd-chens-11.svg\" width=\"20%\">\n",
    "\n",
    "    * An **optional** relationship is represented by a dashed line:<br><img src=\"https://d2slcw3kip6qmk.cloudfront.net/marketing/pages/chart/seo/ERD/discovery/erd-chens-12.svg\" width=\"20%\">"
   ]
  },
  {
   "cell_type": "markdown",
   "metadata": {
    "slideshow": {
     "slide_type": "slide"
    }
   },
   "source": [
    "# Optionality of a Relationship (Example)<img src=\"https://img.icons8.com/option/80\" style=\"display:inline-block;vertical-align:middle;padding:0 0 10px 10px\">\n",
    "* Consider a **marriage**, a type of relationship with **two mandatory roles** filled by the same entity set.\n",
    "* In most relationships, the entity sets also define the roles, but when an entity set appears multiple times in a single relationship, we distinguish them in different roles.\n",
    "\n",
    "* `Patient` can `Purchase Medicine` with or without a `Prescription`.\n",
    "* A `Purchase` can't exist without a `Patient` and `Medicine`, but a Prescription is optional (overall, though it may be required in specific cases).\n",
    "\n",
    "<center><img src=\"https://i.stack.imgur.com/fGsof.png\" width=\"60%\"></center>"
   ]
  },
  {
   "cell_type": "markdown",
   "metadata": {
    "slideshow": {
     "slide_type": "slide"
    }
   },
   "source": [
    "# Chen Notation<img src=\"https://img.icons8.com/workflow\" style=\"display:inline-block;vertical-align:middle;padding:0 0 10px 10px\">"
   ]
  },
  {
   "cell_type": "markdown",
   "metadata": {
    "cell_style": "split",
    "slideshow": {
     "slide_type": "-"
    }
   },
   "source": [
    " * **Rectangles**\n",
    "     * This symbol represent entity types\n",
    " * **Ellipses**\n",
    "     * Symbol represent attributes\n",
    " * **Diamonds**\n",
    "     * This symbol represents relationship types\n",
    " * **Lines**\n",
    "     * It links attributes to entity types and entity types with other relationship types\n",
    " * **Primary key**\n",
    "     * attributes are underlined\n",
    " * **Double Ellipses**\n",
    "     * Represent multi-valued attributes"
   ]
  },
  {
   "cell_type": "markdown",
   "metadata": {
    "cell_style": "split"
   },
   "source": [
    "<img src=\"diagrams/chen.png\">"
   ]
  },
  {
   "cell_type": "markdown",
   "metadata": {
    "slideshow": {
     "slide_type": "slide"
    }
   },
   "source": [
    "# Chen Notation (Example)<img src=\"https://img.icons8.com/workflow\" style=\"display:inline-block;vertical-align:middle;padding:0 0 10px 10px\">\n",
    "\n",
    "<center><img src=\"https://www.vertabelo.com/blog/chen-erd-notation/chen-notation-book-and-chapter-schema-3.png\" width=\"70%\"></center>"
   ]
  },
  {
   "cell_type": "markdown",
   "metadata": {
    "slideshow": {
     "slide_type": "slide"
    }
   },
   "source": [
    "# Limitations of ER Diagrams and Models<img src=\"https://img.icons8.com/assignment-late/80\" style=\"display:inline-block;vertical-align:middle;padding:0 0 10px 10px\">\n",
    "\n",
    "* **Only for relational data**\n",
    "    * Understand that the purpose is to show relationships. ER diagrams show only that relational structure.\n",
    "* **Not for unstructured data**\n",
    "    * Unless the data is cleanly delineated into different fields, rows or columns, ER diagrams are probably of limited use. The same is true of semi-structured data, because only some of the data will be useful.\n",
    "* **Difficulty integrating with an existing database**\n",
    "    * Using ER Models to integrate with an existing database can be a challenge because of the different architectures."
   ]
  },
  {
   "cell_type": "markdown",
   "metadata": {
    "slideshow": {
     "slide_type": "slide"
    }
   },
   "source": [
    "# How to Draw a Basic ER Diagram<img src=\"https://img.icons8.com/drawing/80\" style=\"display:inline-block;vertical-align:middle;padding:0 0 10px 10px\">\n",
    "\n",
    "1. **Purpose and scope:** Define the purpose and scope of what you’re analyzing or modeling.\n",
    "\n",
    "2. **Entities:** Identify the entities that are involved. When you’re ready, start drawing them in rectangles (or your system’s choice of shape) and labeling them as nouns.\n",
    "\n",
    "3. **Relationships:** Determine how the entities are all related. Draw lines between them to signify the relationships and label them. Some entities may not be related, and that’s fine. In different notation systems, the relationship could be labeled in a diamond, another rectangle or directly on top of the connecting line.\n",
    "\n",
    "4. **Attributes:** Layer in more detail by adding key attributes of entities. Attributes are often shown as ovals. \n",
    "\n",
    "5. **Cardinality:** Show whether the relationship is 1-1, 1-many or many-to-many."
   ]
  },
  {
   "cell_type": "markdown",
   "metadata": {
    "slideshow": {
     "slide_type": "slide"
    }
   },
   "source": [
    "# Tips for ER Diagrams<img src=\"https://img.icons8.com/hint/80\" style=\"display:inline-block;vertical-align:middle;padding:0 0 10px 10px\">\n",
    "1. Show the level of detail necessary for your purpose. You might want to draw a conceptual, logical or physical model, depending on the detail needed. (See above for descriptions of those levels.)\n",
    "2. Watch for redundant entities or relationships.\n",
    "3. If you’re troubleshooting a database problem, watch for holes in relationships or missing entities or attributes.\n",
    "4. Make sure all your entities and relationships are labeled.\n",
    "5. You can translate relational tables and ER diagrams back and forth, if that helps you achieve your goal.\n",
    "6. Make sure the ER diagram supports all the data you need to store.\n",
    "7. There may be different valid approaches to an ER diagram. As long as it provides the necessary information for its scope and purpose, it’s good."
   ]
  },
  {
   "cell_type": "markdown",
   "metadata": {
    "slideshow": {
     "slide_type": "slide"
    }
   },
   "source": [
    "# ERD Naming and Refinement<img src=\"https://img.icons8.com/hint/80\" style=\"display:inline-block;vertical-align:middle;padding:0 0 10px 10px\">\n",
    "* When designing a database schema, the choice of names for entity types, attributes, relationship types and (particularly) roles is not always straightforward.<br><br>\n",
    "* One should choose names that convey, as much as possible, the **meanings** attached to the different constructs in the schema.<br><br>\n",
    "* The cardinality ratio and participation constraint of each relationship type are **determined** from the requirements.\n",
    "    * If some cardinality ratio or dependency cannot be determined from the requirements, the users must be questioned further to determine these structural constraints.<br><br>\n",
    "* We choose to use **singular names** for entity types, rather than plural ones, because the entity type name applies to each individual entity belonging to that entity type.<br><br>\n",
    "* It is occasionally difficult to decide whether a particular concept should be modeled as an entity type, an attribute or a relationship type.<br><br> \n",
    "* In general, the schema design process should be considered an **iterative refinement** process, where an initial design is created and then iteratively refined until the most suitable design is reached."
   ]
  },
  {
   "cell_type": "markdown",
   "metadata": {
    "slideshow": {
     "slide_type": "slide"
    }
   },
   "source": [
    "# Your First ERD<img src=\"https://img.icons8.com/workflow/70\" style=\"display:inline-block;vertical-align:middle;padding:0 0 10px 10px\">\n",
    "The company you work for wants to digitise their time cards.\n",
    "\n",
    "You have been asked to design the database for submitting and approving time cards.\n",
    "\n",
    "* A **timecard** should have hours worked and date submitted\n",
    "* Each **timecard** is associated with exactly one **employee**\n",
    "* Each **timecard** should have a unique **id**\n",
    "* Each **timecard** has a **status**: it is either **approved**, **not approved** or **pending**\n",
    "* Each **employee** has a unique **id**\n",
    "* Each **employee** has a name and **address**.\n",
    "* Each **employee** submits a time card **every pay period**, i.e. in 1 year, they will submit multiple time cards\n",
    "* Each **employee** either has **direct deposit** or **physical cheque** as their method of payment\n",
    "* Each **employee** is associated with exactly **one manager**\n",
    "* Each **manager** has a unique **id** and a **name**\n",
    "* Each **manager** is in charge of **multiple employees**\n",
    "* Each **manager** approves **time cards** for **multiple employees**"
   ]
  },
  {
   "cell_type": "markdown",
   "metadata": {
    "slideshow": {
     "slide_type": "slide"
    }
   },
   "source": [
    "# Define the Entities<img src=\"https://img.icons8.com/Rhombus/80\" style=\"display:inline-block;vertical-align:middle;padding:0 0 10px 10px\">\n",
    "<center><img src=\"diagrams/example1.png\" width=\"80%\"></center>"
   ]
  },
  {
   "cell_type": "markdown",
   "metadata": {
    "slideshow": {
     "slide_type": "slide"
    }
   },
   "source": [
    "# Define the Attributes<img src=\"https://img.icons8.com/oval/80\" style=\"display:inline-block;vertical-align:middle;padding:0 0 10px 10px\">\n",
    "<center><img src=\"diagrams/example2.png\" width=\"80%\"></center>"
   ]
  },
  {
   "cell_type": "markdown",
   "metadata": {
    "slideshow": {
     "slide_type": "slide"
    }
   },
   "source": [
    "# Define the Cardinalities<img src=\"https://img.icons8.com/many-to-many/80\" style=\"display:inline-block;vertical-align:middle;padding:0 0 10px 10px\">\n",
    "<center><img src=\"diagrams/example3.png\" width=\"80%\"></center>"
   ]
  },
  {
   "cell_type": "markdown",
   "metadata": {
    "slideshow": {
     "slide_type": "slide"
    }
   },
   "source": [
    "## Exam Question – January Exam 2013 <img src=\"https://img.icons8.com/exam/80\" style=\"display:inline-block;vertical-align:middle;padding:0 0 10px 10px\">\n",
    " * **Design an ERD according to the provided specifications:**\n",
    "     * The database must store book, author, publisher and warehouse information.\n",
    "     * For every book you must capture the title, isbn, year and price information. The isbn value is unique for a book.\n",
    "     * For every author you must store an id, name, address and the URL of their homepage.\n",
    "     * Each author can write many books, and each book can have many authors, for example.\n",
    "     * For every publisher you must store an id, name, address, phone number and an URL of their website.\n",
    "     * Books are stored at several warehouses, each of which has a code, address and phone number.\n",
    "     * A book has only one publisher.\n",
    "     * The warehouse stocks many different books. A book may be stocked at multiple warehouses.\n",
    "     * The database records the number of copies of a book stocked at various warehouses."
   ]
  },
  {
   "cell_type": "markdown",
   "metadata": {
    "slideshow": {
     "slide_type": "slide"
    }
   },
   "source": [
    "## Exercise 2 – August Exam 2014<img src=\"https://img.icons8.com/exam/80\" style=\"display:inline-block;vertical-align:middle;padding:0 0 10px 10px\">\n",
    " * **Design an ERD according to the provided specifications:**\n",
    "     * United Direct Artists (UDA) is an insurance broker that specialise in insuring paintings for galleries. You are required to design a database for this company.\n",
    "     * The database must store painters, paintings, and galleries information.\n",
    "     * Painters have a unique number, Name, and phone number\n",
    "     * Paintings have unique number, title and price\n",
    "     * Galleries have unique number, owner, phone number, commission rate and address\n",
    "     * A painting is painted by a particular artist, and that painting is exhibited in a particular gallery. A gallery can exhibit many paintings, but each painting can be exhibited in only one gallery. Similarly, a painting is painted by a single painter, but each painter can paint many paintings."
   ]
  },
  {
   "cell_type": "markdown",
   "metadata": {
    "slideshow": {
     "slide_type": "slide"
    }
   },
   "source": [
    "# Tutorial<img src=\"https://img.icons8.com/e-learning/80\" style=\"display:inline-block;vertical-align:middle;padding:0 0 10px 10px\">\n",
    " * For previous **Exam Questions**, sketch out your initial ERD with **https://draw.io**\n",
    " * Your ERD must show entities, attributes and the relationships between entities.\n",
    " * Document any assumptions that you make"
   ]
  },
  {
   "cell_type": "markdown",
   "metadata": {
    "slideshow": {
     "slide_type": "slide"
    }
   },
   "source": [
    "# Summary<img src=\"https://img.icons8.com/ios/summary-list/80\" style=\"display:inline-block;vertical-align:middle;padding:0 0 10px 10px\">"
   ]
  },
  {
   "cell_type": "markdown",
   "metadata": {},
   "source": [
    "* **Components**\n",
    "    * **Entity**\n",
    "    * **Attribute**\n",
    "    * **Relationship**\n",
    "        * Cardinality\n",
    "        * Degree\n",
    "        * Participation constraints\n",
    "        * Optionality\n",
    "* **Chen Notation**\n",
    "    * Limitations, Tips, Drawing, Naming, Refinment"
   ]
  },
  {
   "cell_type": "code",
   "execution_count": null,
   "metadata": {},
   "outputs": [],
   "source": []
  }
 ],
 "metadata": {
  "celltoolbar": "Slideshow",
  "kernelspec": {
   "display_name": "Python 3",
   "language": "python",
   "name": "python3"
  },
  "language_info": {
   "codemirror_mode": {
    "name": "ipython",
    "version": 3
   },
   "file_extension": ".py",
   "mimetype": "text/x-python",
   "name": "python",
   "nbconvert_exporter": "python",
   "pygments_lexer": "ipython3",
   "version": "3.7.5"
  },
  "rise": {
   "autolaunch": true,
   "controls": true,
   "enable_chalkboard": true,
   "overlay": "<div class='line top'></div><div class='line bottom'></div><div class='line left'></div><div class='line right'></div>",
   "showSlideNumber": "speaker",
   "slideNumber": true,
   "theme": "white",
   "transition": "linear"
  }
 },
 "nbformat": 4,
 "nbformat_minor": 2
}
