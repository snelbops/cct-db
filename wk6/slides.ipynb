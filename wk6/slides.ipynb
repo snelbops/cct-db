{
 "cells": [
  {
   "cell_type": "code",
   "execution_count": 31,
   "metadata": {
    "cell_style": "center",
    "slideshow": {
     "slide_type": "skip"
    }
   },
   "outputs": [
    {
     "data": {
      "text/html": [
       "<style type=\"text/css\">\n",
       ".CodeMirror {width: 100vw}\n",
       ".container {width: 90% !important}\n",
       ".rendered_html {font-size:0.8em}\n",
       ".rendered_html table, .rendered_html th, .rendered_html tr, .rendered_html td {font-size: 0.9em}\n",
       "table, td, th {\n",
       "    border: 1px  black solid !important;\n",
       "    color: black !important;\n",
       "    background-color: #eff0f1;\n",
       "    font-size: 28px;\n",
       "}\n",
       "hr {border: 0;\n",
       "    height: 1px;\n",
       "    background: #333;\n",
       "    background-image: linear-gradient(to right, #ccc, #333, #ccc);}\n",
       "</style>\n"
      ],
      "text/plain": [
       "<IPython.core.display.HTML object>"
      ]
     },
     "metadata": {},
     "output_type": "display_data"
    }
   ],
   "source": [
    "%%HTML\n",
    "<style type=\"text/css\">\n",
    ".CodeMirror {width: 100vw}\n",
    ".container {width: 90% !important}\n",
    ".rendered_html {font-size:0.8em}\n",
    ".rendered_html table, .rendered_html th, .rendered_html tr, .rendered_html td {font-size: 0.9em}\n",
    "table, td, th {\n",
    "    border: 1px  black solid !important;\n",
    "    color: black !important;\n",
    "    background-color: #eff0f1;\n",
    "    font-size: 28px;\n",
    "}\n",
    "hr {border: 0;\n",
    "    height: 1px;\n",
    "    background: #333;\n",
    "    background-image: linear-gradient(to right, #ccc, #333, #ccc);}\n",
    "</style>"
   ]
  },
  {
   "cell_type": "markdown",
   "metadata": {
    "cell_style": "center",
    "slideshow": {
     "slide_type": "slide"
    }
   },
   "source": [
    "# SQL and Data Manipulation <img src=\"https://img.icons8.com/ios-filled/sql/80\" style=\"display:inline-block;vertical-align:middle;padding:0 0 10px 10px\">"
   ]
  },
  {
   "cell_type": "markdown",
   "metadata": {
    "slideshow": {
     "slide_type": ""
    }
   },
   "source": [
    "* Press `Space` to navigate through the slides\n",
    "* Use `Shift+Space` to go back"
   ]
  },
  {
   "cell_type": "markdown",
   "metadata": {
    "slideshow": {
     "slide_type": "slide"
    }
   },
   "source": [
    "## Quick Recap<img src=\"https://img.icons8.com/ios-filled/connection-sync/80 0\" style=\"display:inline-block;vertical-align:middle;padding:0 0 10px 10px\">\n",
    "* **SELECT**\n",
    " * **DISTINCT**\n",
    " * **Caltulated fields**\n",
    " * **5 Basic Search Conditions**\n"
   ]
  },
  {
   "cell_type": "markdown",
   "metadata": {
    "slideshow": {
     "slide_type": "slide"
    }
   },
   "source": [
    "## Continuing with SQL <img src=\"https://img.icons8.com/ios-filled/sql/80\" style=\"display:inline-block;vertical-align:middle;padding:0 0 10px 10px\">\n",
    "\n",
    "* **Column Ordering**\n",
    "* Use **aggregate functions**\n",
    "* Group data using **GROUP BY** and **HAVING**\n",
    "* **Join** tables together"
   ]
  },
  {
   "cell_type": "markdown",
   "metadata": {
    "slideshow": {
     "slide_type": "slide"
    }
   },
   "source": [
    "## SINGLE COLUMN ORDERING <img src=\"https://img.icons8.com/android/sort/80\" style=\"display:inline-block;vertical-align:middle;padding:0 0 10px 10px\">\n",
    "\n",
    "*  List salaries for all staff, arranged in descending order of salary.\n",
    "\n",
    "```SQL\n",
    "SELECT staffNo, fName, lName, salary\n",
    "FROM Staff\n",
    "ORDER BY salary DESC;\n",
    "```\n",
    "|staffNo|fName|lName|salary|\n",
    "|---|---|---|---|\n",
    "|SL21|John|White|30000.00|\n",
    "|SG5|Susan|Brand|24000.00|\n",
    "|SG14|David|Ford|18000.00|\n",
    "|SG37|Ann|Beech|12000.00|\n",
    "|SA9|Mary|Howe|9000.00|\n",
    "|SL41|Julie|Lee|9000.00|\n",
    "\n",
    "* `DESC` means descending order\n",
    "* `ASC` is used for ascending order"
   ]
  },
  {
   "cell_type": "markdown",
   "metadata": {
    "slideshow": {
     "slide_type": "slide"
    }
   },
   "source": [
    "## MULTIPLE COLUMN ORDERING <img src=\"https://img.icons8.com/android/sort/80\" style=\"display:inline-block;vertical-align:middle;padding:0 0 10px 10px\">\n",
    "\n",
    "* To arrange in order of type and rent, specify **type** as major\n",
    "and specify **rent** as minor order:\n",
    "\n",
    "```SQL\n",
    "SELECT propertyNo, type, rooms, rent\n",
    "FROM PropertyForRent\n",
    "ORDER BY type, rent DESC;\n",
    "```\n",
    "\n",
    "|propertyNo|type|rooms|rent|\n",
    "|---|---|---|---|\n",
    "|PG16|Flat|4|450|\n",
    "|PL94|Flat|4|400|\n",
    "|PG36|Flat|3|375|\n",
    "|PG4|Flat|3|350|\n",
    "|PA14|House|6|650|\n",
    "|PG21|House|5|600|"
   ]
  },
  {
   "cell_type": "markdown",
   "metadata": {
    "slideshow": {
     "slide_type": "slide"
    }
   },
   "source": [
    "## SELECT STATEMENT – AGGREGATES <img src=\"https://img.icons8.com/ios-filled/filter/80\" style=\"display:inline-block;vertical-align:middle;padding:0 0 10px 10px\">\n",
    "\n",
    "* **Column Ordering**\n",
    "* Use **aggregate functions**\n",
    "* Group data using **GROUP BY** and **HAVING**\n",
    "* **Join** tables together\n",
    "\n",
    "* **ISO** standard defines **5 aggregate functions:**\n",
    "    * `COUNT` returns number of values in specified column.\n",
    "    * `SUM` returns sum of values in specified column.\n",
    "    * `AVG` returns average of values in specified column.\n",
    "    * `MIN` returns smallest value in specified column.\n",
    "    * `MAX` returns largest value in specified column."
   ]
  },
  {
   "cell_type": "markdown",
   "metadata": {
    "slideshow": {
     "slide_type": "slide"
    }
   },
   "source": [
    "## SELECT STATEMENT – AGGREGATES  <img src=\"https://img.icons8.com/ios-filled/filter/80\" style=\"display:inline-block;vertical-align:middle;padding:0 0 10px 10px\">\n",
    "\n",
    "\n",
    "* Each operates on a **single column of a table** and **returns a single value.**\n",
    "* `COUNT`, `MIN` and `MAX` apply to numeric and non-numeric fields\n",
    "* `SUM` and `AVG` may be used on numeric fields only.\n",
    "* Apart from `COUNT(*)`, each function eliminates nulls first and operates only on remaining non-null values.\n",
    "---\n",
    "* `COUNT(*)` counts all rows of a table, regardless of whether nulls or duplicate values occur.\n",
    "* Can use DISTINCT before column name to eliminate duplicates.\n",
    "* `DISTINCT` has no effect with `MIN`/`MAX`, but may have with `SUM`/`AVG`."
   ]
  },
  {
   "cell_type": "markdown",
   "metadata": {
    "slideshow": {
     "slide_type": "slide"
    }
   },
   "source": [
    "## SELECT STATEMENT – AGGREGATES  <img src=\"https://img.icons8.com/ios-filled/filter/80\" style=\"display:inline-block;vertical-align:middle;padding:0 0 10px 10px\">\n",
    "\n",
    "\n",
    "\n",
    "* How many properties cost more than £350 per month to rent?\n",
    "\n",
    "|propertyNo|type|rooms|rent|\n",
    "|---|---|---|---|\n",
    "|PG16|Flat|4|450|\n",
    "|PL94|Flat|4|400|\n",
    "|PG36|Flat|3|375|\n",
    "|PG4|Flat|3|350|\n",
    "|PA14|House|6|650|\n",
    "|PG21|House|5|600|\n",
    "\n",
    "```SQL\n",
    "SELECT COUNT(*) AS myCount\n",
    "FROM PropertyForRent\n",
    "WHERE rent > 350;\n",
    "```\n",
    "|myCount|\n",
    "|---|\n",
    "|5|\n",
    "\n",
    "*  Note the use of `AS` as an **alias**"
   ]
  },
  {
   "cell_type": "markdown",
   "metadata": {
    "slideshow": {
     "slide_type": "slide"
    }
   },
   "source": [
    "## USE OF COUNT AND SUM <img src=\"https://img.icons8.com/metro/80/000000/math.png\" style=\"display:inline-block;vertical-align:middle;padding:0 0 10px 10px\">\n",
    "\n",
    "*  **Find number of Managers and sum of their salaries.**\n",
    "\n",
    "```SQL\n",
    "SELECT COUNT(staffNo) AS myCount,\n",
    "SUM(salary) AS mySum\n",
    "FROM Staff\n",
    "WHERE position = ‘Manager’;\n",
    "```\n",
    "\n",
    "|myCount|mySum|\n",
    "|---|---|\n",
    "|2|54000.00|"
   ]
  },
  {
   "cell_type": "markdown",
   "metadata": {
    "slideshow": {
     "slide_type": "slide"
    }
   },
   "source": [
    "## USE OF MIN, MAX, AVG <img src=\"https://img.icons8.com/metro/80/000000/math.png\" style=\"display:inline-block;vertical-align:middle;padding:0 0 10px 10px\">\n",
    "\n",
    "*  **Find minimum, maximum, and average staff salary.**\n",
    "\n",
    "```SQL\n",
    "SELECT MIN(salary) AS myMin,\n",
    "MAX(salary) AS myMax,\n",
    "AV G ( s a l a r y) AS myAvg\n",
    "FROM Staff;\n",
    "```\n",
    "|myMin|myMax|myAvg|\n",
    "|---|---|---|\n",
    "|9000.00|30000.00|17000.00|"
   ]
  },
  {
   "cell_type": "markdown",
   "metadata": {
    "slideshow": {
     "slide_type": "slide"
    }
   },
   "source": [
    "## SELECT STATEMENT REVIEW <img src=\"https://img.icons8.com/ios-filled/80/000000/select-all.png\" style=\"display:inline-block;vertical-align:middle;padding:0 0 10px 10px\">\n",
    "\n",
    "```SQL\n",
    "SELECT [DISTINCT | ALL]\n",
    "\n",
    "{* | [columnExpression [AS newName]] [,...] }\n",
    "FROM TableName [alias] [, ...]\n",
    "[WHERE condition]\n",
    "[GROUP BY columnList] [HAVING condition]\n",
    "[ORDER BY columnList]\n",
    "                        ```"
   ]
  },
  {
   "cell_type": "markdown",
   "metadata": {
    "slideshow": {
     "slide_type": "slide"
    }
   },
   "source": [
    "## SELECT STATEMENT REVIEW <img src=\"https://img.icons8.com/ios-filled/80/000000/select-all.png\" style=\"display:inline-block;vertical-align:middle;padding:0 0 10px 10px\">\n",
    "\n",
    "* `SELECT` Specifies which columns are to appear in output.\n",
    "* `FROM` Specifies table(s) to be used.\n",
    "* `WHERE` Filters rows.\n",
    "* `GROUP BY` Forms groups of rows with same column value.\n",
    "* `HAVING` Filters groups subject to some condition.\n",
    "* `ORDER BY` Specifies the order of the output."
   ]
  },
  {
   "cell_type": "markdown",
   "metadata": {
    "slideshow": {
     "slide_type": "slide"
    }
   },
   "source": [
    "## SELECT STATEMENT – GROUPING <img src=\"https://img.icons8.com/material-two-tone/80/000000/group-objects.png\" style=\"display:inline-block;vertical-align:middle;padding:0 0 10px 10px\">\n",
    "\n",
    "* Use `GROUP BY` clause to get sub-totals.\n",
    "* `SELECT` and `GROUP BY` closely integrated: each item in `SELECT` list must be single-valued per group and `SELECT` clause may only contain:\n",
    "    * column names\n",
    "    * aggregate functions\n",
    "    * constants\n",
    "    * expression involving combinations of the above"
   ]
  },
  {
   "cell_type": "markdown",
   "metadata": {
    "slideshow": {
     "slide_type": "slide"
    }
   },
   "source": [
    "## SELECT STATEMENT – GROUPING <img src=\"https://img.icons8.com/material-two-tone/80/000000/group-objects.png\" style=\"display:inline-block;vertical-align:middle;padding:0 0 10px 10px\">\n",
    "\n",
    "* Find number of staff in each branch and their total salaries.\n",
    "\n",
    "```SQL\n",
    "SELECT branchNo,\n",
    "COUNT(staffNo) AS myCount,\n",
    "SUM(salary) AS mySum\n",
    "FROM Staff\n",
    "GROUP BY branchNo\n",
    "ORDER BY branchNo;\n",
    "```\n",
    "|branchNo|myCount|mySum|\n",
    "|---|---|---|\n",
    "|B003|3|54000.00|\n",
    "|B005|2|39000.00|\n",
    "|B007|1|9000.00|"
   ]
  },
  {
   "cell_type": "markdown",
   "metadata": {
    "slideshow": {
     "slide_type": "slide"
    }
   },
   "source": [
    "## RESTRICTED GROUPING – HAVING CLAUSE <img src=\"https://img.icons8.com/material-two-tone/80/000000/group-objects.png\" style=\"display:inline-block;vertical-align:middle;padding:0 0 10px 10px\">\n",
    "\n",
    "* `HAVING` clause is designed for use with `GROUP BY` to restrict groups that appear in\n",
    "final result table.\n",
    "* Similar to `WHERE`, but `WHERE` filters individual rows whereas `HAVING` filters groups.\n",
    "* Column names in `HAVING` clause must also appear in the `GROUP BY` list or be contained within an aggregate function."
   ]
  },
  {
   "cell_type": "markdown",
   "metadata": {
    "slideshow": {
     "slide_type": "slide"
    }
   },
   "source": [
    "## USE OF HAVING CLAUSE <img src=\"https://img.icons8.com/material-two-tone/80/000000/group-objects.png\" style=\"display:inline-block;vertical-align:middle;padding:0 0 10px 10px\">\n",
    "\n",
    "* For each branch with more than 1 member of staff, find number of staff in each branch and sum of their salaries.\n",
    "```SQL\n",
    "SELECT branchNo,\n",
    "COUNT(staffNo) AS myCount, SUM(salary) AS mySum\n",
    "FROM Staff\n",
    "GROUP BY branchNo\n",
    "HAVING COUNT(staffNo) > 1\n",
    "ORDER BY branchNo;\n",
    "```\n",
    "\n",
    "|branchNo|myCount|mySum|\n",
    "|---|---|---|\n",
    "|B003|3|54000.00|\n",
    "|B005|2|39000.00|"
   ]
  },
  {
   "cell_type": "markdown",
   "metadata": {
    "slideshow": {
     "slide_type": "slide"
    }
   },
   "source": [
    "## MULTIPLE TABLE QUERIES <img src=\"https://img.icons8.com/ios-filled/80/000000/table-1.png\" style=\"display:inline-block;vertical-align:middle;padding:0 0 10px 10px\">\n",
    "\n",
    "* All the examples we have considered so far have a limitation: the columns that are to appear in the result table must all come from a single table - in many cases this is not sufficient\n",
    "* To combine columns from several tables into a result table we need to use a **join operation**\n",
    "* The SQL join operation combines information from two tables by forming pairs of related rows from the two tables\n",
    "* To perform a join, we simply include more than one table name in the `FROM` clause, using a comma as a separator, and typically including a `WHERE` clause to specify the join column(s)\n",
    "* It is also possible to use an alias for a table named in the `FROM` clause\n",
    "* The alias is separated from the table name with a space\n",
    "* An alias can be used to qualify a column name whenever there is ambiguity regarding the source of the column name\n",
    "* It can also be used as shorthand notation for the table name"
   ]
  },
  {
   "cell_type": "markdown",
   "metadata": {
    "slideshow": {
     "slide_type": "slide"
    }
   },
   "source": [
    "## MULTIPLE TABLE QUERIES <img src=\"https://img.icons8.com/ios-filled/80/000000/table-1.png\" style=\"display:inline-block;vertical-align:middle;padding:0 0 10px 10px\">\n",
    "\n",
    "\n",
    "*  List names of all **clients** who have viewed a **property** along with any comment supplied.\n",
    "\n",
    "```SQL\n",
    "SELECT c.clientNo, fName, lName, propertyNo, comment\n",
    "FROM Client c, Viewing v\n",
    "WHERE c.clientNo = v.clientNo;\n",
    "```\n",
    "\n",
    "* Only those rows from both tables that have identical values in the `clientNocolumns` (**c.clientNo** = **v.clientNo**) are included in result.\n",
    "* Equivalent to equi-join in relational algebra.\n",
    "\n",
    "|clientNo|fName|lName|propertyNo|comment|\n",
    "|---|---|---|---|---|\n",
    "|CR56|Aline|Stewart|PG36||\n",
    "|CR56|Aline|Stewart|PA14|too small|\n",
    "|CR56|Aline|Stewart|PG4||\n",
    "|CR62|Mary|Tregear|PA14|no dining room|\n",
    "|CR76|John|Kay|PG14|too remote|"
   ]
  },
  {
   "cell_type": "markdown",
   "metadata": {
    "slideshow": {
     "slide_type": "slide"
    }
   },
   "source": [
    "## JOINS <img src=\"https://img.icons8.com/ios-filled/query-inner-join/80\" style=\"display:inline-block;vertical-align:middle;padding:0 0 10px 10px\">\n",
    "\n",
    "* The SQL **Joins** clause is used to combine records from two or more tables in a database.\n",
    "   * A `JOIN` is a means for combining fields from two tables by using values common to each.\n",
    "   * It creates a set of rows in a temporary table.\n",
    "    "
   ]
  },
  {
   "cell_type": "markdown",
   "metadata": {
    "slideshow": {
     "slide_type": "slide"
    }
   },
   "source": [
    "## Types of SQL JOIN <img src=\"https://img.icons8.com/ios-filled/query-inner-join/80\" style=\"display:inline-block;vertical-align:middle;padding:0 0 10px 10px\">\n",
    "\n",
    "\n",
    "\n",
    "*   **EQUI JOINI**\n",
    "    *   EQUI JOIN is a simple SQL join.\n",
    "    *   Uses the equal sign `=` as the comparison operator for the condition\n",
    "\n",
    "*   **NON EQUI JOIN**\n",
    "\n",
    "    *   NON EQUI JOIN uses comparison operator other than the equal sign.\n",
    "    *   The operators uses like `>`, `<`, `>=`, `<=` with the condition."
   ]
  },
  {
   "cell_type": "markdown",
   "metadata": {
    "slideshow": {
     "slide_type": "slide"
    }
   },
   "source": [
    "## Types of SQL EQUI JOIN <img src=\"https://img.icons8.com/ios-filled/query-inner-join/80\" style=\"display:inline-block;vertical-align:middle;padding:0 0 10px 10px\">\n",
    "\n",
    "\n",
    "\n",
    "*   `INNER JOIN`\n",
    "\n",
    "    *   Returns only matched rows from the participating tables.\n",
    "    *   Match happened only at the key record of participating tables.\n",
    "\n",
    "*   `OUTER JOIN`\n",
    "\n",
    "    *   Returns all rows from one table and\n",
    "    *   Matching rows from the secondary table and\n",
    "    *   Comparison columns should be equal in both the tables."
   ]
  },
  {
   "cell_type": "markdown",
   "metadata": {
    "slideshow": {
     "slide_type": "slide"
    }
   },
   "source": [
    "## List of SQL JOINS <img src=\"https://img.icons8.com/ios-filled/query-inner-join/80\" style=\"display:inline-block;vertical-align:middle;padding:0 0 10px 10px\">\n",
    "\n",
    "\n",
    "\n",
    "*   `INNER JOIN`\n",
    "*   `LEFT JOIN` OR `LEFT OUTER JOIN`\n",
    "*   `RIGHT JOIN` OR `RIGHT OUTER JOIN`\n",
    "*   `FULL OUTER JOIN`\n",
    "*   `NATURAL JOIN`\n",
    "*   `CROSS JOIN`\n",
    "*   `SELF JOIN`"
   ]
  },
  {
   "cell_type": "markdown",
   "metadata": {
    "slideshow": {
     "slide_type": "slide"
    }
   },
   "source": [
    "## **INNER JOIN**\n",
    "\n",
    "* The `INNER JOIN` selects all rows from both participating tables as long as there is a match between the columns.  \n",
    "* An SQL `INNER JOIN` is same as `JOIN` clause, combining rows from two or more tables."
   ]
  },
  {
   "cell_type": "markdown",
   "metadata": {
    "cell_style": "split",
    "slideshow": {
     "slide_type": "slide"
    }
   },
   "source": [
    "## Example: INNER JOIN"
   ]
  },
  {
   "cell_type": "markdown",
   "metadata": {
    "cell_style": "split",
    "slideshow": {
     "slide_type": "-"
    }
   },
   "source": [
    "```SQL\n",
    "SELECT * FROM table_A\n",
    "INNER JOIN table_B\n",
    "ON table_A.A=table_B.A;\n",
    "```\n",
    "\n",
    "|A|M|\n",
    "|---|---|\n",
    "|1|2|\n",
    "|2|n|\n",
    "|4|o|\n",
    "\n",
    "<br/>\n",
    "\n",
    "|A|N|\n",
    "|---|---|\n",
    "|2|p|\n",
    "|3|q|\n",
    "|5|r|\n",
    "\n",
    "<br/>\n",
    "\n",
    "|A|M|A|N|\n",
    "|---|---|---|---|\n",
    "|2|n|2|p|"
   ]
  },
  {
   "cell_type": "markdown",
   "metadata": {
    "cell_style": "split",
    "slideshow": {
     "slide_type": "-"
    }
   },
   "source": [
    "<center><img src=\"diagrams/1.png\"></center>"
   ]
  },
  {
   "cell_type": "markdown",
   "metadata": {
    "slideshow": {
     "slide_type": "slide"
    }
   },
   "source": [
    "## **LEFT JOIN or LEFT OUTER JOIN**\n",
    "\n",
    "* The SQL LEFT JOIN, joins two tables and fetches rows based on a condition, which are matching in both the tables.  \n",
    "* The unmatched rows will also be available from the table before the JOIN clause."
   ]
  },
  {
   "cell_type": "markdown",
   "metadata": {
    "slideshow": {
     "slide_type": "slide"
    }
   },
   "source": [
    "## Example: LEFT JOIN or LEFT OUTER JOIN"
   ]
  },
  {
   "cell_type": "markdown",
   "metadata": {
    "cell_style": "split",
    "slideshow": {
     "slide_type": "-"
    }
   },
   "source": [
    "```SQL\n",
    "SELECT * FROM table_A\n",
    "LEFT JOIN table_B\n",
    "ON table_A.A=table_B.A;\n",
    "```\n",
    "\n",
    "|A|M|\n",
    "|---|---|\n",
    "|1|2|\n",
    "|2|n|\n",
    "|4|o|\n",
    "\n",
    "<br/>\n",
    "\n",
    "|A|N|\n",
    "|---|---|\n",
    "|2|p|\n",
    "|3|q|\n",
    "|5|r|\n",
    "\n",
    "<br/>\n",
    "\n",
    "|A|M|A|N|\n",
    "|---|---|---|---|\n",
    "|2|n|2|p|\n",
    "|1|m|null|null|\n",
    "|4|o|null|null|"
   ]
  },
  {
   "cell_type": "markdown",
   "metadata": {
    "cell_style": "split"
   },
   "source": [
    "<img src=\"diagrams/2.png\">"
   ]
  },
  {
   "cell_type": "markdown",
   "metadata": {
    "slideshow": {
     "slide_type": "slide"
    }
   },
   "source": [
    "## **RIGHT JOIN or RIGHT OUTER JOIN**\n",
    "\n",
    "* The SQL RIGHT JOIN, joins two tables and fetches rows based on a condition, which are matching in both the tables.  \n",
    "* The unmatched rows will also be available from the table written after the JOIN clause."
   ]
  },
  {
   "cell_type": "markdown",
   "metadata": {
    "hideOutput": true,
    "slideshow": {
     "slide_type": "slide"
    }
   },
   "source": [
    "## Example : RIGHT JOIN or RIGHT OUTER JOIN"
   ]
  },
  {
   "cell_type": "markdown",
   "metadata": {
    "cell_style": "split",
    "slideshow": {
     "slide_type": "-"
    }
   },
   "source": [
    "```SQL\n",
    "SELECT * FROM table_A\n",
    "RIGHT JOIN table_B\n",
    "ON table_A.A=table_B.A;\n",
    "```\n",
    "<center>\n",
    "    \n",
    "|A|M|\n",
    "|---|---|\n",
    "|1|2|\n",
    "|2|n|\n",
    "|4|o|\n",
    "\n",
    "<br/>\n",
    "\n",
    "|A|N|\n",
    "|---|---|\n",
    "|2|p|\n",
    "|3|q|\n",
    "|5|r|\n",
    "\n",
    "<br/>\n",
    "\n",
    "|A|M|A|N|\n",
    "|---|---|---|---|\n",
    "|2|n|2|p|\n",
    "|null|null|3|q|\n",
    "|null|null|5|r|"
   ]
  },
  {
   "cell_type": "markdown",
   "metadata": {
    "cell_style": "split",
    "slideshow": {
     "slide_type": "-"
    }
   },
   "source": [
    "<img src=\"diagrams/3.png\"></center>"
   ]
  },
  {
   "cell_type": "markdown",
   "metadata": {
    "slideshow": {
     "slide_type": "slide"
    }
   },
   "source": [
    "## FULL OUTER JOIN\n",
    "\n",
    "* Combines the results of both left and right outer joins.  \n",
    "* Returns all matched or unmatched rows.  \n",
    "* Includes tables on both sides of the join clause."
   ]
  },
  {
   "cell_type": "markdown",
   "metadata": {
    "hideOutput": true,
    "slideshow": {
     "slide_type": "slide"
    }
   },
   "source": [
    "## Example: FULL OUTER JOIN"
   ]
  },
  {
   "cell_type": "markdown",
   "metadata": {
    "cell_style": "split",
    "slideshow": {
     "slide_type": "-"
    }
   },
   "source": [
    "```SQL\n",
    "SELECT * FROM table_A\n",
    "FULL OUTER JOIN table_B\n",
    "ON table_A.A=table_B.A;\n",
    "```\n",
    "\n",
    "|A|M|\n",
    "|---|---|\n",
    "|1|2|\n",
    "|2|n|\n",
    "|4|o|\n",
    "\n",
    "<br/>\n",
    "\n",
    "|A|N|\n",
    "|---|---|\n",
    "|2|p|\n",
    "|3|q|\n",
    "|5|r|\n",
    "\n",
    "<br/>\n",
    "\n",
    "|A|M|A|N|\n",
    "|--- |--- |--- |--- |\n",
    "|2|n|2|p|\n",
    "|1|m|null|null|\n",
    "|4|o|null|null|\n",
    "|null|null|3|q|\n",
    "|null|null|5|r|"
   ]
  },
  {
   "cell_type": "markdown",
   "metadata": {
    "cell_style": "split"
   },
   "source": [
    "<img src=\"diagrams/4.png\">"
   ]
  },
  {
   "cell_type": "markdown",
   "metadata": {
    "slideshow": {
     "slide_type": "slide"
    }
   },
   "source": [
    "## NATURAL JOIN\n",
    "\n",
    "* The SQL `NATURAL JOIN` is a type of `EQUI JOIN` and is structured in such a way that, columns with same name of associate tables will appear once only.  \n",
    "* The associated tables have one or more pairs of identically named columns.  \n",
    "* The columns must be the same data type.  \n",
    "* Don’t use ON clause in a natural join."
   ]
  },
  {
   "cell_type": "markdown",
   "metadata": {
    "slideshow": {
     "slide_type": "slide"
    }
   },
   "source": [
    "## Example: NATURAL JOIN"
   ]
  },
  {
   "cell_type": "markdown",
   "metadata": {
    "slideshow": {
     "slide_type": "-"
    }
   },
   "source": [
    "```SQL\n",
    "SELECT *\n",
    "FROM table_A\n",
    "NATURAL JOIN table_B;\n",
    "```\n",
    "\n",
    "|A|M|\n",
    "|---|---|\n",
    "|1|2|\n",
    "|2|n|\n",
    "|4|o|\n",
    "\n",
    "<br/>\n",
    "\n",
    "|A|N|\n",
    "|---|---|\n",
    "|2|p|\n",
    "|3|q|\n",
    "|5|r|\n",
    "\n",
    "<br/>\n",
    "\n",
    "|A|M|N|\n",
    "|---|---|---|\n",
    "|2|n|p|"
   ]
  },
  {
   "cell_type": "markdown",
   "metadata": {
    "slideshow": {
     "slide_type": "slide"
    }
   },
   "source": [
    "## CROSS JOIN\n",
    "\n",
    "* The SQL `CROSS JOIN` produces a result set which is the number of rows in the first table multiplied by the number of rows in the second table, if no WHERE clause is used along with `CROSS JOIN`.  \n",
    "* This kind of result is called as Cartesian Product.  \n",
    "* If, `WHERE` clause is used with `CROSS JOIN`, it functions like an `INNER JOIN`."
   ]
  },
  {
   "cell_type": "markdown",
   "metadata": {
    "slideshow": {
     "slide_type": "slide"
    }
   },
   "source": [
    "## Example : CROSS JOIN\n",
    "\n",
    "```SQL\n",
    "SELECT *\n",
    "FROM table_A\n",
    "CROSS JOIN table_B;\n",
    "```\n",
    "\n",
    "|A|M|\n",
    "|---|---|\n",
    "|1|2|\n",
    "|2|n|\n",
    "|4|o|\n",
    "\n",
    "<br/>\n",
    "\n",
    "|A|N|\n",
    "|---|---|\n",
    "|2|p|\n",
    "|3|q|\n",
    "|5|r|\n",
    "\n",
    "<br/>\n",
    "\n",
    "|A|M|A|N|\n",
    "|--- |--- |--- |--- |\n",
    "|1|m|2|p|\n",
    "|2|n|2|p|\n",
    "|4|o|2|p|\n",
    "|1|m|3|q|\n",
    "|2|n|3|q|\n",
    "|4|o|3|q|\n",
    "|1|m|5|r|\n",
    "|2|n|5|r|\n",
    "|4|o|5|r|"
   ]
  },
  {
   "cell_type": "markdown",
   "metadata": {
    "slideshow": {
     "slide_type": "slide"
    }
   },
   "source": [
    "## SELF JOIN\n",
    "\n",
    "* A self join is a join in which a table is joined with itself (Unary relationships), specially when the table has a FOREIGN KEY which references its own PRIMARY KEY.  \n",
    "* To join a table itself means that each row of the table is combined with itself and with every other row of the table.  \n",
    "* The self join can be viewed as a join of two copies of the same table."
   ]
  },
  {
   "cell_type": "markdown",
   "metadata": {
    "slideshow": {
     "slide_type": "slide"
    }
   },
   "source": [
    "## Example : SELF JOIN\n",
    "\n",
    "```SQL\n",
    "SELECT *\n",
    "FROM table_A X, table_A Y\n",
    "WHERE X.A=Y.A;\n",
    "```\n",
    "|A|M|\n",
    "|---|---|\n",
    "|1|2|\n",
    "|2|n|\n",
    "|4|o|\n",
    "\n",
    "<br/>\n",
    "\n",
    "|A|N|\n",
    "|---|---|\n",
    "|2|p|\n",
    "|3|q|\n",
    "|5|r|\n",
    "\n",
    "<br/>\n",
    "\n",
    "|A|M|A|N|\n",
    "|--- |--- |--- |--- |\n",
    "|1|m|1|m|\n",
    "|2|n|2|n|\n",
    "|4|o|4|o|"
   ]
  },
  {
   "cell_type": "markdown",
   "metadata": {
    "slideshow": {
     "slide_type": "slide"
    }
   },
   "source": [
    "## Example : INNER JOIN"
   ]
  },
  {
   "cell_type": "markdown",
   "metadata": {
    "cell_style": "split",
    "slideshow": {
     "slide_type": "-"
    }
   },
   "source": [
    "```SQL\n",
    "SLECT * FROM table_A\n",
    "INNER JOIN table_B\n",
    "ON table_A.A=table_B.A;\n",
    "```"
   ]
  },
  {
   "cell_type": "markdown",
   "metadata": {
    "cell_style": "split",
    "slideshow": {
     "slide_type": "-"
    }
   },
   "source": [
    "|A|M|\n",
    "|---|---|\n",
    "|1|2|\n",
    "|2|n|\n",
    "|4|o|\n",
    "\n",
    "<br/>\n",
    "\n",
    "|A|N|\n",
    "|---|---|\n",
    "|2|p|\n",
    "|3|q|\n",
    "|5|r|"
   ]
  },
  {
   "cell_type": "markdown",
   "metadata": {
    "cell_style": "split"
   },
   "source": [
    "|A|M|A|N|\n",
    "|--- |--- |--- |--- |\n",
    "|2|n|2|p|\n",
    "\n",
    "<img src=\"diagrams/5.png\">"
   ]
  },
  {
   "cell_type": "markdown",
   "metadata": {
    "slideshow": {
     "slide_type": "slide"
    }
   },
   "source": [
    "## LEFT JOIN or LEFT OUTER JOIN\n",
    "\n",
    "* The SQL LEFT JOIN, joins two tables and fetches rows based on a condition, which are matching in both the tables.  \n",
    "* The unmatched rows will also be available from the table before the JOIN clause."
   ]
  },
  {
   "cell_type": "markdown",
   "metadata": {
    "slideshow": {
     "slide_type": "slide"
    }
   },
   "source": [
    "## Example: LEFT JOIN or LEFT OUTER JOIN"
   ]
  },
  {
   "cell_type": "markdown",
   "metadata": {
    "cell_style": "split",
    "slideshow": {
     "slide_type": "-"
    }
   },
   "source": [
    "```SQL\n",
    "SELECT * FROM table_A\n",
    "LEFT JOIN table_B\n",
    "ON table_A.A=table_B.A;\n",
    "```"
   ]
  },
  {
   "cell_type": "markdown",
   "metadata": {
    "cell_style": "split",
    "slideshow": {
     "slide_type": "-"
    }
   },
   "source": [
    "|A|M|\n",
    "|---|---|\n",
    "|1|2|\n",
    "|2|n|\n",
    "|4|o|\n",
    "\n",
    "<br/>\n",
    "\n",
    "|A|N|\n",
    "|---|---|\n",
    "|2|p|\n",
    "|3|q|\n",
    "|5|r|"
   ]
  },
  {
   "cell_type": "markdown",
   "metadata": {
    "cell_style": "split"
   },
   "source": [
    "|A|M|A|N|\n",
    "|--- |--- |--- |--- |\n",
    "|2|n|2|p|\n",
    "|1|m|null|null|\n",
    "|4|o|null|null|\n",
    "\n",
    "<img src=\"diagrams/6.png\">"
   ]
  },
  {
   "cell_type": "markdown",
   "metadata": {
    "slideshow": {
     "slide_type": "slide"
    }
   },
   "source": [
    "## RIGHT JOIN or RIGHT OUTER JOIN\n",
    "\n",
    "* The SQL RIGHT JOIN, joins two tables and fetches rows based on a condition, which are matching in both the tables.  \n",
    "* The unmatched rows will also be available from the table written after the JOIN clause."
   ]
  },
  {
   "cell_type": "markdown",
   "metadata": {
    "slideshow": {
     "slide_type": "slide"
    }
   },
   "source": [
    "## Example: RIGHT JOIN or RIGHT OUTER JOIN\n",
    "```SQL\n",
    "SELECT * FROM table_A\n",
    "RIGHT JOIN table_B\n",
    "ON table_A.A=table_B.A;\n",
    "```"
   ]
  },
  {
   "cell_type": "markdown",
   "metadata": {
    "cell_style": "split",
    "slideshow": {
     "slide_type": "-"
    }
   },
   "source": [
    "|A|M|\n",
    "|---|---|\n",
    "|1|2|\n",
    "|2|n|\n",
    "|4|o|\n",
    "\n",
    "<br/>\n",
    "\n",
    "|A|N|\n",
    "|---|---|\n",
    "|2|p|\n",
    "|3|q|\n",
    "|5|r|"
   ]
  },
  {
   "cell_type": "markdown",
   "metadata": {
    "cell_style": "split",
    "slideshow": {
     "slide_type": "-"
    }
   },
   "source": [
    "|A|M|A|N|\n",
    "|--- |--- |--- |--- |\n",
    "|2|n|2|p|\n",
    "|null|null|3|q|\n",
    "|null|null|5|r|\n",
    "\n",
    "<center><img src=\"diagrams/7.png\"></center>"
   ]
  },
  {
   "cell_type": "markdown",
   "metadata": {
    "slideshow": {
     "slide_type": "slide"
    }
   },
   "source": [
    "## FULL OUTER JOIN\n",
    "\n",
    "* In SQL the FULL OUTER JOIN combines the results of both left and right outer joins and returns all (matched or unmatched) rows from the tables on both sides of the join clause."
   ]
  },
  {
   "cell_type": "markdown",
   "metadata": {
    "slideshow": {
     "slide_type": "slide"
    }
   },
   "source": [
    "## Example: FULL OUTER JOIN"
   ]
  },
  {
   "cell_type": "markdown",
   "metadata": {
    "cell_style": "split",
    "slideshow": {
     "slide_type": "-"
    }
   },
   "source": [
    "```SQL\n",
    "SELECT * FROM table_A\n",
    "FULL OUTER JOIN table_B\n",
    "ON table_A.A=table_B.A;\n",
    "```"
   ]
  },
  {
   "cell_type": "markdown",
   "metadata": {
    "cell_style": "split",
    "slideshow": {
     "slide_type": "-"
    }
   },
   "source": [
    "|A|M|\n",
    "|---|---|\n",
    "|1|2|\n",
    "|2|n|\n",
    "|4|o|\n",
    "\n",
    "<br/>\n",
    "\n",
    "|A|N|\n",
    "|---|---|\n",
    "|2|p|\n",
    "|3|q|\n",
    "|5|r|"
   ]
  },
  {
   "cell_type": "markdown",
   "metadata": {
    "cell_style": "split",
    "slideshow": {
     "slide_type": "-"
    }
   },
   "source": [
    "|A|M|A|N|\n",
    "|--- |--- |--- |--- |\n",
    "|2|n|2|p|\n",
    "|1|m|null|null|\n",
    "|4|o|null|null|\n",
    "|null|null|3|q|\n",
    "|null|null|5|r|\n",
    "\n",
    "<center><img src=\"diagrams/8.png\"></center>"
   ]
  },
  {
   "cell_type": "markdown",
   "metadata": {
    "slideshow": {
     "slide_type": "slide"
    }
   },
   "source": [
    "## NATURAL JOIN\n",
    "\n",
    "* The SQL NATURAL JOIN is a type of EQUI JOIN and is structured in such a way that, columns with same name of associate tables will appear once only.  \n",
    "* The associated tables have one or more pairs of identically named columns.  \n",
    "* The columns must be the same data type.  \n",
    "* Don’t use ON clause in a natural join."
   ]
  },
  {
   "cell_type": "markdown",
   "metadata": {
    "slideshow": {
     "slide_type": "slide"
    }
   },
   "source": [
    "## Example: NATURAL JOIN\n",
    "\n",
    "```SQL\n",
    "SELECT *\n",
    "FROM table_A\n",
    "NATURAL JOIN table_B;\n",
    "```"
   ]
  },
  {
   "cell_type": "markdown",
   "metadata": {
    "cell_style": "split",
    "slideshow": {
     "slide_type": "slide"
    }
   },
   "source": [
    "|A|M|\n",
    "|---|---|\n",
    "|1|2|\n",
    "|2|n|\n",
    "|4|o|\n",
    "\n",
    "<br/>\n",
    "\n",
    "|A|N|\n",
    "|---|---|\n",
    "|2|p|\n",
    "|3|q|\n",
    "|5|r|"
   ]
  },
  {
   "cell_type": "markdown",
   "metadata": {
    "cell_style": "split",
    "slideshow": {
     "slide_type": "slide"
    }
   },
   "source": [
    "|A|M|N|\n",
    "|---|---|---|\n",
    "|2|n|p|"
   ]
  },
  {
   "cell_type": "markdown",
   "metadata": {
    "slideshow": {
     "slide_type": "slide"
    }
   },
   "source": [
    "## CROSS JOIN\n",
    "\n",
    "* The SQL CROSS JOIN produces a result set which is the number of rows in the first table multiplied by the number of rows in the second table, if no WHERE clause is used along with CROSS JOIN.  \n",
    "* This kind of result is called as Cartesian Product.  \n",
    "* If, WHERE clause is used with CROSS JOIN, it functions like an INNER JOIN."
   ]
  },
  {
   "cell_type": "markdown",
   "metadata": {
    "slideshow": {
     "slide_type": "slide"
    }
   },
   "source": [
    "## Example: CROSS JOIN"
   ]
  },
  {
   "cell_type": "markdown",
   "metadata": {},
   "source": [
    "```SQL\n",
    "SELECT *\n",
    "FROM table_A\n",
    "CROSS JOIN table_B;\n",
    "```"
   ]
  },
  {
   "cell_type": "markdown",
   "metadata": {
    "cell_style": "split",
    "slideshow": {
     "slide_type": "-"
    }
   },
   "source": [
    "|A|M|\n",
    "|---|---|\n",
    "|1|2|\n",
    "|2|n|\n",
    "|4|o|\n",
    "\n",
    "<br/>\n",
    "\n",
    "|A|N|\n",
    "|---|---|\n",
    "|2|p|\n",
    "|3|q|\n",
    "|5|r|"
   ]
  },
  {
   "cell_type": "markdown",
   "metadata": {
    "cell_style": "split"
   },
   "source": [
    "|A|M|A|N|\n",
    "|--- |--- |--- |--- |\n",
    "|1|m|2|p|\n",
    "|2|n|2|p|\n",
    "|4|o|2|p|\n",
    "|1|m|3|q|\n",
    "|2|n|3|q|\n",
    "|4|o|3|q|\n",
    "|1|m|5|r|\n",
    "|2|n|5|r|\n",
    "|4|o|5|r|"
   ]
  },
  {
   "cell_type": "markdown",
   "metadata": {
    "slideshow": {
     "slide_type": "slide"
    }
   },
   "source": [
    "## SELF JOIN\n",
    "\n",
    "* A self join is a join in which a table is joined with itself (Unary relationships), specially when the table has a FOREIGN KEY which references its own PRIMARY KEY.  \n",
    "* To join a table itself means that each row of the table is combined with itself and with every other row of the table.  \n",
    "* The self join can be viewed as a join of two copies of the same table."
   ]
  },
  {
   "cell_type": "markdown",
   "metadata": {
    "slideshow": {
     "slide_type": "slide"
    }
   },
   "source": [
    "## Example: SELF JOIN\n",
    "\n",
    "```SQL\n",
    "SELECT *\n",
    "FROM table_A X, table_A Y\n",
    "WHERE X.A=Y.A;\n",
    "```"
   ]
  },
  {
   "cell_type": "markdown",
   "metadata": {
    "cell_style": "split",
    "slideshow": {
     "slide_type": "-"
    }
   },
   "source": [
    "|A|M|\n",
    "|---|---|\n",
    "|1|2|\n",
    "|2|n|\n",
    "|4|o|\n",
    "\n",
    "<br/>\n",
    "\n",
    "|A|N|\n",
    "|---|---|\n",
    "|2|p|\n",
    "|3|q|\n",
    "|5|r|"
   ]
  },
  {
   "cell_type": "markdown",
   "metadata": {
    "cell_style": "split"
   },
   "source": [
    "|A|M|A|M|\n",
    "|--- |--- |--- |--- |\n",
    "|1|m|1|m|\n",
    "|2|n|2|n|\n",
    "|4|o|4|o|"
   ]
  },
  {
   "cell_type": "markdown",
   "metadata": {
    "slideshow": {
     "slide_type": "slide"
    }
   },
   "source": [
    "## Summary<img src=\"https://img.icons8.com/ios/summary-list/80\" style=\"display:inline-block;vertical-align:middle;padding:0 0 10px 10px\">"
   ]
  },
  {
   "cell_type": "markdown",
   "metadata": {},
   "source": [
    "* ???\n"
   ]
  }
 ],
 "metadata": {
  "celltoolbar": "Slideshow",
  "kernelspec": {
   "display_name": "Python 3",
   "language": "python",
   "name": "python3"
  },
  "language_info": {
   "codemirror_mode": {
    "name": "ipython",
    "version": 3
   },
   "file_extension": ".py",
   "mimetype": "text/x-python",
   "name": "python",
   "nbconvert_exporter": "python",
   "pygments_lexer": "ipython3",
   "version": "3.7.4"
  },
  "rise": {
   "autolaunch": true,
   "controls": true,
   "enable_chalkboard": true,
   "overlay": "<div class='line top'></div><div class='line bottom'></div><div class='line left'></div><div class='line right'></div>",
   "showSlideNumber": "speaker",
   "slideNumber": true,
   "theme": "white",
   "transition": "linear"
  }
 },
 "nbformat": 4,
 "nbformat_minor": 2
}
