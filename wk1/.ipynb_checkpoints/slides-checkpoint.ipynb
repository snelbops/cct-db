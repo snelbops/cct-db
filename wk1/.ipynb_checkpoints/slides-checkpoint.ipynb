{
 "cells": [
  {
   "cell_type": "markdown",
   "metadata": {
    "slideshow": {
     "slide_type": "slide"
    }
   },
   "source": [
    "# Introduction to Databases 🗃 "
   ]
  },
  {
   "cell_type": "markdown",
   "metadata": {
    "slideshow": {
     "slide_type": ""
    }
   },
   "source": [
    "* Press `Space` to navigate through the slides\n",
    "* Use `Shift+Space` to go back"
   ]
  },
  {
   "cell_type": "markdown",
   "metadata": {
    "slideshow": {
     "slide_type": "slide"
    }
   },
   "source": [
    "# Module Structure 📖"
   ]
  },
  {
   "cell_type": "markdown",
   "metadata": {
    "cell_style": "center",
    "slideshow": {
     "slide_type": "fragment"
    }
   },
   "source": [
    "* Lecture\n",
    " * **MONDAY** – 15:00-17:30\n",
    "* Breakdown of assesments\n",
    " * **CA1** – 20%\n",
    " * **CA2** – 30%\n",
    " * **EXAM** – 50%\n",
    "* 2% penalty per day for late submissions"
   ]
  },
  {
   "cell_type": "markdown",
   "metadata": {
    "slideshow": {
     "slide_type": "slide"
    }
   },
   "source": [
    "# Plagiarism 🚫"
   ]
  },
  {
   "cell_type": "markdown",
   "metadata": {
    "slideshow": {
     "slide_type": "fragment"
    }
   },
   "source": [
    "* **CCT** is constantly striving to build a culture which values and supports good academic conduct\n",
    "* Academic dishonesty is **a serious offence** that will not be tolerated\n",
    "* Students found to be involved in plagiarism will be brought before the **Academic Standards Board**"
   ]
  },
  {
   "cell_type": "markdown",
   "metadata": {
    "slideshow": {
     "slide_type": "slide"
    }
   },
   "source": [
    "# In-Class Technologies 👨‍💻️"
   ]
  },
  {
   "cell_type": "markdown",
   "metadata": {
    "slideshow": {
     "slide_type": "fragment"
    }
   },
   "source": [
    "* **GitHub** – http://github.com\n",
    "* **Slack** – http://slack.com\n",
    "* **Jupyter Notebook** – http://jupyter.com\n",
    "* **Binder** – http://mybinder.org\n",
    "* **Moodle** – http://moodle.cct.ie"
   ]
  },
  {
   "cell_type": "markdown",
   "metadata": {
    "slideshow": {
     "slide_type": "slide"
    }
   },
   "source": [
    "# A Brief History of Databases 🏺"
   ]
  },
  {
   "cell_type": "markdown",
   "metadata": {},
   "source": [
    "* **pre-1960s:** Punch cards, paper data reels, magnetic tapes\n",
    "* **1960s:** File systems, Database Management Systems (CODASYL, IMS)\n",
    "* **1970s:** Relational databases (Codd's 12 Rules, Ingres & System R, ER Model), RDBMS\n",
    "* **1980s:** Personal Computers, SQL\n",
    "* **1990-2000s:** The Internet, client-server & database connectors, open source RDBMS\n",
    "* **Now:** Big data, virtualisation & distibuted processing, noSQL\n"
   ]
  },
  {
   "cell_type": "markdown",
   "metadata": {
    "slideshow": {
     "slide_type": "slide"
    }
   },
   "source": [
    "# What is a Database? 🤷"
   ]
  },
  {
   "cell_type": "markdown",
   "metadata": {},
   "source": [
    "A collection of information organised in such a way that a computer application can quickly select desired pieces of data:\n",
    "* To-Do list\n",
    "* Shopping list\n",
    "* Address book\n",
    "* Family tree"
   ]
  },
  {
   "cell_type": "markdown",
   "metadata": {
    "slideshow": {
     "slide_type": "fragment"
    }
   },
   "source": [
    "What are the ways of carrying that information?\n",
    "\n",
    "* Written, remembered, stored, recorded, etc."
   ]
  },
  {
   "cell_type": "markdown",
   "metadata": {
    "slideshow": {
     "slide_type": "slide"
    }
   },
   "source": [
    "# Use Cases 🖱️ "
   ]
  },
  {
   "cell_type": "markdown",
   "metadata": {},
   "source": [
    "What is the difference between your Address Book 📕 and iCloud Contacts ?"
   ]
  },
  {
   "cell_type": "markdown",
   "metadata": {
    "slideshow": {
     "slide_type": "fragment"
    }
   },
   "source": [
    "***Complexity*, *Scale*, *Availability*, *Security***... ***Volume, Velocity, Variety*** – `Big Data`"
   ]
  },
  {
   "cell_type": "markdown",
   "metadata": {
    "slideshow": {
     "slide_type": "slide"
    }
   },
   "source": [
    "# Relational Database Management Systems (RDBMS) 🗄️ "
   ]
  },
  {
   "cell_type": "markdown",
   "metadata": {},
   "source": [
    "A software that is responsible for the storage, retrieval and updating of data in a computer system.\n",
    "* Data is stored only once and hence multiple record changes are not required. Deletion and modification of data is simple and storage efficiency is very high. Backup, import/exports and maintenance functions are in-built.\n",
    "* Complex queries can be carried out using the Structure Query Language.\n",
    "* Security is built in. Users can set access barriers to limit access to the available content."
   ]
  },
  {
   "cell_type": "markdown",
   "metadata": {
    "slideshow": {
     "slide_type": "subslide"
    }
   },
   "source": [
    "* Provision for future requirements as new data can easily be added and appended to the existing tables and can be made consistent with the previously available content.\n",
    "* Offers standard application programming interface (API) for accessing databases\n",
    "* There are quite a few database systems available (such as MySQL, PostgreSQL, IBM Db2 and Oracle Database, etc.). [DB-Engines](https://db-engines.com/en/ranking) collects and presents information on DBMSs and provides a monthly listing of them, ranked by their current popularity."
   ]
  },
  {
   "cell_type": "markdown",
   "metadata": {
    "cell_style": "split",
    "slideshow": {
     "slide_type": "slide"
    }
   },
   "source": [
    "# Structured Query Language 🔍"
   ]
  },
  {
   "cell_type": "markdown",
   "metadata": {
    "slideshow": {
     "slide_type": "fragment"
    }
   },
   "source": [
    "* **SQL (Structured Query Language, pronounced \"sequel\" or ess-cue-ell)** is a domain-specific language used in programming and designed for managing data held in a relational database management system (RDBMS)"
   ]
  },
  {
   "cell_type": "markdown",
   "metadata": {
    "slideshow": {
     "slide_type": "fragment"
    }
   },
   "source": [
    "* It is particularly useful in handling structured data where there are relations between different entities/variables of the data"
   ]
  },
  {
   "cell_type": "markdown",
   "metadata": {
    "slideshow": {
     "slide_type": "fragment"
    }
   },
   "source": [
    "* A relational database is, simply, a database that stores related information across multiple tables and allows you to query information in more than one table at the same time. Within a table, the data is organised in a tabular format with rows and columns"
   ]
  },
  {
   "cell_type": "markdown",
   "metadata": {
    "slideshow": {
     "slide_type": "subslide"
    }
   },
   "source": [
    "| ID | Student | Course | Module\n",
    "| --- | --- | --- | --- \n",
    "| 1 | Lisa | IT | Databases\n",
    "| 2 | Alan | Business | HR\n",
    "| 3 | Julia | IT | Mobile Dev"
   ]
  },
  {
   "cell_type": "markdown",
   "metadata": {
    "slideshow": {
     "slide_type": "fragment"
    }
   },
   "source": [
    "| ID | Lecturer | Department\n",
    "| --- | --- | ---\n",
    "| 1 | John | Business\n",
    "| 2 | Sarah | Computer Science\n",
    "| 3 | Michael | Computer Science"
   ]
  },
  {
   "cell_type": "markdown",
   "metadata": {
    "slideshow": {
     "slide_type": "slide"
    }
   },
   "source": [
    "# Structured Query Language 🔍"
   ]
  },
  {
   "cell_type": "markdown",
   "metadata": {},
   "source": [
    "These SQL commands are mainly categorised into four elements as:\n",
    "\n",
    "* **DDL** – Data Definition Language\n",
    "* **DQl** – Data Query Language\n",
    "* **DML** – Data Manipulation Language\n",
    "* **DCL** – Data Control Language"
   ]
  },
  {
   "cell_type": "markdown",
   "metadata": {
    "slideshow": {
     "slide_type": "fragment"
    }
   },
   "source": [
    "## C.R.U.D. – Create, Read, Update, Delete"
   ]
  },
  {
   "cell_type": "markdown",
   "metadata": {
    "slideshow": {
     "slide_type": "subslide"
    }
   },
   "source": [
    "# SQL 🔦\n",
    "* A standardised language for interacting with RDBMS\n",
    "* Performs C.R.U.D. operations\n",
    "* Allows performing asministrative tasks, such as user management, security, backups, etc.\n",
    "* Used to define tables and structures\n",
    "* Not identical between various RDBMS\n"
   ]
  },
  {
   "cell_type": "markdown",
   "metadata": {},
   "source": [
    "# Database Queries 🕵\n",
    "* Queries are requests made to RDBMS in order to retrieve required information\n",
    "* As complexity of a database rises, it gets harder to find specific data\n",
    "* Provide an example of a query"
   ]
  },
  {
   "cell_type": "markdown",
   "metadata": {
    "slideshow": {
     "slide_type": "slide"
    }
   },
   "source": [
    "# Summary 🕶️"
   ]
  },
  {
   "cell_type": "markdown",
   "metadata": {},
   "source": [
    "* Database is any collection of information\n",
    "* Computers + DB = 😍\n",
    "* Relational Database Management Systems (RDBMS) is used to create, maintain and protect a database\n",
    "* RDBMS uses Structured Query Language (SQL) to perform C.R.U.D. and other essential tasks\n",
    "* Relational databases use SQL and store data in tables with rows and columns"
   ]
  }
 ],
 "metadata": {
  "celltoolbar": "Slideshow",
  "kernelspec": {
   "display_name": "Python 3",
   "language": "python",
   "name": "python3"
  },
  "language_info": {
   "codemirror_mode": {
    "name": "ipython",
    "version": 3
   },
   "file_extension": ".py",
   "mimetype": "text/x-python",
   "name": "python",
   "nbconvert_exporter": "python",
   "pygments_lexer": "ipython3",
   "version": "3.7.3"
  },
  "rise": {
   "autolaunch": true,
   "controls": true,
   "enable_chalkboard": true,
   "overlay": "<div class='line top'></div><div class='line bottom'></div><div class='line left'></div><div class='line right'></div>",
   "showSlideNumber": "speaker",
   "slideNumber": true,
   "theme": "white",
   "transition": "linear"
  }
 },
 "nbformat": 4,
 "nbformat_minor": 2
}
